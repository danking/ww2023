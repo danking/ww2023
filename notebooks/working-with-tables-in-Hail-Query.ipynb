{
 "cells": [
  {
   "cell_type": "code",
   "execution_count": null,
   "id": "dda3a4a9-768a-48e2-95e2-c5b5ae4b039f",
   "metadata": {},
   "outputs": [],
   "source": [
    "%%html\n",
    "<!-- Improve the styling of the Notebook. -->\n",
    "<link href=\"https://fonts.googleapis.com/css2?family=Source+Code+Pro&family=Source+Sans+3&family=Source+Serif+4:opsz@8..60&display=swap\" rel=\"stylesheet\">\n",
    "<style>\n",
    "   div.jp-MarkdownOutput p { font-family: 'Source Serif 4', serif; width: 50em; }\n",
    "   div.jp-MarkdownOutput h1,h2,h3,h4,h5,h6 { font-family: 'Source Sans 3', sans-serif; }\n",
    "   div.cm-line { font-family: 'Source Code Pro', monospace; }\n",
    "</style>"
   ]
  },
  {
   "cell_type": "code",
   "execution_count": null,
   "id": "29032930-e51d-4c57-bd8b-a82e8ffa24d7",
   "metadata": {},
   "outputs": [],
   "source": [
    "import hail as hl\n",
    "hl.init()  # Not necessary, but sometimes you need to configure Hail by passing arguments to hl.init"
   ]
  },
  {
   "cell_type": "markdown",
   "id": "442b6fc6-76a6-4b11-a899-29b070f51557",
   "metadata": {
    "jp-MarkdownHeadingCollapsed": true
   },
   "source": [
    "# Importing a TSV File as a Hail Table"
   ]
  },
  {
   "cell_type": "markdown",
   "id": "32ca1002-277b-455c-92f0-fe9343310eca",
   "metadata": {},
   "source": [
    "[`hl.import_table`](https://hail.is/docs/0.2/methods/impex.html#hail.methods.import_table), by default, imports tab-separated files, but supports many kinds of delimiters. Hail can import many kinds of files, such as VCF, PLINK, UCSC BED, BGEN, and GEN, see the [Import section](https://hail.is/docs/0.2/methods/impex.html#import) of the docs for details."
   ]
  },
  {
   "cell_type": "code",
   "execution_count": null,
   "id": "13e82b03-f55b-40cd-9690-9e7ca3d611fb",
   "metadata": {},
   "outputs": [],
   "source": [
    "ht = hl.import_table('data/sample_table.tsv', impute=True, min_partitions=2)\n",
    "ht"
   ]
  },
  {
   "cell_type": "markdown",
   "id": "fcff4664-1cdc-4637-83bf-e27c985671c9",
   "metadata": {},
   "source": [
    "The printed form of a table is the inscrutable `<hail.table.Table ...>` because Hail has not yet run anything. The table is just a recipe with one step: import a TSV. We must explicitly request that the recipe is executed with an _action_. We can use the action [`Table.show`](https://hail.is/docs/0.2/hail.Table.html#hail.Table.show) (you can click on that) to see the first few rows:"
   ]
  },
  {
   "cell_type": "code",
   "execution_count": null,
   "id": "0fb5d7ad-1150-44bf-ad4e-69dadb0ef232",
   "metadata": {},
   "outputs": [],
   "source": [
    "ht.show(n=3)"
   ]
  },
  {
   "cell_type": "markdown",
   "id": "399605be-bda3-4b93-b34c-6cc01042285d",
   "metadata": {
    "jp-MarkdownHeadingCollapsed": true
   },
   "source": [
    "# Describing a Table"
   ]
  },
  {
   "cell_type": "markdown",
   "id": "fdd7d8f1-498e-4f28-bb1d-59c453d3dc3b",
   "metadata": {},
   "source": [
    "We can also use [`Table.describe`](https://hail.is/docs/0.2/hail.Table.html#hail.Table.describe), which is not an action. It lists all the fields the recipe will produce without executing the recipe."
   ]
  },
  {
   "cell_type": "code",
   "execution_count": null,
   "id": "2057b0dc-91cd-4162-997e-589699d1c36d",
   "metadata": {},
   "outputs": [],
   "source": [
    "ht.describe()"
   ]
  },
  {
   "cell_type": "markdown",
   "id": "434dfac2-bf97-4533-b4fa-e648d63a1a4e",
   "metadata": {},
   "source": [
    "Tables can have \"keys\". If a table has a key, then Hail ensures the table is sorted by its key. Keys are important for combining two tables or combining a table and a matrix table."
   ]
  },
  {
   "cell_type": "markdown",
   "id": "a408c2c8-4d9d-430b-99b7-1e9351ba6eec",
   "metadata": {
    "jp-MarkdownHeadingCollapsed": true
   },
   "source": [
    "# Filtering to Certain Rows\n",
    "\n",
    "[`Table.filter`](https://hail.is/docs/0.2/hail.Table.html#hail.Table.filter) creates a new recipe that both imports the table _and_ keeps only certain rows:"
   ]
  },
  {
   "cell_type": "code",
   "execution_count": null,
   "id": "a14b9755-7bc1-499d-ba89-3a455eb0654c",
   "metadata": {},
   "outputs": [],
   "source": [
    "ht.filter(ht.age > 30).show(n=3)"
   ]
  },
  {
   "cell_type": "markdown",
   "id": "6c80adba-3003-487e-a0a3-691e6e3ca828",
   "metadata": {},
   "source": [
    "Notice that the above command did not modify `ht`. Run `ht.show()` again to verify that:"
   ]
  },
  {
   "cell_type": "code",
   "execution_count": null,
   "id": "20670fbe-3049-43fb-9cb3-721adc8e8db2",
   "metadata": {},
   "outputs": [],
   "source": [
    "ht.show(n=3)"
   ]
  },
  {
   "cell_type": "markdown",
   "id": "3c3caf0e-52f2-405f-8244-db094d57883c",
   "metadata": {
    "jp-MarkdownHeadingCollapsed": true
   },
   "source": [
    "# Head and Tail of the Dataset\n",
    "\n",
    "[`Table.head`](https://hail.is/docs/0.2/hail.Table.html#hail.Table.head) and [`Table.tail`](https://hail.is/docs/0.2/hail.Table.html#hail.Table.tail) filter the dataset to the first few or last few rows."
   ]
  },
  {
   "cell_type": "code",
   "execution_count": null,
   "id": "ff805e8b-49f3-495e-96a2-825fe6ceb374",
   "metadata": {},
   "outputs": [],
   "source": [
    "ht.head(5).show()"
   ]
  },
  {
   "cell_type": "code",
   "execution_count": null,
   "id": "61be7209-7fa7-40da-9974-6ee51d12cf1d",
   "metadata": {},
   "outputs": [],
   "source": [
    "ht.tail(5).show()"
   ]
  },
  {
   "cell_type": "markdown",
   "id": "7f88ffe8-71d0-43ad-acb9-5cf2badfef25",
   "metadata": {
    "jp-MarkdownHeadingCollapsed": true
   },
   "source": [
    "# Adding New Fields with Annotate\n",
    "\n",
    "Usually we build up one big recipe by repeatedly mutating the same variable. Let's do that and add a new field using [`Table.annotate`](https://hail.is/docs/0.2/hail.Table.html#hail.Table.annotate):"
   ]
  },
  {
   "cell_type": "code",
   "execution_count": null,
   "id": "d411efa4-1671-484b-b2e9-ce81e75cf759",
   "metadata": {},
   "outputs": [],
   "source": [
    "ht = ht.annotate(is_twenty_something = hl.all(ht.age >= 20, ht.age < 30))"
   ]
  },
  {
   "cell_type": "code",
   "execution_count": null,
   "id": "8f6d637d-99b4-4baa-9eae-d5267f6b6d16",
   "metadata": {},
   "outputs": [],
   "source": [
    "ht.show(n=3)"
   ]
  },
  {
   "cell_type": "markdown",
   "id": "477362b1-56a9-4103-9ab4-a4f8eb5d6e9b",
   "metadata": {},
   "source": [
    "We can also convert the freckles field into a Boolean field with [`hl.case`](https://hail.is/docs/0.2/functions/core.html#hail.expr.functions.case) which is one of the many [core language functions](https://hail.is/docs/0.2/functions/core.html#hail.expr.functions.case) in Hail's standard library."
   ]
  },
  {
   "cell_type": "code",
   "execution_count": null,
   "id": "1460f8cc-d7d2-4bad-b493-18e0e233e3f3",
   "metadata": {},
   "outputs": [],
   "source": [
    "ht = ht.annotate(has_freckles = (\n",
    "    hl.case()\n",
    "    .when(ht.freckles == \"Yes\", True)\n",
    "    .when(ht.freckles == \"No\", False)\n",
    "    .or_error(hl.format(\"Expected \\\"Yes\\\" or \\\"No\\\" for the field \\\"freckles\\\" but found: %s\", ht.freckles))\n",
    "))"
   ]
  },
  {
   "cell_type": "code",
   "execution_count": null,
   "id": "5aa7e486-349c-4ec0-8395-ef5d4270d2ea",
   "metadata": {},
   "outputs": [],
   "source": [
    "ht.show()"
   ]
  },
  {
   "cell_type": "markdown",
   "id": "2c63748d-b728-4b6e-8bf9-a3d4cde2e494",
   "metadata": {},
   "source": [
    "There are two ways to remove the old `freckles` field: [`Table.select`](https://hail.is/docs/0.2/hail.Table.html#hail.Table.select) and [`Table.drop`](https://hail.is/docs/0.2/hail.Table.html#hail.Table.drop):"
   ]
  },
  {
   "cell_type": "code",
   "execution_count": null,
   "id": "d4a1d03b-99cc-469c-9e47-2262ee133910",
   "metadata": {},
   "outputs": [],
   "source": [
    "ht.select('name', 'age', 'is_twenty_something', 'has_freckles').show(n=3)"
   ]
  },
  {
   "cell_type": "code",
   "execution_count": null,
   "id": "e6bbc140-1531-45ba-94f2-523f7381a4a8",
   "metadata": {},
   "outputs": [],
   "source": [
    "ht.drop('freckles').show(n=3)"
   ]
  },
  {
   "cell_type": "markdown",
   "id": "4a672fe8-d8c4-47a9-9365-19c8bee62776",
   "metadata": {
    "jp-MarkdownHeadingCollapsed": true
   },
   "source": [
    "# Aggregating a Table to a Single Python Value\n",
    "\n",
    "Another \"action\" we can use to execute a Hail table's recipe is [`Table.aggregate`](https://hail.is/docs/0.2/hail.Table.html#hail.Table.aggregate). Let's use the [`hl.agg.mean`](https://hail.is/docs/0.2/aggregators.html#hail.expr.aggregators.mean) aggregator from the [`hl.agg`](https://hail.is/docs/0.2/aggregators.html) module."
   ]
  },
  {
   "cell_type": "code",
   "execution_count": null,
   "id": "4626a641-aadf-4fe4-bd54-7311dad37fe7",
   "metadata": {},
   "outputs": [],
   "source": [
    "ht.aggregate(hl.agg.mean(ht.age))"
   ]
  },
  {
   "cell_type": "markdown",
   "id": "8aff08dc-614d-4780-9f87-de03a7295ceb",
   "metadata": {},
   "source": [
    "Each time we execute an action, the entire table recipe is executed from the beginning. For example, consider how long it takes to execute four aggregations:"
   ]
  },
  {
   "cell_type": "code",
   "execution_count": null,
   "id": "5b03fb77-269c-4050-a841-d995af9d8f38",
   "metadata": {},
   "outputs": [],
   "source": [
    "%%time\n",
    "mean_age = ht.aggregate(hl.agg.mean(ht.age))\n",
    "sum_age = ht.aggregate(hl.agg.sum(ht.age))\n",
    "max_age = ht.aggregate(hl.agg.max(ht.age))\n",
    "min_age = ht.aggregate(hl.agg.min(ht.age))\n",
    "\n",
    "(mean_age, sum_age, max_age, min_age)"
   ]
  },
  {
   "cell_type": "markdown",
   "id": "274d1b6c-65aa-4c4f-a305-37641826f0c8",
   "metadata": {},
   "source": [
    "Instead of executing the table's recipe four times, once for each aggregator, we can execute the recipe once computing the four aggregators in parallel:"
   ]
  },
  {
   "cell_type": "code",
   "execution_count": null,
   "id": "b21fa2c5-1482-4404-a4e8-9153c9fd0a0b",
   "metadata": {},
   "outputs": [],
   "source": [
    "%%time\n",
    "mean_age, sum_age, max_age, min_age = ht.aggregate(\n",
    "    (\n",
    "        hl.agg.mean(ht.age),\n",
    "        hl.agg.sum(ht.age),\n",
    "        hl.agg.max(ht.age),\n",
    "        hl.agg.min(ht.age),\n",
    "    )\n",
    ")\n",
    "\n",
    "(mean_age, sum_age, max_age, min_age)"
   ]
  },
  {
   "cell_type": "markdown",
   "id": "925fcc7c-fa08-43f3-9e53-627d2c37b953",
   "metadata": {
    "jp-MarkdownHeadingCollapsed": true
   },
   "source": [
    "# Aggregating within Groups of Rows to Produce a New Table."
   ]
  },
  {
   "cell_type": "markdown",
   "id": "0f58761e-4398-4f28-a338-9b08b8e12916",
   "metadata": {},
   "source": [
    "Instead of aggregating over the entire table to produce just one value, we can combine groups of rows into new rows by aggregating over each group separately. We use [`Table.group_by`](https://hail.is/docs/0.2/hail.Table.html#hail.Table.group_by) with [`hl.agg.filter`](https://hail.is/docs/0.2/aggregators.html#hail.expr.aggregators.filter), [`hl.agg.count`](https://hail.is/docs/0.2/aggregators.html#hail.expr.aggregators.count), and [`hl.agg.count_where`](https://hail.is/docs/0.2/aggregators.html#hail.expr.aggregators.count_where)."
   ]
  },
  {
   "cell_type": "code",
   "execution_count": null,
   "id": "181acbfd-f137-424e-ae10-5c1228999268",
   "metadata": {},
   "outputs": [],
   "source": [
    "ht.group_by(\n",
    "    ht.age\n",
    ").aggregate(\n",
    "    count_having_freckles = hl.agg.filter(ht.freckles == \"Yes\", hl.agg.count()),\n",
    "    count_not_having_freckles = hl.agg.filter(ht.freckles == \"No\", hl.agg.count()), \n",
    "    count_names_starting_with_A = hl.agg.count_where(ht.name[0] == \"A\"),\n",
    ")"
   ]
  },
  {
   "cell_type": "markdown",
   "id": "86d2831f-6079-4cd8-8345-2d1470180ce9",
   "metadata": {},
   "source": [
    "Oops! We forgot to use an action, like [`Table.show`](https://hail.is/docs/0.2/hail.Table.html#hail.Table.show), so nothing happened! Let's try again:"
   ]
  },
  {
   "cell_type": "code",
   "execution_count": null,
   "id": "db6882d6-8875-4d94-bb92-c90949554cb7",
   "metadata": {},
   "outputs": [],
   "source": [
    "ht2 = ht.group_by(\n",
    "    ht.age\n",
    ").aggregate(\n",
    "    count_having_freckles = hl.agg.filter(ht.freckles == \"Yes\", hl.agg.count()),\n",
    "    count_not_having_freckles = hl.agg.filter(ht.freckles == \"No\", hl.agg.count()), \n",
    "    count_names_starting_with_A = hl.agg.count_where(ht.name[0] == \"A\"),\n",
    ")\n",
    "ht2.show(n=3)"
   ]
  },
  {
   "cell_type": "markdown",
   "id": "0575ea36-c94d-47ad-96ba-f8c94058a452",
   "metadata": {},
   "source": [
    "Notice that we used a new variable name, `ht2`, so that we can still access the old table, `ht` containing all the individual people."
   ]
  },
  {
   "cell_type": "code",
   "execution_count": null,
   "id": "f4085a8e-0e8c-4e47-b88b-6e8f8d1addcb",
   "metadata": {},
   "outputs": [],
   "source": [
    "ht.show(n=3)"
   ]
  },
  {
   "cell_type": "markdown",
   "id": "65278158-01fd-4c6e-b3db-cb1c1a0abd96",
   "metadata": {},
   "source": [
    "# Plotting Tables"
   ]
  },
  {
   "cell_type": "markdown",
   "id": "f04e9435-1d96-463f-bcc3-9f3503870743",
   "metadata": {
    "jp-MarkdownHeadingCollapsed": true
   },
   "source": [
    "# Writing and Reading Tables in Hail Native Format\n",
    "\n",
    "Hail has a partitioned, indexed, binary file format for quickly reading and writing datasets. [`Table.write`](https://hail.is/docs/0.2/hail.Table.html#hail.Table.write) is the action which writes a table in Hail native format. We use the \".ht\" file extension by convention."
   ]
  },
  {
   "cell_type": "code",
   "execution_count": null,
   "id": "38d92bf6-a7d4-4bac-a46b-9bef73d236cc",
   "metadata": {
    "scrolled": true
   },
   "outputs": [],
   "source": [
    "ht.write('output/sample_table.ht')"
   ]
  },
  {
   "cell_type": "markdown",
   "id": "9d8aceec-6a0e-4d51-b0f7-328131f4a31a",
   "metadata": {},
   "source": [
    "Writing a Hail table executes the recipe once and saves the results in a file for future use. We recommend writing after importing or after executing computationally intensive pipelines. [`hl.read_table`](https://hail.is/docs/0.2/methods/impex.html#hail.methods.read_table) reads a table in Hail native format. Most operations are faster when starting from a Hail native format table."
   ]
  },
  {
   "cell_type": "code",
   "execution_count": null,
   "id": "840e0ac6-ca0c-47b0-a67c-edcba879b5d4",
   "metadata": {},
   "outputs": [],
   "source": [
    "ht = hl.read_table('output/sample_table.ht')"
   ]
  },
  {
   "cell_type": "markdown",
   "id": "d2d16c71-f078-4b2b-941f-a411b47a3947",
   "metadata": {
    "jp-MarkdownHeadingCollapsed": true
   },
   "source": [
    "# Exporting a Table to a File\n",
    "\n",
    "Hail tables support export to many file formats including TSV and CSV."
   ]
  },
  {
   "cell_type": "code",
   "execution_count": null,
   "id": "3a651c5e-b1fb-4edd-82f8-ca9f6e1adb6b",
   "metadata": {},
   "outputs": [],
   "source": [
    "ht.export('output/sample_table.tsv')\n",
    "ht.export('output/sample_table.csv', delimiter=',')\n",
    "ht.export('output/sample_table.@sv', delimiter='@')"
   ]
  },
  {
   "cell_type": "code",
   "execution_count": null,
   "id": "a7f7e9a9-dfdd-4156-8ea6-9599ae42287a",
   "metadata": {},
   "outputs": [],
   "source": [
    "!head output/sample_table.tsv"
   ]
  },
  {
   "cell_type": "code",
   "execution_count": null,
   "id": "794f6ba3-af3d-4e16-b3be-f1d12b53b17d",
   "metadata": {},
   "outputs": [],
   "source": [
    "!head output/sample_table.csv"
   ]
  },
  {
   "cell_type": "code",
   "execution_count": null,
   "id": "866f58fc-957d-4c22-89e7-ae7df92e16aa",
   "metadata": {},
   "outputs": [],
   "source": [
    "!head output/sample_table.@sv"
   ]
  },
  {
   "cell_type": "markdown",
   "id": "6ed480fc-a94f-4d5b-9b02-4c6af46a2e2a",
   "metadata": {},
   "source": [
    "We did not compress the outputs for ease of viewing. Exporting large tables uncompressed is almost always a mistake. Hail detects the \".bgz\" extension and compresses the output using block GZIP. This is almost always faster than exporting an uncompressed text file."
   ]
  },
  {
   "cell_type": "code",
   "execution_count": null,
   "id": "b6e76183-8a21-4e61-9f15-e0bc33ad29a6",
   "metadata": {},
   "outputs": [],
   "source": [
    "ht.export('output/sample_table.tsv.bgz')"
   ]
  },
  {
   "cell_type": "markdown",
   "id": "b5015e7d-3896-4c73-b968-afb16ebe84e1",
   "metadata": {},
   "source": [
    "The `INFO` output mentions a \"merge time\". This is a slow, serial operation in which Hail concatenates the partitioned dataset into a single file. Whenever possible, you should use partitioned text files. [`Table.export`](https://hail.is/docs/0.2/hail.Table.html#hail.Table.export) exports a folder of partitions when `parallel` is set to `header_per_shard` or `separate_header`."
   ]
  },
  {
   "cell_type": "code",
   "execution_count": null,
   "id": "19d29a57-526b-44dd-8cec-8bd9b8ae2b0c",
   "metadata": {},
   "outputs": [],
   "source": [
    "ht.export('output/sample_table_partitions_header_per_shard.tsv/', parallel='header_per_shard')"
   ]
  },
  {
   "cell_type": "code",
   "execution_count": null,
   "id": "1503cf0e-95ca-46f8-aa27-504ed904a121",
   "metadata": {},
   "outputs": [],
   "source": [
    "!head output/sample_table_partitions_header_per_shard.tsv/*"
   ]
  },
  {
   "cell_type": "code",
   "execution_count": null,
   "id": "d079b89c-e41c-43ce-b70c-e091e66fdc71",
   "metadata": {},
   "outputs": [],
   "source": [
    "ht.export('output/sample_table_partitions_separate_header.tsv/', parallel='separate_header')"
   ]
  },
  {
   "cell_type": "code",
   "execution_count": null,
   "id": "b5b73b69-20a9-4ad9-8576-bfdd04ec7647",
   "metadata": {},
   "outputs": [],
   "source": [
    "!head output/sample_table_partitions_separate_header.tsv/*"
   ]
  },
  {
   "cell_type": "markdown",
   "id": "16808653-9df6-4287-b686-f1c75d4b5ac0",
   "metadata": {
    "jp-MarkdownHeadingCollapsed": true
   },
   "source": [
    "# Collecting a Table to a List or Pandas DataFrame\n",
    "\n",
    "[`Table.collect`](https://hail.is/docs/0.2/hail.Table.html#hail.Table.collect) collects the distributed & partitioned values of a table into a Python list. This will, obviously, run out of memory if the table is large."
   ]
  },
  {
   "cell_type": "code",
   "execution_count": null,
   "id": "cc8849a7-317a-4ebc-9370-0553b9df6bf4",
   "metadata": {
    "scrolled": true
   },
   "outputs": [],
   "source": [
    "ht.collect()"
   ]
  },
  {
   "cell_type": "markdown",
   "id": "7869132f-8300-4ba1-976a-00e8e2e925e9",
   "metadata": {},
   "source": [
    "[`Table.to_pandas`](https://hail.is/docs/0.2/hail.Table.html#hail.Table.to_pandas) collects the values into a Pandas DataFrame. As above, large tables will exceed the memory available on your laptop."
   ]
  },
  {
   "cell_type": "code",
   "execution_count": null,
   "id": "ee70cbc0-0433-4781-8996-d7cd7b5ba006",
   "metadata": {},
   "outputs": [],
   "source": [
    "ht.to_pandas()"
   ]
  },
  {
   "cell_type": "code",
   "execution_count": null,
   "id": "b81c85b4-0a6c-425d-b922-be71bf0a437c",
   "metadata": {},
   "outputs": [],
   "source": []
  }
 ],
 "metadata": {
  "kernelspec": {
   "display_name": "Python 3 (ipykernel)",
   "language": "python",
   "name": "python3"
  },
  "language_info": {
   "codemirror_mode": {
    "name": "ipython",
    "version": 3
   },
   "file_extension": ".py",
   "mimetype": "text/x-python",
   "name": "python",
   "nbconvert_exporter": "python",
   "pygments_lexer": "ipython3",
   "version": "3.10.9"
  }
 },
 "nbformat": 4,
 "nbformat_minor": 5
}
