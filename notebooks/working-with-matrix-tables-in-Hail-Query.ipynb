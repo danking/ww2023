{
 "cells": [
  {
   "cell_type": "code",
   "execution_count": null,
   "id": "5fe10f7e-ff9e-472d-870e-a771900bf347",
   "metadata": {},
   "outputs": [],
   "source": [
    "%%html\n",
    "<!-- Improve the styling of the Notebook. -->\n",
    "<link href=\"https://fonts.googleapis.com/css2?family=Source+Code+Pro&family=Source+Sans+3&family=Source+Serif+4:opsz@8..60&display=swap\" rel=\"stylesheet\">\n",
    "<style>\n",
    "   div.jp-MarkdownOutput p { font-family: 'Source Serif 4', serif; width: 50em; }\n",
    "   div.jp-MarkdownOutput h1,h2,h3,h4,h5,h6 { font-family: 'Source Sans 3', sans-serif; }\n",
    "   div.cm-line { font-family: 'Source Code Pro', monospace; }\n",
    "</style>"
   ]
  },
  {
   "cell_type": "code",
   "execution_count": null,
   "id": "223a00b7-0dcf-41c1-b990-3342b0d6fbd8",
   "metadata": {},
   "outputs": [],
   "source": [
    "import hail as hl"
   ]
  },
  {
   "cell_type": "markdown",
   "id": "8812abaf-422d-449d-9e16-c06d67c7d47a",
   "metadata": {
    "jp-MarkdownHeadingCollapsed": true
   },
   "source": [
    "# Importing a VCF File as a Hail Matrix Table"
   ]
  },
  {
   "cell_type": "markdown",
   "id": "e7492932-3863-4f4f-b994-f5f4694d9233",
   "metadata": {},
   "source": [
    "Matrix tables are a unique feature of Hail that are missing in other distributed, partitioned dataframe systems. Matrix tables were inspired by the VCF format which represents one or more genomic sequences. Each row is a genomic locus, like \"chr1:123\". Each column is a sample identified by a string of characters and numbers, like \"NA12345\". \n",
    "\n",
    "[`hl.import_vcf`](https://hail.is/docs/0.2/methods/impex.html#hail.methods.import_vcf) imports a VCF file as a Hail Matrix Table."
   ]
  },
  {
   "cell_type": "code",
   "execution_count": null,
   "id": "7501ef15-2f14-4387-a005-0b0152d2038d",
   "metadata": {},
   "outputs": [],
   "source": [
    "mt = hl.import_vcf('data/sample.vcf', reference_genome='GRCh38', min_partitions=2)"
   ]
  },
  {
   "cell_type": "code",
   "execution_count": null,
   "id": "1e63c034-71b1-4de9-916d-c47460aedf1a",
   "metadata": {},
   "outputs": [],
   "source": [
    "mt"
   ]
  },
  {
   "cell_type": "markdown",
   "id": "50944344-5c89-4a31-bc4f-14764fef8054",
   "metadata": {
    "jp-MarkdownHeadingCollapsed": true
   },
   "source": [
    "# Showing the Row, Column, and Entry Fields\n",
    "\n",
    "Matrix tables, just like Tables, are recipes. Their printed form provides no useful information. [`MatrixTable.show`](https://hail.is/docs/0.2/hail.MatrixTable.html#hail.MatrixTable.show), which is an action, displays the entry field values of the first few rows and columns of the matrix."
   ]
  },
  {
   "cell_type": "code",
   "execution_count": null,
   "id": "1fde2fa6-edd7-43cb-855e-a9d87ea77e51",
   "metadata": {},
   "outputs": [],
   "source": [
    "mt.show(n_rows=3, n_cols=3)"
   ]
  },
  {
   "cell_type": "markdown",
   "id": "4821cbaa-81dd-4c97-bfd7-77240ae30d6f",
   "metadata": {},
   "source": [
    "This is the top-left corner of this matrix table.\n",
    "\n",
    "Each column represents a sample and is shown with its sample identifier: \"Sample1\", \"Sample2\", and \"Sample3\". Each row represents a variant and is shown with the variant's locus and alleles. Each entry represents a sequenced genotype. This sequenced genotype comprises four fields: the genotype call \"GT\", the total depth \"DP\", the phred-scaled genotype likelihoods \"PL\", and the per-allele depth \"AD\". See the [VCF Specification version 4.3](https://samtools.github.io/hts-specs/VCFv4.3.pdf) for details.\n",
    "\n",
    "Seven fields are visible: two row fields: locus and alleles; four entry fields: GT, DP, PL, and AD; one column field: s.\n",
    "\n",
    "[`MatrixTable.show`](https://hail.is/docs/0.2/hail.MatrixTable.html#hail.MatrixTable.show) only shows the entry fields, the row key fields, and the column key fields. The matrix table usually has other row and column fields that are not displayed by show. [`MatrixTable.describe`](https://hail.is/docs/0.2/hail.MatrixTable.html#hail.MatrixTable.describe) lists all the fields."
   ]
  },
  {
   "cell_type": "code",
   "execution_count": null,
   "id": "8fc00b1e-abf9-42e9-b7fc-4207978b1758",
   "metadata": {},
   "outputs": [],
   "source": [
    "mt.describe()"
   ]
  },
  {
   "cell_type": "markdown",
   "id": "58f5b1c0-4fad-4f64-bc92-ae34e25e14da",
   "metadata": {},
   "source": [
    "[`MatrixTable.rows`](https://hail.is/docs/0.2/hail.MatrixTable.html#hail.MatrixTable.rows) returns a Hail table with all the row fields. [`MatrixTable.cols`](https://hail.is/docs/0.2/hail.MatrixTable.html#hail.MatrixTable.cols) returns a Hail table with all the column fields. We can, of course, use [`Table.describe`]((https://hail.is/docs/0.2/hail.Table.html#hail.Table.describe) and [`Table.show`]((https://hail.is/docs/0.2/hail.Table.html#hail.Table.show) to interrogate either table."
   ]
  },
  {
   "cell_type": "markdown",
   "id": "04f172fb-a7de-452e-a7e2-0dcc854f81da",
   "metadata": {},
   "source": [
    "⚠️⚠️⚠️ Confusing Behavior Alert ⚠️⚠️⚠️\n",
    "\n",
    "Matrix table columns are ordered in the same way as they are in the imported VCF. In contrast, every Hail table, including the `mt.cols()` table, is _always_ ordered by its key field.\n",
    "\n",
    "This is indeed confusing; however, it is a necessary comprimise to avoid sorting, at great cost, the columns of a VCF."
   ]
  },
  {
   "cell_type": "code",
   "execution_count": null,
   "id": "984bfc2a-6993-4f62-9543-3010d07f06ab",
   "metadata": {},
   "outputs": [],
   "source": [
    "mt.cols().show(n=3)"
   ]
  },
  {
   "cell_type": "markdown",
   "id": "2dd09fd1-5f21-441c-adf0-11c73b6ef388",
   "metadata": {},
   "source": [
    "We can preserve the ordering of the cols table by removing the setting the column key to the empty key (which requires no particular ordering)."
   ]
  },
  {
   "cell_type": "code",
   "execution_count": null,
   "id": "22461623-6424-4bb5-a3b2-63934e1c7ef7",
   "metadata": {},
   "outputs": [],
   "source": [
    "mt.key_cols_by().cols().show(n=3)"
   ]
  },
  {
   "cell_type": "code",
   "execution_count": null,
   "id": "0a753401-d249-4aa7-9acc-4fc4a1008938",
   "metadata": {},
   "outputs": [],
   "source": [
    "mt.rows().show(n=3)"
   ]
  },
  {
   "cell_type": "markdown",
   "id": "6df968a9-875d-4ae8-a646-7ccad20b8985",
   "metadata": {},
   "source": [
    "\"info.DP\" is our first example of a _nested_ field. The \"info\" field contains a \"DP\" field, the sum total depth across all sample. There are many ways to access a nested field:"
   ]
  },
  {
   "cell_type": "code",
   "execution_count": null,
   "id": "6a9bbec1-4c1d-40c2-929b-63a05ba4d9d1",
   "metadata": {},
   "outputs": [],
   "source": [
    "mt.info.DP\n",
    "mt['info'].DP\n",
    "mt.info['DP']\n",
    "mt['info']['DP']"
   ]
  },
  {
   "cell_type": "markdown",
   "id": "9f654c1c-ab3a-498c-bb68-873bafa05cbf",
   "metadata": {},
   "source": [
    "### Exercise\n",
    "\n",
    "It's also possible to show individual fields. Try showing the info.DP field."
   ]
  },
  {
   "cell_type": "code",
   "execution_count": null,
   "id": "2e0e58e8-9b5a-4b30-88ef-91a11401ed74",
   "metadata": {},
   "outputs": [],
   "source": []
  },
  {
   "cell_type": "markdown",
   "id": "c43e7d99-7509-441c-b8b1-ae768f39e27e",
   "metadata": {
    "jp-MarkdownHeadingCollapsed": true
   },
   "source": [
    "# Adding Row, Column, and Entry Fields with Annotate"
   ]
  },
  {
   "cell_type": "markdown",
   "id": "e44220fe-0b72-4a9f-a70b-fb93fee3b422",
   "metadata": {},
   "source": [
    "## Row Fields\n",
    "\n",
    "These \"sum total depths\" look fishy: they're too small. Let's compute the actual sum with [`hl.agg.sum`](https://hail.is/docs/0.2/aggregators.html#hail.expr.aggregators.sum) and add it as a new row field with [`MatrixTable.annotate_rows`](https://hail.is/docs/0.2/hail.MatrixTable.html#hail.MatrixTable.annotate_rows)."
   ]
  },
  {
   "cell_type": "code",
   "execution_count": null,
   "id": "36c1e314-7079-427b-8606-c401cb32e183",
   "metadata": {},
   "outputs": [],
   "source": [
    "mt = mt.annotate_rows(\n",
    "    the_actual_sum_total_DP = hl.agg.sum(mt.DP)\n",
    ")\n",
    "mt.rows().show(n=3)"
   ]
  },
  {
   "cell_type": "markdown",
   "id": "93d3c2b4-15de-44b3-98f8-fa83e100a2b9",
   "metadata": {},
   "source": [
    "Not even close to correct! Let's replace the \"info.DP\" value with the actual sum. Notice that we use [`StructExpression.annotate`](https://hail.is/docs/0.2/hail.expr.StructExpression.html#hail.expr.StructExpression.annotate) to add a new field to the \"info\" field."
   ]
  },
  {
   "cell_type": "code",
   "execution_count": null,
   "id": "c284dd5d-1bd4-4c39-adaa-ccb59aad7364",
   "metadata": {},
   "outputs": [],
   "source": [
    "mt = mt.annotate_rows(\n",
    "    info = mt.info.annotate(\n",
    "        DP = hl.agg.sum(mt.DP)\n",
    "    )\n",
    ")\n",
    "mt.rows().show(n=3)"
   ]
  },
  {
   "cell_type": "markdown",
   "id": "bed34354-e148-40aa-ae1e-a1b118506806",
   "metadata": {},
   "source": [
    "## Column Fields\n",
    "\n",
    "Hail has an extensive [library of random functions](https://hail.is/docs/0.2/functions/random.html) as well as a [library of statistical distributions and tests](https://hail.is/docs/0.2/functions/stats.html). Let's use [`MatrixTable.annotate_cols`](https://hail.is/docs/0.2/hail.MatrixTable.html#hail.MatrixTable.annotate_cols) to randomly generate a height field for each sample."
   ]
  },
  {
   "cell_type": "code",
   "execution_count": null,
   "id": "9d99d4b9-b2d2-4a09-9008-f5fd9bd15f86",
   "metadata": {},
   "outputs": [],
   "source": [
    "mt = mt.annotate_cols(\n",
    "    height_ft = hl.rand_norm(5 + 8/12, 2/12)\n",
    ")\n",
    "mt.key_cols_by().cols().show(n=3)"
   ]
  },
  {
   "cell_type": "markdown",
   "id": "5a5455d9-6da2-4fa7-9459-e2e29e01877c",
   "metadata": {},
   "source": [
    "## Entry Fields\n",
    "\n",
    "[`MatrixTable.annotate_entries`](https://hail.is/docs/0.2/hail.MatrixTable.html#hail.MatrixTable.annotate_entries) adds new entry fields. We can show just one field (with its relevant keys) using [`Expression.show`](https://hail.is/docs/0.2/hail.expr.Expression.html#hail.expr.Expression.show)."
   ]
  },
  {
   "cell_type": "code",
   "execution_count": null,
   "id": "f40e4385-c726-49af-ade6-f43cfa61cf01",
   "metadata": {},
   "outputs": [],
   "source": [
    "mt = mt.annotate_entries(\n",
    "    low_DP = mt.DP < 15\n",
    ")\n",
    "mt.low_DP.show(n_rows=3, n_cols=3)"
   ]
  },
  {
   "cell_type": "markdown",
   "id": "3f6d98aa-bd36-4c2b-8847-ac6517e656fe",
   "metadata": {},
   "source": [
    "[`Expression.show`](https://hail.is/docs/0.2/hail.expr.Expression.html#hail.expr.Expression.show) also works with compound expressions, such as a struct expression. A struct expression combines multiple values into one struct value."
   ]
  },
  {
   "cell_type": "code",
   "execution_count": null,
   "id": "9f25896d-fbf4-4521-86df-897ec98addaa",
   "metadata": {},
   "outputs": [],
   "source": [
    "hl.struct(low_DP=mt.low_DP, DP=mt.DP, GT=mt.GT).show(n_rows=3, n_cols=3)"
   ]
  },
  {
   "cell_type": "markdown",
   "id": "be85ef2e-5b27-45fc-a116-bac3cc51afe2",
   "metadata": {},
   "source": [
    "### Exercise\n",
    "\n",
    "Add an entry field which is the sum of the AD array. See [collection functions](https://hail.is/docs/0.2/functions/collections.html)."
   ]
  },
  {
   "cell_type": "code",
   "execution_count": null,
   "id": "fc8bb15b-142b-4851-9098-c55fbfaa2dd9",
   "metadata": {},
   "outputs": [],
   "source": []
  },
  {
   "cell_type": "markdown",
   "id": "41be272d-e371-4e1b-ac23-797ad40dff9a",
   "metadata": {
    "jp-MarkdownHeadingCollapsed": true
   },
   "source": [
    "# Filtering Rows, Columns, and Entries\n",
    "\n",
    "[`MatrixTable.filter_rows`](https://hail.is/docs/0.2/hail.MatrixTable.html#hail.MatrixTable.filter_rows), [`MatrixTable.filter_cols`](https://hail.is/docs/0.2/hail.MatrixTable.html#hail.MatrixTable.filter_cols), and [`MatrixTable.filter_entries`](https://hail.is/docs/0.2/hail.MatrixTable.html#hail.MatrixTable.filter_entries) respectively remove rows, columns, and entries from a matrix table.\n",
    "\n",
    "We make a copy of our recipe as `xx` so that we can return to the full dataset later."
   ]
  },
  {
   "cell_type": "code",
   "execution_count": null,
   "id": "203a32e8-ed0a-4ea4-b940-557a576239a9",
   "metadata": {},
   "outputs": [],
   "source": [
    "xx = mt"
   ]
  },
  {
   "cell_type": "code",
   "execution_count": null,
   "id": "2126027d-ea37-4ec8-a813-e8e873718ffb",
   "metadata": {},
   "outputs": [],
   "source": [
    "xx = xx.filter_rows(\n",
    "    xx.locus.contig != 'chr1'\n",
    ")\n",
    "xx.show(n_rows=3, n_cols=2)"
   ]
  },
  {
   "cell_type": "code",
   "execution_count": null,
   "id": "b93ee695-aaeb-4cb8-84cc-3708942271b3",
   "metadata": {},
   "outputs": [],
   "source": [
    "xx = xx.filter_cols(\n",
    "    xx.s > 'Sample4'\n",
    ")\n",
    "xx.show(n_rows=3, n_cols=2)"
   ]
  },
  {
   "cell_type": "markdown",
   "id": "af531d25-1e22-4a5d-95c8-885c9d4b7a99",
   "metadata": {},
   "source": [
    "A filtered entry is like a hole in the matrix. The other entries in a row or column are still present, so Hail still treats that row and that column as part of the dataset; however, the filtered entry itself is shown as if all its entry fields are missing."
   ]
  },
  {
   "cell_type": "code",
   "execution_count": null,
   "id": "5aabbe90-08db-4de9-94cf-9af663b2a0fe",
   "metadata": {},
   "outputs": [],
   "source": [
    "xx = xx.filter_entries(\n",
    "    xx.GT.is_het()\n",
    ")\n",
    "xx.show(n_rows=3, n_cols=2)"
   ]
  },
  {
   "cell_type": "markdown",
   "id": "9c376b5e-fab7-495b-b0d0-a53e49bb118d",
   "metadata": {},
   "source": [
    "### Exercise\n",
    "\n",
    "Filter to rows in chromosome 2."
   ]
  },
  {
   "cell_type": "code",
   "execution_count": null,
   "id": "9d647113-9ae7-44c5-8ab9-26fe7393ba40",
   "metadata": {},
   "outputs": [],
   "source": []
  },
  {
   "cell_type": "markdown",
   "id": "0a862ebf-5b98-4640-a0eb-5e97bfa94528",
   "metadata": {
    "jp-MarkdownHeadingCollapsed": true
   },
   "source": [
    "# Head and Tail of the Dataset\n",
    "\n",
    "[`MatrixTable.head`](https://hail.is/docs/0.2/hail.MatrixTable.html#hail.MatrixTable.head) and [`MatrixTable.tail`](https://hail.is/docs/0.2/hail.MatrixTable.html#hail.MatrixTable.tail) filter the dataset to corners of the matrix."
   ]
  },
  {
   "cell_type": "code",
   "execution_count": null,
   "id": "17887833-62af-4e1f-83f6-ccd8a60540df",
   "metadata": {},
   "outputs": [],
   "source": [
    "mt.head(n_rows=3, n_cols=3).GT.show()"
   ]
  },
  {
   "cell_type": "markdown",
   "id": "3932a993-780e-44e0-9e05-053acfa158e2",
   "metadata": {},
   "source": [
    "There is currently a bug in `tail`: it calls `n_rows` `n`. This will be fixed in 0.2.121."
   ]
  },
  {
   "cell_type": "code",
   "execution_count": null,
   "id": "816d32db-beca-4b63-95d3-38f8e79f32ad",
   "metadata": {},
   "outputs": [],
   "source": [
    "mt.tail(n=3, n_cols=3).GT.show()"
   ]
  },
  {
   "cell_type": "markdown",
   "id": "5519d13f-49e4-4bf2-a071-8cdcd744e680",
   "metadata": {},
   "source": [
    "Head and tail can be combined to filter to the top-right or bottom-left corners of the matrix."
   ]
  },
  {
   "cell_type": "code",
   "execution_count": null,
   "id": "c60d5124-5d07-46d6-9be3-953dd49035ac",
   "metadata": {},
   "outputs": [],
   "source": [
    "mt.head(n_rows=3, n_cols=None).tail(n=None, n_cols=3).GT.show()"
   ]
  },
  {
   "cell_type": "markdown",
   "id": "a8ac4d8f-1bc9-41aa-9e96-08191a2e5523",
   "metadata": {
    "jp-MarkdownHeadingCollapsed": true
   },
   "source": [
    "# Aggregating Rows, Columns, and Entries"
   ]
  },
  {
   "cell_type": "markdown",
   "id": "c962ad8d-aeb3-4cbb-af88-f02cd4a26cd0",
   "metadata": {},
   "source": [
    "[`MatrixTable.aggregate_entries`](https://hail.is/docs/0.2/hail.MatrixTable.html#hail.MatrixTable.aggregate_entries) aggregates the entire dataset into a single Python value. [`hl.agg.group_by`](https://hail.is/docs/0.2/aggregators.html#hail.expr.aggregators.group_by) partitions values into groups and aggregates each group separately."
   ]
  },
  {
   "cell_type": "code",
   "execution_count": null,
   "id": "ae7bc6dc-1640-4141-8c08-1069d1e41026",
   "metadata": {},
   "outputs": [],
   "source": [
    "mt.aggregate_entries(\n",
    "    hl.agg.group_by(mt.GT, hl.agg.count())\n",
    ")"
   ]
  },
  {
   "cell_type": "markdown",
   "id": "1a108f01-65a2-4937-9c0e-ccaaca76f4bb",
   "metadata": {},
   "source": [
    "[`MatrixTable.aggregate_rows`](https://hail.is/docs/0.2/hail.MatrixTable.html#hail.MatrixTable.aggregate_rows) and [`MatrixTable.aggregate_cols`](https://hail.is/docs/0.2/hail.MatrixTable.html#hail.MatrixTable.aggregate_cols) respectively aggregate all the row fields or all the column fields into a single Python value.\n",
    "\n",
    "[`hl.agg.stats`](https://hail.is/docs/0.2/aggregators.html#hail.expr.aggregators.stats) computes the mean, standard deviation, min, max, count, and sum of a numeric field."
   ]
  },
  {
   "cell_type": "code",
   "execution_count": null,
   "id": "1356ae2c-eb95-4f4f-b3d7-47c30dece8ff",
   "metadata": {},
   "outputs": [],
   "source": [
    "mt.aggregate_rows(\n",
    "    hl.agg.stats(mt.info.DP)\n",
    ")"
   ]
  },
  {
   "cell_type": "code",
   "execution_count": null,
   "id": "df0b182f-0ace-4ff1-8bb4-ee4a41130ed2",
   "metadata": {},
   "outputs": [],
   "source": [
    "mt.aggregate_cols(\n",
    "    hl.agg.stats(mt.height_ft)\n",
    ")"
   ]
  },
  {
   "cell_type": "markdown",
   "id": "49aaa243-c9f7-46f6-bd27-66c2055eb72a",
   "metadata": {},
   "source": [
    "[`MatrixTable.annotate_rows`](https://hail.is/docs/0.2/hail.MatrixTable.html#hail.MatrixTable.annotate_rows) permits aggregating the entries of each row separately. This produces a single Hail value for each row which is necessarily stored in a row field. [`CallExpression.n_alt_alleles`](https://hail.is/docs/0.2/hail.expr.CallExpression.html#hail.expr.CallExpression.n_alt_alleles) returns the number of alternate alleles in the genotype call. For example, `0/0` has zero alternate alleles and `1/1` has two."
   ]
  },
  {
   "cell_type": "code",
   "execution_count": null,
   "id": "a0c4b821-16f8-4cce-aa36-cb1daf2f86f4",
   "metadata": {},
   "outputs": [],
   "source": [
    "mt.annotate_rows(\n",
    "    alternate_allele_frequency = hl.agg.mean(mt.GT.n_alt_alleles()) / 2.0\n",
    ").alternate_allele_frequency.show(n=10)"
   ]
  },
  {
   "cell_type": "markdown",
   "id": "6c24db62-3f7b-442f-9e0a-5e1e63389ad2",
   "metadata": {},
   "source": [
    "[`MatrixTable.annotate_cols`](https://hail.is/docs/0.2/hail.MatrixTable.html#hail.MatrixTable.annotate_cols) likewise permits aggregating each column of entries."
   ]
  },
  {
   "cell_type": "code",
   "execution_count": null,
   "id": "bc41f729-1cd6-4b33-9bd7-7a3aa0425c69",
   "metadata": {},
   "outputs": [],
   "source": [
    "mt.annotate_cols(\n",
    "    mean_sample_depth = hl.agg.mean(mt.DP)\n",
    ").key_cols_by().cols().select('s', 'mean_sample_depth').show(n=10)"
   ]
  },
  {
   "cell_type": "markdown",
   "id": "a42623b0-bb07-4099-bbd3-d5ab08addcca",
   "metadata": {},
   "source": [
    "### Exercise\n",
    "\n",
    "Filter to rows with more homozygous reference calls than heterozygous calls."
   ]
  },
  {
   "cell_type": "code",
   "execution_count": null,
   "id": "fdc4eaad-7359-4363-bfb9-33108d6cb0bd",
   "metadata": {},
   "outputs": [],
   "source": []
  },
  {
   "cell_type": "markdown",
   "id": "078dce87-5ba7-4ecb-8a84-f57f9cbe2430",
   "metadata": {},
   "source": [
    "### Exercise\n",
    "\n",
    "Filter to samples whose mean depth across all variants is greater than 18."
   ]
  },
  {
   "cell_type": "code",
   "execution_count": null,
   "id": "e3f66c24-1288-46bb-82c8-ce21cefa1b6e",
   "metadata": {},
   "outputs": [],
   "source": []
  },
  {
   "cell_type": "markdown",
   "id": "e9be3d23-92a7-43dd-a74e-38c40a1955b2",
   "metadata": {
    "jp-MarkdownHeadingCollapsed": true
   },
   "source": [
    "# Aggregating within Groups of Rows or Groups of Columns\n",
    "\n",
    "[`MatrixTable.group_rows_by`](https://hail.is/docs/0.2/hail.MatrixTable.html#hail.MatrixTable.group_rows_by) aggregates groups of rows to produce a new matrix table whose rows are the groups. "
   ]
  },
  {
   "cell_type": "code",
   "execution_count": null,
   "id": "6d8756e4-d49a-4bcb-82ee-cfa2df24ed8a",
   "metadata": {},
   "outputs": [],
   "source": [
    "mt.group_rows_by(\n",
    "    contig=mt.locus.contig\n",
    ").aggregate(\n",
    "    n_alt_alleles = hl.agg.sum(mt.GT.n_alt_alleles())\n",
    ").show(n_rows=3, n_cols=10)"
   ]
  },
  {
   "cell_type": "markdown",
   "id": "703076dd-e9c0-483a-946a-403c88db6cdc",
   "metadata": {},
   "source": [
    "[`MatrixTable.group_cols_by`](https://hail.is/docs/0.2/hail.MatrixTable.html#hail.MatrixTable.group_cols_by) is the column analogue."
   ]
  },
  {
   "cell_type": "code",
   "execution_count": null,
   "id": "bf326c6f-4184-44cc-8800-66054aed94c8",
   "metadata": {},
   "outputs": [],
   "source": [
    "mt.group_cols_by(\n",
    "    is_shorter_than_5_8 = mt.height_ft < (5 + 8/12)\n",
    ").aggregate(\n",
    "    n_alt_alleles = hl.agg.sum(mt.GT.n_alt_alleles())\n",
    ").show(n_rows=10, n_cols=2)"
   ]
  },
  {
   "cell_type": "markdown",
   "id": "937aee04-2147-4651-8c3b-c07089522e29",
   "metadata": {},
   "source": [
    "### Exercise\n",
    "\n",
    "Calculate the mean depth for each contig."
   ]
  },
  {
   "cell_type": "code",
   "execution_count": null,
   "id": "3680460d-66d9-4bab-9376-a40b9474cf42",
   "metadata": {},
   "outputs": [],
   "source": []
  },
  {
   "cell_type": "markdown",
   "id": "b3049bac-f4cc-4f34-bf20-5559c6f022f6",
   "metadata": {
    "jp-MarkdownHeadingCollapsed": true
   },
   "source": [
    "# Writing and Reading Matrix Tables in Hail Native Format\n",
    "\n",
    "Hail has a partitioned, indexed, binary file format for quickly reading and writing matrix tables. [`MatrixTable.write`](https://hail.is/docs/0.2/hail.MatrixTable.html#hail.MatrixTable.write) is the action which writes a matrix table in Hail native format. We use the \".mt\" file extension by convention."
   ]
  },
  {
   "cell_type": "code",
   "execution_count": null,
   "id": "4a82bdc5-d6cf-45a4-b0af-dbc5c5317d30",
   "metadata": {},
   "outputs": [],
   "source": [
    "mt.write('output/sample_vcf.mt')"
   ]
  },
  {
   "cell_type": "markdown",
   "id": "59f9ca07-12ee-4b31-b5b7-0b7c755709a6",
   "metadata": {},
   "source": [
    "Unless you're using BGEN, a binary format for which Hail has excellent support, you should always read from a Hail native format file instead of importing.\n",
    "\n",
    "[`hl.read_matrix_table`](https://hail.is/docs/0.2/methods/impex.html#hail.methods.read_matrix_table) reads matrix tables stored in Hail native format."
   ]
  },
  {
   "cell_type": "code",
   "execution_count": null,
   "id": "4c04fa20-2a7c-4265-bfe5-8cfc430a669e",
   "metadata": {},
   "outputs": [],
   "source": [
    "mt = hl.read_matrix_table('output/sample_vcf.mt')"
   ]
  },
  {
   "cell_type": "markdown",
   "id": "9a4d071f-cb22-452d-a863-e244ac3e8f75",
   "metadata": {
    "jp-MarkdownHeadingCollapsed": true
   },
   "source": [
    "# Exporting a Matrix Table\n",
    "\n",
    "A matrix table supports [export to many formats](https://hail.is/docs/0.2/methods/impex.html#export) including VCF, BGEN, and PLINK."
   ]
  },
  {
   "cell_type": "markdown",
   "id": "54548522-6a4b-4f97-94a8-be4455e3abd4",
   "metadata": {},
   "source": [
    "Always export VCFs using block GZIP compression and \"header_per_shard\" or \"separate_header\". VCF does not support boolean FORMAT fields so we must recode `low_DP` to an integer using [`hl.if_else`](https://hail.is/docs/0.2/functions/core.html#hail.expr.functions.if_else)."
   ]
  },
  {
   "cell_type": "code",
   "execution_count": null,
   "id": "56957ff6-d856-4892-be90-4e7db3119895",
   "metadata": {},
   "outputs": [],
   "source": [
    "xx = mt\n",
    "xx = xx.annotate_entries(low_DP=hl.if_else(xx.low_DP, 1, 0))\n",
    "hl.export_vcf(xx, 'output/sample_vcf.vcf.bgz', parallel='header_per_shard')"
   ]
  },
  {
   "cell_type": "code",
   "execution_count": null,
   "id": "2667d9a4-964f-4a96-a119-94f082a99e72",
   "metadata": {},
   "outputs": [],
   "source": [
    "!ls output/sample_vcf.vcf.bgz/"
   ]
  },
  {
   "cell_type": "markdown",
   "id": "1303eeae-d86f-4fd0-a8fb-053b33e9b14f",
   "metadata": {},
   "source": [
    "⚠️⚠️⚠️ Confusing Behavior Alert ⚠️⚠️⚠️\n",
    "\n",
    "BGEN datasets are usually two files: a .bgen file and a .sample file. [`hl.export_bgen`](https://hail.is/docs/0.2/methods/impex.html#hail.methods.export_bgen) expects a file path _without_ an extension. A file named `....sample` contains the sample IDs. A file or folder named `....bgen` contains the genotype probabilities in BGEN format."
   ]
  },
  {
   "cell_type": "code",
   "execution_count": null,
   "id": "70b667f6-53c1-4fb3-a5a9-718f13353f66",
   "metadata": {},
   "outputs": [],
   "source": [
    "xx = mt\n",
    "xx = xx.annotate_entries(\n",
    "    GP=(hl.case()\n",
    "        .when(mt.GT.is_hom_ref(), [1, 0, 0])\n",
    "        .when(mt.GT.is_het(), [0, 1, 0])\n",
    "        .when(mt.GT.is_hom_var(), [0, 0, 1])\n",
    "        .or_error(hl.format('Unexpected GT: %s', mt.GT))\n",
    "       )\n",
    ")\n",
    "hl.export_bgen(xx, 'output/sample_vcf', gp=xx.GP, parallel='header_per_shard')"
   ]
  },
  {
   "cell_type": "code",
   "execution_count": null,
   "id": "2b7f1a40-7e2c-4894-8e9f-12e84fccbb6b",
   "metadata": {},
   "outputs": [],
   "source": [
    "!ls output/sample_vcf.bgen/"
   ]
  },
  {
   "cell_type": "code",
   "execution_count": null,
   "id": "6c5709c4-e60b-492e-a3f8-68926a37c7a3",
   "metadata": {},
   "outputs": [],
   "source": [
    "!head -n 4 output/sample_vcf.sample"
   ]
  },
  {
   "cell_type": "markdown",
   "id": "0d0aaea1-a50b-43a6-b96f-8a964ff0dbd4",
   "metadata": {
    "jp-MarkdownHeadingCollapsed": true
   },
   "source": [
    "# Collecting a Matrix Table\n",
    "\n",
    "Matrix tables do not support `collect` because there is no obvious Python analogue to the matrix table. A list of list or a NumPy matrix both seem reasonable. Matrix table does not support `to_pandas` because Pandas DataFrames have a large per-column overhead and most matrix tables have many columns, each with many entry fields.\n",
    "\n",
    "Instead, matrix tables provide methods for producing tables which can be converted to lists or Pandas DataFrames."
   ]
  },
  {
   "cell_type": "markdown",
   "id": "fdc3847f-b991-47b7-ba35-29f1e15e2407",
   "metadata": {},
   "source": [
    "[`MatrixTable.make_table`](https://hail.is/docs/0.2/hail.MatrixTable.html#hail.MatrixTable.make_table) creates a table with one field for every column for every entry field."
   ]
  },
  {
   "cell_type": "code",
   "execution_count": null,
   "id": "742ec60b-c960-4e44-b329-d8ef62fbb619",
   "metadata": {},
   "outputs": [],
   "source": [
    "xx = mt\n",
    "xx = xx.make_table()\n",
    "xx.show(n=3)"
   ]
  },
  {
   "cell_type": "code",
   "execution_count": null,
   "id": "815cb40a-17ca-4e05-a2a5-3429c2a2b6dd",
   "metadata": {},
   "outputs": [],
   "source": [
    "xx.to_pandas()"
   ]
  },
  {
   "cell_type": "markdown",
   "id": "c6b0f365-a7af-4a83-b0b2-91cc2e5b38d8",
   "metadata": {},
   "source": [
    "[`MatrixTable.localize_entries`](https://hail.is/docs/0.2/hail.MatrixTable.html#hail.MatrixTable.localize_entries) is a confusingly named method which converts the entries into array row fields:"
   ]
  },
  {
   "cell_type": "code",
   "execution_count": null,
   "id": "f39510b1-a439-4b0d-98e4-83a8b7aae70d",
   "metadata": {},
   "outputs": [],
   "source": [
    "xx = mt\n",
    "xx = xx.localize_entries('entries', 'columns')\n",
    "xx.show()"
   ]
  },
  {
   "cell_type": "code",
   "execution_count": null,
   "id": "15fc0358-3f46-4cc2-ae98-3d47b4fcb737",
   "metadata": {
    "scrolled": true
   },
   "outputs": [],
   "source": [
    "xx.collect()"
   ]
  },
  {
   "cell_type": "markdown",
   "id": "50ffac53-637b-4923-98e0-66f28ad74510",
   "metadata": {},
   "source": [
    "Hail incorrectly converts this table into a Pandas DataFrame (notice the entries are the field names, not the field values). This is a [known bug](https://github.com/hail-is/hail/issues/13512) which will be fixed in a future version of Hail."
   ]
  },
  {
   "cell_type": "code",
   "execution_count": null,
   "id": "ae9d772b-ad24-4abb-82d0-ce0686e134ec",
   "metadata": {},
   "outputs": [],
   "source": [
    "xx.to_pandas()"
   ]
  }
 ],
 "metadata": {
  "kernelspec": {
   "display_name": "Python 3 (ipykernel)",
   "language": "python",
   "name": "python3"
  },
  "language_info": {
   "codemirror_mode": {
    "name": "ipython",
    "version": 3
   },
   "file_extension": ".py",
   "mimetype": "text/x-python",
   "name": "python",
   "nbconvert_exporter": "python",
   "pygments_lexer": "ipython3",
   "version": "3.10.9"
  }
 },
 "nbformat": 4,
 "nbformat_minor": 5
}
