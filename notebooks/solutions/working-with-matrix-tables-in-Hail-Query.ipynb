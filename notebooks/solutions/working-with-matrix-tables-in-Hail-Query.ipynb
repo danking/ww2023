{
 "cells": [
  {
   "cell_type": "code",
   "execution_count": 1,
   "id": "5fe10f7e-ff9e-472d-870e-a771900bf347",
   "metadata": {},
   "outputs": [
    {
     "data": {
      "text/html": [
       "<!-- Improve the styling of the Notebook. -->\n",
       "<link href=\"https://fonts.googleapis.com/css2?family=Source+Code+Pro&family=Source+Sans+3&family=Source+Serif+4:opsz@8..60&display=swap\" rel=\"stylesheet\">\n",
       "<style>\n",
       "   div.jp-MarkdownOutput p { font-family: 'Source Serif 4', serif; width: 50em; }\n",
       "   div.jp-MarkdownOutput h1,h2,h3,h4,h5,h6 { font-family: 'Source Sans 3', sans-serif; }\n",
       "   div.cm-line { font-family: 'Source Code Pro', monospace; }\n",
       "</style>\n"
      ],
      "text/plain": [
       "<IPython.core.display.HTML object>"
      ]
     },
     "metadata": {},
     "output_type": "display_data"
    }
   ],
   "source": [
    "%%html\n",
    "<!-- Improve the styling of the Notebook. -->\n",
    "<link href=\"https://fonts.googleapis.com/css2?family=Source+Code+Pro&family=Source+Sans+3&family=Source+Serif+4:opsz@8..60&display=swap\" rel=\"stylesheet\">\n",
    "<style>\n",
    "   div.jp-MarkdownOutput p { font-family: 'Source Serif 4', serif; width: 50em; }\n",
    "   div.jp-MarkdownOutput h1,h2,h3,h4,h5,h6 { font-family: 'Source Sans 3', sans-serif; }\n",
    "   div.cm-line { font-family: 'Source Code Pro', monospace; }\n",
    "</style>"
   ]
  },
  {
   "cell_type": "code",
   "execution_count": 2,
   "id": "223a00b7-0dcf-41c1-b990-3342b0d6fbd8",
   "metadata": {},
   "outputs": [],
   "source": [
    "import hail as hl"
   ]
  },
  {
   "cell_type": "markdown",
   "id": "8812abaf-422d-449d-9e16-c06d67c7d47a",
   "metadata": {},
   "source": [
    "# Importing a VCF File as a Hail Matrix Table"
   ]
  },
  {
   "cell_type": "markdown",
   "id": "e7492932-3863-4f4f-b994-f5f4694d9233",
   "metadata": {},
   "source": [
    "Matrix tables are a unique feature of Hail that are missing in other distributed, partitioned dataframe systems. Matrix tables were inspired by the VCF format which represents one or more genomic sequences. Each row is a genomic locus, like \"chr1:123\". Each column is a sample identified by a string of characters and numbers, like \"NA12345\". \n",
    "\n",
    "[`hl.import_vcf`](https://hail.is/docs/0.2/methods/impex.html#hail.methods.import_vcf) imports a VCF file as a Hail Matrix Table."
   ]
  },
  {
   "cell_type": "code",
   "execution_count": 3,
   "id": "7501ef15-2f14-4387-a005-0b0152d2038d",
   "metadata": {},
   "outputs": [
    {
     "name": "stderr",
     "output_type": "stream",
     "text": [
      "Initializing Hail with default parameters...\n",
      "/Users/dking/miniconda3/lib/python3.10/site-packages/hailtop/aiocloud/aiogoogle/user_config.py:43: UserWarning: Reading spark-defaults.conf to determine GCS requester pays configuration. This is deprecated. Please use `hailctl config set gcs_requester_pays/project` and `hailctl config set gcs_requester_pays/buckets`.\n",
      "  warnings.warn(\n",
      "SLF4J: No SLF4J providers were found.\n",
      "SLF4J: Defaulting to no-operation (NOP) logger implementation\n",
      "SLF4J: See https://www.slf4j.org/codes.html#noProviders for further details.\n",
      "SLF4J: Class path contains SLF4J bindings targeting slf4j-api versions 1.7.x or earlier.\n",
      "SLF4J: Ignoring binding found at [jar:file:/Users/dking/miniconda3/lib/python3.10/site-packages/pyspark/jars/log4j-slf4j-impl-2.17.2.jar!/org/slf4j/impl/StaticLoggerBinder.class]\n",
      "SLF4J: See https://www.slf4j.org/codes.html#ignoredBindings for an explanation.\n",
      "Setting default log level to \"WARN\".\n",
      "To adjust logging level use sc.setLogLevel(newLevel). For SparkR, use setLogLevel(newLevel).\n",
      "Running on Apache Spark version 3.3.2\n",
      "SparkUI available at http://wm28c-761.broadinstitute.org:4041\n",
      "Welcome to\n",
      "     __  __     <>__\n",
      "    / /_/ /__  __/ /\n",
      "   / __  / _ `/ / /\n",
      "  /_/ /_/\\_,_/_/_/   version 0.2.120-f00f916faf78\n",
      "LOGGING: writing to /Users/dking/projects/ww2023/notebooks/hail-20230829-1636-0.2.120-f00f916faf78.log\n"
     ]
    }
   ],
   "source": [
    "mt = hl.import_vcf('data/sample.vcf', reference_genome='GRCh38', min_partitions=2)"
   ]
  },
  {
   "cell_type": "code",
   "execution_count": 4,
   "id": "1e63c034-71b1-4de9-916d-c47460aedf1a",
   "metadata": {},
   "outputs": [
    {
     "data": {
      "text/plain": [
       "<hail.matrixtable.MatrixTable at 0x174cd5060>"
      ]
     },
     "execution_count": 4,
     "metadata": {},
     "output_type": "execute_result"
    }
   ],
   "source": [
    "mt"
   ]
  },
  {
   "cell_type": "markdown",
   "id": "50944344-5c89-4a31-bc4f-14764fef8054",
   "metadata": {},
   "source": [
    "# Showing the Row, Column, and Entry Fields\n",
    "\n",
    "Matrix tables, just like Tables, are recipes. Their printed form provides no useful information. [`MatrixTable.show`](https://hail.is/docs/0.2/hail.MatrixTable.html#hail.MatrixTable.show), which is an action, displays the entry field values of the first few rows and columns of the matrix."
   ]
  },
  {
   "cell_type": "code",
   "execution_count": 5,
   "id": "1fde2fa6-edd7-43cb-855e-a9d87ea77e51",
   "metadata": {},
   "outputs": [
    {
     "name": "stderr",
     "output_type": "stream",
     "text": [
      "2023-08-29 16:37:09.833 Hail: INFO: scanning VCF for sortedness...\n",
      "2023-08-29 16:37:16.139 Hail: INFO: Coerced sorted VCF - no additional import work to do\n"
     ]
    },
    {
     "data": {
      "text/html": [
       "<table><thead><tr><td style=\"white-space: nowrap; max-width: 500px; overflow: hidden; text-overflow: ellipsis; \" colspan=\"1\"><div style=\"text-align: left;\"></div></td><td style=\"white-space: nowrap; max-width: 500px; overflow: hidden; text-overflow: ellipsis; \" colspan=\"1\"><div style=\"text-align: left;\"></div></td><td style=\"white-space: nowrap; max-width: 500px; overflow: hidden; text-overflow: ellipsis; \" colspan=\"4\"><div style=\"text-align: left;\"></div></td><td style=\"white-space: nowrap; max-width: 500px; overflow: hidden; text-overflow: ellipsis; \" colspan=\"4\"><div style=\"text-align: left;\"></div></td><td style=\"white-space: nowrap; max-width: 500px; overflow: hidden; text-overflow: ellipsis; \" colspan=\"4\"><div style=\"text-align: left;\"></div></td></tr><tr><td style=\"white-space: nowrap; max-width: 500px; overflow: hidden; text-overflow: ellipsis; \" colspan=\"1\"><div style=\"text-align: left;\"></div></td><td style=\"white-space: nowrap; max-width: 500px; overflow: hidden; text-overflow: ellipsis; \" colspan=\"1\"><div style=\"text-align: left;\"></div></td><td style=\"white-space: nowrap; max-width: 500px; overflow: hidden; text-overflow: ellipsis; \" colspan=\"4\"><div style=\"text-align: left;border-bottom: solid 2px #000; padding-bottom: 5px\">&#x27;Sample1&#x27;</div></td><td style=\"white-space: nowrap; max-width: 500px; overflow: hidden; text-overflow: ellipsis; \" colspan=\"4\"><div style=\"text-align: left;border-bottom: solid 2px #000; padding-bottom: 5px\">&#x27;Sample2&#x27;</div></td><td style=\"white-space: nowrap; max-width: 500px; overflow: hidden; text-overflow: ellipsis; \" colspan=\"4\"><div style=\"text-align: left;border-bottom: solid 2px #000; padding-bottom: 5px\">&#x27;Sample3&#x27;</div></td></tr><tr><td style=\"white-space: nowrap; max-width: 500px; overflow: hidden; text-overflow: ellipsis; \" colspan=\"1\"><div style=\"text-align: left;border-bottom: solid 2px #000; padding-bottom: 5px\">locus</div></td><td style=\"white-space: nowrap; max-width: 500px; overflow: hidden; text-overflow: ellipsis; \" colspan=\"1\"><div style=\"text-align: left;border-bottom: solid 2px #000; padding-bottom: 5px\">alleles</div></td><td style=\"white-space: nowrap; max-width: 500px; overflow: hidden; text-overflow: ellipsis; \" colspan=\"1\"><div style=\"text-align: left;border-bottom: solid 2px #000; padding-bottom: 5px\">GT</div></td><td style=\"white-space: nowrap; max-width: 500px; overflow: hidden; text-overflow: ellipsis; \" colspan=\"1\"><div style=\"text-align: left;border-bottom: solid 2px #000; padding-bottom: 5px\">DP</div></td><td style=\"white-space: nowrap; max-width: 500px; overflow: hidden; text-overflow: ellipsis; \" colspan=\"1\"><div style=\"text-align: left;border-bottom: solid 2px #000; padding-bottom: 5px\">PL</div></td><td style=\"white-space: nowrap; max-width: 500px; overflow: hidden; text-overflow: ellipsis; \" colspan=\"1\"><div style=\"text-align: left;border-bottom: solid 2px #000; padding-bottom: 5px\">AD</div></td><td style=\"white-space: nowrap; max-width: 500px; overflow: hidden; text-overflow: ellipsis; \" colspan=\"1\"><div style=\"text-align: left;border-bottom: solid 2px #000; padding-bottom: 5px\">GT</div></td><td style=\"white-space: nowrap; max-width: 500px; overflow: hidden; text-overflow: ellipsis; \" colspan=\"1\"><div style=\"text-align: left;border-bottom: solid 2px #000; padding-bottom: 5px\">DP</div></td><td style=\"white-space: nowrap; max-width: 500px; overflow: hidden; text-overflow: ellipsis; \" colspan=\"1\"><div style=\"text-align: left;border-bottom: solid 2px #000; padding-bottom: 5px\">PL</div></td><td style=\"white-space: nowrap; max-width: 500px; overflow: hidden; text-overflow: ellipsis; \" colspan=\"1\"><div style=\"text-align: left;border-bottom: solid 2px #000; padding-bottom: 5px\">AD</div></td><td style=\"white-space: nowrap; max-width: 500px; overflow: hidden; text-overflow: ellipsis; \" colspan=\"1\"><div style=\"text-align: left;border-bottom: solid 2px #000; padding-bottom: 5px\">GT</div></td><td style=\"white-space: nowrap; max-width: 500px; overflow: hidden; text-overflow: ellipsis; \" colspan=\"1\"><div style=\"text-align: left;border-bottom: solid 2px #000; padding-bottom: 5px\">DP</div></td><td style=\"white-space: nowrap; max-width: 500px; overflow: hidden; text-overflow: ellipsis; \" colspan=\"1\"><div style=\"text-align: left;border-bottom: solid 2px #000; padding-bottom: 5px\">PL</div></td><td style=\"white-space: nowrap; max-width: 500px; overflow: hidden; text-overflow: ellipsis; \" colspan=\"1\"><div style=\"text-align: left;border-bottom: solid 2px #000; padding-bottom: 5px\">AD</div></td></tr><tr><td style=\"white-space: nowrap; max-width: 500px; overflow: hidden; text-overflow: ellipsis; text-align: left;\">locus&lt;GRCh38&gt;</td><td style=\"white-space: nowrap; max-width: 500px; overflow: hidden; text-overflow: ellipsis; text-align: left;\">array&lt;str&gt;</td><td style=\"white-space: nowrap; max-width: 500px; overflow: hidden; text-overflow: ellipsis; text-align: left;\">call</td><td style=\"white-space: nowrap; max-width: 500px; overflow: hidden; text-overflow: ellipsis; text-align: left;\">int32</td><td style=\"white-space: nowrap; max-width: 500px; overflow: hidden; text-overflow: ellipsis; text-align: left;\">array&lt;int32&gt;</td><td style=\"white-space: nowrap; max-width: 500px; overflow: hidden; text-overflow: ellipsis; text-align: left;\">array&lt;int32&gt;</td><td style=\"white-space: nowrap; max-width: 500px; overflow: hidden; text-overflow: ellipsis; text-align: left;\">call</td><td style=\"white-space: nowrap; max-width: 500px; overflow: hidden; text-overflow: ellipsis; text-align: left;\">int32</td><td style=\"white-space: nowrap; max-width: 500px; overflow: hidden; text-overflow: ellipsis; text-align: left;\">array&lt;int32&gt;</td><td style=\"white-space: nowrap; max-width: 500px; overflow: hidden; text-overflow: ellipsis; text-align: left;\">array&lt;int32&gt;</td><td style=\"white-space: nowrap; max-width: 500px; overflow: hidden; text-overflow: ellipsis; text-align: left;\">call</td><td style=\"white-space: nowrap; max-width: 500px; overflow: hidden; text-overflow: ellipsis; text-align: left;\">int32</td><td style=\"white-space: nowrap; max-width: 500px; overflow: hidden; text-overflow: ellipsis; text-align: left;\">array&lt;int32&gt;</td><td style=\"white-space: nowrap; max-width: 500px; overflow: hidden; text-overflow: ellipsis; text-align: left;\">array&lt;int32&gt;</td></tr>\n",
       "</thead><tbody><tr><td style=\"white-space: nowrap; max-width: 500px; overflow: hidden; text-overflow: ellipsis; \">chr1:100</td><td style=\"white-space: nowrap; max-width: 500px; overflow: hidden; text-overflow: ellipsis; \">[&quot;A&quot;,&quot;G&quot;]</td><td style=\"white-space: nowrap; max-width: 500px; overflow: hidden; text-overflow: ellipsis; \">0/1</td><td style=\"white-space: nowrap; max-width: 500px; overflow: hidden; text-overflow: ellipsis; \">15</td><td style=\"white-space: nowrap; max-width: 500px; overflow: hidden; text-overflow: ellipsis; \">[50,10,80]</td><td style=\"white-space: nowrap; max-width: 500px; overflow: hidden; text-overflow: ellipsis; \">[10,5]</td><td style=\"white-space: nowrap; max-width: 500px; overflow: hidden; text-overflow: ellipsis; \">0/1</td><td style=\"white-space: nowrap; max-width: 500px; overflow: hidden; text-overflow: ellipsis; \">17</td><td style=\"white-space: nowrap; max-width: 500px; overflow: hidden; text-overflow: ellipsis; \">[60,40,0]</td><td style=\"white-space: nowrap; max-width: 500px; overflow: hidden; text-overflow: ellipsis; \">[5,12]</td><td style=\"white-space: nowrap; max-width: 500px; overflow: hidden; text-overflow: ellipsis; \">0/0</td><td style=\"white-space: nowrap; max-width: 500px; overflow: hidden; text-overflow: ellipsis; \">12</td><td style=\"white-space: nowrap; max-width: 500px; overflow: hidden; text-overflow: ellipsis; \">[100,0,120]</td><td style=\"white-space: nowrap; max-width: 500px; overflow: hidden; text-overflow: ellipsis; \">[12,0]</td></tr>\n",
       "<tr><td style=\"white-space: nowrap; max-width: 500px; overflow: hidden; text-overflow: ellipsis; \">chr1:200</td><td style=\"white-space: nowrap; max-width: 500px; overflow: hidden; text-overflow: ellipsis; \">[&quot;C&quot;,&quot;T&quot;]</td><td style=\"white-space: nowrap; max-width: 500px; overflow: hidden; text-overflow: ellipsis; \">0/0</td><td style=\"white-space: nowrap; max-width: 500px; overflow: hidden; text-overflow: ellipsis; \">10</td><td style=\"white-space: nowrap; max-width: 500px; overflow: hidden; text-overflow: ellipsis; \">[90,0,120]</td><td style=\"white-space: nowrap; max-width: 500px; overflow: hidden; text-overflow: ellipsis; \">[10,0]</td><td style=\"white-space: nowrap; max-width: 500px; overflow: hidden; text-overflow: ellipsis; \">1/1</td><td style=\"white-space: nowrap; max-width: 500px; overflow: hidden; text-overflow: ellipsis; \">15</td><td style=\"white-space: nowrap; max-width: 500px; overflow: hidden; text-overflow: ellipsis; \">[0,30,100]</td><td style=\"white-space: nowrap; max-width: 500px; overflow: hidden; text-overflow: ellipsis; \">[5,10]</td><td style=\"white-space: nowrap; max-width: 500px; overflow: hidden; text-overflow: ellipsis; \">0/1</td><td style=\"white-space: nowrap; max-width: 500px; overflow: hidden; text-overflow: ellipsis; \">14</td><td style=\"white-space: nowrap; max-width: 500px; overflow: hidden; text-overflow: ellipsis; \">[60,30,0]</td><td style=\"white-space: nowrap; max-width: 500px; overflow: hidden; text-overflow: ellipsis; \">[10,4]</td></tr>\n",
       "<tr><td style=\"white-space: nowrap; max-width: 500px; overflow: hidden; text-overflow: ellipsis; \">chr1:300</td><td style=\"white-space: nowrap; max-width: 500px; overflow: hidden; text-overflow: ellipsis; \">[&quot;G&quot;,&quot;A&quot;]</td><td style=\"white-space: nowrap; max-width: 500px; overflow: hidden; text-overflow: ellipsis; \">0/1</td><td style=\"white-space: nowrap; max-width: 500px; overflow: hidden; text-overflow: ellipsis; \">20</td><td style=\"white-space: nowrap; max-width: 500px; overflow: hidden; text-overflow: ellipsis; \">[40,20,80]</td><td style=\"white-space: nowrap; max-width: 500px; overflow: hidden; text-overflow: ellipsis; \">[15,10]</td><td style=\"white-space: nowrap; max-width: 500px; overflow: hidden; text-overflow: ellipsis; \">0/0</td><td style=\"white-space: nowrap; max-width: 500px; overflow: hidden; text-overflow: ellipsis; \">22</td><td style=\"white-space: nowrap; max-width: 500px; overflow: hidden; text-overflow: ellipsis; \">[100,0,120]</td><td style=\"white-space: nowrap; max-width: 500px; overflow: hidden; text-overflow: ellipsis; \">[22,0]</td><td style=\"white-space: nowrap; max-width: 500px; overflow: hidden; text-overflow: ellipsis; \">0/1</td><td style=\"white-space: nowrap; max-width: 500px; overflow: hidden; text-overflow: ellipsis; \">18</td><td style=\"white-space: nowrap; max-width: 500px; overflow: hidden; text-overflow: ellipsis; \">[70,10,0]</td><td style=\"white-space: nowrap; max-width: 500px; overflow: hidden; text-overflow: ellipsis; \">[9,9]</td></tr>\n",
       "</tbody></table><p style=\"background: #fdd; padding: 0.4em;\">showing top 3 rows</p>\n",
       "<p style=\"background: #fdd; padding: 0.4em;\">showing the first 3 of 10 columns</p>\n"
      ],
      "text/plain": [
       "+---------------+------------+--------------+--------------+--------------+\n",
       "| locus         | alleles    | 'Sample1'.GT | 'Sample1'.DP | 'Sample1'.PL |\n",
       "+---------------+------------+--------------+--------------+--------------+\n",
       "| locus<GRCh38> | array<str> | call         |        int32 | array<int32> |\n",
       "+---------------+------------+--------------+--------------+--------------+\n",
       "| chr1:100      | [\"A\",\"G\"]  | 0/1          |           15 | [50,10,80]   |\n",
       "| chr1:200      | [\"C\",\"T\"]  | 0/0          |           10 | [90,0,120]   |\n",
       "| chr1:300      | [\"G\",\"A\"]  | 0/1          |           20 | [40,20,80]   |\n",
       "+---------------+------------+--------------+--------------+--------------+\n",
       "\n",
       "+--------------+--------------+--------------+--------------+--------------+\n",
       "| 'Sample1'.AD | 'Sample2'.GT | 'Sample2'.DP | 'Sample2'.PL | 'Sample2'.AD |\n",
       "+--------------+--------------+--------------+--------------+--------------+\n",
       "| array<int32> | call         |        int32 | array<int32> | array<int32> |\n",
       "+--------------+--------------+--------------+--------------+--------------+\n",
       "| [10,5]       | 0/1          |           17 | [60,40,0]    | [5,12]       |\n",
       "| [10,0]       | 1/1          |           15 | [0,30,100]   | [5,10]       |\n",
       "| [15,10]      | 0/0          |           22 | [100,0,120]  | [22,0]       |\n",
       "+--------------+--------------+--------------+--------------+--------------+\n",
       "\n",
       "+--------------+--------------+--------------+--------------+\n",
       "| 'Sample3'.GT | 'Sample3'.DP | 'Sample3'.PL | 'Sample3'.AD |\n",
       "+--------------+--------------+--------------+--------------+\n",
       "| call         |        int32 | array<int32> | array<int32> |\n",
       "+--------------+--------------+--------------+--------------+\n",
       "| 0/0          |           12 | [100,0,120]  | [12,0]       |\n",
       "| 0/1          |           14 | [60,30,0]    | [10,4]       |\n",
       "| 0/1          |           18 | [70,10,0]    | [9,9]        |\n",
       "+--------------+--------------+--------------+--------------+\n",
       "showing top 3 rows\n",
       "showing the first 3 of 10 columns"
      ]
     },
     "metadata": {},
     "output_type": "display_data"
    }
   ],
   "source": [
    "mt.show(n_rows=3, n_cols=3)"
   ]
  },
  {
   "cell_type": "markdown",
   "id": "4821cbaa-81dd-4c97-bfd7-77240ae30d6f",
   "metadata": {},
   "source": [
    "This is the top-left corner of this matrix table.\n",
    "\n",
    "Each column represents a sample and is shown with its sample identifier: \"Sample1\", \"Sample2\", and \"Sample3\". Each row represents a variant and is shown with the variant's locus and alleles. Each entry represents a sequenced genotype. This sequenced genotype comprises four fields: the genotype call \"GT\", the total depth \"DP\", the phred-scaled genotype likelihoods \"PL\", and the per-allele depth \"AD\". See the [VCF Specification version 4.3](https://samtools.github.io/hts-specs/VCFv4.3.pdf) for details.\n",
    "\n",
    "Seven fields are visible: two row fields: locus and alleles; four entry fields: GT, DP, PL, and AD; one column field: s.\n",
    "\n",
    "[`MatrixTable.show`](https://hail.is/docs/0.2/hail.MatrixTable.html#hail.MatrixTable.show) only shows the entry fields, the row key fields, and the column key fields. The matrix table usually has other row and column fields that are not displayed by show. [`MatrixTable.describe`](https://hail.is/docs/0.2/hail.MatrixTable.html#hail.MatrixTable.describe) lists all the fields."
   ]
  },
  {
   "cell_type": "code",
   "execution_count": 6,
   "id": "8fc00b1e-abf9-42e9-b7fc-4207978b1758",
   "metadata": {},
   "outputs": [
    {
     "name": "stdout",
     "output_type": "stream",
     "text": [
      "----------------------------------------\n",
      "Global fields:\n",
      "    None\n",
      "----------------------------------------\n",
      "Column fields:\n",
      "    's': str\n",
      "----------------------------------------\n",
      "Row fields:\n",
      "    'locus': locus<GRCh38>\n",
      "    'alleles': array<str>\n",
      "    'rsid': str\n",
      "    'qual': float64\n",
      "    'filters': set<str>\n",
      "    'info': struct {\n",
      "        DP: int32\n",
      "    }\n",
      "----------------------------------------\n",
      "Entry fields:\n",
      "    'GT': call\n",
      "    'DP': int32\n",
      "    'PL': array<int32>\n",
      "    'AD': array<int32>\n",
      "----------------------------------------\n",
      "Column key: ['s']\n",
      "Row key: ['locus', 'alleles']\n",
      "----------------------------------------\n"
     ]
    }
   ],
   "source": [
    "mt.describe()"
   ]
  },
  {
   "cell_type": "markdown",
   "id": "58f5b1c0-4fad-4f64-bc92-ae34e25e14da",
   "metadata": {},
   "source": [
    "[`MatrixTable.rows`](https://hail.is/docs/0.2/hail.MatrixTable.html#hail.MatrixTable.rows) returns a Hail table with all the row fields. [`MatrixTable.cols`](https://hail.is/docs/0.2/hail.MatrixTable.html#hail.MatrixTable.cols) returns a Hail table with all the column fields. We can, of course, use [`Table.describe`]((https://hail.is/docs/0.2/hail.Table.html#hail.Table.describe) and [`Table.show`]((https://hail.is/docs/0.2/hail.Table.html#hail.Table.show) to interrogate either table."
   ]
  },
  {
   "cell_type": "markdown",
   "id": "04f172fb-a7de-452e-a7e2-0dcc854f81da",
   "metadata": {},
   "source": [
    "⚠️⚠️⚠️ Confusing Behavior Alert ⚠️⚠️⚠️\n",
    "\n",
    "Matrix table columns are ordered in the same way as they are in the imported VCF. In contrast, every Hail table, including the `mt.cols()` table, is _always_ ordered by its key field.\n",
    "\n",
    "This is indeed confusing; however, it is a necessary comprimise to avoid sorting, at great cost, the columns of a VCF."
   ]
  },
  {
   "cell_type": "code",
   "execution_count": 7,
   "id": "984bfc2a-6993-4f62-9543-3010d07f06ab",
   "metadata": {},
   "outputs": [
    {
     "name": "stderr",
     "output_type": "stream",
     "text": [
      "2023-08-29 16:38:02.425 Hail: WARN: cols(): Resulting column table is sorted by 'col_key'.\n",
      "    To preserve matrix table column order, first unkey columns with 'key_cols_by()'\n"
     ]
    },
    {
     "data": {
      "text/html": [
       "<table><thead><tr><td style=\"white-space: nowrap; max-width: 500px; overflow: hidden; text-overflow: ellipsis; \" colspan=\"1\"><div style=\"text-align: left;\"></div></td></tr><tr><td style=\"white-space: nowrap; max-width: 500px; overflow: hidden; text-overflow: ellipsis; \" colspan=\"1\"><div style=\"text-align: left;border-bottom: solid 2px #000; padding-bottom: 5px\">s</div></td></tr><tr><td style=\"white-space: nowrap; max-width: 500px; overflow: hidden; text-overflow: ellipsis; text-align: left;\">str</td></tr>\n",
       "</thead><tbody><tr><td style=\"white-space: nowrap; max-width: 500px; overflow: hidden; text-overflow: ellipsis; \">&quot;Sample1&quot;</td></tr>\n",
       "<tr><td style=\"white-space: nowrap; max-width: 500px; overflow: hidden; text-overflow: ellipsis; \">&quot;Sample10&quot;</td></tr>\n",
       "<tr><td style=\"white-space: nowrap; max-width: 500px; overflow: hidden; text-overflow: ellipsis; \">&quot;Sample2&quot;</td></tr>\n",
       "</tbody></table><p style=\"background: #fdd; padding: 0.4em;\">showing top 3 rows</p>\n"
      ],
      "text/plain": [
       "+------------+\n",
       "| s          |\n",
       "+------------+\n",
       "| str        |\n",
       "+------------+\n",
       "| \"Sample1\"  |\n",
       "| \"Sample10\" |\n",
       "| \"Sample2\"  |\n",
       "+------------+\n",
       "showing top 3 rows"
      ]
     },
     "metadata": {},
     "output_type": "display_data"
    }
   ],
   "source": [
    "mt.cols().show(n=3)"
   ]
  },
  {
   "cell_type": "markdown",
   "id": "2dd09fd1-5f21-441c-adf0-11c73b6ef388",
   "metadata": {},
   "source": [
    "We can preserve the ordering of the cols table by removing the setting the column key to the empty key (which requires no particular ordering)."
   ]
  },
  {
   "cell_type": "code",
   "execution_count": 8,
   "id": "22461623-6424-4bb5-a3b2-63934e1c7ef7",
   "metadata": {},
   "outputs": [
    {
     "data": {
      "text/html": [
       "<table><thead><tr><td style=\"white-space: nowrap; max-width: 500px; overflow: hidden; text-overflow: ellipsis; \" colspan=\"1\"><div style=\"text-align: left;\"></div></td></tr><tr><td style=\"white-space: nowrap; max-width: 500px; overflow: hidden; text-overflow: ellipsis; \" colspan=\"1\"><div style=\"text-align: left;border-bottom: solid 2px #000; padding-bottom: 5px\">s</div></td></tr><tr><td style=\"white-space: nowrap; max-width: 500px; overflow: hidden; text-overflow: ellipsis; text-align: left;\">str</td></tr>\n",
       "</thead><tbody><tr><td style=\"white-space: nowrap; max-width: 500px; overflow: hidden; text-overflow: ellipsis; \">&quot;Sample1&quot;</td></tr>\n",
       "<tr><td style=\"white-space: nowrap; max-width: 500px; overflow: hidden; text-overflow: ellipsis; \">&quot;Sample2&quot;</td></tr>\n",
       "<tr><td style=\"white-space: nowrap; max-width: 500px; overflow: hidden; text-overflow: ellipsis; \">&quot;Sample3&quot;</td></tr>\n",
       "</tbody></table><p style=\"background: #fdd; padding: 0.4em;\">showing top 3 rows</p>\n"
      ],
      "text/plain": [
       "+-----------+\n",
       "| s         |\n",
       "+-----------+\n",
       "| str       |\n",
       "+-----------+\n",
       "| \"Sample1\" |\n",
       "| \"Sample2\" |\n",
       "| \"Sample3\" |\n",
       "+-----------+\n",
       "showing top 3 rows"
      ]
     },
     "metadata": {},
     "output_type": "display_data"
    }
   ],
   "source": [
    "mt.key_cols_by().cols().show(n=3)"
   ]
  },
  {
   "cell_type": "code",
   "execution_count": 9,
   "id": "0a753401-d249-4aa7-9acc-4fc4a1008938",
   "metadata": {},
   "outputs": [
    {
     "data": {
      "text/html": [
       "<table><thead><tr><td style=\"white-space: nowrap; max-width: 500px; overflow: hidden; text-overflow: ellipsis; \" colspan=\"1\"><div style=\"text-align: left;\"></div></td><td style=\"white-space: nowrap; max-width: 500px; overflow: hidden; text-overflow: ellipsis; \" colspan=\"1\"><div style=\"text-align: left;\"></div></td><td style=\"white-space: nowrap; max-width: 500px; overflow: hidden; text-overflow: ellipsis; \" colspan=\"1\"><div style=\"text-align: left;\"></div></td><td style=\"white-space: nowrap; max-width: 500px; overflow: hidden; text-overflow: ellipsis; \" colspan=\"1\"><div style=\"text-align: left;\"></div></td><td style=\"white-space: nowrap; max-width: 500px; overflow: hidden; text-overflow: ellipsis; \" colspan=\"1\"><div style=\"text-align: left;\"></div></td><td style=\"white-space: nowrap; max-width: 500px; overflow: hidden; text-overflow: ellipsis; \" colspan=\"1\"><div style=\"text-align: left;\"></div></td></tr><tr><td style=\"white-space: nowrap; max-width: 500px; overflow: hidden; text-overflow: ellipsis; \" colspan=\"1\"><div style=\"text-align: left;\"></div></td><td style=\"white-space: nowrap; max-width: 500px; overflow: hidden; text-overflow: ellipsis; \" colspan=\"1\"><div style=\"text-align: left;\"></div></td><td style=\"white-space: nowrap; max-width: 500px; overflow: hidden; text-overflow: ellipsis; \" colspan=\"1\"><div style=\"text-align: left;\"></div></td><td style=\"white-space: nowrap; max-width: 500px; overflow: hidden; text-overflow: ellipsis; \" colspan=\"1\"><div style=\"text-align: left;\"></div></td><td style=\"white-space: nowrap; max-width: 500px; overflow: hidden; text-overflow: ellipsis; \" colspan=\"1\"><div style=\"text-align: left;\"></div></td><td style=\"white-space: nowrap; max-width: 500px; overflow: hidden; text-overflow: ellipsis; \" colspan=\"1\"><div style=\"text-align: left;border-bottom: solid 2px #000; padding-bottom: 5px\">info</div></td></tr><tr><td style=\"white-space: nowrap; max-width: 500px; overflow: hidden; text-overflow: ellipsis; \" colspan=\"1\"><div style=\"text-align: left;border-bottom: solid 2px #000; padding-bottom: 5px\">locus</div></td><td style=\"white-space: nowrap; max-width: 500px; overflow: hidden; text-overflow: ellipsis; \" colspan=\"1\"><div style=\"text-align: left;border-bottom: solid 2px #000; padding-bottom: 5px\">alleles</div></td><td style=\"white-space: nowrap; max-width: 500px; overflow: hidden; text-overflow: ellipsis; \" colspan=\"1\"><div style=\"text-align: left;border-bottom: solid 2px #000; padding-bottom: 5px\">rsid</div></td><td style=\"white-space: nowrap; max-width: 500px; overflow: hidden; text-overflow: ellipsis; \" colspan=\"1\"><div style=\"text-align: left;border-bottom: solid 2px #000; padding-bottom: 5px\">qual</div></td><td style=\"white-space: nowrap; max-width: 500px; overflow: hidden; text-overflow: ellipsis; \" colspan=\"1\"><div style=\"text-align: left;border-bottom: solid 2px #000; padding-bottom: 5px\">filters</div></td><td style=\"white-space: nowrap; max-width: 500px; overflow: hidden; text-overflow: ellipsis; \" colspan=\"1\"><div style=\"text-align: left;border-bottom: solid 2px #000; padding-bottom: 5px\">DP</div></td></tr><tr><td style=\"white-space: nowrap; max-width: 500px; overflow: hidden; text-overflow: ellipsis; text-align: left;\">locus&lt;GRCh38&gt;</td><td style=\"white-space: nowrap; max-width: 500px; overflow: hidden; text-overflow: ellipsis; text-align: left;\">array&lt;str&gt;</td><td style=\"white-space: nowrap; max-width: 500px; overflow: hidden; text-overflow: ellipsis; text-align: left;\">str</td><td style=\"white-space: nowrap; max-width: 500px; overflow: hidden; text-overflow: ellipsis; text-align: left;\">float64</td><td style=\"white-space: nowrap; max-width: 500px; overflow: hidden; text-overflow: ellipsis; text-align: left;\">set&lt;str&gt;</td><td style=\"white-space: nowrap; max-width: 500px; overflow: hidden; text-overflow: ellipsis; text-align: left;\">int32</td></tr>\n",
       "</thead><tbody><tr><td style=\"white-space: nowrap; max-width: 500px; overflow: hidden; text-overflow: ellipsis; \">chr1:100</td><td style=\"white-space: nowrap; max-width: 500px; overflow: hidden; text-overflow: ellipsis; \">[&quot;A&quot;,&quot;G&quot;]</td><td style=\"white-space: nowrap; max-width: 500px; overflow: hidden; text-overflow: ellipsis; \">&quot;rs1&quot;</td><td style=\"white-space: nowrap; max-width: 500px; overflow: hidden; text-overflow: ellipsis; \">5.00e+01</td><td style=\"white-space: nowrap; max-width: 500px; overflow: hidden; text-overflow: ellipsis; \">{}</td><td style=\"white-space: nowrap; max-width: 500px; overflow: hidden; text-overflow: ellipsis; \">20</td></tr>\n",
       "<tr><td style=\"white-space: nowrap; max-width: 500px; overflow: hidden; text-overflow: ellipsis; \">chr1:200</td><td style=\"white-space: nowrap; max-width: 500px; overflow: hidden; text-overflow: ellipsis; \">[&quot;C&quot;,&quot;T&quot;]</td><td style=\"white-space: nowrap; max-width: 500px; overflow: hidden; text-overflow: ellipsis; \">&quot;rs2&quot;</td><td style=\"white-space: nowrap; max-width: 500px; overflow: hidden; text-overflow: ellipsis; \">3.00e+01</td><td style=\"white-space: nowrap; max-width: 500px; overflow: hidden; text-overflow: ellipsis; \">{}</td><td style=\"white-space: nowrap; max-width: 500px; overflow: hidden; text-overflow: ellipsis; \">15</td></tr>\n",
       "<tr><td style=\"white-space: nowrap; max-width: 500px; overflow: hidden; text-overflow: ellipsis; \">chr1:300</td><td style=\"white-space: nowrap; max-width: 500px; overflow: hidden; text-overflow: ellipsis; \">[&quot;G&quot;,&quot;A&quot;]</td><td style=\"white-space: nowrap; max-width: 500px; overflow: hidden; text-overflow: ellipsis; \">&quot;rs3&quot;</td><td style=\"white-space: nowrap; max-width: 500px; overflow: hidden; text-overflow: ellipsis; \">4.00e+01</td><td style=\"white-space: nowrap; max-width: 500px; overflow: hidden; text-overflow: ellipsis; \">{}</td><td style=\"white-space: nowrap; max-width: 500px; overflow: hidden; text-overflow: ellipsis; \">25</td></tr>\n",
       "</tbody></table><p style=\"background: #fdd; padding: 0.4em;\">showing top 3 rows</p>\n"
      ],
      "text/plain": [
       "+---------------+------------+-------+----------+----------+---------+\n",
       "| locus         | alleles    | rsid  |     qual | filters  | info.DP |\n",
       "+---------------+------------+-------+----------+----------+---------+\n",
       "| locus<GRCh38> | array<str> | str   |  float64 | set<str> |   int32 |\n",
       "+---------------+------------+-------+----------+----------+---------+\n",
       "| chr1:100      | [\"A\",\"G\"]  | \"rs1\" | 5.00e+01 | {}       |      20 |\n",
       "| chr1:200      | [\"C\",\"T\"]  | \"rs2\" | 3.00e+01 | {}       |      15 |\n",
       "| chr1:300      | [\"G\",\"A\"]  | \"rs3\" | 4.00e+01 | {}       |      25 |\n",
       "+---------------+------------+-------+----------+----------+---------+\n",
       "showing top 3 rows"
      ]
     },
     "metadata": {},
     "output_type": "display_data"
    }
   ],
   "source": [
    "mt.rows().show(n=3)"
   ]
  },
  {
   "cell_type": "markdown",
   "id": "6df968a9-875d-4ae8-a646-7ccad20b8985",
   "metadata": {},
   "source": [
    "\"info.DP\" is our first example of a _nested_ field. The \"info\" field contains a \"DP\" field, the sum total depth across all sample. There are many ways to access a nested field:"
   ]
  },
  {
   "cell_type": "code",
   "execution_count": 10,
   "id": "6a9bbec1-4c1d-40c2-929b-63a05ba4d9d1",
   "metadata": {},
   "outputs": [
    {
     "data": {
      "text/plain": [
       "<Int32Expression of type int32>"
      ]
     },
     "execution_count": 10,
     "metadata": {},
     "output_type": "execute_result"
    }
   ],
   "source": [
    "mt.info.DP\n",
    "mt['info'].DP\n",
    "mt.info['DP']\n",
    "mt['info']['DP']"
   ]
  },
  {
   "cell_type": "markdown",
   "id": "9f654c1c-ab3a-498c-bb68-873bafa05cbf",
   "metadata": {},
   "source": [
    "### Exercise\n",
    "\n",
    "It's also possible to show individual fields. Try showing the info.DP field."
   ]
  },
  {
   "cell_type": "code",
   "execution_count": 12,
   "id": "2e0e58e8-9b5a-4b30-88ef-91a11401ed74",
   "metadata": {},
   "outputs": [
    {
     "data": {
      "text/html": [
       "<table><thead><tr><td style=\"white-space: nowrap; max-width: 500px; overflow: hidden; text-overflow: ellipsis; \" colspan=\"1\"><div style=\"text-align: left;\"></div></td><td style=\"white-space: nowrap; max-width: 500px; overflow: hidden; text-overflow: ellipsis; \" colspan=\"1\"><div style=\"text-align: left;\"></div></td><td style=\"white-space: nowrap; max-width: 500px; overflow: hidden; text-overflow: ellipsis; \" colspan=\"1\"><div style=\"text-align: left;\"></div></td></tr><tr><td style=\"white-space: nowrap; max-width: 500px; overflow: hidden; text-overflow: ellipsis; \" colspan=\"1\"><div style=\"text-align: left;border-bottom: solid 2px #000; padding-bottom: 5px\">locus</div></td><td style=\"white-space: nowrap; max-width: 500px; overflow: hidden; text-overflow: ellipsis; \" colspan=\"1\"><div style=\"text-align: left;border-bottom: solid 2px #000; padding-bottom: 5px\">alleles</div></td><td style=\"white-space: nowrap; max-width: 500px; overflow: hidden; text-overflow: ellipsis; \" colspan=\"1\"><div style=\"text-align: left;border-bottom: solid 2px #000; padding-bottom: 5px\">&lt;expr&gt;</div></td></tr><tr><td style=\"white-space: nowrap; max-width: 500px; overflow: hidden; text-overflow: ellipsis; text-align: left;\">locus&lt;GRCh38&gt;</td><td style=\"white-space: nowrap; max-width: 500px; overflow: hidden; text-overflow: ellipsis; text-align: left;\">array&lt;str&gt;</td><td style=\"white-space: nowrap; max-width: 500px; overflow: hidden; text-overflow: ellipsis; text-align: left;\">int32</td></tr>\n",
       "</thead><tbody><tr><td style=\"white-space: nowrap; max-width: 500px; overflow: hidden; text-overflow: ellipsis; \">chr1:100</td><td style=\"white-space: nowrap; max-width: 500px; overflow: hidden; text-overflow: ellipsis; \">[&quot;A&quot;,&quot;G&quot;]</td><td style=\"white-space: nowrap; max-width: 500px; overflow: hidden; text-overflow: ellipsis; \">20</td></tr>\n",
       "<tr><td style=\"white-space: nowrap; max-width: 500px; overflow: hidden; text-overflow: ellipsis; \">chr1:200</td><td style=\"white-space: nowrap; max-width: 500px; overflow: hidden; text-overflow: ellipsis; \">[&quot;C&quot;,&quot;T&quot;]</td><td style=\"white-space: nowrap; max-width: 500px; overflow: hidden; text-overflow: ellipsis; \">15</td></tr>\n",
       "<tr><td style=\"white-space: nowrap; max-width: 500px; overflow: hidden; text-overflow: ellipsis; \">chr1:300</td><td style=\"white-space: nowrap; max-width: 500px; overflow: hidden; text-overflow: ellipsis; \">[&quot;G&quot;,&quot;A&quot;]</td><td style=\"white-space: nowrap; max-width: 500px; overflow: hidden; text-overflow: ellipsis; \">25</td></tr>\n",
       "</tbody></table><p style=\"background: #fdd; padding: 0.4em;\">showing top 3 rows</p>\n"
      ],
      "text/plain": [
       "+---------------+------------+--------+\n",
       "| locus         | alleles    | <expr> |\n",
       "+---------------+------------+--------+\n",
       "| locus<GRCh38> | array<str> |  int32 |\n",
       "+---------------+------------+--------+\n",
       "| chr1:100      | [\"A\",\"G\"]  |     20 |\n",
       "| chr1:200      | [\"C\",\"T\"]  |     15 |\n",
       "| chr1:300      | [\"G\",\"A\"]  |     25 |\n",
       "+---------------+------------+--------+\n",
       "showing top 3 rows"
      ]
     },
     "metadata": {},
     "output_type": "display_data"
    }
   ],
   "source": [
    "mt.info.DP.show(n=3)"
   ]
  },
  {
   "cell_type": "markdown",
   "id": "c43e7d99-7509-441c-b8b1-ae768f39e27e",
   "metadata": {},
   "source": [
    "# Adding Row, Column, and Entry Fields with Annotate"
   ]
  },
  {
   "cell_type": "markdown",
   "id": "e44220fe-0b72-4a9f-a70b-fb93fee3b422",
   "metadata": {},
   "source": [
    "## Row Fields\n",
    "\n",
    "These \"sum total depths\" look fishy: they're too small. Let's compute the actual sum with [`hl.agg.sum`](https://hail.is/docs/0.2/aggregators.html#hail.expr.aggregators.sum) and add it as a new row field with [`MatrixTable.annotate_rows`](https://hail.is/docs/0.2/hail.MatrixTable.html#hail.MatrixTable.annotate_rows)."
   ]
  },
  {
   "cell_type": "code",
   "execution_count": 13,
   "id": "36c1e314-7079-427b-8606-c401cb32e183",
   "metadata": {},
   "outputs": [
    {
     "data": {
      "text/html": [
       "<table><thead><tr><td style=\"white-space: nowrap; max-width: 500px; overflow: hidden; text-overflow: ellipsis; \" colspan=\"1\"><div style=\"text-align: left;\"></div></td><td style=\"white-space: nowrap; max-width: 500px; overflow: hidden; text-overflow: ellipsis; \" colspan=\"1\"><div style=\"text-align: left;\"></div></td><td style=\"white-space: nowrap; max-width: 500px; overflow: hidden; text-overflow: ellipsis; \" colspan=\"1\"><div style=\"text-align: left;\"></div></td><td style=\"white-space: nowrap; max-width: 500px; overflow: hidden; text-overflow: ellipsis; \" colspan=\"1\"><div style=\"text-align: left;\"></div></td><td style=\"white-space: nowrap; max-width: 500px; overflow: hidden; text-overflow: ellipsis; \" colspan=\"1\"><div style=\"text-align: left;\"></div></td><td style=\"white-space: nowrap; max-width: 500px; overflow: hidden; text-overflow: ellipsis; \" colspan=\"1\"><div style=\"text-align: left;\"></div></td><td style=\"white-space: nowrap; max-width: 500px; overflow: hidden; text-overflow: ellipsis; \" colspan=\"1\"><div style=\"text-align: left;\"></div></td></tr><tr><td style=\"white-space: nowrap; max-width: 500px; overflow: hidden; text-overflow: ellipsis; \" colspan=\"1\"><div style=\"text-align: left;\"></div></td><td style=\"white-space: nowrap; max-width: 500px; overflow: hidden; text-overflow: ellipsis; \" colspan=\"1\"><div style=\"text-align: left;\"></div></td><td style=\"white-space: nowrap; max-width: 500px; overflow: hidden; text-overflow: ellipsis; \" colspan=\"1\"><div style=\"text-align: left;\"></div></td><td style=\"white-space: nowrap; max-width: 500px; overflow: hidden; text-overflow: ellipsis; \" colspan=\"1\"><div style=\"text-align: left;\"></div></td><td style=\"white-space: nowrap; max-width: 500px; overflow: hidden; text-overflow: ellipsis; \" colspan=\"1\"><div style=\"text-align: left;\"></div></td><td style=\"white-space: nowrap; max-width: 500px; overflow: hidden; text-overflow: ellipsis; \" colspan=\"1\"><div style=\"text-align: left;border-bottom: solid 2px #000; padding-bottom: 5px\">info</div></td><td style=\"white-space: nowrap; max-width: 500px; overflow: hidden; text-overflow: ellipsis; \" colspan=\"1\"><div style=\"text-align: left;\"></div></td></tr><tr><td style=\"white-space: nowrap; max-width: 500px; overflow: hidden; text-overflow: ellipsis; \" colspan=\"1\"><div style=\"text-align: left;border-bottom: solid 2px #000; padding-bottom: 5px\">locus</div></td><td style=\"white-space: nowrap; max-width: 500px; overflow: hidden; text-overflow: ellipsis; \" colspan=\"1\"><div style=\"text-align: left;border-bottom: solid 2px #000; padding-bottom: 5px\">alleles</div></td><td style=\"white-space: nowrap; max-width: 500px; overflow: hidden; text-overflow: ellipsis; \" colspan=\"1\"><div style=\"text-align: left;border-bottom: solid 2px #000; padding-bottom: 5px\">rsid</div></td><td style=\"white-space: nowrap; max-width: 500px; overflow: hidden; text-overflow: ellipsis; \" colspan=\"1\"><div style=\"text-align: left;border-bottom: solid 2px #000; padding-bottom: 5px\">qual</div></td><td style=\"white-space: nowrap; max-width: 500px; overflow: hidden; text-overflow: ellipsis; \" colspan=\"1\"><div style=\"text-align: left;border-bottom: solid 2px #000; padding-bottom: 5px\">filters</div></td><td style=\"white-space: nowrap; max-width: 500px; overflow: hidden; text-overflow: ellipsis; \" colspan=\"1\"><div style=\"text-align: left;border-bottom: solid 2px #000; padding-bottom: 5px\">DP</div></td><td style=\"white-space: nowrap; max-width: 500px; overflow: hidden; text-overflow: ellipsis; \" colspan=\"1\"><div style=\"text-align: left;border-bottom: solid 2px #000; padding-bottom: 5px\">the_actual_sum_total_DP</div></td></tr><tr><td style=\"white-space: nowrap; max-width: 500px; overflow: hidden; text-overflow: ellipsis; text-align: left;\">locus&lt;GRCh38&gt;</td><td style=\"white-space: nowrap; max-width: 500px; overflow: hidden; text-overflow: ellipsis; text-align: left;\">array&lt;str&gt;</td><td style=\"white-space: nowrap; max-width: 500px; overflow: hidden; text-overflow: ellipsis; text-align: left;\">str</td><td style=\"white-space: nowrap; max-width: 500px; overflow: hidden; text-overflow: ellipsis; text-align: left;\">float64</td><td style=\"white-space: nowrap; max-width: 500px; overflow: hidden; text-overflow: ellipsis; text-align: left;\">set&lt;str&gt;</td><td style=\"white-space: nowrap; max-width: 500px; overflow: hidden; text-overflow: ellipsis; text-align: left;\">int32</td><td style=\"white-space: nowrap; max-width: 500px; overflow: hidden; text-overflow: ellipsis; text-align: left;\">int64</td></tr>\n",
       "</thead><tbody><tr><td style=\"white-space: nowrap; max-width: 500px; overflow: hidden; text-overflow: ellipsis; \">chr1:100</td><td style=\"white-space: nowrap; max-width: 500px; overflow: hidden; text-overflow: ellipsis; \">[&quot;A&quot;,&quot;G&quot;]</td><td style=\"white-space: nowrap; max-width: 500px; overflow: hidden; text-overflow: ellipsis; \">&quot;rs1&quot;</td><td style=\"white-space: nowrap; max-width: 500px; overflow: hidden; text-overflow: ellipsis; \">5.00e+01</td><td style=\"white-space: nowrap; max-width: 500px; overflow: hidden; text-overflow: ellipsis; \">{}</td><td style=\"white-space: nowrap; max-width: 500px; overflow: hidden; text-overflow: ellipsis; \">20</td><td style=\"white-space: nowrap; max-width: 500px; overflow: hidden; text-overflow: ellipsis; \">166</td></tr>\n",
       "<tr><td style=\"white-space: nowrap; max-width: 500px; overflow: hidden; text-overflow: ellipsis; \">chr1:200</td><td style=\"white-space: nowrap; max-width: 500px; overflow: hidden; text-overflow: ellipsis; \">[&quot;C&quot;,&quot;T&quot;]</td><td style=\"white-space: nowrap; max-width: 500px; overflow: hidden; text-overflow: ellipsis; \">&quot;rs2&quot;</td><td style=\"white-space: nowrap; max-width: 500px; overflow: hidden; text-overflow: ellipsis; \">3.00e+01</td><td style=\"white-space: nowrap; max-width: 500px; overflow: hidden; text-overflow: ellipsis; \">{}</td><td style=\"white-space: nowrap; max-width: 500px; overflow: hidden; text-overflow: ellipsis; \">15</td><td style=\"white-space: nowrap; max-width: 500px; overflow: hidden; text-overflow: ellipsis; \">133</td></tr>\n",
       "<tr><td style=\"white-space: nowrap; max-width: 500px; overflow: hidden; text-overflow: ellipsis; \">chr1:300</td><td style=\"white-space: nowrap; max-width: 500px; overflow: hidden; text-overflow: ellipsis; \">[&quot;G&quot;,&quot;A&quot;]</td><td style=\"white-space: nowrap; max-width: 500px; overflow: hidden; text-overflow: ellipsis; \">&quot;rs3&quot;</td><td style=\"white-space: nowrap; max-width: 500px; overflow: hidden; text-overflow: ellipsis; \">4.00e+01</td><td style=\"white-space: nowrap; max-width: 500px; overflow: hidden; text-overflow: ellipsis; \">{}</td><td style=\"white-space: nowrap; max-width: 500px; overflow: hidden; text-overflow: ellipsis; \">25</td><td style=\"white-space: nowrap; max-width: 500px; overflow: hidden; text-overflow: ellipsis; \">210</td></tr>\n",
       "</tbody></table><p style=\"background: #fdd; padding: 0.4em;\">showing top 3 rows</p>\n"
      ],
      "text/plain": [
       "+---------------+------------+-------+----------+----------+---------+\n",
       "| locus         | alleles    | rsid  |     qual | filters  | info.DP |\n",
       "+---------------+------------+-------+----------+----------+---------+\n",
       "| locus<GRCh38> | array<str> | str   |  float64 | set<str> |   int32 |\n",
       "+---------------+------------+-------+----------+----------+---------+\n",
       "| chr1:100      | [\"A\",\"G\"]  | \"rs1\" | 5.00e+01 | {}       |      20 |\n",
       "| chr1:200      | [\"C\",\"T\"]  | \"rs2\" | 3.00e+01 | {}       |      15 |\n",
       "| chr1:300      | [\"G\",\"A\"]  | \"rs3\" | 4.00e+01 | {}       |      25 |\n",
       "+---------------+------------+-------+----------+----------+---------+\n",
       "\n",
       "+-------------------------+\n",
       "| the_actual_sum_total_DP |\n",
       "+-------------------------+\n",
       "|                   int64 |\n",
       "+-------------------------+\n",
       "|                     166 |\n",
       "|                     133 |\n",
       "|                     210 |\n",
       "+-------------------------+\n",
       "showing top 3 rows"
      ]
     },
     "metadata": {},
     "output_type": "display_data"
    }
   ],
   "source": [
    "mt = mt.annotate_rows(\n",
    "    the_actual_sum_total_DP = hl.agg.sum(mt.DP)\n",
    ")\n",
    "mt.rows().show(n=3)"
   ]
  },
  {
   "cell_type": "markdown",
   "id": "93d3c2b4-15de-44b3-98f8-fa83e100a2b9",
   "metadata": {},
   "source": [
    "Not even close to correct! Let's replace the \"info.DP\" value with the actual sum. Notice that we use [`StructExpression.annotate`](https://hail.is/docs/0.2/hail.expr.StructExpression.html#hail.expr.StructExpression.annotate) to add a new field to the \"info\" field."
   ]
  },
  {
   "cell_type": "code",
   "execution_count": 14,
   "id": "c284dd5d-1bd4-4c39-adaa-ccb59aad7364",
   "metadata": {},
   "outputs": [
    {
     "data": {
      "text/html": [
       "<table><thead><tr><td style=\"white-space: nowrap; max-width: 500px; overflow: hidden; text-overflow: ellipsis; \" colspan=\"1\"><div style=\"text-align: left;\"></div></td><td style=\"white-space: nowrap; max-width: 500px; overflow: hidden; text-overflow: ellipsis; \" colspan=\"1\"><div style=\"text-align: left;\"></div></td><td style=\"white-space: nowrap; max-width: 500px; overflow: hidden; text-overflow: ellipsis; \" colspan=\"1\"><div style=\"text-align: left;\"></div></td><td style=\"white-space: nowrap; max-width: 500px; overflow: hidden; text-overflow: ellipsis; \" colspan=\"1\"><div style=\"text-align: left;\"></div></td><td style=\"white-space: nowrap; max-width: 500px; overflow: hidden; text-overflow: ellipsis; \" colspan=\"1\"><div style=\"text-align: left;\"></div></td><td style=\"white-space: nowrap; max-width: 500px; overflow: hidden; text-overflow: ellipsis; \" colspan=\"1\"><div style=\"text-align: left;\"></div></td><td style=\"white-space: nowrap; max-width: 500px; overflow: hidden; text-overflow: ellipsis; \" colspan=\"1\"><div style=\"text-align: left;\"></div></td></tr><tr><td style=\"white-space: nowrap; max-width: 500px; overflow: hidden; text-overflow: ellipsis; \" colspan=\"1\"><div style=\"text-align: left;\"></div></td><td style=\"white-space: nowrap; max-width: 500px; overflow: hidden; text-overflow: ellipsis; \" colspan=\"1\"><div style=\"text-align: left;\"></div></td><td style=\"white-space: nowrap; max-width: 500px; overflow: hidden; text-overflow: ellipsis; \" colspan=\"1\"><div style=\"text-align: left;\"></div></td><td style=\"white-space: nowrap; max-width: 500px; overflow: hidden; text-overflow: ellipsis; \" colspan=\"1\"><div style=\"text-align: left;\"></div></td><td style=\"white-space: nowrap; max-width: 500px; overflow: hidden; text-overflow: ellipsis; \" colspan=\"1\"><div style=\"text-align: left;\"></div></td><td style=\"white-space: nowrap; max-width: 500px; overflow: hidden; text-overflow: ellipsis; \" colspan=\"1\"><div style=\"text-align: left;border-bottom: solid 2px #000; padding-bottom: 5px\">info</div></td><td style=\"white-space: nowrap; max-width: 500px; overflow: hidden; text-overflow: ellipsis; \" colspan=\"1\"><div style=\"text-align: left;\"></div></td></tr><tr><td style=\"white-space: nowrap; max-width: 500px; overflow: hidden; text-overflow: ellipsis; \" colspan=\"1\"><div style=\"text-align: left;border-bottom: solid 2px #000; padding-bottom: 5px\">locus</div></td><td style=\"white-space: nowrap; max-width: 500px; overflow: hidden; text-overflow: ellipsis; \" colspan=\"1\"><div style=\"text-align: left;border-bottom: solid 2px #000; padding-bottom: 5px\">alleles</div></td><td style=\"white-space: nowrap; max-width: 500px; overflow: hidden; text-overflow: ellipsis; \" colspan=\"1\"><div style=\"text-align: left;border-bottom: solid 2px #000; padding-bottom: 5px\">rsid</div></td><td style=\"white-space: nowrap; max-width: 500px; overflow: hidden; text-overflow: ellipsis; \" colspan=\"1\"><div style=\"text-align: left;border-bottom: solid 2px #000; padding-bottom: 5px\">qual</div></td><td style=\"white-space: nowrap; max-width: 500px; overflow: hidden; text-overflow: ellipsis; \" colspan=\"1\"><div style=\"text-align: left;border-bottom: solid 2px #000; padding-bottom: 5px\">filters</div></td><td style=\"white-space: nowrap; max-width: 500px; overflow: hidden; text-overflow: ellipsis; \" colspan=\"1\"><div style=\"text-align: left;border-bottom: solid 2px #000; padding-bottom: 5px\">DP</div></td><td style=\"white-space: nowrap; max-width: 500px; overflow: hidden; text-overflow: ellipsis; \" colspan=\"1\"><div style=\"text-align: left;border-bottom: solid 2px #000; padding-bottom: 5px\">the_actual_sum_total_DP</div></td></tr><tr><td style=\"white-space: nowrap; max-width: 500px; overflow: hidden; text-overflow: ellipsis; text-align: left;\">locus&lt;GRCh38&gt;</td><td style=\"white-space: nowrap; max-width: 500px; overflow: hidden; text-overflow: ellipsis; text-align: left;\">array&lt;str&gt;</td><td style=\"white-space: nowrap; max-width: 500px; overflow: hidden; text-overflow: ellipsis; text-align: left;\">str</td><td style=\"white-space: nowrap; max-width: 500px; overflow: hidden; text-overflow: ellipsis; text-align: left;\">float64</td><td style=\"white-space: nowrap; max-width: 500px; overflow: hidden; text-overflow: ellipsis; text-align: left;\">set&lt;str&gt;</td><td style=\"white-space: nowrap; max-width: 500px; overflow: hidden; text-overflow: ellipsis; text-align: left;\">int64</td><td style=\"white-space: nowrap; max-width: 500px; overflow: hidden; text-overflow: ellipsis; text-align: left;\">int64</td></tr>\n",
       "</thead><tbody><tr><td style=\"white-space: nowrap; max-width: 500px; overflow: hidden; text-overflow: ellipsis; \">chr1:100</td><td style=\"white-space: nowrap; max-width: 500px; overflow: hidden; text-overflow: ellipsis; \">[&quot;A&quot;,&quot;G&quot;]</td><td style=\"white-space: nowrap; max-width: 500px; overflow: hidden; text-overflow: ellipsis; \">&quot;rs1&quot;</td><td style=\"white-space: nowrap; max-width: 500px; overflow: hidden; text-overflow: ellipsis; \">5.00e+01</td><td style=\"white-space: nowrap; max-width: 500px; overflow: hidden; text-overflow: ellipsis; \">{}</td><td style=\"white-space: nowrap; max-width: 500px; overflow: hidden; text-overflow: ellipsis; \">166</td><td style=\"white-space: nowrap; max-width: 500px; overflow: hidden; text-overflow: ellipsis; \">166</td></tr>\n",
       "<tr><td style=\"white-space: nowrap; max-width: 500px; overflow: hidden; text-overflow: ellipsis; \">chr1:200</td><td style=\"white-space: nowrap; max-width: 500px; overflow: hidden; text-overflow: ellipsis; \">[&quot;C&quot;,&quot;T&quot;]</td><td style=\"white-space: nowrap; max-width: 500px; overflow: hidden; text-overflow: ellipsis; \">&quot;rs2&quot;</td><td style=\"white-space: nowrap; max-width: 500px; overflow: hidden; text-overflow: ellipsis; \">3.00e+01</td><td style=\"white-space: nowrap; max-width: 500px; overflow: hidden; text-overflow: ellipsis; \">{}</td><td style=\"white-space: nowrap; max-width: 500px; overflow: hidden; text-overflow: ellipsis; \">133</td><td style=\"white-space: nowrap; max-width: 500px; overflow: hidden; text-overflow: ellipsis; \">133</td></tr>\n",
       "<tr><td style=\"white-space: nowrap; max-width: 500px; overflow: hidden; text-overflow: ellipsis; \">chr1:300</td><td style=\"white-space: nowrap; max-width: 500px; overflow: hidden; text-overflow: ellipsis; \">[&quot;G&quot;,&quot;A&quot;]</td><td style=\"white-space: nowrap; max-width: 500px; overflow: hidden; text-overflow: ellipsis; \">&quot;rs3&quot;</td><td style=\"white-space: nowrap; max-width: 500px; overflow: hidden; text-overflow: ellipsis; \">4.00e+01</td><td style=\"white-space: nowrap; max-width: 500px; overflow: hidden; text-overflow: ellipsis; \">{}</td><td style=\"white-space: nowrap; max-width: 500px; overflow: hidden; text-overflow: ellipsis; \">210</td><td style=\"white-space: nowrap; max-width: 500px; overflow: hidden; text-overflow: ellipsis; \">210</td></tr>\n",
       "</tbody></table><p style=\"background: #fdd; padding: 0.4em;\">showing top 3 rows</p>\n"
      ],
      "text/plain": [
       "+---------------+------------+-------+----------+----------+---------+\n",
       "| locus         | alleles    | rsid  |     qual | filters  | info.DP |\n",
       "+---------------+------------+-------+----------+----------+---------+\n",
       "| locus<GRCh38> | array<str> | str   |  float64 | set<str> |   int64 |\n",
       "+---------------+------------+-------+----------+----------+---------+\n",
       "| chr1:100      | [\"A\",\"G\"]  | \"rs1\" | 5.00e+01 | {}       |     166 |\n",
       "| chr1:200      | [\"C\",\"T\"]  | \"rs2\" | 3.00e+01 | {}       |     133 |\n",
       "| chr1:300      | [\"G\",\"A\"]  | \"rs3\" | 4.00e+01 | {}       |     210 |\n",
       "+---------------+------------+-------+----------+----------+---------+\n",
       "\n",
       "+-------------------------+\n",
       "| the_actual_sum_total_DP |\n",
       "+-------------------------+\n",
       "|                   int64 |\n",
       "+-------------------------+\n",
       "|                     166 |\n",
       "|                     133 |\n",
       "|                     210 |\n",
       "+-------------------------+\n",
       "showing top 3 rows"
      ]
     },
     "metadata": {},
     "output_type": "display_data"
    }
   ],
   "source": [
    "mt = mt.annotate_rows(\n",
    "    info = mt.info.annotate(\n",
    "        DP = hl.agg.sum(mt.DP)\n",
    "    )\n",
    ")\n",
    "mt.rows().show(n=3)"
   ]
  },
  {
   "cell_type": "markdown",
   "id": "bed34354-e148-40aa-ae1e-a1b118506806",
   "metadata": {},
   "source": [
    "## Column Fields\n",
    "\n",
    "Hail has an extensive [library of random functions](https://hail.is/docs/0.2/functions/random.html) as well as a [library of statistical distributions and tests](https://hail.is/docs/0.2/functions/stats.html). Let's use [`MatrixTable.annotate_cols`](https://hail.is/docs/0.2/hail.MatrixTable.html#hail.MatrixTable.annotate_cols) to randomly generate a height field for each sample."
   ]
  },
  {
   "cell_type": "code",
   "execution_count": 15,
   "id": "9d99d4b9-b2d2-4a09-9008-f5fd9bd15f86",
   "metadata": {},
   "outputs": [
    {
     "data": {
      "text/html": [
       "<table><thead><tr><td style=\"white-space: nowrap; max-width: 500px; overflow: hidden; text-overflow: ellipsis; \" colspan=\"1\"><div style=\"text-align: left;\"></div></td><td style=\"white-space: nowrap; max-width: 500px; overflow: hidden; text-overflow: ellipsis; \" colspan=\"1\"><div style=\"text-align: left;\"></div></td></tr><tr><td style=\"white-space: nowrap; max-width: 500px; overflow: hidden; text-overflow: ellipsis; \" colspan=\"1\"><div style=\"text-align: left;border-bottom: solid 2px #000; padding-bottom: 5px\">s</div></td><td style=\"white-space: nowrap; max-width: 500px; overflow: hidden; text-overflow: ellipsis; \" colspan=\"1\"><div style=\"text-align: left;border-bottom: solid 2px #000; padding-bottom: 5px\">height_ft</div></td></tr><tr><td style=\"white-space: nowrap; max-width: 500px; overflow: hidden; text-overflow: ellipsis; text-align: left;\">str</td><td style=\"white-space: nowrap; max-width: 500px; overflow: hidden; text-overflow: ellipsis; text-align: left;\">float64</td></tr>\n",
       "</thead><tbody><tr><td style=\"white-space: nowrap; max-width: 500px; overflow: hidden; text-overflow: ellipsis; \">&quot;Sample1&quot;</td><td style=\"white-space: nowrap; max-width: 500px; overflow: hidden; text-overflow: ellipsis; \">5.43e+00</td></tr>\n",
       "<tr><td style=\"white-space: nowrap; max-width: 500px; overflow: hidden; text-overflow: ellipsis; \">&quot;Sample2&quot;</td><td style=\"white-space: nowrap; max-width: 500px; overflow: hidden; text-overflow: ellipsis; \">5.88e+00</td></tr>\n",
       "<tr><td style=\"white-space: nowrap; max-width: 500px; overflow: hidden; text-overflow: ellipsis; \">&quot;Sample3&quot;</td><td style=\"white-space: nowrap; max-width: 500px; overflow: hidden; text-overflow: ellipsis; \">5.92e+00</td></tr>\n",
       "</tbody></table><p style=\"background: #fdd; padding: 0.4em;\">showing top 3 rows</p>\n"
      ],
      "text/plain": [
       "+-----------+-----------+\n",
       "| s         | height_ft |\n",
       "+-----------+-----------+\n",
       "| str       |   float64 |\n",
       "+-----------+-----------+\n",
       "| \"Sample1\" |  5.43e+00 |\n",
       "| \"Sample2\" |  5.88e+00 |\n",
       "| \"Sample3\" |  5.92e+00 |\n",
       "+-----------+-----------+\n",
       "showing top 3 rows"
      ]
     },
     "metadata": {},
     "output_type": "display_data"
    }
   ],
   "source": [
    "mt = mt.annotate_cols(\n",
    "    height_ft = hl.rand_norm(5 + 8/12, 2/12)\n",
    ")\n",
    "mt.key_cols_by().cols().show(n=3)"
   ]
  },
  {
   "cell_type": "markdown",
   "id": "5a5455d9-6da2-4fa7-9459-e2e29e01877c",
   "metadata": {},
   "source": [
    "## Entry Fields\n",
    "\n",
    "[`MatrixTable.annotate_entries`](https://hail.is/docs/0.2/hail.MatrixTable.html#hail.MatrixTable.annotate_entries) adds new entry fields. We can show just one field (with its relevant keys) using [`Expression.show`](https://hail.is/docs/0.2/hail.expr.Expression.html#hail.expr.Expression.show)."
   ]
  },
  {
   "cell_type": "code",
   "execution_count": 16,
   "id": "f40e4385-c726-49af-ade6-f43cfa61cf01",
   "metadata": {},
   "outputs": [
    {
     "data": {
      "text/html": [
       "<table><thead><tr><td style=\"white-space: nowrap; max-width: 500px; overflow: hidden; text-overflow: ellipsis; \" colspan=\"1\"><div style=\"text-align: left;\"></div></td><td style=\"white-space: nowrap; max-width: 500px; overflow: hidden; text-overflow: ellipsis; \" colspan=\"1\"><div style=\"text-align: left;\"></div></td><td style=\"white-space: nowrap; max-width: 500px; overflow: hidden; text-overflow: ellipsis; \" colspan=\"1\"><div style=\"text-align: left;\"></div></td><td style=\"white-space: nowrap; max-width: 500px; overflow: hidden; text-overflow: ellipsis; \" colspan=\"1\"><div style=\"text-align: left;\"></div></td><td style=\"white-space: nowrap; max-width: 500px; overflow: hidden; text-overflow: ellipsis; \" colspan=\"1\"><div style=\"text-align: left;\"></div></td></tr><tr><td style=\"white-space: nowrap; max-width: 500px; overflow: hidden; text-overflow: ellipsis; \" colspan=\"1\"><div style=\"text-align: left;\"></div></td><td style=\"white-space: nowrap; max-width: 500px; overflow: hidden; text-overflow: ellipsis; \" colspan=\"1\"><div style=\"text-align: left;\"></div></td><td style=\"white-space: nowrap; max-width: 500px; overflow: hidden; text-overflow: ellipsis; \" colspan=\"1\"><div style=\"text-align: left;border-bottom: solid 2px #000; padding-bottom: 5px\">&#x27;Sample1&#x27;</div></td><td style=\"white-space: nowrap; max-width: 500px; overflow: hidden; text-overflow: ellipsis; \" colspan=\"1\"><div style=\"text-align: left;border-bottom: solid 2px #000; padding-bottom: 5px\">&#x27;Sample2&#x27;</div></td><td style=\"white-space: nowrap; max-width: 500px; overflow: hidden; text-overflow: ellipsis; \" colspan=\"1\"><div style=\"text-align: left;border-bottom: solid 2px #000; padding-bottom: 5px\">&#x27;Sample3&#x27;</div></td></tr><tr><td style=\"white-space: nowrap; max-width: 500px; overflow: hidden; text-overflow: ellipsis; \" colspan=\"1\"><div style=\"text-align: left;border-bottom: solid 2px #000; padding-bottom: 5px\">locus</div></td><td style=\"white-space: nowrap; max-width: 500px; overflow: hidden; text-overflow: ellipsis; \" colspan=\"1\"><div style=\"text-align: left;border-bottom: solid 2px #000; padding-bottom: 5px\">alleles</div></td><td style=\"white-space: nowrap; max-width: 500px; overflow: hidden; text-overflow: ellipsis; \" colspan=\"1\"><div style=\"text-align: left;border-bottom: solid 2px #000; padding-bottom: 5px\">low_DP</div></td><td style=\"white-space: nowrap; max-width: 500px; overflow: hidden; text-overflow: ellipsis; \" colspan=\"1\"><div style=\"text-align: left;border-bottom: solid 2px #000; padding-bottom: 5px\">low_DP</div></td><td style=\"white-space: nowrap; max-width: 500px; overflow: hidden; text-overflow: ellipsis; \" colspan=\"1\"><div style=\"text-align: left;border-bottom: solid 2px #000; padding-bottom: 5px\">low_DP</div></td></tr><tr><td style=\"white-space: nowrap; max-width: 500px; overflow: hidden; text-overflow: ellipsis; text-align: left;\">locus&lt;GRCh38&gt;</td><td style=\"white-space: nowrap; max-width: 500px; overflow: hidden; text-overflow: ellipsis; text-align: left;\">array&lt;str&gt;</td><td style=\"white-space: nowrap; max-width: 500px; overflow: hidden; text-overflow: ellipsis; text-align: left;\">bool</td><td style=\"white-space: nowrap; max-width: 500px; overflow: hidden; text-overflow: ellipsis; text-align: left;\">bool</td><td style=\"white-space: nowrap; max-width: 500px; overflow: hidden; text-overflow: ellipsis; text-align: left;\">bool</td></tr>\n",
       "</thead><tbody><tr><td style=\"white-space: nowrap; max-width: 500px; overflow: hidden; text-overflow: ellipsis; \">chr1:100</td><td style=\"white-space: nowrap; max-width: 500px; overflow: hidden; text-overflow: ellipsis; \">[&quot;A&quot;,&quot;G&quot;]</td><td style=\"white-space: nowrap; max-width: 500px; overflow: hidden; text-overflow: ellipsis; \">False</td><td style=\"white-space: nowrap; max-width: 500px; overflow: hidden; text-overflow: ellipsis; \">False</td><td style=\"white-space: nowrap; max-width: 500px; overflow: hidden; text-overflow: ellipsis; \">True</td></tr>\n",
       "<tr><td style=\"white-space: nowrap; max-width: 500px; overflow: hidden; text-overflow: ellipsis; \">chr1:200</td><td style=\"white-space: nowrap; max-width: 500px; overflow: hidden; text-overflow: ellipsis; \">[&quot;C&quot;,&quot;T&quot;]</td><td style=\"white-space: nowrap; max-width: 500px; overflow: hidden; text-overflow: ellipsis; \">True</td><td style=\"white-space: nowrap; max-width: 500px; overflow: hidden; text-overflow: ellipsis; \">False</td><td style=\"white-space: nowrap; max-width: 500px; overflow: hidden; text-overflow: ellipsis; \">True</td></tr>\n",
       "<tr><td style=\"white-space: nowrap; max-width: 500px; overflow: hidden; text-overflow: ellipsis; \">chr1:300</td><td style=\"white-space: nowrap; max-width: 500px; overflow: hidden; text-overflow: ellipsis; \">[&quot;G&quot;,&quot;A&quot;]</td><td style=\"white-space: nowrap; max-width: 500px; overflow: hidden; text-overflow: ellipsis; \">False</td><td style=\"white-space: nowrap; max-width: 500px; overflow: hidden; text-overflow: ellipsis; \">False</td><td style=\"white-space: nowrap; max-width: 500px; overflow: hidden; text-overflow: ellipsis; \">False</td></tr>\n",
       "</tbody></table><p style=\"background: #fdd; padding: 0.4em;\">showing top 3 rows</p>\n",
       "<p style=\"background: #fdd; padding: 0.4em;\">showing the first 3 of 10 columns</p>\n"
      ],
      "text/plain": [
       "+---------------+------------+------------------+------------------+\n",
       "| locus         | alleles    | 'Sample1'.low_DP | 'Sample2'.low_DP |\n",
       "+---------------+------------+------------------+------------------+\n",
       "| locus<GRCh38> | array<str> |             bool |             bool |\n",
       "+---------------+------------+------------------+------------------+\n",
       "| chr1:100      | [\"A\",\"G\"]  |            False |            False |\n",
       "| chr1:200      | [\"C\",\"T\"]  |             True |            False |\n",
       "| chr1:300      | [\"G\",\"A\"]  |            False |            False |\n",
       "+---------------+------------+------------------+------------------+\n",
       "\n",
       "+------------------+\n",
       "| 'Sample3'.low_DP |\n",
       "+------------------+\n",
       "|             bool |\n",
       "+------------------+\n",
       "|             True |\n",
       "|             True |\n",
       "|            False |\n",
       "+------------------+\n",
       "showing top 3 rows\n",
       "showing the first 3 of 10 columns"
      ]
     },
     "metadata": {},
     "output_type": "display_data"
    }
   ],
   "source": [
    "mt = mt.annotate_entries(\n",
    "    low_DP = mt.DP < 15\n",
    ")\n",
    "mt.low_DP.show(n_rows=3, n_cols=3)"
   ]
  },
  {
   "cell_type": "markdown",
   "id": "3f6d98aa-bd36-4c2b-8847-ac6517e656fe",
   "metadata": {},
   "source": [
    "[`Expression.show`](https://hail.is/docs/0.2/hail.expr.Expression.html#hail.expr.Expression.show) also works with compound expressions, such as a struct expression. A struct expression combines multiple values into one struct value."
   ]
  },
  {
   "cell_type": "code",
   "execution_count": 17,
   "id": "9f25896d-fbf4-4521-86df-897ec98addaa",
   "metadata": {},
   "outputs": [
    {
     "data": {
      "text/html": [
       "<table><thead><tr><td style=\"white-space: nowrap; max-width: 500px; overflow: hidden; text-overflow: ellipsis; \" colspan=\"1\"><div style=\"text-align: left;\"></div></td><td style=\"white-space: nowrap; max-width: 500px; overflow: hidden; text-overflow: ellipsis; \" colspan=\"1\"><div style=\"text-align: left;\"></div></td><td style=\"white-space: nowrap; max-width: 500px; overflow: hidden; text-overflow: ellipsis; \" colspan=\"3\"><div style=\"text-align: left;\"></div></td><td style=\"white-space: nowrap; max-width: 500px; overflow: hidden; text-overflow: ellipsis; \" colspan=\"3\"><div style=\"text-align: left;\"></div></td><td style=\"white-space: nowrap; max-width: 500px; overflow: hidden; text-overflow: ellipsis; \" colspan=\"3\"><div style=\"text-align: left;\"></div></td></tr><tr><td style=\"white-space: nowrap; max-width: 500px; overflow: hidden; text-overflow: ellipsis; \" colspan=\"1\"><div style=\"text-align: left;\"></div></td><td style=\"white-space: nowrap; max-width: 500px; overflow: hidden; text-overflow: ellipsis; \" colspan=\"1\"><div style=\"text-align: left;\"></div></td><td style=\"white-space: nowrap; max-width: 500px; overflow: hidden; text-overflow: ellipsis; \" colspan=\"3\"><div style=\"text-align: left;border-bottom: solid 2px #000; padding-bottom: 5px\">&#x27;Sample1&#x27;</div></td><td style=\"white-space: nowrap; max-width: 500px; overflow: hidden; text-overflow: ellipsis; \" colspan=\"3\"><div style=\"text-align: left;border-bottom: solid 2px #000; padding-bottom: 5px\">&#x27;Sample2&#x27;</div></td><td style=\"white-space: nowrap; max-width: 500px; overflow: hidden; text-overflow: ellipsis; \" colspan=\"3\"><div style=\"text-align: left;border-bottom: solid 2px #000; padding-bottom: 5px\">&#x27;Sample3&#x27;</div></td></tr><tr><td style=\"white-space: nowrap; max-width: 500px; overflow: hidden; text-overflow: ellipsis; \" colspan=\"1\"><div style=\"text-align: left;\"></div></td><td style=\"white-space: nowrap; max-width: 500px; overflow: hidden; text-overflow: ellipsis; \" colspan=\"1\"><div style=\"text-align: left;\"></div></td><td style=\"white-space: nowrap; max-width: 500px; overflow: hidden; text-overflow: ellipsis; \" colspan=\"3\"><div style=\"text-align: left;border-bottom: solid 2px #000; padding-bottom: 5px\">&lt;expr&gt;</div></td><td style=\"white-space: nowrap; max-width: 500px; overflow: hidden; text-overflow: ellipsis; \" colspan=\"3\"><div style=\"text-align: left;border-bottom: solid 2px #000; padding-bottom: 5px\">&lt;expr&gt;</div></td><td style=\"white-space: nowrap; max-width: 500px; overflow: hidden; text-overflow: ellipsis; \" colspan=\"3\"><div style=\"text-align: left;border-bottom: solid 2px #000; padding-bottom: 5px\">&lt;expr&gt;</div></td></tr><tr><td style=\"white-space: nowrap; max-width: 500px; overflow: hidden; text-overflow: ellipsis; \" colspan=\"1\"><div style=\"text-align: left;border-bottom: solid 2px #000; padding-bottom: 5px\">locus</div></td><td style=\"white-space: nowrap; max-width: 500px; overflow: hidden; text-overflow: ellipsis; \" colspan=\"1\"><div style=\"text-align: left;border-bottom: solid 2px #000; padding-bottom: 5px\">alleles</div></td><td style=\"white-space: nowrap; max-width: 500px; overflow: hidden; text-overflow: ellipsis; \" colspan=\"1\"><div style=\"text-align: left;border-bottom: solid 2px #000; padding-bottom: 5px\">low_DP</div></td><td style=\"white-space: nowrap; max-width: 500px; overflow: hidden; text-overflow: ellipsis; \" colspan=\"1\"><div style=\"text-align: left;border-bottom: solid 2px #000; padding-bottom: 5px\">DP</div></td><td style=\"white-space: nowrap; max-width: 500px; overflow: hidden; text-overflow: ellipsis; \" colspan=\"1\"><div style=\"text-align: left;border-bottom: solid 2px #000; padding-bottom: 5px\">GT</div></td><td style=\"white-space: nowrap; max-width: 500px; overflow: hidden; text-overflow: ellipsis; \" colspan=\"1\"><div style=\"text-align: left;border-bottom: solid 2px #000; padding-bottom: 5px\">low_DP</div></td><td style=\"white-space: nowrap; max-width: 500px; overflow: hidden; text-overflow: ellipsis; \" colspan=\"1\"><div style=\"text-align: left;border-bottom: solid 2px #000; padding-bottom: 5px\">DP</div></td><td style=\"white-space: nowrap; max-width: 500px; overflow: hidden; text-overflow: ellipsis; \" colspan=\"1\"><div style=\"text-align: left;border-bottom: solid 2px #000; padding-bottom: 5px\">GT</div></td><td style=\"white-space: nowrap; max-width: 500px; overflow: hidden; text-overflow: ellipsis; \" colspan=\"1\"><div style=\"text-align: left;border-bottom: solid 2px #000; padding-bottom: 5px\">low_DP</div></td><td style=\"white-space: nowrap; max-width: 500px; overflow: hidden; text-overflow: ellipsis; \" colspan=\"1\"><div style=\"text-align: left;border-bottom: solid 2px #000; padding-bottom: 5px\">DP</div></td><td style=\"white-space: nowrap; max-width: 500px; overflow: hidden; text-overflow: ellipsis; \" colspan=\"1\"><div style=\"text-align: left;border-bottom: solid 2px #000; padding-bottom: 5px\">GT</div></td></tr><tr><td style=\"white-space: nowrap; max-width: 500px; overflow: hidden; text-overflow: ellipsis; text-align: left;\">locus&lt;GRCh38&gt;</td><td style=\"white-space: nowrap; max-width: 500px; overflow: hidden; text-overflow: ellipsis; text-align: left;\">array&lt;str&gt;</td><td style=\"white-space: nowrap; max-width: 500px; overflow: hidden; text-overflow: ellipsis; text-align: left;\">bool</td><td style=\"white-space: nowrap; max-width: 500px; overflow: hidden; text-overflow: ellipsis; text-align: left;\">int32</td><td style=\"white-space: nowrap; max-width: 500px; overflow: hidden; text-overflow: ellipsis; text-align: left;\">call</td><td style=\"white-space: nowrap; max-width: 500px; overflow: hidden; text-overflow: ellipsis; text-align: left;\">bool</td><td style=\"white-space: nowrap; max-width: 500px; overflow: hidden; text-overflow: ellipsis; text-align: left;\">int32</td><td style=\"white-space: nowrap; max-width: 500px; overflow: hidden; text-overflow: ellipsis; text-align: left;\">call</td><td style=\"white-space: nowrap; max-width: 500px; overflow: hidden; text-overflow: ellipsis; text-align: left;\">bool</td><td style=\"white-space: nowrap; max-width: 500px; overflow: hidden; text-overflow: ellipsis; text-align: left;\">int32</td><td style=\"white-space: nowrap; max-width: 500px; overflow: hidden; text-overflow: ellipsis; text-align: left;\">call</td></tr>\n",
       "</thead><tbody><tr><td style=\"white-space: nowrap; max-width: 500px; overflow: hidden; text-overflow: ellipsis; \">chr1:100</td><td style=\"white-space: nowrap; max-width: 500px; overflow: hidden; text-overflow: ellipsis; \">[&quot;A&quot;,&quot;G&quot;]</td><td style=\"white-space: nowrap; max-width: 500px; overflow: hidden; text-overflow: ellipsis; \">False</td><td style=\"white-space: nowrap; max-width: 500px; overflow: hidden; text-overflow: ellipsis; \">15</td><td style=\"white-space: nowrap; max-width: 500px; overflow: hidden; text-overflow: ellipsis; \">0/1</td><td style=\"white-space: nowrap; max-width: 500px; overflow: hidden; text-overflow: ellipsis; \">False</td><td style=\"white-space: nowrap; max-width: 500px; overflow: hidden; text-overflow: ellipsis; \">17</td><td style=\"white-space: nowrap; max-width: 500px; overflow: hidden; text-overflow: ellipsis; \">0/1</td><td style=\"white-space: nowrap; max-width: 500px; overflow: hidden; text-overflow: ellipsis; \">True</td><td style=\"white-space: nowrap; max-width: 500px; overflow: hidden; text-overflow: ellipsis; \">12</td><td style=\"white-space: nowrap; max-width: 500px; overflow: hidden; text-overflow: ellipsis; \">0/0</td></tr>\n",
       "<tr><td style=\"white-space: nowrap; max-width: 500px; overflow: hidden; text-overflow: ellipsis; \">chr1:200</td><td style=\"white-space: nowrap; max-width: 500px; overflow: hidden; text-overflow: ellipsis; \">[&quot;C&quot;,&quot;T&quot;]</td><td style=\"white-space: nowrap; max-width: 500px; overflow: hidden; text-overflow: ellipsis; \">True</td><td style=\"white-space: nowrap; max-width: 500px; overflow: hidden; text-overflow: ellipsis; \">10</td><td style=\"white-space: nowrap; max-width: 500px; overflow: hidden; text-overflow: ellipsis; \">0/0</td><td style=\"white-space: nowrap; max-width: 500px; overflow: hidden; text-overflow: ellipsis; \">False</td><td style=\"white-space: nowrap; max-width: 500px; overflow: hidden; text-overflow: ellipsis; \">15</td><td style=\"white-space: nowrap; max-width: 500px; overflow: hidden; text-overflow: ellipsis; \">1/1</td><td style=\"white-space: nowrap; max-width: 500px; overflow: hidden; text-overflow: ellipsis; \">True</td><td style=\"white-space: nowrap; max-width: 500px; overflow: hidden; text-overflow: ellipsis; \">14</td><td style=\"white-space: nowrap; max-width: 500px; overflow: hidden; text-overflow: ellipsis; \">0/1</td></tr>\n",
       "<tr><td style=\"white-space: nowrap; max-width: 500px; overflow: hidden; text-overflow: ellipsis; \">chr1:300</td><td style=\"white-space: nowrap; max-width: 500px; overflow: hidden; text-overflow: ellipsis; \">[&quot;G&quot;,&quot;A&quot;]</td><td style=\"white-space: nowrap; max-width: 500px; overflow: hidden; text-overflow: ellipsis; \">False</td><td style=\"white-space: nowrap; max-width: 500px; overflow: hidden; text-overflow: ellipsis; \">20</td><td style=\"white-space: nowrap; max-width: 500px; overflow: hidden; text-overflow: ellipsis; \">0/1</td><td style=\"white-space: nowrap; max-width: 500px; overflow: hidden; text-overflow: ellipsis; \">False</td><td style=\"white-space: nowrap; max-width: 500px; overflow: hidden; text-overflow: ellipsis; \">22</td><td style=\"white-space: nowrap; max-width: 500px; overflow: hidden; text-overflow: ellipsis; \">0/0</td><td style=\"white-space: nowrap; max-width: 500px; overflow: hidden; text-overflow: ellipsis; \">False</td><td style=\"white-space: nowrap; max-width: 500px; overflow: hidden; text-overflow: ellipsis; \">18</td><td style=\"white-space: nowrap; max-width: 500px; overflow: hidden; text-overflow: ellipsis; \">0/1</td></tr>\n",
       "</tbody></table><p style=\"background: #fdd; padding: 0.4em;\">showing top 3 rows</p>\n",
       "<p style=\"background: #fdd; padding: 0.4em;\">showing the first 3 of 10 columns</p>\n"
      ],
      "text/plain": [
       "+---------------+------------+-------------------------+---------------------+\n",
       "| locus         | alleles    | 'Sample1'.<expr>.low_DP | 'Sample1'.<expr>.DP |\n",
       "+---------------+------------+-------------------------+---------------------+\n",
       "| locus<GRCh38> | array<str> |                    bool |               int32 |\n",
       "+---------------+------------+-------------------------+---------------------+\n",
       "| chr1:100      | [\"A\",\"G\"]  |                   False |                  15 |\n",
       "| chr1:200      | [\"C\",\"T\"]  |                    True |                  10 |\n",
       "| chr1:300      | [\"G\",\"A\"]  |                   False |                  20 |\n",
       "+---------------+------------+-------------------------+---------------------+\n",
       "\n",
       "+---------------------+-------------------------+---------------------+\n",
       "| 'Sample1'.<expr>.GT | 'Sample2'.<expr>.low_DP | 'Sample2'.<expr>.DP |\n",
       "+---------------------+-------------------------+---------------------+\n",
       "| call                |                    bool |               int32 |\n",
       "+---------------------+-------------------------+---------------------+\n",
       "| 0/1                 |                   False |                  17 |\n",
       "| 0/0                 |                   False |                  15 |\n",
       "| 0/1                 |                   False |                  22 |\n",
       "+---------------------+-------------------------+---------------------+\n",
       "\n",
       "+---------------------+-------------------------+---------------------+\n",
       "| 'Sample2'.<expr>.GT | 'Sample3'.<expr>.low_DP | 'Sample3'.<expr>.DP |\n",
       "+---------------------+-------------------------+---------------------+\n",
       "| call                |                    bool |               int32 |\n",
       "+---------------------+-------------------------+---------------------+\n",
       "| 0/1                 |                    True |                  12 |\n",
       "| 1/1                 |                    True |                  14 |\n",
       "| 0/0                 |                   False |                  18 |\n",
       "+---------------------+-------------------------+---------------------+\n",
       "\n",
       "+---------------------+\n",
       "| 'Sample3'.<expr>.GT |\n",
       "+---------------------+\n",
       "| call                |\n",
       "+---------------------+\n",
       "| 0/0                 |\n",
       "| 0/1                 |\n",
       "| 0/1                 |\n",
       "+---------------------+\n",
       "showing top 3 rows\n",
       "showing the first 3 of 10 columns"
      ]
     },
     "metadata": {},
     "output_type": "display_data"
    }
   ],
   "source": [
    "hl.struct(low_DP=mt.low_DP, DP=mt.DP, GT=mt.GT).show(n_rows=3, n_cols=3)"
   ]
  },
  {
   "cell_type": "markdown",
   "id": "be85ef2e-5b27-45fc-a116-bac3cc51afe2",
   "metadata": {},
   "source": [
    "### Exercise\n",
    "\n",
    "Add an entry field which is the sum of the AD array. See [collection functions](https://hail.is/docs/0.2/functions/collections.html)."
   ]
  },
  {
   "cell_type": "code",
   "execution_count": 23,
   "id": "fc8bb15b-142b-4851-9098-c55fbfaa2dd9",
   "metadata": {},
   "outputs": [
    {
     "data": {
      "text/html": [
       "<table><thead><tr><td style=\"white-space: nowrap; max-width: 500px; overflow: hidden; text-overflow: ellipsis; \" colspan=\"1\"><div style=\"text-align: left;\"></div></td><td style=\"white-space: nowrap; max-width: 500px; overflow: hidden; text-overflow: ellipsis; \" colspan=\"1\"><div style=\"text-align: left;\"></div></td><td style=\"white-space: nowrap; max-width: 500px; overflow: hidden; text-overflow: ellipsis; \" colspan=\"2\"><div style=\"text-align: left;\"></div></td><td style=\"white-space: nowrap; max-width: 500px; overflow: hidden; text-overflow: ellipsis; \" colspan=\"2\"><div style=\"text-align: left;\"></div></td><td style=\"white-space: nowrap; max-width: 500px; overflow: hidden; text-overflow: ellipsis; \" colspan=\"2\"><div style=\"text-align: left;\"></div></td></tr><tr><td style=\"white-space: nowrap; max-width: 500px; overflow: hidden; text-overflow: ellipsis; \" colspan=\"1\"><div style=\"text-align: left;\"></div></td><td style=\"white-space: nowrap; max-width: 500px; overflow: hidden; text-overflow: ellipsis; \" colspan=\"1\"><div style=\"text-align: left;\"></div></td><td style=\"white-space: nowrap; max-width: 500px; overflow: hidden; text-overflow: ellipsis; \" colspan=\"2\"><div style=\"text-align: left;border-bottom: solid 2px #000; padding-bottom: 5px\">&#x27;Sample1&#x27;</div></td><td style=\"white-space: nowrap; max-width: 500px; overflow: hidden; text-overflow: ellipsis; \" colspan=\"2\"><div style=\"text-align: left;border-bottom: solid 2px #000; padding-bottom: 5px\">&#x27;Sample2&#x27;</div></td><td style=\"white-space: nowrap; max-width: 500px; overflow: hidden; text-overflow: ellipsis; \" colspan=\"2\"><div style=\"text-align: left;border-bottom: solid 2px #000; padding-bottom: 5px\">&#x27;Sample3&#x27;</div></td></tr><tr><td style=\"white-space: nowrap; max-width: 500px; overflow: hidden; text-overflow: ellipsis; \" colspan=\"1\"><div style=\"text-align: left;border-bottom: solid 2px #000; padding-bottom: 5px\">locus</div></td><td style=\"white-space: nowrap; max-width: 500px; overflow: hidden; text-overflow: ellipsis; \" colspan=\"1\"><div style=\"text-align: left;border-bottom: solid 2px #000; padding-bottom: 5px\">alleles</div></td><td style=\"white-space: nowrap; max-width: 500px; overflow: hidden; text-overflow: ellipsis; \" colspan=\"1\"><div style=\"text-align: left;border-bottom: solid 2px #000; padding-bottom: 5px\">AD</div></td><td style=\"white-space: nowrap; max-width: 500px; overflow: hidden; text-overflow: ellipsis; \" colspan=\"1\"><div style=\"text-align: left;border-bottom: solid 2px #000; padding-bottom: 5px\">sum_AD</div></td><td style=\"white-space: nowrap; max-width: 500px; overflow: hidden; text-overflow: ellipsis; \" colspan=\"1\"><div style=\"text-align: left;border-bottom: solid 2px #000; padding-bottom: 5px\">AD</div></td><td style=\"white-space: nowrap; max-width: 500px; overflow: hidden; text-overflow: ellipsis; \" colspan=\"1\"><div style=\"text-align: left;border-bottom: solid 2px #000; padding-bottom: 5px\">sum_AD</div></td><td style=\"white-space: nowrap; max-width: 500px; overflow: hidden; text-overflow: ellipsis; \" colspan=\"1\"><div style=\"text-align: left;border-bottom: solid 2px #000; padding-bottom: 5px\">AD</div></td><td style=\"white-space: nowrap; max-width: 500px; overflow: hidden; text-overflow: ellipsis; \" colspan=\"1\"><div style=\"text-align: left;border-bottom: solid 2px #000; padding-bottom: 5px\">sum_AD</div></td></tr><tr><td style=\"white-space: nowrap; max-width: 500px; overflow: hidden; text-overflow: ellipsis; text-align: left;\">locus&lt;GRCh38&gt;</td><td style=\"white-space: nowrap; max-width: 500px; overflow: hidden; text-overflow: ellipsis; text-align: left;\">array&lt;str&gt;</td><td style=\"white-space: nowrap; max-width: 500px; overflow: hidden; text-overflow: ellipsis; text-align: left;\">array&lt;int32&gt;</td><td style=\"white-space: nowrap; max-width: 500px; overflow: hidden; text-overflow: ellipsis; text-align: left;\">int32</td><td style=\"white-space: nowrap; max-width: 500px; overflow: hidden; text-overflow: ellipsis; text-align: left;\">array&lt;int32&gt;</td><td style=\"white-space: nowrap; max-width: 500px; overflow: hidden; text-overflow: ellipsis; text-align: left;\">int32</td><td style=\"white-space: nowrap; max-width: 500px; overflow: hidden; text-overflow: ellipsis; text-align: left;\">array&lt;int32&gt;</td><td style=\"white-space: nowrap; max-width: 500px; overflow: hidden; text-overflow: ellipsis; text-align: left;\">int32</td></tr>\n",
       "</thead><tbody><tr><td style=\"white-space: nowrap; max-width: 500px; overflow: hidden; text-overflow: ellipsis; \">chr1:100</td><td style=\"white-space: nowrap; max-width: 500px; overflow: hidden; text-overflow: ellipsis; \">[&quot;A&quot;,&quot;G&quot;]</td><td style=\"white-space: nowrap; max-width: 500px; overflow: hidden; text-overflow: ellipsis; \">[10,5]</td><td style=\"white-space: nowrap; max-width: 500px; overflow: hidden; text-overflow: ellipsis; \">15</td><td style=\"white-space: nowrap; max-width: 500px; overflow: hidden; text-overflow: ellipsis; \">[5,12]</td><td style=\"white-space: nowrap; max-width: 500px; overflow: hidden; text-overflow: ellipsis; \">17</td><td style=\"white-space: nowrap; max-width: 500px; overflow: hidden; text-overflow: ellipsis; \">[12,0]</td><td style=\"white-space: nowrap; max-width: 500px; overflow: hidden; text-overflow: ellipsis; \">12</td></tr>\n",
       "<tr><td style=\"white-space: nowrap; max-width: 500px; overflow: hidden; text-overflow: ellipsis; \">chr1:200</td><td style=\"white-space: nowrap; max-width: 500px; overflow: hidden; text-overflow: ellipsis; \">[&quot;C&quot;,&quot;T&quot;]</td><td style=\"white-space: nowrap; max-width: 500px; overflow: hidden; text-overflow: ellipsis; \">[10,0]</td><td style=\"white-space: nowrap; max-width: 500px; overflow: hidden; text-overflow: ellipsis; \">10</td><td style=\"white-space: nowrap; max-width: 500px; overflow: hidden; text-overflow: ellipsis; \">[5,10]</td><td style=\"white-space: nowrap; max-width: 500px; overflow: hidden; text-overflow: ellipsis; \">15</td><td style=\"white-space: nowrap; max-width: 500px; overflow: hidden; text-overflow: ellipsis; \">[10,4]</td><td style=\"white-space: nowrap; max-width: 500px; overflow: hidden; text-overflow: ellipsis; \">14</td></tr>\n",
       "<tr><td style=\"white-space: nowrap; max-width: 500px; overflow: hidden; text-overflow: ellipsis; \">chr1:300</td><td style=\"white-space: nowrap; max-width: 500px; overflow: hidden; text-overflow: ellipsis; \">[&quot;G&quot;,&quot;A&quot;]</td><td style=\"white-space: nowrap; max-width: 500px; overflow: hidden; text-overflow: ellipsis; \">[15,10]</td><td style=\"white-space: nowrap; max-width: 500px; overflow: hidden; text-overflow: ellipsis; \">25</td><td style=\"white-space: nowrap; max-width: 500px; overflow: hidden; text-overflow: ellipsis; \">[22,0]</td><td style=\"white-space: nowrap; max-width: 500px; overflow: hidden; text-overflow: ellipsis; \">22</td><td style=\"white-space: nowrap; max-width: 500px; overflow: hidden; text-overflow: ellipsis; \">[9,9]</td><td style=\"white-space: nowrap; max-width: 500px; overflow: hidden; text-overflow: ellipsis; \">18</td></tr>\n",
       "</tbody></table><p style=\"background: #fdd; padding: 0.4em;\">showing top 3 rows</p>\n",
       "<p style=\"background: #fdd; padding: 0.4em;\">showing the first 3 of 10 columns</p>\n"
      ],
      "text/plain": [
       "+---------------+------------+--------------+------------------+--------------+\n",
       "| locus         | alleles    | 'Sample1'.AD | 'Sample1'.sum_AD | 'Sample2'.AD |\n",
       "+---------------+------------+--------------+------------------+--------------+\n",
       "| locus<GRCh38> | array<str> | array<int32> |            int32 | array<int32> |\n",
       "+---------------+------------+--------------+------------------+--------------+\n",
       "| chr1:100      | [\"A\",\"G\"]  | [10,5]       |               15 | [5,12]       |\n",
       "| chr1:200      | [\"C\",\"T\"]  | [10,0]       |               10 | [5,10]       |\n",
       "| chr1:300      | [\"G\",\"A\"]  | [15,10]      |               25 | [22,0]       |\n",
       "+---------------+------------+--------------+------------------+--------------+\n",
       "\n",
       "+------------------+--------------+------------------+\n",
       "| 'Sample2'.sum_AD | 'Sample3'.AD | 'Sample3'.sum_AD |\n",
       "+------------------+--------------+------------------+\n",
       "|            int32 | array<int32> |            int32 |\n",
       "+------------------+--------------+------------------+\n",
       "|               17 | [12,0]       |               12 |\n",
       "|               15 | [10,4]       |               14 |\n",
       "|               22 | [9,9]        |               18 |\n",
       "+------------------+--------------+------------------+\n",
       "showing top 3 rows\n",
       "showing the first 3 of 10 columns"
      ]
     },
     "metadata": {},
     "output_type": "display_data"
    }
   ],
   "source": [
    "mt.annotate_entries(\n",
    "    sum_AD = hl.sum(mt.AD)\n",
    ").select_entries('AD', 'sum_AD').show(n_rows=3, n_cols=3)"
   ]
  },
  {
   "cell_type": "markdown",
   "id": "41be272d-e371-4e1b-ac23-797ad40dff9a",
   "metadata": {},
   "source": [
    "# Filtering Rows, Columns, and Entries\n",
    "\n",
    "[`MatrixTable.filter_rows`](https://hail.is/docs/0.2/hail.MatrixTable.html#hail.MatrixTable.filter_rows), [`MatrixTable.filter_cols`](https://hail.is/docs/0.2/hail.MatrixTable.html#hail.MatrixTable.filter_cols), and [`MatrixTable.filter_entries`](https://hail.is/docs/0.2/hail.MatrixTable.html#hail.MatrixTable.filter_entries) respectively remove rows, columns, and entries from a matrix table.\n",
    "\n",
    "We make a copy of our recipe as `xx` so that we can return to the full dataset later."
   ]
  },
  {
   "cell_type": "code",
   "execution_count": 24,
   "id": "203a32e8-ed0a-4ea4-b940-557a576239a9",
   "metadata": {},
   "outputs": [],
   "source": [
    "xx = mt"
   ]
  },
  {
   "cell_type": "code",
   "execution_count": 25,
   "id": "2126027d-ea37-4ec8-a813-e8e873718ffb",
   "metadata": {},
   "outputs": [
    {
     "data": {
      "text/html": [
       "<table><thead><tr><td style=\"white-space: nowrap; max-width: 500px; overflow: hidden; text-overflow: ellipsis; \" colspan=\"1\"><div style=\"text-align: left;\"></div></td><td style=\"white-space: nowrap; max-width: 500px; overflow: hidden; text-overflow: ellipsis; \" colspan=\"1\"><div style=\"text-align: left;\"></div></td><td style=\"white-space: nowrap; max-width: 500px; overflow: hidden; text-overflow: ellipsis; \" colspan=\"5\"><div style=\"text-align: left;\"></div></td><td style=\"white-space: nowrap; max-width: 500px; overflow: hidden; text-overflow: ellipsis; \" colspan=\"5\"><div style=\"text-align: left;\"></div></td></tr><tr><td style=\"white-space: nowrap; max-width: 500px; overflow: hidden; text-overflow: ellipsis; \" colspan=\"1\"><div style=\"text-align: left;\"></div></td><td style=\"white-space: nowrap; max-width: 500px; overflow: hidden; text-overflow: ellipsis; \" colspan=\"1\"><div style=\"text-align: left;\"></div></td><td style=\"white-space: nowrap; max-width: 500px; overflow: hidden; text-overflow: ellipsis; \" colspan=\"5\"><div style=\"text-align: left;border-bottom: solid 2px #000; padding-bottom: 5px\">&#x27;Sample1&#x27;</div></td><td style=\"white-space: nowrap; max-width: 500px; overflow: hidden; text-overflow: ellipsis; \" colspan=\"5\"><div style=\"text-align: left;border-bottom: solid 2px #000; padding-bottom: 5px\">&#x27;Sample2&#x27;</div></td></tr><tr><td style=\"white-space: nowrap; max-width: 500px; overflow: hidden; text-overflow: ellipsis; \" colspan=\"1\"><div style=\"text-align: left;border-bottom: solid 2px #000; padding-bottom: 5px\">locus</div></td><td style=\"white-space: nowrap; max-width: 500px; overflow: hidden; text-overflow: ellipsis; \" colspan=\"1\"><div style=\"text-align: left;border-bottom: solid 2px #000; padding-bottom: 5px\">alleles</div></td><td style=\"white-space: nowrap; max-width: 500px; overflow: hidden; text-overflow: ellipsis; \" colspan=\"1\"><div style=\"text-align: left;border-bottom: solid 2px #000; padding-bottom: 5px\">GT</div></td><td style=\"white-space: nowrap; max-width: 500px; overflow: hidden; text-overflow: ellipsis; \" colspan=\"1\"><div style=\"text-align: left;border-bottom: solid 2px #000; padding-bottom: 5px\">DP</div></td><td style=\"white-space: nowrap; max-width: 500px; overflow: hidden; text-overflow: ellipsis; \" colspan=\"1\"><div style=\"text-align: left;border-bottom: solid 2px #000; padding-bottom: 5px\">PL</div></td><td style=\"white-space: nowrap; max-width: 500px; overflow: hidden; text-overflow: ellipsis; \" colspan=\"1\"><div style=\"text-align: left;border-bottom: solid 2px #000; padding-bottom: 5px\">AD</div></td><td style=\"white-space: nowrap; max-width: 500px; overflow: hidden; text-overflow: ellipsis; \" colspan=\"1\"><div style=\"text-align: left;border-bottom: solid 2px #000; padding-bottom: 5px\">low_DP</div></td><td style=\"white-space: nowrap; max-width: 500px; overflow: hidden; text-overflow: ellipsis; \" colspan=\"1\"><div style=\"text-align: left;border-bottom: solid 2px #000; padding-bottom: 5px\">GT</div></td><td style=\"white-space: nowrap; max-width: 500px; overflow: hidden; text-overflow: ellipsis; \" colspan=\"1\"><div style=\"text-align: left;border-bottom: solid 2px #000; padding-bottom: 5px\">DP</div></td><td style=\"white-space: nowrap; max-width: 500px; overflow: hidden; text-overflow: ellipsis; \" colspan=\"1\"><div style=\"text-align: left;border-bottom: solid 2px #000; padding-bottom: 5px\">PL</div></td><td style=\"white-space: nowrap; max-width: 500px; overflow: hidden; text-overflow: ellipsis; \" colspan=\"1\"><div style=\"text-align: left;border-bottom: solid 2px #000; padding-bottom: 5px\">AD</div></td><td style=\"white-space: nowrap; max-width: 500px; overflow: hidden; text-overflow: ellipsis; \" colspan=\"1\"><div style=\"text-align: left;border-bottom: solid 2px #000; padding-bottom: 5px\">low_DP</div></td></tr><tr><td style=\"white-space: nowrap; max-width: 500px; overflow: hidden; text-overflow: ellipsis; text-align: left;\">locus&lt;GRCh38&gt;</td><td style=\"white-space: nowrap; max-width: 500px; overflow: hidden; text-overflow: ellipsis; text-align: left;\">array&lt;str&gt;</td><td style=\"white-space: nowrap; max-width: 500px; overflow: hidden; text-overflow: ellipsis; text-align: left;\">call</td><td style=\"white-space: nowrap; max-width: 500px; overflow: hidden; text-overflow: ellipsis; text-align: left;\">int32</td><td style=\"white-space: nowrap; max-width: 500px; overflow: hidden; text-overflow: ellipsis; text-align: left;\">array&lt;int32&gt;</td><td style=\"white-space: nowrap; max-width: 500px; overflow: hidden; text-overflow: ellipsis; text-align: left;\">array&lt;int32&gt;</td><td style=\"white-space: nowrap; max-width: 500px; overflow: hidden; text-overflow: ellipsis; text-align: left;\">bool</td><td style=\"white-space: nowrap; max-width: 500px; overflow: hidden; text-overflow: ellipsis; text-align: left;\">call</td><td style=\"white-space: nowrap; max-width: 500px; overflow: hidden; text-overflow: ellipsis; text-align: left;\">int32</td><td style=\"white-space: nowrap; max-width: 500px; overflow: hidden; text-overflow: ellipsis; text-align: left;\">array&lt;int32&gt;</td><td style=\"white-space: nowrap; max-width: 500px; overflow: hidden; text-overflow: ellipsis; text-align: left;\">array&lt;int32&gt;</td><td style=\"white-space: nowrap; max-width: 500px; overflow: hidden; text-overflow: ellipsis; text-align: left;\">bool</td></tr>\n",
       "</thead><tbody><tr><td style=\"white-space: nowrap; max-width: 500px; overflow: hidden; text-overflow: ellipsis; \">chr2:150</td><td style=\"white-space: nowrap; max-width: 500px; overflow: hidden; text-overflow: ellipsis; \">[&quot;T&quot;,&quot;C&quot;]</td><td style=\"white-space: nowrap; max-width: 500px; overflow: hidden; text-overflow: ellipsis; \">1/1</td><td style=\"white-space: nowrap; max-width: 500px; overflow: hidden; text-overflow: ellipsis; \">14</td><td style=\"white-space: nowrap; max-width: 500px; overflow: hidden; text-overflow: ellipsis; \">[0,30,100]</td><td style=\"white-space: nowrap; max-width: 500px; overflow: hidden; text-overflow: ellipsis; \">[5,9]</td><td style=\"white-space: nowrap; max-width: 500px; overflow: hidden; text-overflow: ellipsis; \">True</td><td style=\"white-space: nowrap; max-width: 500px; overflow: hidden; text-overflow: ellipsis; \">0/0</td><td style=\"white-space: nowrap; max-width: 500px; overflow: hidden; text-overflow: ellipsis; \">15</td><td style=\"white-space: nowrap; max-width: 500px; overflow: hidden; text-overflow: ellipsis; \">[100,0,120]</td><td style=\"white-space: nowrap; max-width: 500px; overflow: hidden; text-overflow: ellipsis; \">[15,0]</td><td style=\"white-space: nowrap; max-width: 500px; overflow: hidden; text-overflow: ellipsis; \">False</td></tr>\n",
       "<tr><td style=\"white-space: nowrap; max-width: 500px; overflow: hidden; text-overflow: ellipsis; \">chr2:250</td><td style=\"white-space: nowrap; max-width: 500px; overflow: hidden; text-overflow: ellipsis; \">[&quot;A&quot;,&quot;G&quot;]</td><td style=\"white-space: nowrap; max-width: 500px; overflow: hidden; text-overflow: ellipsis; \">0/0</td><td style=\"white-space: nowrap; max-width: 500px; overflow: hidden; text-overflow: ellipsis; \">22</td><td style=\"white-space: nowrap; max-width: 500px; overflow: hidden; text-overflow: ellipsis; \">[120,0,60]</td><td style=\"white-space: nowrap; max-width: 500px; overflow: hidden; text-overflow: ellipsis; \">[20,2]</td><td style=\"white-space: nowrap; max-width: 500px; overflow: hidden; text-overflow: ellipsis; \">False</td><td style=\"white-space: nowrap; max-width: 500px; overflow: hidden; text-overflow: ellipsis; \">0/1</td><td style=\"white-space: nowrap; max-width: 500px; overflow: hidden; text-overflow: ellipsis; \">21</td><td style=\"white-space: nowrap; max-width: 500px; overflow: hidden; text-overflow: ellipsis; \">[50,30,0]</td><td style=\"white-space: nowrap; max-width: 500px; overflow: hidden; text-overflow: ellipsis; \">[15,6]</td><td style=\"white-space: nowrap; max-width: 500px; overflow: hidden; text-overflow: ellipsis; \">False</td></tr>\n",
       "<tr><td style=\"white-space: nowrap; max-width: 500px; overflow: hidden; text-overflow: ellipsis; \">chr2:350</td><td style=\"white-space: nowrap; max-width: 500px; overflow: hidden; text-overflow: ellipsis; \">[&quot;C&quot;,&quot;T&quot;]</td><td style=\"white-space: nowrap; max-width: 500px; overflow: hidden; text-overflow: ellipsis; \">0/1</td><td style=\"white-space: nowrap; max-width: 500px; overflow: hidden; text-overflow: ellipsis; \">16</td><td style=\"white-space: nowrap; max-width: 500px; overflow: hidden; text-overflow: ellipsis; \">[70,10,0]</td><td style=\"white-space: nowrap; max-width: 500px; overflow: hidden; text-overflow: ellipsis; \">[8,8]</td><td style=\"white-space: nowrap; max-width: 500px; overflow: hidden; text-overflow: ellipsis; \">False</td><td style=\"white-space: nowrap; max-width: 500px; overflow: hidden; text-overflow: ellipsis; \">0/0</td><td style=\"white-space: nowrap; max-width: 500px; overflow: hidden; text-overflow: ellipsis; \">15</td><td style=\"white-space: nowrap; max-width: 500px; overflow: hidden; text-overflow: ellipsis; \">[100,0,120]</td><td style=\"white-space: nowrap; max-width: 500px; overflow: hidden; text-overflow: ellipsis; \">[15,0]</td><td style=\"white-space: nowrap; max-width: 500px; overflow: hidden; text-overflow: ellipsis; \">False</td></tr>\n",
       "</tbody></table><p style=\"background: #fdd; padding: 0.4em;\">showing top 3 rows</p>\n",
       "<p style=\"background: #fdd; padding: 0.4em;\">showing the first 2 of 10 columns</p>\n"
      ],
      "text/plain": [
       "+---------------+------------+--------------+--------------+--------------+\n",
       "| locus         | alleles    | 'Sample1'.GT | 'Sample1'.DP | 'Sample1'.PL |\n",
       "+---------------+------------+--------------+--------------+--------------+\n",
       "| locus<GRCh38> | array<str> | call         |        int32 | array<int32> |\n",
       "+---------------+------------+--------------+--------------+--------------+\n",
       "| chr2:150      | [\"T\",\"C\"]  | 1/1          |           14 | [0,30,100]   |\n",
       "| chr2:250      | [\"A\",\"G\"]  | 0/0          |           22 | [120,0,60]   |\n",
       "| chr2:350      | [\"C\",\"T\"]  | 0/1          |           16 | [70,10,0]    |\n",
       "+---------------+------------+--------------+--------------+--------------+\n",
       "\n",
       "+--------------+------------------+--------------+--------------+--------------+\n",
       "| 'Sample1'.AD | 'Sample1'.low_DP | 'Sample2'.GT | 'Sample2'.DP | 'Sample2'.PL |\n",
       "+--------------+------------------+--------------+--------------+--------------+\n",
       "| array<int32> |             bool | call         |        int32 | array<int32> |\n",
       "+--------------+------------------+--------------+--------------+--------------+\n",
       "| [5,9]        |             True | 0/0          |           15 | [100,0,120]  |\n",
       "| [20,2]       |            False | 0/1          |           21 | [50,30,0]    |\n",
       "| [8,8]        |            False | 0/0          |           15 | [100,0,120]  |\n",
       "+--------------+------------------+--------------+--------------+--------------+\n",
       "\n",
       "+--------------+------------------+\n",
       "| 'Sample2'.AD | 'Sample2'.low_DP |\n",
       "+--------------+------------------+\n",
       "| array<int32> |             bool |\n",
       "+--------------+------------------+\n",
       "| [15,0]       |            False |\n",
       "| [15,6]       |            False |\n",
       "| [15,0]       |            False |\n",
       "+--------------+------------------+\n",
       "showing top 3 rows\n",
       "showing the first 2 of 10 columns"
      ]
     },
     "metadata": {},
     "output_type": "display_data"
    }
   ],
   "source": [
    "xx = xx.filter_rows(\n",
    "    xx.locus.contig != 'chr1'\n",
    ")\n",
    "xx.show(n_rows=3, n_cols=2)"
   ]
  },
  {
   "cell_type": "code",
   "execution_count": 26,
   "id": "b93ee695-aaeb-4cb8-84cc-3708942271b3",
   "metadata": {},
   "outputs": [
    {
     "data": {
      "text/html": [
       "<table><thead><tr><td style=\"white-space: nowrap; max-width: 500px; overflow: hidden; text-overflow: ellipsis; \" colspan=\"1\"><div style=\"text-align: left;\"></div></td><td style=\"white-space: nowrap; max-width: 500px; overflow: hidden; text-overflow: ellipsis; \" colspan=\"1\"><div style=\"text-align: left;\"></div></td><td style=\"white-space: nowrap; max-width: 500px; overflow: hidden; text-overflow: ellipsis; \" colspan=\"5\"><div style=\"text-align: left;\"></div></td><td style=\"white-space: nowrap; max-width: 500px; overflow: hidden; text-overflow: ellipsis; \" colspan=\"5\"><div style=\"text-align: left;\"></div></td></tr><tr><td style=\"white-space: nowrap; max-width: 500px; overflow: hidden; text-overflow: ellipsis; \" colspan=\"1\"><div style=\"text-align: left;\"></div></td><td style=\"white-space: nowrap; max-width: 500px; overflow: hidden; text-overflow: ellipsis; \" colspan=\"1\"><div style=\"text-align: left;\"></div></td><td style=\"white-space: nowrap; max-width: 500px; overflow: hidden; text-overflow: ellipsis; \" colspan=\"5\"><div style=\"text-align: left;border-bottom: solid 2px #000; padding-bottom: 5px\">&#x27;Sample5&#x27;</div></td><td style=\"white-space: nowrap; max-width: 500px; overflow: hidden; text-overflow: ellipsis; \" colspan=\"5\"><div style=\"text-align: left;border-bottom: solid 2px #000; padding-bottom: 5px\">&#x27;Sample6&#x27;</div></td></tr><tr><td style=\"white-space: nowrap; max-width: 500px; overflow: hidden; text-overflow: ellipsis; \" colspan=\"1\"><div style=\"text-align: left;border-bottom: solid 2px #000; padding-bottom: 5px\">locus</div></td><td style=\"white-space: nowrap; max-width: 500px; overflow: hidden; text-overflow: ellipsis; \" colspan=\"1\"><div style=\"text-align: left;border-bottom: solid 2px #000; padding-bottom: 5px\">alleles</div></td><td style=\"white-space: nowrap; max-width: 500px; overflow: hidden; text-overflow: ellipsis; \" colspan=\"1\"><div style=\"text-align: left;border-bottom: solid 2px #000; padding-bottom: 5px\">GT</div></td><td style=\"white-space: nowrap; max-width: 500px; overflow: hidden; text-overflow: ellipsis; \" colspan=\"1\"><div style=\"text-align: left;border-bottom: solid 2px #000; padding-bottom: 5px\">DP</div></td><td style=\"white-space: nowrap; max-width: 500px; overflow: hidden; text-overflow: ellipsis; \" colspan=\"1\"><div style=\"text-align: left;border-bottom: solid 2px #000; padding-bottom: 5px\">PL</div></td><td style=\"white-space: nowrap; max-width: 500px; overflow: hidden; text-overflow: ellipsis; \" colspan=\"1\"><div style=\"text-align: left;border-bottom: solid 2px #000; padding-bottom: 5px\">AD</div></td><td style=\"white-space: nowrap; max-width: 500px; overflow: hidden; text-overflow: ellipsis; \" colspan=\"1\"><div style=\"text-align: left;border-bottom: solid 2px #000; padding-bottom: 5px\">low_DP</div></td><td style=\"white-space: nowrap; max-width: 500px; overflow: hidden; text-overflow: ellipsis; \" colspan=\"1\"><div style=\"text-align: left;border-bottom: solid 2px #000; padding-bottom: 5px\">GT</div></td><td style=\"white-space: nowrap; max-width: 500px; overflow: hidden; text-overflow: ellipsis; \" colspan=\"1\"><div style=\"text-align: left;border-bottom: solid 2px #000; padding-bottom: 5px\">DP</div></td><td style=\"white-space: nowrap; max-width: 500px; overflow: hidden; text-overflow: ellipsis; \" colspan=\"1\"><div style=\"text-align: left;border-bottom: solid 2px #000; padding-bottom: 5px\">PL</div></td><td style=\"white-space: nowrap; max-width: 500px; overflow: hidden; text-overflow: ellipsis; \" colspan=\"1\"><div style=\"text-align: left;border-bottom: solid 2px #000; padding-bottom: 5px\">AD</div></td><td style=\"white-space: nowrap; max-width: 500px; overflow: hidden; text-overflow: ellipsis; \" colspan=\"1\"><div style=\"text-align: left;border-bottom: solid 2px #000; padding-bottom: 5px\">low_DP</div></td></tr><tr><td style=\"white-space: nowrap; max-width: 500px; overflow: hidden; text-overflow: ellipsis; text-align: left;\">locus&lt;GRCh38&gt;</td><td style=\"white-space: nowrap; max-width: 500px; overflow: hidden; text-overflow: ellipsis; text-align: left;\">array&lt;str&gt;</td><td style=\"white-space: nowrap; max-width: 500px; overflow: hidden; text-overflow: ellipsis; text-align: left;\">call</td><td style=\"white-space: nowrap; max-width: 500px; overflow: hidden; text-overflow: ellipsis; text-align: left;\">int32</td><td style=\"white-space: nowrap; max-width: 500px; overflow: hidden; text-overflow: ellipsis; text-align: left;\">array&lt;int32&gt;</td><td style=\"white-space: nowrap; max-width: 500px; overflow: hidden; text-overflow: ellipsis; text-align: left;\">array&lt;int32&gt;</td><td style=\"white-space: nowrap; max-width: 500px; overflow: hidden; text-overflow: ellipsis; text-align: left;\">bool</td><td style=\"white-space: nowrap; max-width: 500px; overflow: hidden; text-overflow: ellipsis; text-align: left;\">call</td><td style=\"white-space: nowrap; max-width: 500px; overflow: hidden; text-overflow: ellipsis; text-align: left;\">int32</td><td style=\"white-space: nowrap; max-width: 500px; overflow: hidden; text-overflow: ellipsis; text-align: left;\">array&lt;int32&gt;</td><td style=\"white-space: nowrap; max-width: 500px; overflow: hidden; text-overflow: ellipsis; text-align: left;\">array&lt;int32&gt;</td><td style=\"white-space: nowrap; max-width: 500px; overflow: hidden; text-overflow: ellipsis; text-align: left;\">bool</td></tr>\n",
       "</thead><tbody><tr><td style=\"white-space: nowrap; max-width: 500px; overflow: hidden; text-overflow: ellipsis; \">chr2:150</td><td style=\"white-space: nowrap; max-width: 500px; overflow: hidden; text-overflow: ellipsis; \">[&quot;T&quot;,&quot;C&quot;]</td><td style=\"white-space: nowrap; max-width: 500px; overflow: hidden; text-overflow: ellipsis; \">1/1</td><td style=\"white-space: nowrap; max-width: 500px; overflow: hidden; text-overflow: ellipsis; \">16</td><td style=\"white-space: nowrap; max-width: 500px; overflow: hidden; text-overflow: ellipsis; \">[0,30,100]</td><td style=\"white-space: nowrap; max-width: 500px; overflow: hidden; text-overflow: ellipsis; \">[5,11]</td><td style=\"white-space: nowrap; max-width: 500px; overflow: hidden; text-overflow: ellipsis; \">False</td><td style=\"white-space: nowrap; max-width: 500px; overflow: hidden; text-overflow: ellipsis; \">0/1</td><td style=\"white-space: nowrap; max-width: 500px; overflow: hidden; text-overflow: ellipsis; \">17</td><td style=\"white-space: nowrap; max-width: 500px; overflow: hidden; text-overflow: ellipsis; \">[0,30,100]</td><td style=\"white-space: nowrap; max-width: 500px; overflow: hidden; text-overflow: ellipsis; \">[5,12]</td><td style=\"white-space: nowrap; max-width: 500px; overflow: hidden; text-overflow: ellipsis; \">False</td></tr>\n",
       "<tr><td style=\"white-space: nowrap; max-width: 500px; overflow: hidden; text-overflow: ellipsis; \">chr2:250</td><td style=\"white-space: nowrap; max-width: 500px; overflow: hidden; text-overflow: ellipsis; \">[&quot;A&quot;,&quot;G&quot;]</td><td style=\"white-space: nowrap; max-width: 500px; overflow: hidden; text-overflow: ellipsis; \">0/1</td><td style=\"white-space: nowrap; max-width: 500px; overflow: hidden; text-overflow: ellipsis; \">20</td><td style=\"white-space: nowrap; max-width: 500px; overflow: hidden; text-overflow: ellipsis; \">[0,30,100]</td><td style=\"white-space: nowrap; max-width: 500px; overflow: hidden; text-overflow: ellipsis; \">[5,15]</td><td style=\"white-space: nowrap; max-width: 500px; overflow: hidden; text-overflow: ellipsis; \">False</td><td style=\"white-space: nowrap; max-width: 500px; overflow: hidden; text-overflow: ellipsis; \">1/1</td><td style=\"white-space: nowrap; max-width: 500px; overflow: hidden; text-overflow: ellipsis; \">22</td><td style=\"white-space: nowrap; max-width: 500px; overflow: hidden; text-overflow: ellipsis; \">[0,30,100]</td><td style=\"white-space: nowrap; max-width: 500px; overflow: hidden; text-overflow: ellipsis; \">[5,17]</td><td style=\"white-space: nowrap; max-width: 500px; overflow: hidden; text-overflow: ellipsis; \">False</td></tr>\n",
       "<tr><td style=\"white-space: nowrap; max-width: 500px; overflow: hidden; text-overflow: ellipsis; \">chr2:350</td><td style=\"white-space: nowrap; max-width: 500px; overflow: hidden; text-overflow: ellipsis; \">[&quot;C&quot;,&quot;T&quot;]</td><td style=\"white-space: nowrap; max-width: 500px; overflow: hidden; text-overflow: ellipsis; \">0/1</td><td style=\"white-space: nowrap; max-width: 500px; overflow: hidden; text-overflow: ellipsis; \">19</td><td style=\"white-space: nowrap; max-width: 500px; overflow: hidden; text-overflow: ellipsis; \">[0,30,100]</td><td style=\"white-space: nowrap; max-width: 500px; overflow: hidden; text-overflow: ellipsis; \">[6,13]</td><td style=\"white-space: nowrap; max-width: 500px; overflow: hidden; text-overflow: ellipsis; \">False</td><td style=\"white-space: nowrap; max-width: 500px; overflow: hidden; text-overflow: ellipsis; \">1/1</td><td style=\"white-space: nowrap; max-width: 500px; overflow: hidden; text-overflow: ellipsis; \">18</td><td style=\"white-space: nowrap; max-width: 500px; overflow: hidden; text-overflow: ellipsis; \">[0,30,100]</td><td style=\"white-space: nowrap; max-width: 500px; overflow: hidden; text-overflow: ellipsis; \">[6,12]</td><td style=\"white-space: nowrap; max-width: 500px; overflow: hidden; text-overflow: ellipsis; \">False</td></tr>\n",
       "</tbody></table><p style=\"background: #fdd; padding: 0.4em;\">showing top 3 rows</p>\n",
       "<p style=\"background: #fdd; padding: 0.4em;\">showing the first 2 of 5 columns</p>\n"
      ],
      "text/plain": [
       "+---------------+------------+--------------+--------------+--------------+\n",
       "| locus         | alleles    | 'Sample5'.GT | 'Sample5'.DP | 'Sample5'.PL |\n",
       "+---------------+------------+--------------+--------------+--------------+\n",
       "| locus<GRCh38> | array<str> | call         |        int32 | array<int32> |\n",
       "+---------------+------------+--------------+--------------+--------------+\n",
       "| chr2:150      | [\"T\",\"C\"]  | 1/1          |           16 | [0,30,100]   |\n",
       "| chr2:250      | [\"A\",\"G\"]  | 0/1          |           20 | [0,30,100]   |\n",
       "| chr2:350      | [\"C\",\"T\"]  | 0/1          |           19 | [0,30,100]   |\n",
       "+---------------+------------+--------------+--------------+--------------+\n",
       "\n",
       "+--------------+------------------+--------------+--------------+--------------+\n",
       "| 'Sample5'.AD | 'Sample5'.low_DP | 'Sample6'.GT | 'Sample6'.DP | 'Sample6'.PL |\n",
       "+--------------+------------------+--------------+--------------+--------------+\n",
       "| array<int32> |             bool | call         |        int32 | array<int32> |\n",
       "+--------------+------------------+--------------+--------------+--------------+\n",
       "| [5,11]       |            False | 0/1          |           17 | [0,30,100]   |\n",
       "| [5,15]       |            False | 1/1          |           22 | [0,30,100]   |\n",
       "| [6,13]       |            False | 1/1          |           18 | [0,30,100]   |\n",
       "+--------------+------------------+--------------+--------------+--------------+\n",
       "\n",
       "+--------------+------------------+\n",
       "| 'Sample6'.AD | 'Sample6'.low_DP |\n",
       "+--------------+------------------+\n",
       "| array<int32> |             bool |\n",
       "+--------------+------------------+\n",
       "| [5,12]       |            False |\n",
       "| [5,17]       |            False |\n",
       "| [6,12]       |            False |\n",
       "+--------------+------------------+\n",
       "showing top 3 rows\n",
       "showing the first 2 of 5 columns"
      ]
     },
     "metadata": {},
     "output_type": "display_data"
    }
   ],
   "source": [
    "xx = xx.filter_cols(\n",
    "    xx.s > 'Sample4'\n",
    ")\n",
    "xx.show(n_rows=3, n_cols=2)"
   ]
  },
  {
   "cell_type": "markdown",
   "id": "af531d25-1e22-4a5d-95c8-885c9d4b7a99",
   "metadata": {},
   "source": [
    "A filtered entry is like a hole in the matrix. The other entries in a row or column are still present, so Hail still treats that row and that column as part of the dataset; however, the filtered entry itself is shown as if all its entry fields are missing."
   ]
  },
  {
   "cell_type": "code",
   "execution_count": 27,
   "id": "5aabbe90-08db-4de9-94cf-9af663b2a0fe",
   "metadata": {},
   "outputs": [
    {
     "data": {
      "text/html": [
       "<table><thead><tr><td style=\"white-space: nowrap; max-width: 500px; overflow: hidden; text-overflow: ellipsis; \" colspan=\"1\"><div style=\"text-align: left;\"></div></td><td style=\"white-space: nowrap; max-width: 500px; overflow: hidden; text-overflow: ellipsis; \" colspan=\"1\"><div style=\"text-align: left;\"></div></td><td style=\"white-space: nowrap; max-width: 500px; overflow: hidden; text-overflow: ellipsis; \" colspan=\"5\"><div style=\"text-align: left;\"></div></td><td style=\"white-space: nowrap; max-width: 500px; overflow: hidden; text-overflow: ellipsis; \" colspan=\"5\"><div style=\"text-align: left;\"></div></td></tr><tr><td style=\"white-space: nowrap; max-width: 500px; overflow: hidden; text-overflow: ellipsis; \" colspan=\"1\"><div style=\"text-align: left;\"></div></td><td style=\"white-space: nowrap; max-width: 500px; overflow: hidden; text-overflow: ellipsis; \" colspan=\"1\"><div style=\"text-align: left;\"></div></td><td style=\"white-space: nowrap; max-width: 500px; overflow: hidden; text-overflow: ellipsis; \" colspan=\"5\"><div style=\"text-align: left;border-bottom: solid 2px #000; padding-bottom: 5px\">&#x27;Sample5&#x27;</div></td><td style=\"white-space: nowrap; max-width: 500px; overflow: hidden; text-overflow: ellipsis; \" colspan=\"5\"><div style=\"text-align: left;border-bottom: solid 2px #000; padding-bottom: 5px\">&#x27;Sample6&#x27;</div></td></tr><tr><td style=\"white-space: nowrap; max-width: 500px; overflow: hidden; text-overflow: ellipsis; \" colspan=\"1\"><div style=\"text-align: left;border-bottom: solid 2px #000; padding-bottom: 5px\">locus</div></td><td style=\"white-space: nowrap; max-width: 500px; overflow: hidden; text-overflow: ellipsis; \" colspan=\"1\"><div style=\"text-align: left;border-bottom: solid 2px #000; padding-bottom: 5px\">alleles</div></td><td style=\"white-space: nowrap; max-width: 500px; overflow: hidden; text-overflow: ellipsis; \" colspan=\"1\"><div style=\"text-align: left;border-bottom: solid 2px #000; padding-bottom: 5px\">GT</div></td><td style=\"white-space: nowrap; max-width: 500px; overflow: hidden; text-overflow: ellipsis; \" colspan=\"1\"><div style=\"text-align: left;border-bottom: solid 2px #000; padding-bottom: 5px\">DP</div></td><td style=\"white-space: nowrap; max-width: 500px; overflow: hidden; text-overflow: ellipsis; \" colspan=\"1\"><div style=\"text-align: left;border-bottom: solid 2px #000; padding-bottom: 5px\">PL</div></td><td style=\"white-space: nowrap; max-width: 500px; overflow: hidden; text-overflow: ellipsis; \" colspan=\"1\"><div style=\"text-align: left;border-bottom: solid 2px #000; padding-bottom: 5px\">AD</div></td><td style=\"white-space: nowrap; max-width: 500px; overflow: hidden; text-overflow: ellipsis; \" colspan=\"1\"><div style=\"text-align: left;border-bottom: solid 2px #000; padding-bottom: 5px\">low_DP</div></td><td style=\"white-space: nowrap; max-width: 500px; overflow: hidden; text-overflow: ellipsis; \" colspan=\"1\"><div style=\"text-align: left;border-bottom: solid 2px #000; padding-bottom: 5px\">GT</div></td><td style=\"white-space: nowrap; max-width: 500px; overflow: hidden; text-overflow: ellipsis; \" colspan=\"1\"><div style=\"text-align: left;border-bottom: solid 2px #000; padding-bottom: 5px\">DP</div></td><td style=\"white-space: nowrap; max-width: 500px; overflow: hidden; text-overflow: ellipsis; \" colspan=\"1\"><div style=\"text-align: left;border-bottom: solid 2px #000; padding-bottom: 5px\">PL</div></td><td style=\"white-space: nowrap; max-width: 500px; overflow: hidden; text-overflow: ellipsis; \" colspan=\"1\"><div style=\"text-align: left;border-bottom: solid 2px #000; padding-bottom: 5px\">AD</div></td><td style=\"white-space: nowrap; max-width: 500px; overflow: hidden; text-overflow: ellipsis; \" colspan=\"1\"><div style=\"text-align: left;border-bottom: solid 2px #000; padding-bottom: 5px\">low_DP</div></td></tr><tr><td style=\"white-space: nowrap; max-width: 500px; overflow: hidden; text-overflow: ellipsis; text-align: left;\">locus&lt;GRCh38&gt;</td><td style=\"white-space: nowrap; max-width: 500px; overflow: hidden; text-overflow: ellipsis; text-align: left;\">array&lt;str&gt;</td><td style=\"white-space: nowrap; max-width: 500px; overflow: hidden; text-overflow: ellipsis; text-align: left;\">call</td><td style=\"white-space: nowrap; max-width: 500px; overflow: hidden; text-overflow: ellipsis; text-align: left;\">int32</td><td style=\"white-space: nowrap; max-width: 500px; overflow: hidden; text-overflow: ellipsis; text-align: left;\">array&lt;int32&gt;</td><td style=\"white-space: nowrap; max-width: 500px; overflow: hidden; text-overflow: ellipsis; text-align: left;\">array&lt;int32&gt;</td><td style=\"white-space: nowrap; max-width: 500px; overflow: hidden; text-overflow: ellipsis; text-align: left;\">bool</td><td style=\"white-space: nowrap; max-width: 500px; overflow: hidden; text-overflow: ellipsis; text-align: left;\">call</td><td style=\"white-space: nowrap; max-width: 500px; overflow: hidden; text-overflow: ellipsis; text-align: left;\">int32</td><td style=\"white-space: nowrap; max-width: 500px; overflow: hidden; text-overflow: ellipsis; text-align: left;\">array&lt;int32&gt;</td><td style=\"white-space: nowrap; max-width: 500px; overflow: hidden; text-overflow: ellipsis; text-align: left;\">array&lt;int32&gt;</td><td style=\"white-space: nowrap; max-width: 500px; overflow: hidden; text-overflow: ellipsis; text-align: left;\">bool</td></tr>\n",
       "</thead><tbody><tr><td style=\"white-space: nowrap; max-width: 500px; overflow: hidden; text-overflow: ellipsis; \">chr2:150</td><td style=\"white-space: nowrap; max-width: 500px; overflow: hidden; text-overflow: ellipsis; \">[&quot;T&quot;,&quot;C&quot;]</td><td style=\"white-space: nowrap; max-width: 500px; overflow: hidden; text-overflow: ellipsis; \">NA</td><td style=\"white-space: nowrap; max-width: 500px; overflow: hidden; text-overflow: ellipsis; \">NA</td><td style=\"white-space: nowrap; max-width: 500px; overflow: hidden; text-overflow: ellipsis; \">NA</td><td style=\"white-space: nowrap; max-width: 500px; overflow: hidden; text-overflow: ellipsis; \">NA</td><td style=\"white-space: nowrap; max-width: 500px; overflow: hidden; text-overflow: ellipsis; \">NA</td><td style=\"white-space: nowrap; max-width: 500px; overflow: hidden; text-overflow: ellipsis; \">0/1</td><td style=\"white-space: nowrap; max-width: 500px; overflow: hidden; text-overflow: ellipsis; \">17</td><td style=\"white-space: nowrap; max-width: 500px; overflow: hidden; text-overflow: ellipsis; \">[0,30,100]</td><td style=\"white-space: nowrap; max-width: 500px; overflow: hidden; text-overflow: ellipsis; \">[5,12]</td><td style=\"white-space: nowrap; max-width: 500px; overflow: hidden; text-overflow: ellipsis; \">False</td></tr>\n",
       "<tr><td style=\"white-space: nowrap; max-width: 500px; overflow: hidden; text-overflow: ellipsis; \">chr2:250</td><td style=\"white-space: nowrap; max-width: 500px; overflow: hidden; text-overflow: ellipsis; \">[&quot;A&quot;,&quot;G&quot;]</td><td style=\"white-space: nowrap; max-width: 500px; overflow: hidden; text-overflow: ellipsis; \">0/1</td><td style=\"white-space: nowrap; max-width: 500px; overflow: hidden; text-overflow: ellipsis; \">20</td><td style=\"white-space: nowrap; max-width: 500px; overflow: hidden; text-overflow: ellipsis; \">[0,30,100]</td><td style=\"white-space: nowrap; max-width: 500px; overflow: hidden; text-overflow: ellipsis; \">[5,15]</td><td style=\"white-space: nowrap; max-width: 500px; overflow: hidden; text-overflow: ellipsis; \">False</td><td style=\"white-space: nowrap; max-width: 500px; overflow: hidden; text-overflow: ellipsis; \">NA</td><td style=\"white-space: nowrap; max-width: 500px; overflow: hidden; text-overflow: ellipsis; \">NA</td><td style=\"white-space: nowrap; max-width: 500px; overflow: hidden; text-overflow: ellipsis; \">NA</td><td style=\"white-space: nowrap; max-width: 500px; overflow: hidden; text-overflow: ellipsis; \">NA</td><td style=\"white-space: nowrap; max-width: 500px; overflow: hidden; text-overflow: ellipsis; \">NA</td></tr>\n",
       "<tr><td style=\"white-space: nowrap; max-width: 500px; overflow: hidden; text-overflow: ellipsis; \">chr2:350</td><td style=\"white-space: nowrap; max-width: 500px; overflow: hidden; text-overflow: ellipsis; \">[&quot;C&quot;,&quot;T&quot;]</td><td style=\"white-space: nowrap; max-width: 500px; overflow: hidden; text-overflow: ellipsis; \">0/1</td><td style=\"white-space: nowrap; max-width: 500px; overflow: hidden; text-overflow: ellipsis; \">19</td><td style=\"white-space: nowrap; max-width: 500px; overflow: hidden; text-overflow: ellipsis; \">[0,30,100]</td><td style=\"white-space: nowrap; max-width: 500px; overflow: hidden; text-overflow: ellipsis; \">[6,13]</td><td style=\"white-space: nowrap; max-width: 500px; overflow: hidden; text-overflow: ellipsis; \">False</td><td style=\"white-space: nowrap; max-width: 500px; overflow: hidden; text-overflow: ellipsis; \">NA</td><td style=\"white-space: nowrap; max-width: 500px; overflow: hidden; text-overflow: ellipsis; \">NA</td><td style=\"white-space: nowrap; max-width: 500px; overflow: hidden; text-overflow: ellipsis; \">NA</td><td style=\"white-space: nowrap; max-width: 500px; overflow: hidden; text-overflow: ellipsis; \">NA</td><td style=\"white-space: nowrap; max-width: 500px; overflow: hidden; text-overflow: ellipsis; \">NA</td></tr>\n",
       "</tbody></table><p style=\"background: #fdd; padding: 0.4em;\">showing top 3 rows</p>\n",
       "<p style=\"background: #fdd; padding: 0.4em;\">showing the first 2 of 5 columns</p>\n"
      ],
      "text/plain": [
       "+---------------+------------+--------------+--------------+--------------+\n",
       "| locus         | alleles    | 'Sample5'.GT | 'Sample5'.DP | 'Sample5'.PL |\n",
       "+---------------+------------+--------------+--------------+--------------+\n",
       "| locus<GRCh38> | array<str> | call         |        int32 | array<int32> |\n",
       "+---------------+------------+--------------+--------------+--------------+\n",
       "| chr2:150      | [\"T\",\"C\"]  | NA           |           NA | NA           |\n",
       "| chr2:250      | [\"A\",\"G\"]  | 0/1          |           20 | [0,30,100]   |\n",
       "| chr2:350      | [\"C\",\"T\"]  | 0/1          |           19 | [0,30,100]   |\n",
       "+---------------+------------+--------------+--------------+--------------+\n",
       "\n",
       "+--------------+------------------+--------------+--------------+--------------+\n",
       "| 'Sample5'.AD | 'Sample5'.low_DP | 'Sample6'.GT | 'Sample6'.DP | 'Sample6'.PL |\n",
       "+--------------+------------------+--------------+--------------+--------------+\n",
       "| array<int32> |             bool | call         |        int32 | array<int32> |\n",
       "+--------------+------------------+--------------+--------------+--------------+\n",
       "| NA           |               NA | 0/1          |           17 | [0,30,100]   |\n",
       "| [5,15]       |            False | NA           |           NA | NA           |\n",
       "| [6,13]       |            False | NA           |           NA | NA           |\n",
       "+--------------+------------------+--------------+--------------+--------------+\n",
       "\n",
       "+--------------+------------------+\n",
       "| 'Sample6'.AD | 'Sample6'.low_DP |\n",
       "+--------------+------------------+\n",
       "| array<int32> |             bool |\n",
       "+--------------+------------------+\n",
       "| [5,12]       |            False |\n",
       "| NA           |               NA |\n",
       "| NA           |               NA |\n",
       "+--------------+------------------+\n",
       "showing top 3 rows\n",
       "showing the first 2 of 5 columns"
      ]
     },
     "metadata": {},
     "output_type": "display_data"
    }
   ],
   "source": [
    "xx = xx.filter_entries(\n",
    "    xx.GT.is_het()\n",
    ")\n",
    "xx.show(n_rows=3, n_cols=2)"
   ]
  },
  {
   "cell_type": "markdown",
   "id": "9c376b5e-fab7-495b-b0d0-a53e49bb118d",
   "metadata": {},
   "source": [
    "### Exercise\n",
    "\n",
    "Filter to rows in chromosome 2."
   ]
  },
  {
   "cell_type": "code",
   "execution_count": 30,
   "id": "9d647113-9ae7-44c5-8ab9-26fe7393ba40",
   "metadata": {},
   "outputs": [
    {
     "data": {
      "text/html": [
       "<table><thead><tr><td style=\"white-space: nowrap; max-width: 500px; overflow: hidden; text-overflow: ellipsis; \" colspan=\"1\"><div style=\"text-align: left;\"></div></td><td style=\"white-space: nowrap; max-width: 500px; overflow: hidden; text-overflow: ellipsis; \" colspan=\"1\"><div style=\"text-align: left;\"></div></td><td style=\"white-space: nowrap; max-width: 500px; overflow: hidden; text-overflow: ellipsis; \" colspan=\"5\"><div style=\"text-align: left;\"></div></td><td style=\"white-space: nowrap; max-width: 500px; overflow: hidden; text-overflow: ellipsis; \" colspan=\"5\"><div style=\"text-align: left;\"></div></td></tr><tr><td style=\"white-space: nowrap; max-width: 500px; overflow: hidden; text-overflow: ellipsis; \" colspan=\"1\"><div style=\"text-align: left;\"></div></td><td style=\"white-space: nowrap; max-width: 500px; overflow: hidden; text-overflow: ellipsis; \" colspan=\"1\"><div style=\"text-align: left;\"></div></td><td style=\"white-space: nowrap; max-width: 500px; overflow: hidden; text-overflow: ellipsis; \" colspan=\"5\"><div style=\"text-align: left;border-bottom: solid 2px #000; padding-bottom: 5px\">&#x27;Sample1&#x27;</div></td><td style=\"white-space: nowrap; max-width: 500px; overflow: hidden; text-overflow: ellipsis; \" colspan=\"5\"><div style=\"text-align: left;border-bottom: solid 2px #000; padding-bottom: 5px\">&#x27;Sample2&#x27;</div></td></tr><tr><td style=\"white-space: nowrap; max-width: 500px; overflow: hidden; text-overflow: ellipsis; \" colspan=\"1\"><div style=\"text-align: left;border-bottom: solid 2px #000; padding-bottom: 5px\">locus</div></td><td style=\"white-space: nowrap; max-width: 500px; overflow: hidden; text-overflow: ellipsis; \" colspan=\"1\"><div style=\"text-align: left;border-bottom: solid 2px #000; padding-bottom: 5px\">alleles</div></td><td style=\"white-space: nowrap; max-width: 500px; overflow: hidden; text-overflow: ellipsis; \" colspan=\"1\"><div style=\"text-align: left;border-bottom: solid 2px #000; padding-bottom: 5px\">GT</div></td><td style=\"white-space: nowrap; max-width: 500px; overflow: hidden; text-overflow: ellipsis; \" colspan=\"1\"><div style=\"text-align: left;border-bottom: solid 2px #000; padding-bottom: 5px\">DP</div></td><td style=\"white-space: nowrap; max-width: 500px; overflow: hidden; text-overflow: ellipsis; \" colspan=\"1\"><div style=\"text-align: left;border-bottom: solid 2px #000; padding-bottom: 5px\">PL</div></td><td style=\"white-space: nowrap; max-width: 500px; overflow: hidden; text-overflow: ellipsis; \" colspan=\"1\"><div style=\"text-align: left;border-bottom: solid 2px #000; padding-bottom: 5px\">AD</div></td><td style=\"white-space: nowrap; max-width: 500px; overflow: hidden; text-overflow: ellipsis; \" colspan=\"1\"><div style=\"text-align: left;border-bottom: solid 2px #000; padding-bottom: 5px\">low_DP</div></td><td style=\"white-space: nowrap; max-width: 500px; overflow: hidden; text-overflow: ellipsis; \" colspan=\"1\"><div style=\"text-align: left;border-bottom: solid 2px #000; padding-bottom: 5px\">GT</div></td><td style=\"white-space: nowrap; max-width: 500px; overflow: hidden; text-overflow: ellipsis; \" colspan=\"1\"><div style=\"text-align: left;border-bottom: solid 2px #000; padding-bottom: 5px\">DP</div></td><td style=\"white-space: nowrap; max-width: 500px; overflow: hidden; text-overflow: ellipsis; \" colspan=\"1\"><div style=\"text-align: left;border-bottom: solid 2px #000; padding-bottom: 5px\">PL</div></td><td style=\"white-space: nowrap; max-width: 500px; overflow: hidden; text-overflow: ellipsis; \" colspan=\"1\"><div style=\"text-align: left;border-bottom: solid 2px #000; padding-bottom: 5px\">AD</div></td><td style=\"white-space: nowrap; max-width: 500px; overflow: hidden; text-overflow: ellipsis; \" colspan=\"1\"><div style=\"text-align: left;border-bottom: solid 2px #000; padding-bottom: 5px\">low_DP</div></td></tr><tr><td style=\"white-space: nowrap; max-width: 500px; overflow: hidden; text-overflow: ellipsis; text-align: left;\">locus&lt;GRCh38&gt;</td><td style=\"white-space: nowrap; max-width: 500px; overflow: hidden; text-overflow: ellipsis; text-align: left;\">array&lt;str&gt;</td><td style=\"white-space: nowrap; max-width: 500px; overflow: hidden; text-overflow: ellipsis; text-align: left;\">call</td><td style=\"white-space: nowrap; max-width: 500px; overflow: hidden; text-overflow: ellipsis; text-align: left;\">int32</td><td style=\"white-space: nowrap; max-width: 500px; overflow: hidden; text-overflow: ellipsis; text-align: left;\">array&lt;int32&gt;</td><td style=\"white-space: nowrap; max-width: 500px; overflow: hidden; text-overflow: ellipsis; text-align: left;\">array&lt;int32&gt;</td><td style=\"white-space: nowrap; max-width: 500px; overflow: hidden; text-overflow: ellipsis; text-align: left;\">bool</td><td style=\"white-space: nowrap; max-width: 500px; overflow: hidden; text-overflow: ellipsis; text-align: left;\">call</td><td style=\"white-space: nowrap; max-width: 500px; overflow: hidden; text-overflow: ellipsis; text-align: left;\">int32</td><td style=\"white-space: nowrap; max-width: 500px; overflow: hidden; text-overflow: ellipsis; text-align: left;\">array&lt;int32&gt;</td><td style=\"white-space: nowrap; max-width: 500px; overflow: hidden; text-overflow: ellipsis; text-align: left;\">array&lt;int32&gt;</td><td style=\"white-space: nowrap; max-width: 500px; overflow: hidden; text-overflow: ellipsis; text-align: left;\">bool</td></tr>\n",
       "</thead><tbody><tr><td style=\"white-space: nowrap; max-width: 500px; overflow: hidden; text-overflow: ellipsis; \">chr2:150</td><td style=\"white-space: nowrap; max-width: 500px; overflow: hidden; text-overflow: ellipsis; \">[&quot;T&quot;,&quot;C&quot;]</td><td style=\"white-space: nowrap; max-width: 500px; overflow: hidden; text-overflow: ellipsis; \">1/1</td><td style=\"white-space: nowrap; max-width: 500px; overflow: hidden; text-overflow: ellipsis; \">14</td><td style=\"white-space: nowrap; max-width: 500px; overflow: hidden; text-overflow: ellipsis; \">[0,30,100]</td><td style=\"white-space: nowrap; max-width: 500px; overflow: hidden; text-overflow: ellipsis; \">[5,9]</td><td style=\"white-space: nowrap; max-width: 500px; overflow: hidden; text-overflow: ellipsis; \">True</td><td style=\"white-space: nowrap; max-width: 500px; overflow: hidden; text-overflow: ellipsis; \">0/0</td><td style=\"white-space: nowrap; max-width: 500px; overflow: hidden; text-overflow: ellipsis; \">15</td><td style=\"white-space: nowrap; max-width: 500px; overflow: hidden; text-overflow: ellipsis; \">[100,0,120]</td><td style=\"white-space: nowrap; max-width: 500px; overflow: hidden; text-overflow: ellipsis; \">[15,0]</td><td style=\"white-space: nowrap; max-width: 500px; overflow: hidden; text-overflow: ellipsis; \">False</td></tr>\n",
       "<tr><td style=\"white-space: nowrap; max-width: 500px; overflow: hidden; text-overflow: ellipsis; \">chr2:250</td><td style=\"white-space: nowrap; max-width: 500px; overflow: hidden; text-overflow: ellipsis; \">[&quot;A&quot;,&quot;G&quot;]</td><td style=\"white-space: nowrap; max-width: 500px; overflow: hidden; text-overflow: ellipsis; \">0/0</td><td style=\"white-space: nowrap; max-width: 500px; overflow: hidden; text-overflow: ellipsis; \">22</td><td style=\"white-space: nowrap; max-width: 500px; overflow: hidden; text-overflow: ellipsis; \">[120,0,60]</td><td style=\"white-space: nowrap; max-width: 500px; overflow: hidden; text-overflow: ellipsis; \">[20,2]</td><td style=\"white-space: nowrap; max-width: 500px; overflow: hidden; text-overflow: ellipsis; \">False</td><td style=\"white-space: nowrap; max-width: 500px; overflow: hidden; text-overflow: ellipsis; \">0/1</td><td style=\"white-space: nowrap; max-width: 500px; overflow: hidden; text-overflow: ellipsis; \">21</td><td style=\"white-space: nowrap; max-width: 500px; overflow: hidden; text-overflow: ellipsis; \">[50,30,0]</td><td style=\"white-space: nowrap; max-width: 500px; overflow: hidden; text-overflow: ellipsis; \">[15,6]</td><td style=\"white-space: nowrap; max-width: 500px; overflow: hidden; text-overflow: ellipsis; \">False</td></tr>\n",
       "<tr><td style=\"white-space: nowrap; max-width: 500px; overflow: hidden; text-overflow: ellipsis; \">chr2:350</td><td style=\"white-space: nowrap; max-width: 500px; overflow: hidden; text-overflow: ellipsis; \">[&quot;C&quot;,&quot;T&quot;]</td><td style=\"white-space: nowrap; max-width: 500px; overflow: hidden; text-overflow: ellipsis; \">0/1</td><td style=\"white-space: nowrap; max-width: 500px; overflow: hidden; text-overflow: ellipsis; \">16</td><td style=\"white-space: nowrap; max-width: 500px; overflow: hidden; text-overflow: ellipsis; \">[70,10,0]</td><td style=\"white-space: nowrap; max-width: 500px; overflow: hidden; text-overflow: ellipsis; \">[8,8]</td><td style=\"white-space: nowrap; max-width: 500px; overflow: hidden; text-overflow: ellipsis; \">False</td><td style=\"white-space: nowrap; max-width: 500px; overflow: hidden; text-overflow: ellipsis; \">0/0</td><td style=\"white-space: nowrap; max-width: 500px; overflow: hidden; text-overflow: ellipsis; \">15</td><td style=\"white-space: nowrap; max-width: 500px; overflow: hidden; text-overflow: ellipsis; \">[100,0,120]</td><td style=\"white-space: nowrap; max-width: 500px; overflow: hidden; text-overflow: ellipsis; \">[15,0]</td><td style=\"white-space: nowrap; max-width: 500px; overflow: hidden; text-overflow: ellipsis; \">False</td></tr>\n",
       "</tbody></table><p style=\"background: #fdd; padding: 0.4em;\">showing the first 2 of 10 columns</p>\n"
      ],
      "text/plain": [
       "+---------------+------------+--------------+--------------+--------------+\n",
       "| locus         | alleles    | 'Sample1'.GT | 'Sample1'.DP | 'Sample1'.PL |\n",
       "+---------------+------------+--------------+--------------+--------------+\n",
       "| locus<GRCh38> | array<str> | call         |        int32 | array<int32> |\n",
       "+---------------+------------+--------------+--------------+--------------+\n",
       "| chr2:150      | [\"T\",\"C\"]  | 1/1          |           14 | [0,30,100]   |\n",
       "| chr2:250      | [\"A\",\"G\"]  | 0/0          |           22 | [120,0,60]   |\n",
       "| chr2:350      | [\"C\",\"T\"]  | 0/1          |           16 | [70,10,0]    |\n",
       "+---------------+------------+--------------+--------------+--------------+\n",
       "\n",
       "+--------------+------------------+--------------+--------------+--------------+\n",
       "| 'Sample1'.AD | 'Sample1'.low_DP | 'Sample2'.GT | 'Sample2'.DP | 'Sample2'.PL |\n",
       "+--------------+------------------+--------------+--------------+--------------+\n",
       "| array<int32> |             bool | call         |        int32 | array<int32> |\n",
       "+--------------+------------------+--------------+--------------+--------------+\n",
       "| [5,9]        |             True | 0/0          |           15 | [100,0,120]  |\n",
       "| [20,2]       |            False | 0/1          |           21 | [50,30,0]    |\n",
       "| [8,8]        |            False | 0/0          |           15 | [100,0,120]  |\n",
       "+--------------+------------------+--------------+--------------+--------------+\n",
       "\n",
       "+--------------+------------------+\n",
       "| 'Sample2'.AD | 'Sample2'.low_DP |\n",
       "+--------------+------------------+\n",
       "| array<int32> |             bool |\n",
       "+--------------+------------------+\n",
       "| [15,0]       |            False |\n",
       "| [15,6]       |            False |\n",
       "| [15,0]       |            False |\n",
       "+--------------+------------------+\n",
       "showing the first 2 of 10 columns"
      ]
     },
     "metadata": {},
     "output_type": "display_data"
    }
   ],
   "source": [
    "mt.filter_rows(\n",
    "    mt.locus.contig == 'chr2'\n",
    ").show(n_rows=3, n_cols=2)"
   ]
  },
  {
   "cell_type": "markdown",
   "id": "0a862ebf-5b98-4640-a0eb-5e97bfa94528",
   "metadata": {},
   "source": [
    "# Head and Tail of the Dataset\n",
    "\n",
    "[`MatrixTable.head`](https://hail.is/docs/0.2/hail.MatrixTable.html#hail.MatrixTable.head) and [`MatrixTable.tail`](https://hail.is/docs/0.2/hail.MatrixTable.html#hail.MatrixTable.tail) filter the dataset to corners of the matrix."
   ]
  },
  {
   "cell_type": "code",
   "execution_count": 31,
   "id": "17887833-62af-4e1f-83f6-ccd8a60540df",
   "metadata": {},
   "outputs": [
    {
     "data": {
      "text/html": [
       "<table><thead><tr><td style=\"white-space: nowrap; max-width: 500px; overflow: hidden; text-overflow: ellipsis; \" colspan=\"1\"><div style=\"text-align: left;\"></div></td><td style=\"white-space: nowrap; max-width: 500px; overflow: hidden; text-overflow: ellipsis; \" colspan=\"1\"><div style=\"text-align: left;\"></div></td><td style=\"white-space: nowrap; max-width: 500px; overflow: hidden; text-overflow: ellipsis; \" colspan=\"1\"><div style=\"text-align: left;\"></div></td><td style=\"white-space: nowrap; max-width: 500px; overflow: hidden; text-overflow: ellipsis; \" colspan=\"1\"><div style=\"text-align: left;\"></div></td><td style=\"white-space: nowrap; max-width: 500px; overflow: hidden; text-overflow: ellipsis; \" colspan=\"1\"><div style=\"text-align: left;\"></div></td></tr><tr><td style=\"white-space: nowrap; max-width: 500px; overflow: hidden; text-overflow: ellipsis; \" colspan=\"1\"><div style=\"text-align: left;\"></div></td><td style=\"white-space: nowrap; max-width: 500px; overflow: hidden; text-overflow: ellipsis; \" colspan=\"1\"><div style=\"text-align: left;\"></div></td><td style=\"white-space: nowrap; max-width: 500px; overflow: hidden; text-overflow: ellipsis; \" colspan=\"1\"><div style=\"text-align: left;border-bottom: solid 2px #000; padding-bottom: 5px\">&#x27;Sample1&#x27;</div></td><td style=\"white-space: nowrap; max-width: 500px; overflow: hidden; text-overflow: ellipsis; \" colspan=\"1\"><div style=\"text-align: left;border-bottom: solid 2px #000; padding-bottom: 5px\">&#x27;Sample2&#x27;</div></td><td style=\"white-space: nowrap; max-width: 500px; overflow: hidden; text-overflow: ellipsis; \" colspan=\"1\"><div style=\"text-align: left;border-bottom: solid 2px #000; padding-bottom: 5px\">&#x27;Sample3&#x27;</div></td></tr><tr><td style=\"white-space: nowrap; max-width: 500px; overflow: hidden; text-overflow: ellipsis; \" colspan=\"1\"><div style=\"text-align: left;border-bottom: solid 2px #000; padding-bottom: 5px\">locus</div></td><td style=\"white-space: nowrap; max-width: 500px; overflow: hidden; text-overflow: ellipsis; \" colspan=\"1\"><div style=\"text-align: left;border-bottom: solid 2px #000; padding-bottom: 5px\">alleles</div></td><td style=\"white-space: nowrap; max-width: 500px; overflow: hidden; text-overflow: ellipsis; \" colspan=\"1\"><div style=\"text-align: left;border-bottom: solid 2px #000; padding-bottom: 5px\">GT</div></td><td style=\"white-space: nowrap; max-width: 500px; overflow: hidden; text-overflow: ellipsis; \" colspan=\"1\"><div style=\"text-align: left;border-bottom: solid 2px #000; padding-bottom: 5px\">GT</div></td><td style=\"white-space: nowrap; max-width: 500px; overflow: hidden; text-overflow: ellipsis; \" colspan=\"1\"><div style=\"text-align: left;border-bottom: solid 2px #000; padding-bottom: 5px\">GT</div></td></tr><tr><td style=\"white-space: nowrap; max-width: 500px; overflow: hidden; text-overflow: ellipsis; text-align: left;\">locus&lt;GRCh38&gt;</td><td style=\"white-space: nowrap; max-width: 500px; overflow: hidden; text-overflow: ellipsis; text-align: left;\">array&lt;str&gt;</td><td style=\"white-space: nowrap; max-width: 500px; overflow: hidden; text-overflow: ellipsis; text-align: left;\">call</td><td style=\"white-space: nowrap; max-width: 500px; overflow: hidden; text-overflow: ellipsis; text-align: left;\">call</td><td style=\"white-space: nowrap; max-width: 500px; overflow: hidden; text-overflow: ellipsis; text-align: left;\">call</td></tr>\n",
       "</thead><tbody><tr><td style=\"white-space: nowrap; max-width: 500px; overflow: hidden; text-overflow: ellipsis; \">chr1:100</td><td style=\"white-space: nowrap; max-width: 500px; overflow: hidden; text-overflow: ellipsis; \">[&quot;A&quot;,&quot;G&quot;]</td><td style=\"white-space: nowrap; max-width: 500px; overflow: hidden; text-overflow: ellipsis; \">0/1</td><td style=\"white-space: nowrap; max-width: 500px; overflow: hidden; text-overflow: ellipsis; \">0/1</td><td style=\"white-space: nowrap; max-width: 500px; overflow: hidden; text-overflow: ellipsis; \">0/0</td></tr>\n",
       "<tr><td style=\"white-space: nowrap; max-width: 500px; overflow: hidden; text-overflow: ellipsis; \">chr1:200</td><td style=\"white-space: nowrap; max-width: 500px; overflow: hidden; text-overflow: ellipsis; \">[&quot;C&quot;,&quot;T&quot;]</td><td style=\"white-space: nowrap; max-width: 500px; overflow: hidden; text-overflow: ellipsis; \">0/0</td><td style=\"white-space: nowrap; max-width: 500px; overflow: hidden; text-overflow: ellipsis; \">1/1</td><td style=\"white-space: nowrap; max-width: 500px; overflow: hidden; text-overflow: ellipsis; \">0/1</td></tr>\n",
       "<tr><td style=\"white-space: nowrap; max-width: 500px; overflow: hidden; text-overflow: ellipsis; \">chr1:300</td><td style=\"white-space: nowrap; max-width: 500px; overflow: hidden; text-overflow: ellipsis; \">[&quot;G&quot;,&quot;A&quot;]</td><td style=\"white-space: nowrap; max-width: 500px; overflow: hidden; text-overflow: ellipsis; \">0/1</td><td style=\"white-space: nowrap; max-width: 500px; overflow: hidden; text-overflow: ellipsis; \">0/0</td><td style=\"white-space: nowrap; max-width: 500px; overflow: hidden; text-overflow: ellipsis; \">0/1</td></tr>\n",
       "</tbody></table>"
      ],
      "text/plain": [
       "+---------------+------------+--------------+--------------+--------------+\n",
       "| locus         | alleles    | 'Sample1'.GT | 'Sample2'.GT | 'Sample3'.GT |\n",
       "+---------------+------------+--------------+--------------+--------------+\n",
       "| locus<GRCh38> | array<str> | call         | call         | call         |\n",
       "+---------------+------------+--------------+--------------+--------------+\n",
       "| chr1:100      | [\"A\",\"G\"]  | 0/1          | 0/1          | 0/0          |\n",
       "| chr1:200      | [\"C\",\"T\"]  | 0/0          | 1/1          | 0/1          |\n",
       "| chr1:300      | [\"G\",\"A\"]  | 0/1          | 0/0          | 0/1          |\n",
       "+---------------+------------+--------------+--------------+--------------+"
      ]
     },
     "metadata": {},
     "output_type": "display_data"
    }
   ],
   "source": [
    "mt.head(n_rows=3, n_cols=3).GT.show()"
   ]
  },
  {
   "cell_type": "markdown",
   "id": "3932a993-780e-44e0-9e05-053acfa158e2",
   "metadata": {},
   "source": [
    "There is currently a bug in `tail`: it calls `n_rows` `n`. This will be fixed in 0.2.121."
   ]
  },
  {
   "cell_type": "code",
   "execution_count": 32,
   "id": "816d32db-beca-4b63-95d3-38f8e79f32ad",
   "metadata": {},
   "outputs": [
    {
     "data": {
      "text/html": [
       "<table><thead><tr><td style=\"white-space: nowrap; max-width: 500px; overflow: hidden; text-overflow: ellipsis; \" colspan=\"1\"><div style=\"text-align: left;\"></div></td><td style=\"white-space: nowrap; max-width: 500px; overflow: hidden; text-overflow: ellipsis; \" colspan=\"1\"><div style=\"text-align: left;\"></div></td><td style=\"white-space: nowrap; max-width: 500px; overflow: hidden; text-overflow: ellipsis; \" colspan=\"1\"><div style=\"text-align: left;\"></div></td><td style=\"white-space: nowrap; max-width: 500px; overflow: hidden; text-overflow: ellipsis; \" colspan=\"1\"><div style=\"text-align: left;\"></div></td><td style=\"white-space: nowrap; max-width: 500px; overflow: hidden; text-overflow: ellipsis; \" colspan=\"1\"><div style=\"text-align: left;\"></div></td></tr><tr><td style=\"white-space: nowrap; max-width: 500px; overflow: hidden; text-overflow: ellipsis; \" colspan=\"1\"><div style=\"text-align: left;\"></div></td><td style=\"white-space: nowrap; max-width: 500px; overflow: hidden; text-overflow: ellipsis; \" colspan=\"1\"><div style=\"text-align: left;\"></div></td><td style=\"white-space: nowrap; max-width: 500px; overflow: hidden; text-overflow: ellipsis; \" colspan=\"1\"><div style=\"text-align: left;border-bottom: solid 2px #000; padding-bottom: 5px\">&#x27;Sample8&#x27;</div></td><td style=\"white-space: nowrap; max-width: 500px; overflow: hidden; text-overflow: ellipsis; \" colspan=\"1\"><div style=\"text-align: left;border-bottom: solid 2px #000; padding-bottom: 5px\">&#x27;Sample9&#x27;</div></td><td style=\"white-space: nowrap; max-width: 500px; overflow: hidden; text-overflow: ellipsis; \" colspan=\"1\"><div style=\"text-align: left;border-bottom: solid 2px #000; padding-bottom: 5px\">&#x27;Sample10&#x27;</div></td></tr><tr><td style=\"white-space: nowrap; max-width: 500px; overflow: hidden; text-overflow: ellipsis; \" colspan=\"1\"><div style=\"text-align: left;border-bottom: solid 2px #000; padding-bottom: 5px\">locus</div></td><td style=\"white-space: nowrap; max-width: 500px; overflow: hidden; text-overflow: ellipsis; \" colspan=\"1\"><div style=\"text-align: left;border-bottom: solid 2px #000; padding-bottom: 5px\">alleles</div></td><td style=\"white-space: nowrap; max-width: 500px; overflow: hidden; text-overflow: ellipsis; \" colspan=\"1\"><div style=\"text-align: left;border-bottom: solid 2px #000; padding-bottom: 5px\">GT</div></td><td style=\"white-space: nowrap; max-width: 500px; overflow: hidden; text-overflow: ellipsis; \" colspan=\"1\"><div style=\"text-align: left;border-bottom: solid 2px #000; padding-bottom: 5px\">GT</div></td><td style=\"white-space: nowrap; max-width: 500px; overflow: hidden; text-overflow: ellipsis; \" colspan=\"1\"><div style=\"text-align: left;border-bottom: solid 2px #000; padding-bottom: 5px\">GT</div></td></tr><tr><td style=\"white-space: nowrap; max-width: 500px; overflow: hidden; text-overflow: ellipsis; text-align: left;\">locus&lt;GRCh38&gt;</td><td style=\"white-space: nowrap; max-width: 500px; overflow: hidden; text-overflow: ellipsis; text-align: left;\">array&lt;str&gt;</td><td style=\"white-space: nowrap; max-width: 500px; overflow: hidden; text-overflow: ellipsis; text-align: left;\">call</td><td style=\"white-space: nowrap; max-width: 500px; overflow: hidden; text-overflow: ellipsis; text-align: left;\">call</td><td style=\"white-space: nowrap; max-width: 500px; overflow: hidden; text-overflow: ellipsis; text-align: left;\">call</td></tr>\n",
       "</thead><tbody><tr><td style=\"white-space: nowrap; max-width: 500px; overflow: hidden; text-overflow: ellipsis; \">chr3:120</td><td style=\"white-space: nowrap; max-width: 500px; overflow: hidden; text-overflow: ellipsis; \">[&quot;G&quot;,&quot;A&quot;]</td><td style=\"white-space: nowrap; max-width: 500px; overflow: hidden; text-overflow: ellipsis; \">0/0</td><td style=\"white-space: nowrap; max-width: 500px; overflow: hidden; text-overflow: ellipsis; \">0/1</td><td style=\"white-space: nowrap; max-width: 500px; overflow: hidden; text-overflow: ellipsis; \">1/1</td></tr>\n",
       "<tr><td style=\"white-space: nowrap; max-width: 500px; overflow: hidden; text-overflow: ellipsis; \">chr3:220</td><td style=\"white-space: nowrap; max-width: 500px; overflow: hidden; text-overflow: ellipsis; \">[&quot;T&quot;,&quot;C&quot;]</td><td style=\"white-space: nowrap; max-width: 500px; overflow: hidden; text-overflow: ellipsis; \">0/0</td><td style=\"white-space: nowrap; max-width: 500px; overflow: hidden; text-overflow: ellipsis; \">0/1</td><td style=\"white-space: nowrap; max-width: 500px; overflow: hidden; text-overflow: ellipsis; \">0/1</td></tr>\n",
       "<tr><td style=\"white-space: nowrap; max-width: 500px; overflow: hidden; text-overflow: ellipsis; \">chr3:320</td><td style=\"white-space: nowrap; max-width: 500px; overflow: hidden; text-overflow: ellipsis; \">[&quot;A&quot;,&quot;G&quot;]</td><td style=\"white-space: nowrap; max-width: 500px; overflow: hidden; text-overflow: ellipsis; \">0/0</td><td style=\"white-space: nowrap; max-width: 500px; overflow: hidden; text-overflow: ellipsis; \">0/1</td><td style=\"white-space: nowrap; max-width: 500px; overflow: hidden; text-overflow: ellipsis; \">1/1</td></tr>\n",
       "</tbody></table>"
      ],
      "text/plain": [
       "+---------------+------------+--------------+--------------+---------------+\n",
       "| locus         | alleles    | 'Sample8'.GT | 'Sample9'.GT | 'Sample10'.GT |\n",
       "+---------------+------------+--------------+--------------+---------------+\n",
       "| locus<GRCh38> | array<str> | call         | call         | call          |\n",
       "+---------------+------------+--------------+--------------+---------------+\n",
       "| chr3:120      | [\"G\",\"A\"]  | 0/0          | 0/1          | 1/1           |\n",
       "| chr3:220      | [\"T\",\"C\"]  | 0/0          | 0/1          | 0/1           |\n",
       "| chr3:320      | [\"A\",\"G\"]  | 0/0          | 0/1          | 1/1           |\n",
       "+---------------+------------+--------------+--------------+---------------+"
      ]
     },
     "metadata": {},
     "output_type": "display_data"
    }
   ],
   "source": [
    "mt.tail(n=3, n_cols=3).GT.show()"
   ]
  },
  {
   "cell_type": "markdown",
   "id": "5519d13f-49e4-4bf2-a071-8cdcd744e680",
   "metadata": {},
   "source": [
    "Head and tail can be combined to filter to the top-right or bottom-left corners of the matrix."
   ]
  },
  {
   "cell_type": "code",
   "execution_count": 33,
   "id": "c60d5124-5d07-46d6-9be3-953dd49035ac",
   "metadata": {},
   "outputs": [
    {
     "data": {
      "text/html": [
       "<table><thead><tr><td style=\"white-space: nowrap; max-width: 500px; overflow: hidden; text-overflow: ellipsis; \" colspan=\"1\"><div style=\"text-align: left;\"></div></td><td style=\"white-space: nowrap; max-width: 500px; overflow: hidden; text-overflow: ellipsis; \" colspan=\"1\"><div style=\"text-align: left;\"></div></td><td style=\"white-space: nowrap; max-width: 500px; overflow: hidden; text-overflow: ellipsis; \" colspan=\"1\"><div style=\"text-align: left;\"></div></td><td style=\"white-space: nowrap; max-width: 500px; overflow: hidden; text-overflow: ellipsis; \" colspan=\"1\"><div style=\"text-align: left;\"></div></td><td style=\"white-space: nowrap; max-width: 500px; overflow: hidden; text-overflow: ellipsis; \" colspan=\"1\"><div style=\"text-align: left;\"></div></td></tr><tr><td style=\"white-space: nowrap; max-width: 500px; overflow: hidden; text-overflow: ellipsis; \" colspan=\"1\"><div style=\"text-align: left;\"></div></td><td style=\"white-space: nowrap; max-width: 500px; overflow: hidden; text-overflow: ellipsis; \" colspan=\"1\"><div style=\"text-align: left;\"></div></td><td style=\"white-space: nowrap; max-width: 500px; overflow: hidden; text-overflow: ellipsis; \" colspan=\"1\"><div style=\"text-align: left;border-bottom: solid 2px #000; padding-bottom: 5px\">&#x27;Sample8&#x27;</div></td><td style=\"white-space: nowrap; max-width: 500px; overflow: hidden; text-overflow: ellipsis; \" colspan=\"1\"><div style=\"text-align: left;border-bottom: solid 2px #000; padding-bottom: 5px\">&#x27;Sample9&#x27;</div></td><td style=\"white-space: nowrap; max-width: 500px; overflow: hidden; text-overflow: ellipsis; \" colspan=\"1\"><div style=\"text-align: left;border-bottom: solid 2px #000; padding-bottom: 5px\">&#x27;Sample10&#x27;</div></td></tr><tr><td style=\"white-space: nowrap; max-width: 500px; overflow: hidden; text-overflow: ellipsis; \" colspan=\"1\"><div style=\"text-align: left;border-bottom: solid 2px #000; padding-bottom: 5px\">locus</div></td><td style=\"white-space: nowrap; max-width: 500px; overflow: hidden; text-overflow: ellipsis; \" colspan=\"1\"><div style=\"text-align: left;border-bottom: solid 2px #000; padding-bottom: 5px\">alleles</div></td><td style=\"white-space: nowrap; max-width: 500px; overflow: hidden; text-overflow: ellipsis; \" colspan=\"1\"><div style=\"text-align: left;border-bottom: solid 2px #000; padding-bottom: 5px\">GT</div></td><td style=\"white-space: nowrap; max-width: 500px; overflow: hidden; text-overflow: ellipsis; \" colspan=\"1\"><div style=\"text-align: left;border-bottom: solid 2px #000; padding-bottom: 5px\">GT</div></td><td style=\"white-space: nowrap; max-width: 500px; overflow: hidden; text-overflow: ellipsis; \" colspan=\"1\"><div style=\"text-align: left;border-bottom: solid 2px #000; padding-bottom: 5px\">GT</div></td></tr><tr><td style=\"white-space: nowrap; max-width: 500px; overflow: hidden; text-overflow: ellipsis; text-align: left;\">locus&lt;GRCh38&gt;</td><td style=\"white-space: nowrap; max-width: 500px; overflow: hidden; text-overflow: ellipsis; text-align: left;\">array&lt;str&gt;</td><td style=\"white-space: nowrap; max-width: 500px; overflow: hidden; text-overflow: ellipsis; text-align: left;\">call</td><td style=\"white-space: nowrap; max-width: 500px; overflow: hidden; text-overflow: ellipsis; text-align: left;\">call</td><td style=\"white-space: nowrap; max-width: 500px; overflow: hidden; text-overflow: ellipsis; text-align: left;\">call</td></tr>\n",
       "</thead><tbody><tr><td style=\"white-space: nowrap; max-width: 500px; overflow: hidden; text-overflow: ellipsis; \">chr1:100</td><td style=\"white-space: nowrap; max-width: 500px; overflow: hidden; text-overflow: ellipsis; \">[&quot;A&quot;,&quot;G&quot;]</td><td style=\"white-space: nowrap; max-width: 500px; overflow: hidden; text-overflow: ellipsis; \">0/1</td><td style=\"white-space: nowrap; max-width: 500px; overflow: hidden; text-overflow: ellipsis; \">0/0</td><td style=\"white-space: nowrap; max-width: 500px; overflow: hidden; text-overflow: ellipsis; \">0/1</td></tr>\n",
       "<tr><td style=\"white-space: nowrap; max-width: 500px; overflow: hidden; text-overflow: ellipsis; \">chr1:200</td><td style=\"white-space: nowrap; max-width: 500px; overflow: hidden; text-overflow: ellipsis; \">[&quot;C&quot;,&quot;T&quot;]</td><td style=\"white-space: nowrap; max-width: 500px; overflow: hidden; text-overflow: ellipsis; \">0/0</td><td style=\"white-space: nowrap; max-width: 500px; overflow: hidden; text-overflow: ellipsis; \">1/1</td><td style=\"white-space: nowrap; max-width: 500px; overflow: hidden; text-overflow: ellipsis; \">0/0</td></tr>\n",
       "<tr><td style=\"white-space: nowrap; max-width: 500px; overflow: hidden; text-overflow: ellipsis; \">chr1:300</td><td style=\"white-space: nowrap; max-width: 500px; overflow: hidden; text-overflow: ellipsis; \">[&quot;G&quot;,&quot;A&quot;]</td><td style=\"white-space: nowrap; max-width: 500px; overflow: hidden; text-overflow: ellipsis; \">0/0</td><td style=\"white-space: nowrap; max-width: 500px; overflow: hidden; text-overflow: ellipsis; \">0/1</td><td style=\"white-space: nowrap; max-width: 500px; overflow: hidden; text-overflow: ellipsis; \">1/1</td></tr>\n",
       "</tbody></table>"
      ],
      "text/plain": [
       "+---------------+------------+--------------+--------------+---------------+\n",
       "| locus         | alleles    | 'Sample8'.GT | 'Sample9'.GT | 'Sample10'.GT |\n",
       "+---------------+------------+--------------+--------------+---------------+\n",
       "| locus<GRCh38> | array<str> | call         | call         | call          |\n",
       "+---------------+------------+--------------+--------------+---------------+\n",
       "| chr1:100      | [\"A\",\"G\"]  | 0/1          | 0/0          | 0/1           |\n",
       "| chr1:200      | [\"C\",\"T\"]  | 0/0          | 1/1          | 0/0           |\n",
       "| chr1:300      | [\"G\",\"A\"]  | 0/0          | 0/1          | 1/1           |\n",
       "+---------------+------------+--------------+--------------+---------------+"
      ]
     },
     "metadata": {},
     "output_type": "display_data"
    }
   ],
   "source": [
    "mt.head(n_rows=3, n_cols=None).tail(n=None, n_cols=3).GT.show()"
   ]
  },
  {
   "cell_type": "markdown",
   "id": "a8ac4d8f-1bc9-41aa-9e96-08191a2e5523",
   "metadata": {},
   "source": [
    "# Aggregating Rows, Columns, and Entries"
   ]
  },
  {
   "cell_type": "markdown",
   "id": "c962ad8d-aeb3-4cbb-af88-f02cd4a26cd0",
   "metadata": {},
   "source": [
    "[`MatrixTable.aggregate_entries`](https://hail.is/docs/0.2/hail.MatrixTable.html#hail.MatrixTable.aggregate_entries) aggregates the entire dataset into a single Python value. [`hl.agg.group_by`](https://hail.is/docs/0.2/aggregators.html#hail.expr.aggregators.group_by) partitions values into groups and aggregates each group separately."
   ]
  },
  {
   "cell_type": "code",
   "execution_count": 34,
   "id": "ae7bc6dc-1640-4141-8c08-1069d1e41026",
   "metadata": {},
   "outputs": [
    {
     "data": {
      "text/plain": [
       "{Call(alleles=[0, 0], phased=False): 30,\n",
       " Call(alleles=[0, 1], phased=False): 36,\n",
       " Call(alleles=[1, 1], phased=False): 24}"
      ]
     },
     "execution_count": 34,
     "metadata": {},
     "output_type": "execute_result"
    }
   ],
   "source": [
    "mt.aggregate_entries(\n",
    "    hl.agg.group_by(mt.GT, hl.agg.count())\n",
    ")"
   ]
  },
  {
   "cell_type": "markdown",
   "id": "1a108f01-65a2-4937-9c0e-ccaaca76f4bb",
   "metadata": {},
   "source": [
    "[`MatrixTable.aggregate_rows`](https://hail.is/docs/0.2/hail.MatrixTable.html#hail.MatrixTable.aggregate_rows) and [`MatrixTable.aggregate_cols`](https://hail.is/docs/0.2/hail.MatrixTable.html#hail.MatrixTable.aggregate_cols) respectively aggregate all the row fields or all the column fields into a single Python value.\n",
    "\n",
    "[`hl.agg.stats`](https://hail.is/docs/0.2/aggregators.html#hail.expr.aggregators.stats) computes the mean, standard deviation, min, max, count, and sum of a numeric field."
   ]
  },
  {
   "cell_type": "code",
   "execution_count": 35,
   "id": "1356ae2c-eb95-4f4f-b3d7-47c30dece8ff",
   "metadata": {},
   "outputs": [
    {
     "data": {
      "text/plain": [
       "Struct(mean=184.33333333333334, stdev=29.154759474226502, min=133.0, max=230.0, n=9, sum=1659.0)"
      ]
     },
     "execution_count": 35,
     "metadata": {},
     "output_type": "execute_result"
    }
   ],
   "source": [
    "mt.aggregate_rows(\n",
    "    hl.agg.stats(mt.info.DP)\n",
    ")"
   ]
  },
  {
   "cell_type": "code",
   "execution_count": 36,
   "id": "df0b182f-0ace-4ff1-8bb4-ee4a41130ed2",
   "metadata": {},
   "outputs": [
    {
     "data": {
      "text/plain": [
       "Struct(mean=5.721663734584305, stdev=0.23554996630829225, min=5.40914812286674, max=6.16587388761934, n=10, sum=57.21663734584305)"
      ]
     },
     "execution_count": 36,
     "metadata": {},
     "output_type": "execute_result"
    }
   ],
   "source": [
    "mt.aggregate_cols(\n",
    "    hl.agg.stats(mt.height_ft)\n",
    ")"
   ]
  },
  {
   "cell_type": "markdown",
   "id": "49aaa243-c9f7-46f6-bd27-66c2055eb72a",
   "metadata": {},
   "source": [
    "[`MatrixTable.annotate_rows`](https://hail.is/docs/0.2/hail.MatrixTable.html#hail.MatrixTable.annotate_rows) permits aggregating the entries of each row separately. This produces a single Hail value for each row which is necessarily stored in a row field. [`CallExpression.n_alt_alleles`](https://hail.is/docs/0.2/hail.expr.CallExpression.html#hail.expr.CallExpression.n_alt_alleles) returns the number of alternate alleles in the genotype call. For example, `0/0` has zero alternate alleles and `1/1` has two."
   ]
  },
  {
   "cell_type": "code",
   "execution_count": 37,
   "id": "a0c4b821-16f8-4cce-aa36-cb1daf2f86f4",
   "metadata": {},
   "outputs": [
    {
     "data": {
      "text/html": [
       "<table><thead><tr><td style=\"white-space: nowrap; max-width: 500px; overflow: hidden; text-overflow: ellipsis; \" colspan=\"1\"><div style=\"text-align: left;\"></div></td><td style=\"white-space: nowrap; max-width: 500px; overflow: hidden; text-overflow: ellipsis; \" colspan=\"1\"><div style=\"text-align: left;\"></div></td><td style=\"white-space: nowrap; max-width: 500px; overflow: hidden; text-overflow: ellipsis; \" colspan=\"1\"><div style=\"text-align: left;\"></div></td></tr><tr><td style=\"white-space: nowrap; max-width: 500px; overflow: hidden; text-overflow: ellipsis; \" colspan=\"1\"><div style=\"text-align: left;border-bottom: solid 2px #000; padding-bottom: 5px\">locus</div></td><td style=\"white-space: nowrap; max-width: 500px; overflow: hidden; text-overflow: ellipsis; \" colspan=\"1\"><div style=\"text-align: left;border-bottom: solid 2px #000; padding-bottom: 5px\">alleles</div></td><td style=\"white-space: nowrap; max-width: 500px; overflow: hidden; text-overflow: ellipsis; \" colspan=\"1\"><div style=\"text-align: left;border-bottom: solid 2px #000; padding-bottom: 5px\">alternate_allele_frequency</div></td></tr><tr><td style=\"white-space: nowrap; max-width: 500px; overflow: hidden; text-overflow: ellipsis; text-align: left;\">locus&lt;GRCh38&gt;</td><td style=\"white-space: nowrap; max-width: 500px; overflow: hidden; text-overflow: ellipsis; text-align: left;\">array&lt;str&gt;</td><td style=\"white-space: nowrap; max-width: 500px; overflow: hidden; text-overflow: ellipsis; text-align: left;\">float64</td></tr>\n",
       "</thead><tbody><tr><td style=\"white-space: nowrap; max-width: 500px; overflow: hidden; text-overflow: ellipsis; \">chr1:100</td><td style=\"white-space: nowrap; max-width: 500px; overflow: hidden; text-overflow: ellipsis; \">[&quot;A&quot;,&quot;G&quot;]</td><td style=\"white-space: nowrap; max-width: 500px; overflow: hidden; text-overflow: ellipsis; \">4.50e-01</td></tr>\n",
       "<tr><td style=\"white-space: nowrap; max-width: 500px; overflow: hidden; text-overflow: ellipsis; \">chr1:200</td><td style=\"white-space: nowrap; max-width: 500px; overflow: hidden; text-overflow: ellipsis; \">[&quot;C&quot;,&quot;T&quot;]</td><td style=\"white-space: nowrap; max-width: 500px; overflow: hidden; text-overflow: ellipsis; \">4.50e-01</td></tr>\n",
       "<tr><td style=\"white-space: nowrap; max-width: 500px; overflow: hidden; text-overflow: ellipsis; \">chr1:300</td><td style=\"white-space: nowrap; max-width: 500px; overflow: hidden; text-overflow: ellipsis; \">[&quot;G&quot;,&quot;A&quot;]</td><td style=\"white-space: nowrap; max-width: 500px; overflow: hidden; text-overflow: ellipsis; \">4.50e-01</td></tr>\n",
       "<tr><td style=\"white-space: nowrap; max-width: 500px; overflow: hidden; text-overflow: ellipsis; \">chr2:150</td><td style=\"white-space: nowrap; max-width: 500px; overflow: hidden; text-overflow: ellipsis; \">[&quot;T&quot;,&quot;C&quot;]</td><td style=\"white-space: nowrap; max-width: 500px; overflow: hidden; text-overflow: ellipsis; \">5.00e-01</td></tr>\n",
       "<tr><td style=\"white-space: nowrap; max-width: 500px; overflow: hidden; text-overflow: ellipsis; \">chr2:250</td><td style=\"white-space: nowrap; max-width: 500px; overflow: hidden; text-overflow: ellipsis; \">[&quot;A&quot;,&quot;G&quot;]</td><td style=\"white-space: nowrap; max-width: 500px; overflow: hidden; text-overflow: ellipsis; \">4.50e-01</td></tr>\n",
       "<tr><td style=\"white-space: nowrap; max-width: 500px; overflow: hidden; text-overflow: ellipsis; \">chr2:350</td><td style=\"white-space: nowrap; max-width: 500px; overflow: hidden; text-overflow: ellipsis; \">[&quot;C&quot;,&quot;T&quot;]</td><td style=\"white-space: nowrap; max-width: 500px; overflow: hidden; text-overflow: ellipsis; \">4.50e-01</td></tr>\n",
       "<tr><td style=\"white-space: nowrap; max-width: 500px; overflow: hidden; text-overflow: ellipsis; \">chr3:120</td><td style=\"white-space: nowrap; max-width: 500px; overflow: hidden; text-overflow: ellipsis; \">[&quot;G&quot;,&quot;A&quot;]</td><td style=\"white-space: nowrap; max-width: 500px; overflow: hidden; text-overflow: ellipsis; \">5.00e-01</td></tr>\n",
       "<tr><td style=\"white-space: nowrap; max-width: 500px; overflow: hidden; text-overflow: ellipsis; \">chr3:220</td><td style=\"white-space: nowrap; max-width: 500px; overflow: hidden; text-overflow: ellipsis; \">[&quot;T&quot;,&quot;C&quot;]</td><td style=\"white-space: nowrap; max-width: 500px; overflow: hidden; text-overflow: ellipsis; \">5.00e-01</td></tr>\n",
       "<tr><td style=\"white-space: nowrap; max-width: 500px; overflow: hidden; text-overflow: ellipsis; \">chr3:320</td><td style=\"white-space: nowrap; max-width: 500px; overflow: hidden; text-overflow: ellipsis; \">[&quot;A&quot;,&quot;G&quot;]</td><td style=\"white-space: nowrap; max-width: 500px; overflow: hidden; text-overflow: ellipsis; \">4.50e-01</td></tr>\n",
       "</tbody></table>"
      ],
      "text/plain": [
       "+---------------+------------+----------------------------+\n",
       "| locus         | alleles    | alternate_allele_frequency |\n",
       "+---------------+------------+----------------------------+\n",
       "| locus<GRCh38> | array<str> |                    float64 |\n",
       "+---------------+------------+----------------------------+\n",
       "| chr1:100      | [\"A\",\"G\"]  |                   4.50e-01 |\n",
       "| chr1:200      | [\"C\",\"T\"]  |                   4.50e-01 |\n",
       "| chr1:300      | [\"G\",\"A\"]  |                   4.50e-01 |\n",
       "| chr2:150      | [\"T\",\"C\"]  |                   5.00e-01 |\n",
       "| chr2:250      | [\"A\",\"G\"]  |                   4.50e-01 |\n",
       "| chr2:350      | [\"C\",\"T\"]  |                   4.50e-01 |\n",
       "| chr3:120      | [\"G\",\"A\"]  |                   5.00e-01 |\n",
       "| chr3:220      | [\"T\",\"C\"]  |                   5.00e-01 |\n",
       "| chr3:320      | [\"A\",\"G\"]  |                   4.50e-01 |\n",
       "+---------------+------------+----------------------------+"
      ]
     },
     "metadata": {},
     "output_type": "display_data"
    }
   ],
   "source": [
    "mt.annotate_rows(\n",
    "    alternate_allele_frequency = hl.agg.mean(mt.GT.n_alt_alleles()) / 2.0\n",
    ").alternate_allele_frequency.show(n=10)"
   ]
  },
  {
   "cell_type": "markdown",
   "id": "6c24db62-3f7b-442f-9e0a-5e1e63389ad2",
   "metadata": {},
   "source": [
    "[`MatrixTable.annotate_cols`](https://hail.is/docs/0.2/hail.MatrixTable.html#hail.MatrixTable.annotate_cols) likewise permits aggregating each column of entries."
   ]
  },
  {
   "cell_type": "code",
   "execution_count": 38,
   "id": "bc41f729-1cd6-4b33-9bd7-7a3aa0425c69",
   "metadata": {},
   "outputs": [
    {
     "data": {
      "text/html": [
       "<table><thead><tr><td style=\"white-space: nowrap; max-width: 500px; overflow: hidden; text-overflow: ellipsis; \" colspan=\"1\"><div style=\"text-align: left;\"></div></td><td style=\"white-space: nowrap; max-width: 500px; overflow: hidden; text-overflow: ellipsis; \" colspan=\"1\"><div style=\"text-align: left;\"></div></td></tr><tr><td style=\"white-space: nowrap; max-width: 500px; overflow: hidden; text-overflow: ellipsis; \" colspan=\"1\"><div style=\"text-align: left;border-bottom: solid 2px #000; padding-bottom: 5px\">s</div></td><td style=\"white-space: nowrap; max-width: 500px; overflow: hidden; text-overflow: ellipsis; \" colspan=\"1\"><div style=\"text-align: left;border-bottom: solid 2px #000; padding-bottom: 5px\">mean_sample_depth</div></td></tr><tr><td style=\"white-space: nowrap; max-width: 500px; overflow: hidden; text-overflow: ellipsis; text-align: left;\">str</td><td style=\"white-space: nowrap; max-width: 500px; overflow: hidden; text-overflow: ellipsis; text-align: left;\">float64</td></tr>\n",
       "</thead><tbody><tr><td style=\"white-space: nowrap; max-width: 500px; overflow: hidden; text-overflow: ellipsis; \">&quot;Sample1&quot;</td><td style=\"white-space: nowrap; max-width: 500px; overflow: hidden; text-overflow: ellipsis; \">1.77e+01</td></tr>\n",
       "<tr><td style=\"white-space: nowrap; max-width: 500px; overflow: hidden; text-overflow: ellipsis; \">&quot;Sample2&quot;</td><td style=\"white-space: nowrap; max-width: 500px; overflow: hidden; text-overflow: ellipsis; \">1.80e+01</td></tr>\n",
       "<tr><td style=\"white-space: nowrap; max-width: 500px; overflow: hidden; text-overflow: ellipsis; \">&quot;Sample3&quot;</td><td style=\"white-space: nowrap; max-width: 500px; overflow: hidden; text-overflow: ellipsis; \">1.78e+01</td></tr>\n",
       "<tr><td style=\"white-space: nowrap; max-width: 500px; overflow: hidden; text-overflow: ellipsis; \">&quot;Sample4&quot;</td><td style=\"white-space: nowrap; max-width: 500px; overflow: hidden; text-overflow: ellipsis; \">1.73e+01</td></tr>\n",
       "<tr><td style=\"white-space: nowrap; max-width: 500px; overflow: hidden; text-overflow: ellipsis; \">&quot;Sample5&quot;</td><td style=\"white-space: nowrap; max-width: 500px; overflow: hidden; text-overflow: ellipsis; \">1.99e+01</td></tr>\n",
       "<tr><td style=\"white-space: nowrap; max-width: 500px; overflow: hidden; text-overflow: ellipsis; \">&quot;Sample6&quot;</td><td style=\"white-space: nowrap; max-width: 500px; overflow: hidden; text-overflow: ellipsis; \">1.90e+01</td></tr>\n",
       "<tr><td style=\"white-space: nowrap; max-width: 500px; overflow: hidden; text-overflow: ellipsis; \">&quot;Sample7&quot;</td><td style=\"white-space: nowrap; max-width: 500px; overflow: hidden; text-overflow: ellipsis; \">1.92e+01</td></tr>\n",
       "<tr><td style=\"white-space: nowrap; max-width: 500px; overflow: hidden; text-overflow: ellipsis; \">&quot;Sample8&quot;</td><td style=\"white-space: nowrap; max-width: 500px; overflow: hidden; text-overflow: ellipsis; \">1.74e+01</td></tr>\n",
       "<tr><td style=\"white-space: nowrap; max-width: 500px; overflow: hidden; text-overflow: ellipsis; \">&quot;Sample9&quot;</td><td style=\"white-space: nowrap; max-width: 500px; overflow: hidden; text-overflow: ellipsis; \">1.84e+01</td></tr>\n",
       "<tr><td style=\"white-space: nowrap; max-width: 500px; overflow: hidden; text-overflow: ellipsis; \">&quot;Sample10&quot;</td><td style=\"white-space: nowrap; max-width: 500px; overflow: hidden; text-overflow: ellipsis; \">1.96e+01</td></tr>\n",
       "</tbody></table>"
      ],
      "text/plain": [
       "+------------+-------------------+\n",
       "| s          | mean_sample_depth |\n",
       "+------------+-------------------+\n",
       "| str        |           float64 |\n",
       "+------------+-------------------+\n",
       "| \"Sample1\"  |          1.77e+01 |\n",
       "| \"Sample2\"  |          1.80e+01 |\n",
       "| \"Sample3\"  |          1.78e+01 |\n",
       "| \"Sample4\"  |          1.73e+01 |\n",
       "| \"Sample5\"  |          1.99e+01 |\n",
       "| \"Sample6\"  |          1.90e+01 |\n",
       "| \"Sample7\"  |          1.92e+01 |\n",
       "| \"Sample8\"  |          1.74e+01 |\n",
       "| \"Sample9\"  |          1.84e+01 |\n",
       "| \"Sample10\" |          1.96e+01 |\n",
       "+------------+-------------------+"
      ]
     },
     "metadata": {},
     "output_type": "display_data"
    }
   ],
   "source": [
    "mt.annotate_cols(\n",
    "    mean_sample_depth = hl.agg.mean(mt.DP)\n",
    ").key_cols_by().cols().select('s', 'mean_sample_depth').show(n=10)"
   ]
  },
  {
   "cell_type": "markdown",
   "id": "a42623b0-bb07-4099-bbd3-d5ab08addcca",
   "metadata": {},
   "source": [
    "### Exercise\n",
    "\n",
    "Filter to rows with more homozygous reference calls than heterozygous calls."
   ]
  },
  {
   "cell_type": "code",
   "execution_count": 46,
   "id": "fdc4eaad-7359-4363-bfb9-33108d6cb0bd",
   "metadata": {},
   "outputs": [
    {
     "data": {
      "text/html": [
       "<table><thead><tr><td style=\"white-space: nowrap; max-width: 500px; overflow: hidden; text-overflow: ellipsis; \" colspan=\"1\"><div style=\"text-align: left;\"></div></td><td style=\"white-space: nowrap; max-width: 500px; overflow: hidden; text-overflow: ellipsis; \" colspan=\"1\"><div style=\"text-align: left;\"></div></td><td style=\"white-space: nowrap; max-width: 500px; overflow: hidden; text-overflow: ellipsis; \" colspan=\"1\"><div style=\"text-align: left;\"></div></td><td style=\"white-space: nowrap; max-width: 500px; overflow: hidden; text-overflow: ellipsis; \" colspan=\"1\"><div style=\"text-align: left;\"></div></td><td style=\"white-space: nowrap; max-width: 500px; overflow: hidden; text-overflow: ellipsis; \" colspan=\"1\"><div style=\"text-align: left;\"></div></td><td style=\"white-space: nowrap; max-width: 500px; overflow: hidden; text-overflow: ellipsis; \" colspan=\"1\"><div style=\"text-align: left;\"></div></td><td style=\"white-space: nowrap; max-width: 500px; overflow: hidden; text-overflow: ellipsis; \" colspan=\"1\"><div style=\"text-align: left;\"></div></td><td style=\"white-space: nowrap; max-width: 500px; overflow: hidden; text-overflow: ellipsis; \" colspan=\"1\"><div style=\"text-align: left;\"></div></td><td style=\"white-space: nowrap; max-width: 500px; overflow: hidden; text-overflow: ellipsis; \" colspan=\"1\"><div style=\"text-align: left;\"></div></td><td style=\"white-space: nowrap; max-width: 500px; overflow: hidden; text-overflow: ellipsis; \" colspan=\"1\"><div style=\"text-align: left;\"></div></td><td style=\"white-space: nowrap; max-width: 500px; overflow: hidden; text-overflow: ellipsis; \" colspan=\"1\"><div style=\"text-align: left;\"></div></td><td style=\"white-space: nowrap; max-width: 500px; overflow: hidden; text-overflow: ellipsis; \" colspan=\"1\"><div style=\"text-align: left;\"></div></td></tr><tr><td style=\"white-space: nowrap; max-width: 500px; overflow: hidden; text-overflow: ellipsis; \" colspan=\"1\"><div style=\"text-align: left;\"></div></td><td style=\"white-space: nowrap; max-width: 500px; overflow: hidden; text-overflow: ellipsis; \" colspan=\"1\"><div style=\"text-align: left;\"></div></td><td style=\"white-space: nowrap; max-width: 500px; overflow: hidden; text-overflow: ellipsis; \" colspan=\"1\"><div style=\"text-align: left;border-bottom: solid 2px #000; padding-bottom: 5px\">&#x27;Sample1&#x27;</div></td><td style=\"white-space: nowrap; max-width: 500px; overflow: hidden; text-overflow: ellipsis; \" colspan=\"1\"><div style=\"text-align: left;border-bottom: solid 2px #000; padding-bottom: 5px\">&#x27;Sample2&#x27;</div></td><td style=\"white-space: nowrap; max-width: 500px; overflow: hidden; text-overflow: ellipsis; \" colspan=\"1\"><div style=\"text-align: left;border-bottom: solid 2px #000; padding-bottom: 5px\">&#x27;Sample3&#x27;</div></td><td style=\"white-space: nowrap; max-width: 500px; overflow: hidden; text-overflow: ellipsis; \" colspan=\"1\"><div style=\"text-align: left;border-bottom: solid 2px #000; padding-bottom: 5px\">&#x27;Sample4&#x27;</div></td><td style=\"white-space: nowrap; max-width: 500px; overflow: hidden; text-overflow: ellipsis; \" colspan=\"1\"><div style=\"text-align: left;border-bottom: solid 2px #000; padding-bottom: 5px\">&#x27;Sample5&#x27;</div></td><td style=\"white-space: nowrap; max-width: 500px; overflow: hidden; text-overflow: ellipsis; \" colspan=\"1\"><div style=\"text-align: left;border-bottom: solid 2px #000; padding-bottom: 5px\">&#x27;Sample6&#x27;</div></td><td style=\"white-space: nowrap; max-width: 500px; overflow: hidden; text-overflow: ellipsis; \" colspan=\"1\"><div style=\"text-align: left;border-bottom: solid 2px #000; padding-bottom: 5px\">&#x27;Sample7&#x27;</div></td><td style=\"white-space: nowrap; max-width: 500px; overflow: hidden; text-overflow: ellipsis; \" colspan=\"1\"><div style=\"text-align: left;border-bottom: solid 2px #000; padding-bottom: 5px\">&#x27;Sample8&#x27;</div></td><td style=\"white-space: nowrap; max-width: 500px; overflow: hidden; text-overflow: ellipsis; \" colspan=\"1\"><div style=\"text-align: left;border-bottom: solid 2px #000; padding-bottom: 5px\">&#x27;Sample9&#x27;</div></td><td style=\"white-space: nowrap; max-width: 500px; overflow: hidden; text-overflow: ellipsis; \" colspan=\"1\"><div style=\"text-align: left;border-bottom: solid 2px #000; padding-bottom: 5px\">&#x27;Sample10&#x27;</div></td></tr><tr><td style=\"white-space: nowrap; max-width: 500px; overflow: hidden; text-overflow: ellipsis; \" colspan=\"1\"><div style=\"text-align: left;border-bottom: solid 2px #000; padding-bottom: 5px\">locus</div></td><td style=\"white-space: nowrap; max-width: 500px; overflow: hidden; text-overflow: ellipsis; \" colspan=\"1\"><div style=\"text-align: left;border-bottom: solid 2px #000; padding-bottom: 5px\">alleles</div></td><td style=\"white-space: nowrap; max-width: 500px; overflow: hidden; text-overflow: ellipsis; \" colspan=\"1\"><div style=\"text-align: left;border-bottom: solid 2px #000; padding-bottom: 5px\">GT</div></td><td style=\"white-space: nowrap; max-width: 500px; overflow: hidden; text-overflow: ellipsis; \" colspan=\"1\"><div style=\"text-align: left;border-bottom: solid 2px #000; padding-bottom: 5px\">GT</div></td><td style=\"white-space: nowrap; max-width: 500px; overflow: hidden; text-overflow: ellipsis; \" colspan=\"1\"><div style=\"text-align: left;border-bottom: solid 2px #000; padding-bottom: 5px\">GT</div></td><td style=\"white-space: nowrap; max-width: 500px; overflow: hidden; text-overflow: ellipsis; \" colspan=\"1\"><div style=\"text-align: left;border-bottom: solid 2px #000; padding-bottom: 5px\">GT</div></td><td style=\"white-space: nowrap; max-width: 500px; overflow: hidden; text-overflow: ellipsis; \" colspan=\"1\"><div style=\"text-align: left;border-bottom: solid 2px #000; padding-bottom: 5px\">GT</div></td><td style=\"white-space: nowrap; max-width: 500px; overflow: hidden; text-overflow: ellipsis; \" colspan=\"1\"><div style=\"text-align: left;border-bottom: solid 2px #000; padding-bottom: 5px\">GT</div></td><td style=\"white-space: nowrap; max-width: 500px; overflow: hidden; text-overflow: ellipsis; \" colspan=\"1\"><div style=\"text-align: left;border-bottom: solid 2px #000; padding-bottom: 5px\">GT</div></td><td style=\"white-space: nowrap; max-width: 500px; overflow: hidden; text-overflow: ellipsis; \" colspan=\"1\"><div style=\"text-align: left;border-bottom: solid 2px #000; padding-bottom: 5px\">GT</div></td><td style=\"white-space: nowrap; max-width: 500px; overflow: hidden; text-overflow: ellipsis; \" colspan=\"1\"><div style=\"text-align: left;border-bottom: solid 2px #000; padding-bottom: 5px\">GT</div></td><td style=\"white-space: nowrap; max-width: 500px; overflow: hidden; text-overflow: ellipsis; \" colspan=\"1\"><div style=\"text-align: left;border-bottom: solid 2px #000; padding-bottom: 5px\">GT</div></td></tr><tr><td style=\"white-space: nowrap; max-width: 500px; overflow: hidden; text-overflow: ellipsis; text-align: left;\">locus&lt;GRCh38&gt;</td><td style=\"white-space: nowrap; max-width: 500px; overflow: hidden; text-overflow: ellipsis; text-align: left;\">array&lt;str&gt;</td><td style=\"white-space: nowrap; max-width: 500px; overflow: hidden; text-overflow: ellipsis; text-align: left;\">call</td><td style=\"white-space: nowrap; max-width: 500px; overflow: hidden; text-overflow: ellipsis; text-align: left;\">call</td><td style=\"white-space: nowrap; max-width: 500px; overflow: hidden; text-overflow: ellipsis; text-align: left;\">call</td><td style=\"white-space: nowrap; max-width: 500px; overflow: hidden; text-overflow: ellipsis; text-align: left;\">call</td><td style=\"white-space: nowrap; max-width: 500px; overflow: hidden; text-overflow: ellipsis; text-align: left;\">call</td><td style=\"white-space: nowrap; max-width: 500px; overflow: hidden; text-overflow: ellipsis; text-align: left;\">call</td><td style=\"white-space: nowrap; max-width: 500px; overflow: hidden; text-overflow: ellipsis; text-align: left;\">call</td><td style=\"white-space: nowrap; max-width: 500px; overflow: hidden; text-overflow: ellipsis; text-align: left;\">call</td><td style=\"white-space: nowrap; max-width: 500px; overflow: hidden; text-overflow: ellipsis; text-align: left;\">call</td><td style=\"white-space: nowrap; max-width: 500px; overflow: hidden; text-overflow: ellipsis; text-align: left;\">call</td></tr>\n",
       "</thead><tbody><tr><td style=\"white-space: nowrap; max-width: 500px; overflow: hidden; text-overflow: ellipsis; \">chr1:100</td><td style=\"white-space: nowrap; max-width: 500px; overflow: hidden; text-overflow: ellipsis; \">[&quot;A&quot;,&quot;G&quot;]</td><td style=\"white-space: nowrap; max-width: 500px; overflow: hidden; text-overflow: ellipsis; \">0/1</td><td style=\"white-space: nowrap; max-width: 500px; overflow: hidden; text-overflow: ellipsis; \">0/1</td><td style=\"white-space: nowrap; max-width: 500px; overflow: hidden; text-overflow: ellipsis; \">0/0</td><td style=\"white-space: nowrap; max-width: 500px; overflow: hidden; text-overflow: ellipsis; \">0/1</td><td style=\"white-space: nowrap; max-width: 500px; overflow: hidden; text-overflow: ellipsis; \">1/1</td><td style=\"white-space: nowrap; max-width: 500px; overflow: hidden; text-overflow: ellipsis; \">0/0</td><td style=\"white-space: nowrap; max-width: 500px; overflow: hidden; text-overflow: ellipsis; \">1/1</td><td style=\"white-space: nowrap; max-width: 500px; overflow: hidden; text-overflow: ellipsis; \">0/1</td><td style=\"white-space: nowrap; max-width: 500px; overflow: hidden; text-overflow: ellipsis; \">0/0</td><td style=\"white-space: nowrap; max-width: 500px; overflow: hidden; text-overflow: ellipsis; \">0/1</td></tr>\n",
       "<tr><td style=\"white-space: nowrap; max-width: 500px; overflow: hidden; text-overflow: ellipsis; \">chr1:300</td><td style=\"white-space: nowrap; max-width: 500px; overflow: hidden; text-overflow: ellipsis; \">[&quot;G&quot;,&quot;A&quot;]</td><td style=\"white-space: nowrap; max-width: 500px; overflow: hidden; text-overflow: ellipsis; \">0/1</td><td style=\"white-space: nowrap; max-width: 500px; overflow: hidden; text-overflow: ellipsis; \">0/0</td><td style=\"white-space: nowrap; max-width: 500px; overflow: hidden; text-overflow: ellipsis; \">0/1</td><td style=\"white-space: nowrap; max-width: 500px; overflow: hidden; text-overflow: ellipsis; \">0/1</td><td style=\"white-space: nowrap; max-width: 500px; overflow: hidden; text-overflow: ellipsis; \">0/0</td><td style=\"white-space: nowrap; max-width: 500px; overflow: hidden; text-overflow: ellipsis; \">1/1</td><td style=\"white-space: nowrap; max-width: 500px; overflow: hidden; text-overflow: ellipsis; \">0/1</td><td style=\"white-space: nowrap; max-width: 500px; overflow: hidden; text-overflow: ellipsis; \">0/0</td><td style=\"white-space: nowrap; max-width: 500px; overflow: hidden; text-overflow: ellipsis; \">0/1</td><td style=\"white-space: nowrap; max-width: 500px; overflow: hidden; text-overflow: ellipsis; \">1/1</td></tr>\n",
       "<tr><td style=\"white-space: nowrap; max-width: 500px; overflow: hidden; text-overflow: ellipsis; \">chr2:150</td><td style=\"white-space: nowrap; max-width: 500px; overflow: hidden; text-overflow: ellipsis; \">[&quot;T&quot;,&quot;C&quot;]</td><td style=\"white-space: nowrap; max-width: 500px; overflow: hidden; text-overflow: ellipsis; \">1/1</td><td style=\"white-space: nowrap; max-width: 500px; overflow: hidden; text-overflow: ellipsis; \">0/0</td><td style=\"white-space: nowrap; max-width: 500px; overflow: hidden; text-overflow: ellipsis; \">0/1</td><td style=\"white-space: nowrap; max-width: 500px; overflow: hidden; text-overflow: ellipsis; \">0/0</td><td style=\"white-space: nowrap; max-width: 500px; overflow: hidden; text-overflow: ellipsis; \">1/1</td><td style=\"white-space: nowrap; max-width: 500px; overflow: hidden; text-overflow: ellipsis; \">0/1</td><td style=\"white-space: nowrap; max-width: 500px; overflow: hidden; text-overflow: ellipsis; \">1/1</td><td style=\"white-space: nowrap; max-width: 500px; overflow: hidden; text-overflow: ellipsis; \">0/0</td><td style=\"white-space: nowrap; max-width: 500px; overflow: hidden; text-overflow: ellipsis; \">0/1</td><td style=\"white-space: nowrap; max-width: 500px; overflow: hidden; text-overflow: ellipsis; \">0/1</td></tr>\n",
       "</tbody></table><p style=\"background: #fdd; padding: 0.4em;\">showing top 3 rows</p>\n"
      ],
      "text/plain": [
       "+---------------+------------+--------------+--------------+--------------+\n",
       "| locus         | alleles    | 'Sample1'.GT | 'Sample2'.GT | 'Sample3'.GT |\n",
       "+---------------+------------+--------------+--------------+--------------+\n",
       "| locus<GRCh38> | array<str> | call         | call         | call         |\n",
       "+---------------+------------+--------------+--------------+--------------+\n",
       "| chr1:100      | [\"A\",\"G\"]  | 0/1          | 0/1          | 0/0          |\n",
       "| chr1:300      | [\"G\",\"A\"]  | 0/1          | 0/0          | 0/1          |\n",
       "| chr2:150      | [\"T\",\"C\"]  | 1/1          | 0/0          | 0/1          |\n",
       "+---------------+------------+--------------+--------------+--------------+\n",
       "\n",
       "+--------------+--------------+--------------+--------------+--------------+\n",
       "| 'Sample4'.GT | 'Sample5'.GT | 'Sample6'.GT | 'Sample7'.GT | 'Sample8'.GT |\n",
       "+--------------+--------------+--------------+--------------+--------------+\n",
       "| call         | call         | call         | call         | call         |\n",
       "+--------------+--------------+--------------+--------------+--------------+\n",
       "| 0/1          | 1/1          | 0/0          | 1/1          | 0/1          |\n",
       "| 0/1          | 0/0          | 1/1          | 0/1          | 0/0          |\n",
       "| 0/0          | 1/1          | 0/1          | 1/1          | 0/0          |\n",
       "+--------------+--------------+--------------+--------------+--------------+\n",
       "\n",
       "+--------------+---------------+\n",
       "| 'Sample9'.GT | 'Sample10'.GT |\n",
       "+--------------+---------------+\n",
       "| call         | call          |\n",
       "+--------------+---------------+\n",
       "| 0/0          | 0/1           |\n",
       "| 0/1          | 1/1           |\n",
       "| 0/1          | 0/1           |\n",
       "+--------------+---------------+\n",
       "showing top 3 rows"
      ]
     },
     "metadata": {},
     "output_type": "display_data"
    }
   ],
   "source": [
    "n_hets = hl.agg.count_where(mt.GT.is_het())\n",
    "n_homs = hl.agg.count_where(mt.GT.is_hom_ref())\n",
    "\n",
    "mt.filter_rows(\n",
    "    n_hets > n_homs\n",
    ").select_entries('GT').show(3, 10)"
   ]
  },
  {
   "cell_type": "markdown",
   "id": "078dce87-5ba7-4ecb-8a84-f57f9cbe2430",
   "metadata": {},
   "source": [
    "### Exercise\n",
    "\n",
    "Filter to samples whose mean depth across all variants is greater than 18."
   ]
  },
  {
   "cell_type": "code",
   "execution_count": 48,
   "id": "e3f66c24-1288-46bb-82c8-ce21cefa1b6e",
   "metadata": {},
   "outputs": [
    {
     "data": {
      "text/html": [
       "<table><thead><tr><td style=\"white-space: nowrap; max-width: 500px; overflow: hidden; text-overflow: ellipsis; \" colspan=\"1\"><div style=\"text-align: left;\"></div></td><td style=\"white-space: nowrap; max-width: 500px; overflow: hidden; text-overflow: ellipsis; \" colspan=\"1\"><div style=\"text-align: left;\"></div></td></tr><tr><td style=\"white-space: nowrap; max-width: 500px; overflow: hidden; text-overflow: ellipsis; \" colspan=\"1\"><div style=\"text-align: left;border-bottom: solid 2px #000; padding-bottom: 5px\">s</div></td><td style=\"white-space: nowrap; max-width: 500px; overflow: hidden; text-overflow: ellipsis; \" colspan=\"1\"><div style=\"text-align: left;border-bottom: solid 2px #000; padding-bottom: 5px\">height_ft</div></td></tr><tr><td style=\"white-space: nowrap; max-width: 500px; overflow: hidden; text-overflow: ellipsis; text-align: left;\">str</td><td style=\"white-space: nowrap; max-width: 500px; overflow: hidden; text-overflow: ellipsis; text-align: left;\">float64</td></tr>\n",
       "</thead><tbody><tr><td style=\"white-space: nowrap; max-width: 500px; overflow: hidden; text-overflow: ellipsis; \">&quot;Sample5&quot;</td><td style=\"white-space: nowrap; max-width: 500px; overflow: hidden; text-overflow: ellipsis; \">5.80e+00</td></tr>\n",
       "<tr><td style=\"white-space: nowrap; max-width: 500px; overflow: hidden; text-overflow: ellipsis; \">&quot;Sample6&quot;</td><td style=\"white-space: nowrap; max-width: 500px; overflow: hidden; text-overflow: ellipsis; \">5.67e+00</td></tr>\n",
       "<tr><td style=\"white-space: nowrap; max-width: 500px; overflow: hidden; text-overflow: ellipsis; \">&quot;Sample7&quot;</td><td style=\"white-space: nowrap; max-width: 500px; overflow: hidden; text-overflow: ellipsis; \">5.41e+00</td></tr>\n",
       "<tr><td style=\"white-space: nowrap; max-width: 500px; overflow: hidden; text-overflow: ellipsis; \">&quot;Sample9&quot;</td><td style=\"white-space: nowrap; max-width: 500px; overflow: hidden; text-overflow: ellipsis; \">6.17e+00</td></tr>\n",
       "<tr><td style=\"white-space: nowrap; max-width: 500px; overflow: hidden; text-overflow: ellipsis; \">&quot;Sample10&quot;</td><td style=\"white-space: nowrap; max-width: 500px; overflow: hidden; text-overflow: ellipsis; \">5.86e+00</td></tr>\n",
       "</tbody></table>"
      ],
      "text/plain": [
       "+------------+-----------+\n",
       "| s          | height_ft |\n",
       "+------------+-----------+\n",
       "| str        |   float64 |\n",
       "+------------+-----------+\n",
       "| \"Sample5\"  |  5.80e+00 |\n",
       "| \"Sample6\"  |  5.67e+00 |\n",
       "| \"Sample7\"  |  5.41e+00 |\n",
       "| \"Sample9\"  |  6.17e+00 |\n",
       "| \"Sample10\" |  5.86e+00 |\n",
       "+------------+-----------+"
      ]
     },
     "metadata": {},
     "output_type": "display_data"
    }
   ],
   "source": [
    "mean_depth = hl.agg.mean(mt.DP)\n",
    "\n",
    "mt.filter_cols(mean_depth > 18).key_cols_by().cols().show()"
   ]
  },
  {
   "cell_type": "markdown",
   "id": "e9be3d23-92a7-43dd-a74e-38c40a1955b2",
   "metadata": {},
   "source": [
    "# Aggregating within Groups of Rows or Groups of Columns\n",
    "\n",
    "[`MatrixTable.group_rows_by`](https://hail.is/docs/0.2/hail.MatrixTable.html#hail.MatrixTable.group_rows_by) aggregates groups of rows to produce a new matrix table whose rows are the groups. "
   ]
  },
  {
   "cell_type": "code",
   "execution_count": 49,
   "id": "6d8756e4-d49a-4bcb-82ee-cfa2df24ed8a",
   "metadata": {},
   "outputs": [
    {
     "name": "stderr",
     "output_type": "stream",
     "text": [
      "2023-08-29 16:48:23.644 Hail: INFO: Coerced sorted dataset\n"
     ]
    },
    {
     "data": {
      "text/html": [
       "<table><thead><tr><td style=\"white-space: nowrap; max-width: 500px; overflow: hidden; text-overflow: ellipsis; \" colspan=\"1\"><div style=\"text-align: left;\"></div></td><td style=\"white-space: nowrap; max-width: 500px; overflow: hidden; text-overflow: ellipsis; \" colspan=\"1\"><div style=\"text-align: left;\"></div></td><td style=\"white-space: nowrap; max-width: 500px; overflow: hidden; text-overflow: ellipsis; \" colspan=\"1\"><div style=\"text-align: left;\"></div></td><td style=\"white-space: nowrap; max-width: 500px; overflow: hidden; text-overflow: ellipsis; \" colspan=\"1\"><div style=\"text-align: left;\"></div></td><td style=\"white-space: nowrap; max-width: 500px; overflow: hidden; text-overflow: ellipsis; \" colspan=\"1\"><div style=\"text-align: left;\"></div></td><td style=\"white-space: nowrap; max-width: 500px; overflow: hidden; text-overflow: ellipsis; \" colspan=\"1\"><div style=\"text-align: left;\"></div></td><td style=\"white-space: nowrap; max-width: 500px; overflow: hidden; text-overflow: ellipsis; \" colspan=\"1\"><div style=\"text-align: left;\"></div></td><td style=\"white-space: nowrap; max-width: 500px; overflow: hidden; text-overflow: ellipsis; \" colspan=\"1\"><div style=\"text-align: left;\"></div></td><td style=\"white-space: nowrap; max-width: 500px; overflow: hidden; text-overflow: ellipsis; \" colspan=\"1\"><div style=\"text-align: left;\"></div></td><td style=\"white-space: nowrap; max-width: 500px; overflow: hidden; text-overflow: ellipsis; \" colspan=\"1\"><div style=\"text-align: left;\"></div></td><td style=\"white-space: nowrap; max-width: 500px; overflow: hidden; text-overflow: ellipsis; \" colspan=\"1\"><div style=\"text-align: left;\"></div></td></tr><tr><td style=\"white-space: nowrap; max-width: 500px; overflow: hidden; text-overflow: ellipsis; \" colspan=\"1\"><div style=\"text-align: left;\"></div></td><td style=\"white-space: nowrap; max-width: 500px; overflow: hidden; text-overflow: ellipsis; \" colspan=\"1\"><div style=\"text-align: left;border-bottom: solid 2px #000; padding-bottom: 5px\">&#x27;Sample1&#x27;</div></td><td style=\"white-space: nowrap; max-width: 500px; overflow: hidden; text-overflow: ellipsis; \" colspan=\"1\"><div style=\"text-align: left;border-bottom: solid 2px #000; padding-bottom: 5px\">&#x27;Sample2&#x27;</div></td><td style=\"white-space: nowrap; max-width: 500px; overflow: hidden; text-overflow: ellipsis; \" colspan=\"1\"><div style=\"text-align: left;border-bottom: solid 2px #000; padding-bottom: 5px\">&#x27;Sample3&#x27;</div></td><td style=\"white-space: nowrap; max-width: 500px; overflow: hidden; text-overflow: ellipsis; \" colspan=\"1\"><div style=\"text-align: left;border-bottom: solid 2px #000; padding-bottom: 5px\">&#x27;Sample4&#x27;</div></td><td style=\"white-space: nowrap; max-width: 500px; overflow: hidden; text-overflow: ellipsis; \" colspan=\"1\"><div style=\"text-align: left;border-bottom: solid 2px #000; padding-bottom: 5px\">&#x27;Sample5&#x27;</div></td><td style=\"white-space: nowrap; max-width: 500px; overflow: hidden; text-overflow: ellipsis; \" colspan=\"1\"><div style=\"text-align: left;border-bottom: solid 2px #000; padding-bottom: 5px\">&#x27;Sample6&#x27;</div></td><td style=\"white-space: nowrap; max-width: 500px; overflow: hidden; text-overflow: ellipsis; \" colspan=\"1\"><div style=\"text-align: left;border-bottom: solid 2px #000; padding-bottom: 5px\">&#x27;Sample7&#x27;</div></td><td style=\"white-space: nowrap; max-width: 500px; overflow: hidden; text-overflow: ellipsis; \" colspan=\"1\"><div style=\"text-align: left;border-bottom: solid 2px #000; padding-bottom: 5px\">&#x27;Sample8&#x27;</div></td><td style=\"white-space: nowrap; max-width: 500px; overflow: hidden; text-overflow: ellipsis; \" colspan=\"1\"><div style=\"text-align: left;border-bottom: solid 2px #000; padding-bottom: 5px\">&#x27;Sample9&#x27;</div></td><td style=\"white-space: nowrap; max-width: 500px; overflow: hidden; text-overflow: ellipsis; \" colspan=\"1\"><div style=\"text-align: left;border-bottom: solid 2px #000; padding-bottom: 5px\">&#x27;Sample10&#x27;</div></td></tr><tr><td style=\"white-space: nowrap; max-width: 500px; overflow: hidden; text-overflow: ellipsis; \" colspan=\"1\"><div style=\"text-align: left;border-bottom: solid 2px #000; padding-bottom: 5px\">contig</div></td><td style=\"white-space: nowrap; max-width: 500px; overflow: hidden; text-overflow: ellipsis; \" colspan=\"1\"><div style=\"text-align: left;border-bottom: solid 2px #000; padding-bottom: 5px\">n_alt_alleles</div></td><td style=\"white-space: nowrap; max-width: 500px; overflow: hidden; text-overflow: ellipsis; \" colspan=\"1\"><div style=\"text-align: left;border-bottom: solid 2px #000; padding-bottom: 5px\">n_alt_alleles</div></td><td style=\"white-space: nowrap; max-width: 500px; overflow: hidden; text-overflow: ellipsis; \" colspan=\"1\"><div style=\"text-align: left;border-bottom: solid 2px #000; padding-bottom: 5px\">n_alt_alleles</div></td><td style=\"white-space: nowrap; max-width: 500px; overflow: hidden; text-overflow: ellipsis; \" colspan=\"1\"><div style=\"text-align: left;border-bottom: solid 2px #000; padding-bottom: 5px\">n_alt_alleles</div></td><td style=\"white-space: nowrap; max-width: 500px; overflow: hidden; text-overflow: ellipsis; \" colspan=\"1\"><div style=\"text-align: left;border-bottom: solid 2px #000; padding-bottom: 5px\">n_alt_alleles</div></td><td style=\"white-space: nowrap; max-width: 500px; overflow: hidden; text-overflow: ellipsis; \" colspan=\"1\"><div style=\"text-align: left;border-bottom: solid 2px #000; padding-bottom: 5px\">n_alt_alleles</div></td><td style=\"white-space: nowrap; max-width: 500px; overflow: hidden; text-overflow: ellipsis; \" colspan=\"1\"><div style=\"text-align: left;border-bottom: solid 2px #000; padding-bottom: 5px\">n_alt_alleles</div></td><td style=\"white-space: nowrap; max-width: 500px; overflow: hidden; text-overflow: ellipsis; \" colspan=\"1\"><div style=\"text-align: left;border-bottom: solid 2px #000; padding-bottom: 5px\">n_alt_alleles</div></td><td style=\"white-space: nowrap; max-width: 500px; overflow: hidden; text-overflow: ellipsis; \" colspan=\"1\"><div style=\"text-align: left;border-bottom: solid 2px #000; padding-bottom: 5px\">n_alt_alleles</div></td><td style=\"white-space: nowrap; max-width: 500px; overflow: hidden; text-overflow: ellipsis; \" colspan=\"1\"><div style=\"text-align: left;border-bottom: solid 2px #000; padding-bottom: 5px\">n_alt_alleles</div></td></tr><tr><td style=\"white-space: nowrap; max-width: 500px; overflow: hidden; text-overflow: ellipsis; text-align: left;\">str</td><td style=\"white-space: nowrap; max-width: 500px; overflow: hidden; text-overflow: ellipsis; text-align: left;\">int64</td><td style=\"white-space: nowrap; max-width: 500px; overflow: hidden; text-overflow: ellipsis; text-align: left;\">int64</td><td style=\"white-space: nowrap; max-width: 500px; overflow: hidden; text-overflow: ellipsis; text-align: left;\">int64</td><td style=\"white-space: nowrap; max-width: 500px; overflow: hidden; text-overflow: ellipsis; text-align: left;\">int64</td><td style=\"white-space: nowrap; max-width: 500px; overflow: hidden; text-overflow: ellipsis; text-align: left;\">int64</td><td style=\"white-space: nowrap; max-width: 500px; overflow: hidden; text-overflow: ellipsis; text-align: left;\">int64</td><td style=\"white-space: nowrap; max-width: 500px; overflow: hidden; text-overflow: ellipsis; text-align: left;\">int64</td><td style=\"white-space: nowrap; max-width: 500px; overflow: hidden; text-overflow: ellipsis; text-align: left;\">int64</td><td style=\"white-space: nowrap; max-width: 500px; overflow: hidden; text-overflow: ellipsis; text-align: left;\">int64</td><td style=\"white-space: nowrap; max-width: 500px; overflow: hidden; text-overflow: ellipsis; text-align: left;\">int64</td></tr>\n",
       "</thead><tbody><tr><td style=\"white-space: nowrap; max-width: 500px; overflow: hidden; text-overflow: ellipsis; \">&quot;chr1&quot;</td><td style=\"white-space: nowrap; max-width: 500px; overflow: hidden; text-overflow: ellipsis; \">2</td><td style=\"white-space: nowrap; max-width: 500px; overflow: hidden; text-overflow: ellipsis; \">3</td><td style=\"white-space: nowrap; max-width: 500px; overflow: hidden; text-overflow: ellipsis; \">2</td><td style=\"white-space: nowrap; max-width: 500px; overflow: hidden; text-overflow: ellipsis; \">2</td><td style=\"white-space: nowrap; max-width: 500px; overflow: hidden; text-overflow: ellipsis; \">3</td><td style=\"white-space: nowrap; max-width: 500px; overflow: hidden; text-overflow: ellipsis; \">4</td><td style=\"white-space: nowrap; max-width: 500px; overflow: hidden; text-overflow: ellipsis; \">4</td><td style=\"white-space: nowrap; max-width: 500px; overflow: hidden; text-overflow: ellipsis; \">1</td><td style=\"white-space: nowrap; max-width: 500px; overflow: hidden; text-overflow: ellipsis; \">3</td><td style=\"white-space: nowrap; max-width: 500px; overflow: hidden; text-overflow: ellipsis; \">3</td></tr>\n",
       "<tr><td style=\"white-space: nowrap; max-width: 500px; overflow: hidden; text-overflow: ellipsis; \">&quot;chr2&quot;</td><td style=\"white-space: nowrap; max-width: 500px; overflow: hidden; text-overflow: ellipsis; \">3</td><td style=\"white-space: nowrap; max-width: 500px; overflow: hidden; text-overflow: ellipsis; \">1</td><td style=\"white-space: nowrap; max-width: 500px; overflow: hidden; text-overflow: ellipsis; \">3</td><td style=\"white-space: nowrap; max-width: 500px; overflow: hidden; text-overflow: ellipsis; \">2</td><td style=\"white-space: nowrap; max-width: 500px; overflow: hidden; text-overflow: ellipsis; \">4</td><td style=\"white-space: nowrap; max-width: 500px; overflow: hidden; text-overflow: ellipsis; \">5</td><td style=\"white-space: nowrap; max-width: 500px; overflow: hidden; text-overflow: ellipsis; \">3</td><td style=\"white-space: nowrap; max-width: 500px; overflow: hidden; text-overflow: ellipsis; \">1</td><td style=\"white-space: nowrap; max-width: 500px; overflow: hidden; text-overflow: ellipsis; \">3</td><td style=\"white-space: nowrap; max-width: 500px; overflow: hidden; text-overflow: ellipsis; \">3</td></tr>\n",
       "<tr><td style=\"white-space: nowrap; max-width: 500px; overflow: hidden; text-overflow: ellipsis; \">&quot;chr3&quot;</td><td style=\"white-space: nowrap; max-width: 500px; overflow: hidden; text-overflow: ellipsis; \">3</td><td style=\"white-space: nowrap; max-width: 500px; overflow: hidden; text-overflow: ellipsis; \">2</td><td style=\"white-space: nowrap; max-width: 500px; overflow: hidden; text-overflow: ellipsis; \">2</td><td style=\"white-space: nowrap; max-width: 500px; overflow: hidden; text-overflow: ellipsis; \">2</td><td style=\"white-space: nowrap; max-width: 500px; overflow: hidden; text-overflow: ellipsis; \">3</td><td style=\"white-space: nowrap; max-width: 500px; overflow: hidden; text-overflow: ellipsis; \">4</td><td style=\"white-space: nowrap; max-width: 500px; overflow: hidden; text-overflow: ellipsis; \">5</td><td style=\"white-space: nowrap; max-width: 500px; overflow: hidden; text-overflow: ellipsis; \">0</td><td style=\"white-space: nowrap; max-width: 500px; overflow: hidden; text-overflow: ellipsis; \">3</td><td style=\"white-space: nowrap; max-width: 500px; overflow: hidden; text-overflow: ellipsis; \">5</td></tr>\n",
       "</tbody></table>"
      ],
      "text/plain": [
       "+--------+-------------------------+-------------------------+\n",
       "| contig | 'Sample1'.n_alt_alleles | 'Sample2'.n_alt_alleles |\n",
       "+--------+-------------------------+-------------------------+\n",
       "| str    |                   int64 |                   int64 |\n",
       "+--------+-------------------------+-------------------------+\n",
       "| \"chr1\" |                       2 |                       3 |\n",
       "| \"chr2\" |                       3 |                       1 |\n",
       "| \"chr3\" |                       3 |                       2 |\n",
       "+--------+-------------------------+-------------------------+\n",
       "\n",
       "+-------------------------+-------------------------+-------------------------+\n",
       "| 'Sample3'.n_alt_alleles | 'Sample4'.n_alt_alleles | 'Sample5'.n_alt_alleles |\n",
       "+-------------------------+-------------------------+-------------------------+\n",
       "|                   int64 |                   int64 |                   int64 |\n",
       "+-------------------------+-------------------------+-------------------------+\n",
       "|                       2 |                       2 |                       3 |\n",
       "|                       3 |                       2 |                       4 |\n",
       "|                       2 |                       2 |                       3 |\n",
       "+-------------------------+-------------------------+-------------------------+\n",
       "\n",
       "+-------------------------+-------------------------+-------------------------+\n",
       "| 'Sample6'.n_alt_alleles | 'Sample7'.n_alt_alleles | 'Sample8'.n_alt_alleles |\n",
       "+-------------------------+-------------------------+-------------------------+\n",
       "|                   int64 |                   int64 |                   int64 |\n",
       "+-------------------------+-------------------------+-------------------------+\n",
       "|                       4 |                       4 |                       1 |\n",
       "|                       5 |                       3 |                       1 |\n",
       "|                       4 |                       5 |                       0 |\n",
       "+-------------------------+-------------------------+-------------------------+\n",
       "\n",
       "+-------------------------+--------------------------+\n",
       "| 'Sample9'.n_alt_alleles | 'Sample10'.n_alt_alleles |\n",
       "+-------------------------+--------------------------+\n",
       "|                   int64 |                    int64 |\n",
       "+-------------------------+--------------------------+\n",
       "|                       3 |                        3 |\n",
       "|                       3 |                        3 |\n",
       "|                       3 |                        5 |\n",
       "+-------------------------+--------------------------+"
      ]
     },
     "metadata": {},
     "output_type": "display_data"
    }
   ],
   "source": [
    "mt.group_rows_by(\n",
    "    contig=mt.locus.contig\n",
    ").aggregate(\n",
    "    n_alt_alleles = hl.agg.sum(mt.GT.n_alt_alleles())\n",
    ").show(n_rows=3, n_cols=10)"
   ]
  },
  {
   "cell_type": "markdown",
   "id": "703076dd-e9c0-483a-946a-403c88db6cdc",
   "metadata": {},
   "source": [
    "[`MatrixTable.group_cols_by`](https://hail.is/docs/0.2/hail.MatrixTable.html#hail.MatrixTable.group_cols_by) is the column analogue."
   ]
  },
  {
   "cell_type": "code",
   "execution_count": 50,
   "id": "bf326c6f-4184-44cc-8800-66054aed94c8",
   "metadata": {},
   "outputs": [
    {
     "data": {
      "text/html": [
       "<table><thead><tr><td style=\"white-space: nowrap; max-width: 500px; overflow: hidden; text-overflow: ellipsis; \" colspan=\"1\"><div style=\"text-align: left;\"></div></td><td style=\"white-space: nowrap; max-width: 500px; overflow: hidden; text-overflow: ellipsis; \" colspan=\"1\"><div style=\"text-align: left;\"></div></td><td style=\"white-space: nowrap; max-width: 500px; overflow: hidden; text-overflow: ellipsis; \" colspan=\"1\"><div style=\"text-align: left;\"></div></td><td style=\"white-space: nowrap; max-width: 500px; overflow: hidden; text-overflow: ellipsis; \" colspan=\"1\"><div style=\"text-align: left;\"></div></td></tr><tr><td style=\"white-space: nowrap; max-width: 500px; overflow: hidden; text-overflow: ellipsis; \" colspan=\"1\"><div style=\"text-align: left;\"></div></td><td style=\"white-space: nowrap; max-width: 500px; overflow: hidden; text-overflow: ellipsis; \" colspan=\"1\"><div style=\"text-align: left;\"></div></td><td style=\"white-space: nowrap; max-width: 500px; overflow: hidden; text-overflow: ellipsis; \" colspan=\"1\"><div style=\"text-align: left;border-bottom: solid 2px #000; padding-bottom: 5px\">&lt;col 0&gt;</div></td><td style=\"white-space: nowrap; max-width: 500px; overflow: hidden; text-overflow: ellipsis; \" colspan=\"1\"><div style=\"text-align: left;border-bottom: solid 2px #000; padding-bottom: 5px\">&lt;col 1&gt;</div></td></tr><tr><td style=\"white-space: nowrap; max-width: 500px; overflow: hidden; text-overflow: ellipsis; \" colspan=\"1\"><div style=\"text-align: left;border-bottom: solid 2px #000; padding-bottom: 5px\">locus</div></td><td style=\"white-space: nowrap; max-width: 500px; overflow: hidden; text-overflow: ellipsis; \" colspan=\"1\"><div style=\"text-align: left;border-bottom: solid 2px #000; padding-bottom: 5px\">alleles</div></td><td style=\"white-space: nowrap; max-width: 500px; overflow: hidden; text-overflow: ellipsis; \" colspan=\"1\"><div style=\"text-align: left;border-bottom: solid 2px #000; padding-bottom: 5px\">n_alt_alleles</div></td><td style=\"white-space: nowrap; max-width: 500px; overflow: hidden; text-overflow: ellipsis; \" colspan=\"1\"><div style=\"text-align: left;border-bottom: solid 2px #000; padding-bottom: 5px\">n_alt_alleles</div></td></tr><tr><td style=\"white-space: nowrap; max-width: 500px; overflow: hidden; text-overflow: ellipsis; text-align: left;\">locus&lt;GRCh38&gt;</td><td style=\"white-space: nowrap; max-width: 500px; overflow: hidden; text-overflow: ellipsis; text-align: left;\">array&lt;str&gt;</td><td style=\"white-space: nowrap; max-width: 500px; overflow: hidden; text-overflow: ellipsis; text-align: left;\">int64</td><td style=\"white-space: nowrap; max-width: 500px; overflow: hidden; text-overflow: ellipsis; text-align: left;\">int64</td></tr>\n",
       "</thead><tbody><tr><td style=\"white-space: nowrap; max-width: 500px; overflow: hidden; text-overflow: ellipsis; \">chr1:100</td><td style=\"white-space: nowrap; max-width: 500px; overflow: hidden; text-overflow: ellipsis; \">[&quot;A&quot;,&quot;G&quot;]</td><td style=\"white-space: nowrap; max-width: 500px; overflow: hidden; text-overflow: ellipsis; \">4</td><td style=\"white-space: nowrap; max-width: 500px; overflow: hidden; text-overflow: ellipsis; \">5</td></tr>\n",
       "<tr><td style=\"white-space: nowrap; max-width: 500px; overflow: hidden; text-overflow: ellipsis; \">chr1:200</td><td style=\"white-space: nowrap; max-width: 500px; overflow: hidden; text-overflow: ellipsis; \">[&quot;C&quot;,&quot;T&quot;]</td><td style=\"white-space: nowrap; max-width: 500px; overflow: hidden; text-overflow: ellipsis; \">8</td><td style=\"white-space: nowrap; max-width: 500px; overflow: hidden; text-overflow: ellipsis; \">1</td></tr>\n",
       "<tr><td style=\"white-space: nowrap; max-width: 500px; overflow: hidden; text-overflow: ellipsis; \">chr1:300</td><td style=\"white-space: nowrap; max-width: 500px; overflow: hidden; text-overflow: ellipsis; \">[&quot;G&quot;,&quot;A&quot;]</td><td style=\"white-space: nowrap; max-width: 500px; overflow: hidden; text-overflow: ellipsis; \">6</td><td style=\"white-space: nowrap; max-width: 500px; overflow: hidden; text-overflow: ellipsis; \">3</td></tr>\n",
       "<tr><td style=\"white-space: nowrap; max-width: 500px; overflow: hidden; text-overflow: ellipsis; \">chr2:150</td><td style=\"white-space: nowrap; max-width: 500px; overflow: hidden; text-overflow: ellipsis; \">[&quot;T&quot;,&quot;C&quot;]</td><td style=\"white-space: nowrap; max-width: 500px; overflow: hidden; text-overflow: ellipsis; \">6</td><td style=\"white-space: nowrap; max-width: 500px; overflow: hidden; text-overflow: ellipsis; \">4</td></tr>\n",
       "<tr><td style=\"white-space: nowrap; max-width: 500px; overflow: hidden; text-overflow: ellipsis; \">chr2:250</td><td style=\"white-space: nowrap; max-width: 500px; overflow: hidden; text-overflow: ellipsis; \">[&quot;A&quot;,&quot;G&quot;]</td><td style=\"white-space: nowrap; max-width: 500px; overflow: hidden; text-overflow: ellipsis; \">8</td><td style=\"white-space: nowrap; max-width: 500px; overflow: hidden; text-overflow: ellipsis; \">1</td></tr>\n",
       "<tr><td style=\"white-space: nowrap; max-width: 500px; overflow: hidden; text-overflow: ellipsis; \">chr2:350</td><td style=\"white-space: nowrap; max-width: 500px; overflow: hidden; text-overflow: ellipsis; \">[&quot;C&quot;,&quot;T&quot;]</td><td style=\"white-space: nowrap; max-width: 500px; overflow: hidden; text-overflow: ellipsis; \">5</td><td style=\"white-space: nowrap; max-width: 500px; overflow: hidden; text-overflow: ellipsis; \">4</td></tr>\n",
       "<tr><td style=\"white-space: nowrap; max-width: 500px; overflow: hidden; text-overflow: ellipsis; \">chr3:120</td><td style=\"white-space: nowrap; max-width: 500px; overflow: hidden; text-overflow: ellipsis; \">[&quot;G&quot;,&quot;A&quot;]</td><td style=\"white-space: nowrap; max-width: 500px; overflow: hidden; text-overflow: ellipsis; \">7</td><td style=\"white-space: nowrap; max-width: 500px; overflow: hidden; text-overflow: ellipsis; \">3</td></tr>\n",
       "<tr><td style=\"white-space: nowrap; max-width: 500px; overflow: hidden; text-overflow: ellipsis; \">chr3:220</td><td style=\"white-space: nowrap; max-width: 500px; overflow: hidden; text-overflow: ellipsis; \">[&quot;T&quot;,&quot;C&quot;]</td><td style=\"white-space: nowrap; max-width: 500px; overflow: hidden; text-overflow: ellipsis; \">6</td><td style=\"white-space: nowrap; max-width: 500px; overflow: hidden; text-overflow: ellipsis; \">4</td></tr>\n",
       "<tr><td style=\"white-space: nowrap; max-width: 500px; overflow: hidden; text-overflow: ellipsis; \">chr3:320</td><td style=\"white-space: nowrap; max-width: 500px; overflow: hidden; text-overflow: ellipsis; \">[&quot;A&quot;,&quot;G&quot;]</td><td style=\"white-space: nowrap; max-width: 500px; overflow: hidden; text-overflow: ellipsis; \">6</td><td style=\"white-space: nowrap; max-width: 500px; overflow: hidden; text-overflow: ellipsis; \">3</td></tr>\n",
       "</tbody></table>"
      ],
      "text/plain": [
       "+---------------+------------+-----------------------+-----------------------+\n",
       "| locus         | alleles    | <col 0>.n_alt_alleles | <col 1>.n_alt_alleles |\n",
       "+---------------+------------+-----------------------+-----------------------+\n",
       "| locus<GRCh38> | array<str> |                 int64 |                 int64 |\n",
       "+---------------+------------+-----------------------+-----------------------+\n",
       "| chr1:100      | [\"A\",\"G\"]  |                     4 |                     5 |\n",
       "| chr1:200      | [\"C\",\"T\"]  |                     8 |                     1 |\n",
       "| chr1:300      | [\"G\",\"A\"]  |                     6 |                     3 |\n",
       "| chr2:150      | [\"T\",\"C\"]  |                     6 |                     4 |\n",
       "| chr2:250      | [\"A\",\"G\"]  |                     8 |                     1 |\n",
       "| chr2:350      | [\"C\",\"T\"]  |                     5 |                     4 |\n",
       "| chr3:120      | [\"G\",\"A\"]  |                     7 |                     3 |\n",
       "| chr3:220      | [\"T\",\"C\"]  |                     6 |                     4 |\n",
       "| chr3:320      | [\"A\",\"G\"]  |                     6 |                     3 |\n",
       "+---------------+------------+-----------------------+-----------------------+"
      ]
     },
     "metadata": {},
     "output_type": "display_data"
    }
   ],
   "source": [
    "mt.group_cols_by(\n",
    "    is_shorter_than_5_8 = mt.height_ft < (5 + 8/12)\n",
    ").aggregate(\n",
    "    n_alt_alleles = hl.agg.sum(mt.GT.n_alt_alleles())\n",
    ").show(n_rows=10, n_cols=2)"
   ]
  },
  {
   "cell_type": "markdown",
   "id": "937aee04-2147-4651-8c3b-c07089522e29",
   "metadata": {},
   "source": [
    "### Exercise\n",
    "\n",
    "Calculate the mean depth for each contig."
   ]
  },
  {
   "cell_type": "code",
   "execution_count": 51,
   "id": "3680460d-66d9-4bab-9376-a40b9474cf42",
   "metadata": {},
   "outputs": [
    {
     "name": "stderr",
     "output_type": "stream",
     "text": [
      "2023-08-29 16:49:04.728 Hail: INFO: Coerced sorted dataset\n"
     ]
    },
    {
     "data": {
      "text/html": [
       "<table><thead><tr><td style=\"white-space: nowrap; max-width: 500px; overflow: hidden; text-overflow: ellipsis; \" colspan=\"1\"><div style=\"text-align: left;\"></div></td><td style=\"white-space: nowrap; max-width: 500px; overflow: hidden; text-overflow: ellipsis; \" colspan=\"1\"><div style=\"text-align: left;\"></div></td><td style=\"white-space: nowrap; max-width: 500px; overflow: hidden; text-overflow: ellipsis; \" colspan=\"1\"><div style=\"text-align: left;\"></div></td><td style=\"white-space: nowrap; max-width: 500px; overflow: hidden; text-overflow: ellipsis; \" colspan=\"1\"><div style=\"text-align: left;\"></div></td><td style=\"white-space: nowrap; max-width: 500px; overflow: hidden; text-overflow: ellipsis; \" colspan=\"1\"><div style=\"text-align: left;\"></div></td><td style=\"white-space: nowrap; max-width: 500px; overflow: hidden; text-overflow: ellipsis; \" colspan=\"1\"><div style=\"text-align: left;\"></div></td><td style=\"white-space: nowrap; max-width: 500px; overflow: hidden; text-overflow: ellipsis; \" colspan=\"1\"><div style=\"text-align: left;\"></div></td><td style=\"white-space: nowrap; max-width: 500px; overflow: hidden; text-overflow: ellipsis; \" colspan=\"1\"><div style=\"text-align: left;\"></div></td><td style=\"white-space: nowrap; max-width: 500px; overflow: hidden; text-overflow: ellipsis; \" colspan=\"1\"><div style=\"text-align: left;\"></div></td><td style=\"white-space: nowrap; max-width: 500px; overflow: hidden; text-overflow: ellipsis; \" colspan=\"1\"><div style=\"text-align: left;\"></div></td><td style=\"white-space: nowrap; max-width: 500px; overflow: hidden; text-overflow: ellipsis; \" colspan=\"1\"><div style=\"text-align: left;\"></div></td></tr><tr><td style=\"white-space: nowrap; max-width: 500px; overflow: hidden; text-overflow: ellipsis; \" colspan=\"1\"><div style=\"text-align: left;\"></div></td><td style=\"white-space: nowrap; max-width: 500px; overflow: hidden; text-overflow: ellipsis; \" colspan=\"1\"><div style=\"text-align: left;border-bottom: solid 2px #000; padding-bottom: 5px\">&#x27;Sample1&#x27;</div></td><td style=\"white-space: nowrap; max-width: 500px; overflow: hidden; text-overflow: ellipsis; \" colspan=\"1\"><div style=\"text-align: left;border-bottom: solid 2px #000; padding-bottom: 5px\">&#x27;Sample2&#x27;</div></td><td style=\"white-space: nowrap; max-width: 500px; overflow: hidden; text-overflow: ellipsis; \" colspan=\"1\"><div style=\"text-align: left;border-bottom: solid 2px #000; padding-bottom: 5px\">&#x27;Sample3&#x27;</div></td><td style=\"white-space: nowrap; max-width: 500px; overflow: hidden; text-overflow: ellipsis; \" colspan=\"1\"><div style=\"text-align: left;border-bottom: solid 2px #000; padding-bottom: 5px\">&#x27;Sample4&#x27;</div></td><td style=\"white-space: nowrap; max-width: 500px; overflow: hidden; text-overflow: ellipsis; \" colspan=\"1\"><div style=\"text-align: left;border-bottom: solid 2px #000; padding-bottom: 5px\">&#x27;Sample5&#x27;</div></td><td style=\"white-space: nowrap; max-width: 500px; overflow: hidden; text-overflow: ellipsis; \" colspan=\"1\"><div style=\"text-align: left;border-bottom: solid 2px #000; padding-bottom: 5px\">&#x27;Sample6&#x27;</div></td><td style=\"white-space: nowrap; max-width: 500px; overflow: hidden; text-overflow: ellipsis; \" colspan=\"1\"><div style=\"text-align: left;border-bottom: solid 2px #000; padding-bottom: 5px\">&#x27;Sample7&#x27;</div></td><td style=\"white-space: nowrap; max-width: 500px; overflow: hidden; text-overflow: ellipsis; \" colspan=\"1\"><div style=\"text-align: left;border-bottom: solid 2px #000; padding-bottom: 5px\">&#x27;Sample8&#x27;</div></td><td style=\"white-space: nowrap; max-width: 500px; overflow: hidden; text-overflow: ellipsis; \" colspan=\"1\"><div style=\"text-align: left;border-bottom: solid 2px #000; padding-bottom: 5px\">&#x27;Sample9&#x27;</div></td><td style=\"white-space: nowrap; max-width: 500px; overflow: hidden; text-overflow: ellipsis; \" colspan=\"1\"><div style=\"text-align: left;border-bottom: solid 2px #000; padding-bottom: 5px\">&#x27;Sample10&#x27;</div></td></tr><tr><td style=\"white-space: nowrap; max-width: 500px; overflow: hidden; text-overflow: ellipsis; \" colspan=\"1\"><div style=\"text-align: left;border-bottom: solid 2px #000; padding-bottom: 5px\">contig</div></td><td style=\"white-space: nowrap; max-width: 500px; overflow: hidden; text-overflow: ellipsis; \" colspan=\"1\"><div style=\"text-align: left;border-bottom: solid 2px #000; padding-bottom: 5px\">mean_depth</div></td><td style=\"white-space: nowrap; max-width: 500px; overflow: hidden; text-overflow: ellipsis; \" colspan=\"1\"><div style=\"text-align: left;border-bottom: solid 2px #000; padding-bottom: 5px\">mean_depth</div></td><td style=\"white-space: nowrap; max-width: 500px; overflow: hidden; text-overflow: ellipsis; \" colspan=\"1\"><div style=\"text-align: left;border-bottom: solid 2px #000; padding-bottom: 5px\">mean_depth</div></td><td style=\"white-space: nowrap; max-width: 500px; overflow: hidden; text-overflow: ellipsis; \" colspan=\"1\"><div style=\"text-align: left;border-bottom: solid 2px #000; padding-bottom: 5px\">mean_depth</div></td><td style=\"white-space: nowrap; max-width: 500px; overflow: hidden; text-overflow: ellipsis; \" colspan=\"1\"><div style=\"text-align: left;border-bottom: solid 2px #000; padding-bottom: 5px\">mean_depth</div></td><td style=\"white-space: nowrap; max-width: 500px; overflow: hidden; text-overflow: ellipsis; \" colspan=\"1\"><div style=\"text-align: left;border-bottom: solid 2px #000; padding-bottom: 5px\">mean_depth</div></td><td style=\"white-space: nowrap; max-width: 500px; overflow: hidden; text-overflow: ellipsis; \" colspan=\"1\"><div style=\"text-align: left;border-bottom: solid 2px #000; padding-bottom: 5px\">mean_depth</div></td><td style=\"white-space: nowrap; max-width: 500px; overflow: hidden; text-overflow: ellipsis; \" colspan=\"1\"><div style=\"text-align: left;border-bottom: solid 2px #000; padding-bottom: 5px\">mean_depth</div></td><td style=\"white-space: nowrap; max-width: 500px; overflow: hidden; text-overflow: ellipsis; \" colspan=\"1\"><div style=\"text-align: left;border-bottom: solid 2px #000; padding-bottom: 5px\">mean_depth</div></td><td style=\"white-space: nowrap; max-width: 500px; overflow: hidden; text-overflow: ellipsis; \" colspan=\"1\"><div style=\"text-align: left;border-bottom: solid 2px #000; padding-bottom: 5px\">mean_depth</div></td></tr><tr><td style=\"white-space: nowrap; max-width: 500px; overflow: hidden; text-overflow: ellipsis; text-align: left;\">str</td><td style=\"white-space: nowrap; max-width: 500px; overflow: hidden; text-overflow: ellipsis; text-align: left;\">float64</td><td style=\"white-space: nowrap; max-width: 500px; overflow: hidden; text-overflow: ellipsis; text-align: left;\">float64</td><td style=\"white-space: nowrap; max-width: 500px; overflow: hidden; text-overflow: ellipsis; text-align: left;\">float64</td><td style=\"white-space: nowrap; max-width: 500px; overflow: hidden; text-overflow: ellipsis; text-align: left;\">float64</td><td style=\"white-space: nowrap; max-width: 500px; overflow: hidden; text-overflow: ellipsis; text-align: left;\">float64</td><td style=\"white-space: nowrap; max-width: 500px; overflow: hidden; text-overflow: ellipsis; text-align: left;\">float64</td><td style=\"white-space: nowrap; max-width: 500px; overflow: hidden; text-overflow: ellipsis; text-align: left;\">float64</td><td style=\"white-space: nowrap; max-width: 500px; overflow: hidden; text-overflow: ellipsis; text-align: left;\">float64</td><td style=\"white-space: nowrap; max-width: 500px; overflow: hidden; text-overflow: ellipsis; text-align: left;\">float64</td><td style=\"white-space: nowrap; max-width: 500px; overflow: hidden; text-overflow: ellipsis; text-align: left;\">float64</td></tr>\n",
       "</thead><tbody><tr><td style=\"white-space: nowrap; max-width: 500px; overflow: hidden; text-overflow: ellipsis; \">&quot;chr1&quot;</td><td style=\"white-space: nowrap; max-width: 500px; overflow: hidden; text-overflow: ellipsis; \">1.50e+01</td><td style=\"white-space: nowrap; max-width: 500px; overflow: hidden; text-overflow: ellipsis; \">1.80e+01</td><td style=\"white-space: nowrap; max-width: 500px; overflow: hidden; text-overflow: ellipsis; \">1.47e+01</td><td style=\"white-space: nowrap; max-width: 500px; overflow: hidden; text-overflow: ellipsis; \">1.57e+01</td><td style=\"white-space: nowrap; max-width: 500px; overflow: hidden; text-overflow: ellipsis; \">2.03e+01</td><td style=\"white-space: nowrap; max-width: 500px; overflow: hidden; text-overflow: ellipsis; \">1.73e+01</td><td style=\"white-space: nowrap; max-width: 500px; overflow: hidden; text-overflow: ellipsis; \">1.80e+01</td><td style=\"white-space: nowrap; max-width: 500px; overflow: hidden; text-overflow: ellipsis; \">1.67e+01</td><td style=\"white-space: nowrap; max-width: 500px; overflow: hidden; text-overflow: ellipsis; \">1.70e+01</td><td style=\"white-space: nowrap; max-width: 500px; overflow: hidden; text-overflow: ellipsis; \">1.70e+01</td></tr>\n",
       "<tr><td style=\"white-space: nowrap; max-width: 500px; overflow: hidden; text-overflow: ellipsis; \">&quot;chr2&quot;</td><td style=\"white-space: nowrap; max-width: 500px; overflow: hidden; text-overflow: ellipsis; \">1.73e+01</td><td style=\"white-space: nowrap; max-width: 500px; overflow: hidden; text-overflow: ellipsis; \">1.70e+01</td><td style=\"white-space: nowrap; max-width: 500px; overflow: hidden; text-overflow: ellipsis; \">1.83e+01</td><td style=\"white-space: nowrap; max-width: 500px; overflow: hidden; text-overflow: ellipsis; \">1.73e+01</td><td style=\"white-space: nowrap; max-width: 500px; overflow: hidden; text-overflow: ellipsis; \">1.83e+01</td><td style=\"white-space: nowrap; max-width: 500px; overflow: hidden; text-overflow: ellipsis; \">1.90e+01</td><td style=\"white-space: nowrap; max-width: 500px; overflow: hidden; text-overflow: ellipsis; \">1.90e+01</td><td style=\"white-space: nowrap; max-width: 500px; overflow: hidden; text-overflow: ellipsis; \">1.73e+01</td><td style=\"white-space: nowrap; max-width: 500px; overflow: hidden; text-overflow: ellipsis; \">1.87e+01</td><td style=\"white-space: nowrap; max-width: 500px; overflow: hidden; text-overflow: ellipsis; \">2.13e+01</td></tr>\n",
       "<tr><td style=\"white-space: nowrap; max-width: 500px; overflow: hidden; text-overflow: ellipsis; \">&quot;chr3&quot;</td><td style=\"white-space: nowrap; max-width: 500px; overflow: hidden; text-overflow: ellipsis; \">2.07e+01</td><td style=\"white-space: nowrap; max-width: 500px; overflow: hidden; text-overflow: ellipsis; \">1.90e+01</td><td style=\"white-space: nowrap; max-width: 500px; overflow: hidden; text-overflow: ellipsis; \">2.03e+01</td><td style=\"white-space: nowrap; max-width: 500px; overflow: hidden; text-overflow: ellipsis; \">1.90e+01</td><td style=\"white-space: nowrap; max-width: 500px; overflow: hidden; text-overflow: ellipsis; \">2.10e+01</td><td style=\"white-space: nowrap; max-width: 500px; overflow: hidden; text-overflow: ellipsis; \">2.07e+01</td><td style=\"white-space: nowrap; max-width: 500px; overflow: hidden; text-overflow: ellipsis; \">2.07e+01</td><td style=\"white-space: nowrap; max-width: 500px; overflow: hidden; text-overflow: ellipsis; \">1.83e+01</td><td style=\"white-space: nowrap; max-width: 500px; overflow: hidden; text-overflow: ellipsis; \">1.97e+01</td><td style=\"white-space: nowrap; max-width: 500px; overflow: hidden; text-overflow: ellipsis; \">2.03e+01</td></tr>\n",
       "</tbody></table>"
      ],
      "text/plain": [
       "+--------+----------------------+----------------------+----------------------+\n",
       "| contig | 'Sample1'.mean_depth | 'Sample2'.mean_depth | 'Sample3'.mean_depth |\n",
       "+--------+----------------------+----------------------+----------------------+\n",
       "| str    |              float64 |              float64 |              float64 |\n",
       "+--------+----------------------+----------------------+----------------------+\n",
       "| \"chr1\" |             1.50e+01 |             1.80e+01 |             1.47e+01 |\n",
       "| \"chr2\" |             1.73e+01 |             1.70e+01 |             1.83e+01 |\n",
       "| \"chr3\" |             2.07e+01 |             1.90e+01 |             2.03e+01 |\n",
       "+--------+----------------------+----------------------+----------------------+\n",
       "\n",
       "+----------------------+----------------------+----------------------+\n",
       "| 'Sample4'.mean_depth | 'Sample5'.mean_depth | 'Sample6'.mean_depth |\n",
       "+----------------------+----------------------+----------------------+\n",
       "|              float64 |              float64 |              float64 |\n",
       "+----------------------+----------------------+----------------------+\n",
       "|             1.57e+01 |             2.03e+01 |             1.73e+01 |\n",
       "|             1.73e+01 |             1.83e+01 |             1.90e+01 |\n",
       "|             1.90e+01 |             2.10e+01 |             2.07e+01 |\n",
       "+----------------------+----------------------+----------------------+\n",
       "\n",
       "+----------------------+----------------------+----------------------+\n",
       "| 'Sample7'.mean_depth | 'Sample8'.mean_depth | 'Sample9'.mean_depth |\n",
       "+----------------------+----------------------+----------------------+\n",
       "|              float64 |              float64 |              float64 |\n",
       "+----------------------+----------------------+----------------------+\n",
       "|             1.80e+01 |             1.67e+01 |             1.70e+01 |\n",
       "|             1.90e+01 |             1.73e+01 |             1.87e+01 |\n",
       "|             2.07e+01 |             1.83e+01 |             1.97e+01 |\n",
       "+----------------------+----------------------+----------------------+\n",
       "\n",
       "+-----------------------+\n",
       "| 'Sample10'.mean_depth |\n",
       "+-----------------------+\n",
       "|               float64 |\n",
       "+-----------------------+\n",
       "|              1.70e+01 |\n",
       "|              2.13e+01 |\n",
       "|              2.03e+01 |\n",
       "+-----------------------+"
      ]
     },
     "metadata": {},
     "output_type": "display_data"
    }
   ],
   "source": [
    "mt.group_rows_by(\n",
    "    contig=mt.locus.contig\n",
    ").aggregate(\n",
    "    mean_depth = hl.agg.mean(mt.DP)\n",
    ").show(n_rows=3, n_cols=10)"
   ]
  },
  {
   "cell_type": "markdown",
   "id": "b3049bac-f4cc-4f34-bf20-5559c6f022f6",
   "metadata": {},
   "source": [
    "# Writing and Reading Matrix Tables in Hail Native Format\n",
    "\n",
    "Hail has a partitioned, indexed, binary file format for quickly reading and writing matrix tables. [`MatrixTable.write`](https://hail.is/docs/0.2/hail.MatrixTable.html#hail.MatrixTable.write) is the action which writes a matrix table in Hail native format. We use the \".mt\" file extension by convention."
   ]
  },
  {
   "cell_type": "code",
   "execution_count": 54,
   "id": "4a82bdc5-d6cf-45a4-b0af-dbc5c5317d30",
   "metadata": {},
   "outputs": [
    {
     "name": "stderr",
     "output_type": "stream",
     "text": [
      "2023-08-29 16:49:28.454 Hail: INFO: wrote matrix table with 9 rows and 10 columns in 2 partitions to output/sample_vcf.mt\n"
     ]
    }
   ],
   "source": [
    "mt.write('output/sample_vcf.mt')"
   ]
  },
  {
   "cell_type": "markdown",
   "id": "59f9ca07-12ee-4b31-b5b7-0b7c755709a6",
   "metadata": {},
   "source": [
    "Unless you're using BGEN, a binary format for which Hail has excellent support, you should always read from a Hail native format file instead of importing.\n",
    "\n",
    "[`hl.read_matrix_table`](https://hail.is/docs/0.2/methods/impex.html#hail.methods.read_matrix_table) reads matrix tables stored in Hail native format."
   ]
  },
  {
   "cell_type": "code",
   "execution_count": 55,
   "id": "4c04fa20-2a7c-4265-bfe5-8cfc430a669e",
   "metadata": {},
   "outputs": [],
   "source": [
    "mt = hl.read_matrix_table('output/sample_vcf.mt')"
   ]
  },
  {
   "cell_type": "markdown",
   "id": "9a4d071f-cb22-452d-a863-e244ac3e8f75",
   "metadata": {},
   "source": [
    "# Exporting a Matrix Table\n",
    "\n",
    "A matrix table supports [export to many formats](https://hail.is/docs/0.2/methods/impex.html#export) including VCF, BGEN, and PLINK."
   ]
  },
  {
   "cell_type": "markdown",
   "id": "54548522-6a4b-4f97-94a8-be4455e3abd4",
   "metadata": {},
   "source": [
    "Always export VCFs using block GZIP compression and \"header_per_shard\" or \"separate_header\". VCF does not support boolean FORMAT fields so we must recode `low_DP` to an integer using [`hl.if_else`](https://hail.is/docs/0.2/functions/core.html#hail.expr.functions.if_else)."
   ]
  },
  {
   "cell_type": "code",
   "execution_count": 56,
   "id": "56957ff6-d856-4892-be90-4e7db3119895",
   "metadata": {},
   "outputs": [
    {
     "name": "stderr",
     "output_type": "stream",
     "text": [
      "2023-08-29 16:49:40.958 Hail: WARN: export_vcf: ignored the following fields:\n",
      "    'height_ft' (column)\n",
      "    'the_actual_sum_total_DP' (row)\n"
     ]
    }
   ],
   "source": [
    "xx = mt\n",
    "xx = xx.annotate_entries(low_DP=hl.if_else(xx.low_DP, 1, 0))\n",
    "hl.export_vcf(xx, 'output/sample_vcf.vcf.bgz', parallel='header_per_shard')"
   ]
  },
  {
   "cell_type": "code",
   "execution_count": 57,
   "id": "2667d9a4-964f-4a96-a119-94f082a99e72",
   "metadata": {},
   "outputs": [
    {
     "name": "stdout",
     "output_type": "stream",
     "text": [
      "_SUCCESS\n",
      "part-0-8820347e-74ea-4bc0-b1d3-b9af3560cb78.bgz\n",
      "part-1-bd59c3a9-e27a-40c3-8ad7-4be8d7b4ab5c.bgz\n",
      "shard-manifest.txt\n"
     ]
    }
   ],
   "source": [
    "!ls output/sample_vcf.vcf.bgz/"
   ]
  },
  {
   "cell_type": "markdown",
   "id": "1303eeae-d86f-4fd0-a8fb-053b33e9b14f",
   "metadata": {},
   "source": [
    "⚠️⚠️⚠️ Confusing Behavior Alert ⚠️⚠️⚠️\n",
    "\n",
    "BGEN datasets are usually two files: a .bgen file and a .sample file. [`hl.export_bgen`](https://hail.is/docs/0.2/methods/impex.html#hail.methods.export_bgen) expects a file path _without_ an extension. A file named `....sample` contains the sample IDs. A file or folder named `....bgen` contains the genotype probabilities in BGEN format."
   ]
  },
  {
   "cell_type": "code",
   "execution_count": 58,
   "id": "70b667f6-53c1-4fb3-a5a9-718f13353f66",
   "metadata": {},
   "outputs": [],
   "source": [
    "xx = mt\n",
    "xx = xx.annotate_entries(\n",
    "    GP=(hl.case()\n",
    "        .when(mt.GT.is_hom_ref(), [1, 0, 0])\n",
    "        .when(mt.GT.is_het(), [0, 1, 0])\n",
    "        .when(mt.GT.is_hom_var(), [0, 0, 1])\n",
    "        .or_error(hl.format('Unexpected GT: %s', mt.GT))\n",
    "       )\n",
    ")\n",
    "hl.export_bgen(xx, 'output/sample_vcf', gp=xx.GP, parallel='header_per_shard')"
   ]
  },
  {
   "cell_type": "code",
   "execution_count": 59,
   "id": "2b7f1a40-7e2c-4894-8e9f-12e84fccbb6b",
   "metadata": {},
   "outputs": [
    {
     "name": "stdout",
     "output_type": "stream",
     "text": [
      "part-0-ad1ac6dc-60ac-4821-806a-ecf721d7f567\n",
      "part-1-2171c9c6-f653-4b59-929f-742d666e9579\n",
      "shard-manifest.txt\n"
     ]
    }
   ],
   "source": [
    "!ls output/sample_vcf.bgen/"
   ]
  },
  {
   "cell_type": "code",
   "execution_count": 60,
   "id": "6c5709c4-e60b-492e-a3f8-68926a37c7a3",
   "metadata": {},
   "outputs": [
    {
     "name": "stdout",
     "output_type": "stream",
     "text": [
      "ID_1 ID_2 missing\n",
      "0 0 0\n",
      "Sample1 Sample1 0\n",
      "Sample2 Sample2 0\n"
     ]
    }
   ],
   "source": [
    "!head -n 4 output/sample_vcf.sample"
   ]
  },
  {
   "cell_type": "markdown",
   "id": "0d0aaea1-a50b-43a6-b96f-8a964ff0dbd4",
   "metadata": {},
   "source": [
    "# Collecting a Matrix Table\n",
    "\n",
    "Matrix tables do not support `collect` because there is no obvious Python analogue to the matrix table. A list of list or a NumPy matrix both seem reasonable. Matrix table does not support `to_pandas` because Pandas DataFrames have a large per-column overhead and most matrix tables have many columns, each with many entry fields.\n",
    "\n",
    "Instead, matrix tables provide methods for producing tables which can be converted to lists or Pandas DataFrames."
   ]
  },
  {
   "cell_type": "markdown",
   "id": "fdc3847f-b991-47b7-ba35-29f1e15e2407",
   "metadata": {},
   "source": [
    "[`MatrixTable.make_table`](https://hail.is/docs/0.2/hail.MatrixTable.html#hail.MatrixTable.make_table) creates a table with one field for every column for every entry field."
   ]
  },
  {
   "cell_type": "code",
   "execution_count": 61,
   "id": "742ec60b-c960-4e44-b329-d8ef62fbb619",
   "metadata": {},
   "outputs": [
    {
     "data": {
      "text/html": [
       "<table><thead><tr><td style=\"white-space: nowrap; max-width: 500px; overflow: hidden; text-overflow: ellipsis; \" colspan=\"1\"><div style=\"text-align: left;\"></div></td><td style=\"white-space: nowrap; max-width: 500px; overflow: hidden; text-overflow: ellipsis; \" colspan=\"1\"><div style=\"text-align: left;\"></div></td><td style=\"white-space: nowrap; max-width: 500px; overflow: hidden; text-overflow: ellipsis; \" colspan=\"1\"><div style=\"text-align: left;\"></div></td><td style=\"white-space: nowrap; max-width: 500px; overflow: hidden; text-overflow: ellipsis; \" colspan=\"1\"><div style=\"text-align: left;\"></div></td><td style=\"white-space: nowrap; max-width: 500px; overflow: hidden; text-overflow: ellipsis; \" colspan=\"1\"><div style=\"text-align: left;\"></div></td><td style=\"white-space: nowrap; max-width: 500px; overflow: hidden; text-overflow: ellipsis; \" colspan=\"1\"><div style=\"text-align: left;\"></div></td><td style=\"white-space: nowrap; max-width: 500px; overflow: hidden; text-overflow: ellipsis; \" colspan=\"1\"><div style=\"text-align: left;\"></div></td><td style=\"white-space: nowrap; max-width: 500px; overflow: hidden; text-overflow: ellipsis; \" colspan=\"1\"><div style=\"text-align: left;\"></div></td><td style=\"white-space: nowrap; max-width: 500px; overflow: hidden; text-overflow: ellipsis; \" colspan=\"1\"><div style=\"text-align: left;\"></div></td><td style=\"white-space: nowrap; max-width: 500px; overflow: hidden; text-overflow: ellipsis; \" colspan=\"1\"><div style=\"text-align: left;\"></div></td><td style=\"white-space: nowrap; max-width: 500px; overflow: hidden; text-overflow: ellipsis; \" colspan=\"1\"><div style=\"text-align: left;\"></div></td><td style=\"white-space: nowrap; max-width: 500px; overflow: hidden; text-overflow: ellipsis; \" colspan=\"1\"><div style=\"text-align: left;\"></div></td><td style=\"white-space: nowrap; max-width: 500px; overflow: hidden; text-overflow: ellipsis; \" colspan=\"1\"><div style=\"text-align: left;\"></div></td><td style=\"white-space: nowrap; max-width: 500px; overflow: hidden; text-overflow: ellipsis; \" colspan=\"1\"><div style=\"text-align: left;\"></div></td><td style=\"white-space: nowrap; max-width: 500px; overflow: hidden; text-overflow: ellipsis; \" colspan=\"1\"><div style=\"text-align: left;\"></div></td><td style=\"white-space: nowrap; max-width: 500px; overflow: hidden; text-overflow: ellipsis; \" colspan=\"1\"><div style=\"text-align: left;\"></div></td><td style=\"white-space: nowrap; max-width: 500px; overflow: hidden; text-overflow: ellipsis; \" colspan=\"1\"><div style=\"text-align: left;\"></div></td><td style=\"white-space: nowrap; max-width: 500px; overflow: hidden; text-overflow: ellipsis; \" colspan=\"1\"><div style=\"text-align: left;\"></div></td><td style=\"white-space: nowrap; max-width: 500px; overflow: hidden; text-overflow: ellipsis; \" colspan=\"1\"><div style=\"text-align: left;\"></div></td><td style=\"white-space: nowrap; max-width: 500px; overflow: hidden; text-overflow: ellipsis; \" colspan=\"1\"><div style=\"text-align: left;\"></div></td><td style=\"white-space: nowrap; max-width: 500px; overflow: hidden; text-overflow: ellipsis; \" colspan=\"1\"><div style=\"text-align: left;\"></div></td><td style=\"white-space: nowrap; max-width: 500px; overflow: hidden; text-overflow: ellipsis; \" colspan=\"1\"><div style=\"text-align: left;\"></div></td><td style=\"white-space: nowrap; max-width: 500px; overflow: hidden; text-overflow: ellipsis; \" colspan=\"1\"><div style=\"text-align: left;\"></div></td><td style=\"white-space: nowrap; max-width: 500px; overflow: hidden; text-overflow: ellipsis; \" colspan=\"1\"><div style=\"text-align: left;\"></div></td><td style=\"white-space: nowrap; max-width: 500px; overflow: hidden; text-overflow: ellipsis; \" colspan=\"1\"><div style=\"text-align: left;\"></div></td><td style=\"white-space: nowrap; max-width: 500px; overflow: hidden; text-overflow: ellipsis; \" colspan=\"1\"><div style=\"text-align: left;\"></div></td><td style=\"white-space: nowrap; max-width: 500px; overflow: hidden; text-overflow: ellipsis; \" colspan=\"1\"><div style=\"text-align: left;\"></div></td><td style=\"white-space: nowrap; max-width: 500px; overflow: hidden; text-overflow: ellipsis; \" colspan=\"1\"><div style=\"text-align: left;\"></div></td><td style=\"white-space: nowrap; max-width: 500px; overflow: hidden; text-overflow: ellipsis; \" colspan=\"1\"><div style=\"text-align: left;\"></div></td><td style=\"white-space: nowrap; max-width: 500px; overflow: hidden; text-overflow: ellipsis; \" colspan=\"1\"><div style=\"text-align: left;\"></div></td><td style=\"white-space: nowrap; max-width: 500px; overflow: hidden; text-overflow: ellipsis; \" colspan=\"1\"><div style=\"text-align: left;\"></div></td><td style=\"white-space: nowrap; max-width: 500px; overflow: hidden; text-overflow: ellipsis; \" colspan=\"1\"><div style=\"text-align: left;\"></div></td><td style=\"white-space: nowrap; max-width: 500px; overflow: hidden; text-overflow: ellipsis; \" colspan=\"1\"><div style=\"text-align: left;\"></div></td><td style=\"white-space: nowrap; max-width: 500px; overflow: hidden; text-overflow: ellipsis; \" colspan=\"1\"><div style=\"text-align: left;\"></div></td><td style=\"white-space: nowrap; max-width: 500px; overflow: hidden; text-overflow: ellipsis; \" colspan=\"1\"><div style=\"text-align: left;\"></div></td><td style=\"white-space: nowrap; max-width: 500px; overflow: hidden; text-overflow: ellipsis; \" colspan=\"1\"><div style=\"text-align: left;\"></div></td><td style=\"white-space: nowrap; max-width: 500px; overflow: hidden; text-overflow: ellipsis; \" colspan=\"1\"><div style=\"text-align: left;\"></div></td><td style=\"white-space: nowrap; max-width: 500px; overflow: hidden; text-overflow: ellipsis; \" colspan=\"1\"><div style=\"text-align: left;\"></div></td><td style=\"white-space: nowrap; max-width: 500px; overflow: hidden; text-overflow: ellipsis; \" colspan=\"1\"><div style=\"text-align: left;\"></div></td><td style=\"white-space: nowrap; max-width: 500px; overflow: hidden; text-overflow: ellipsis; \" colspan=\"1\"><div style=\"text-align: left;\"></div></td><td style=\"white-space: nowrap; max-width: 500px; overflow: hidden; text-overflow: ellipsis; \" colspan=\"1\"><div style=\"text-align: left;\"></div></td><td style=\"white-space: nowrap; max-width: 500px; overflow: hidden; text-overflow: ellipsis; \" colspan=\"1\"><div style=\"text-align: left;\"></div></td><td style=\"white-space: nowrap; max-width: 500px; overflow: hidden; text-overflow: ellipsis; \" colspan=\"1\"><div style=\"text-align: left;\"></div></td><td style=\"white-space: nowrap; max-width: 500px; overflow: hidden; text-overflow: ellipsis; \" colspan=\"1\"><div style=\"text-align: left;\"></div></td><td style=\"white-space: nowrap; max-width: 500px; overflow: hidden; text-overflow: ellipsis; \" colspan=\"1\"><div style=\"text-align: left;\"></div></td><td style=\"white-space: nowrap; max-width: 500px; overflow: hidden; text-overflow: ellipsis; \" colspan=\"1\"><div style=\"text-align: left;\"></div></td><td style=\"white-space: nowrap; max-width: 500px; overflow: hidden; text-overflow: ellipsis; \" colspan=\"1\"><div style=\"text-align: left;\"></div></td><td style=\"white-space: nowrap; max-width: 500px; overflow: hidden; text-overflow: ellipsis; \" colspan=\"1\"><div style=\"text-align: left;\"></div></td><td style=\"white-space: nowrap; max-width: 500px; overflow: hidden; text-overflow: ellipsis; \" colspan=\"1\"><div style=\"text-align: left;\"></div></td><td style=\"white-space: nowrap; max-width: 500px; overflow: hidden; text-overflow: ellipsis; \" colspan=\"1\"><div style=\"text-align: left;\"></div></td><td style=\"white-space: nowrap; max-width: 500px; overflow: hidden; text-overflow: ellipsis; \" colspan=\"1\"><div style=\"text-align: left;\"></div></td><td style=\"white-space: nowrap; max-width: 500px; overflow: hidden; text-overflow: ellipsis; \" colspan=\"1\"><div style=\"text-align: left;\"></div></td><td style=\"white-space: nowrap; max-width: 500px; overflow: hidden; text-overflow: ellipsis; \" colspan=\"1\"><div style=\"text-align: left;\"></div></td><td style=\"white-space: nowrap; max-width: 500px; overflow: hidden; text-overflow: ellipsis; \" colspan=\"1\"><div style=\"text-align: left;\"></div></td><td style=\"white-space: nowrap; max-width: 500px; overflow: hidden; text-overflow: ellipsis; \" colspan=\"1\"><div style=\"text-align: left;\"></div></td><td style=\"white-space: nowrap; max-width: 500px; overflow: hidden; text-overflow: ellipsis; \" colspan=\"1\"><div style=\"text-align: left;\"></div></td><td style=\"white-space: nowrap; max-width: 500px; overflow: hidden; text-overflow: ellipsis; \" colspan=\"1\"><div style=\"text-align: left;\"></div></td></tr><tr><td style=\"white-space: nowrap; max-width: 500px; overflow: hidden; text-overflow: ellipsis; \" colspan=\"1\"><div style=\"text-align: left;\"></div></td><td style=\"white-space: nowrap; max-width: 500px; overflow: hidden; text-overflow: ellipsis; \" colspan=\"1\"><div style=\"text-align: left;\"></div></td><td style=\"white-space: nowrap; max-width: 500px; overflow: hidden; text-overflow: ellipsis; \" colspan=\"1\"><div style=\"text-align: left;\"></div></td><td style=\"white-space: nowrap; max-width: 500px; overflow: hidden; text-overflow: ellipsis; \" colspan=\"1\"><div style=\"text-align: left;\"></div></td><td style=\"white-space: nowrap; max-width: 500px; overflow: hidden; text-overflow: ellipsis; \" colspan=\"1\"><div style=\"text-align: left;\"></div></td><td style=\"white-space: nowrap; max-width: 500px; overflow: hidden; text-overflow: ellipsis; \" colspan=\"1\"><div style=\"text-align: left;border-bottom: solid 2px #000; padding-bottom: 5px\">info</div></td><td style=\"white-space: nowrap; max-width: 500px; overflow: hidden; text-overflow: ellipsis; \" colspan=\"1\"><div style=\"text-align: left;\"></div></td><td style=\"white-space: nowrap; max-width: 500px; overflow: hidden; text-overflow: ellipsis; \" colspan=\"1\"><div style=\"text-align: left;\"></div></td><td style=\"white-space: nowrap; max-width: 500px; overflow: hidden; text-overflow: ellipsis; \" colspan=\"1\"><div style=\"text-align: left;\"></div></td><td style=\"white-space: nowrap; max-width: 500px; overflow: hidden; text-overflow: ellipsis; \" colspan=\"1\"><div style=\"text-align: left;\"></div></td><td style=\"white-space: nowrap; max-width: 500px; overflow: hidden; text-overflow: ellipsis; \" colspan=\"1\"><div style=\"text-align: left;\"></div></td><td style=\"white-space: nowrap; max-width: 500px; overflow: hidden; text-overflow: ellipsis; \" colspan=\"1\"><div style=\"text-align: left;\"></div></td><td style=\"white-space: nowrap; max-width: 500px; overflow: hidden; text-overflow: ellipsis; \" colspan=\"1\"><div style=\"text-align: left;\"></div></td><td style=\"white-space: nowrap; max-width: 500px; overflow: hidden; text-overflow: ellipsis; \" colspan=\"1\"><div style=\"text-align: left;\"></div></td><td style=\"white-space: nowrap; max-width: 500px; overflow: hidden; text-overflow: ellipsis; \" colspan=\"1\"><div style=\"text-align: left;\"></div></td><td style=\"white-space: nowrap; max-width: 500px; overflow: hidden; text-overflow: ellipsis; \" colspan=\"1\"><div style=\"text-align: left;\"></div></td><td style=\"white-space: nowrap; max-width: 500px; overflow: hidden; text-overflow: ellipsis; \" colspan=\"1\"><div style=\"text-align: left;\"></div></td><td style=\"white-space: nowrap; max-width: 500px; overflow: hidden; text-overflow: ellipsis; \" colspan=\"1\"><div style=\"text-align: left;\"></div></td><td style=\"white-space: nowrap; max-width: 500px; overflow: hidden; text-overflow: ellipsis; \" colspan=\"1\"><div style=\"text-align: left;\"></div></td><td style=\"white-space: nowrap; max-width: 500px; overflow: hidden; text-overflow: ellipsis; \" colspan=\"1\"><div style=\"text-align: left;\"></div></td><td style=\"white-space: nowrap; max-width: 500px; overflow: hidden; text-overflow: ellipsis; \" colspan=\"1\"><div style=\"text-align: left;\"></div></td><td style=\"white-space: nowrap; max-width: 500px; overflow: hidden; text-overflow: ellipsis; \" colspan=\"1\"><div style=\"text-align: left;\"></div></td><td style=\"white-space: nowrap; max-width: 500px; overflow: hidden; text-overflow: ellipsis; \" colspan=\"1\"><div style=\"text-align: left;\"></div></td><td style=\"white-space: nowrap; max-width: 500px; overflow: hidden; text-overflow: ellipsis; \" colspan=\"1\"><div style=\"text-align: left;\"></div></td><td style=\"white-space: nowrap; max-width: 500px; overflow: hidden; text-overflow: ellipsis; \" colspan=\"1\"><div style=\"text-align: left;\"></div></td><td style=\"white-space: nowrap; max-width: 500px; overflow: hidden; text-overflow: ellipsis; \" colspan=\"1\"><div style=\"text-align: left;\"></div></td><td style=\"white-space: nowrap; max-width: 500px; overflow: hidden; text-overflow: ellipsis; \" colspan=\"1\"><div style=\"text-align: left;\"></div></td><td style=\"white-space: nowrap; max-width: 500px; overflow: hidden; text-overflow: ellipsis; \" colspan=\"1\"><div style=\"text-align: left;\"></div></td><td style=\"white-space: nowrap; max-width: 500px; overflow: hidden; text-overflow: ellipsis; \" colspan=\"1\"><div style=\"text-align: left;\"></div></td><td style=\"white-space: nowrap; max-width: 500px; overflow: hidden; text-overflow: ellipsis; \" colspan=\"1\"><div style=\"text-align: left;\"></div></td><td style=\"white-space: nowrap; max-width: 500px; overflow: hidden; text-overflow: ellipsis; \" colspan=\"1\"><div style=\"text-align: left;\"></div></td><td style=\"white-space: nowrap; max-width: 500px; overflow: hidden; text-overflow: ellipsis; \" colspan=\"1\"><div style=\"text-align: left;\"></div></td><td style=\"white-space: nowrap; max-width: 500px; overflow: hidden; text-overflow: ellipsis; \" colspan=\"1\"><div style=\"text-align: left;\"></div></td><td style=\"white-space: nowrap; max-width: 500px; overflow: hidden; text-overflow: ellipsis; \" colspan=\"1\"><div style=\"text-align: left;\"></div></td><td style=\"white-space: nowrap; max-width: 500px; overflow: hidden; text-overflow: ellipsis; \" colspan=\"1\"><div style=\"text-align: left;\"></div></td><td style=\"white-space: nowrap; max-width: 500px; overflow: hidden; text-overflow: ellipsis; \" colspan=\"1\"><div style=\"text-align: left;\"></div></td><td style=\"white-space: nowrap; max-width: 500px; overflow: hidden; text-overflow: ellipsis; \" colspan=\"1\"><div style=\"text-align: left;\"></div></td><td style=\"white-space: nowrap; max-width: 500px; overflow: hidden; text-overflow: ellipsis; \" colspan=\"1\"><div style=\"text-align: left;\"></div></td><td style=\"white-space: nowrap; max-width: 500px; overflow: hidden; text-overflow: ellipsis; \" colspan=\"1\"><div style=\"text-align: left;\"></div></td><td style=\"white-space: nowrap; max-width: 500px; overflow: hidden; text-overflow: ellipsis; \" colspan=\"1\"><div style=\"text-align: left;\"></div></td><td style=\"white-space: nowrap; max-width: 500px; overflow: hidden; text-overflow: ellipsis; \" colspan=\"1\"><div style=\"text-align: left;\"></div></td><td style=\"white-space: nowrap; max-width: 500px; overflow: hidden; text-overflow: ellipsis; \" colspan=\"1\"><div style=\"text-align: left;\"></div></td><td style=\"white-space: nowrap; max-width: 500px; overflow: hidden; text-overflow: ellipsis; \" colspan=\"1\"><div style=\"text-align: left;\"></div></td><td style=\"white-space: nowrap; max-width: 500px; overflow: hidden; text-overflow: ellipsis; \" colspan=\"1\"><div style=\"text-align: left;\"></div></td><td style=\"white-space: nowrap; max-width: 500px; overflow: hidden; text-overflow: ellipsis; \" colspan=\"1\"><div style=\"text-align: left;\"></div></td><td style=\"white-space: nowrap; max-width: 500px; overflow: hidden; text-overflow: ellipsis; \" colspan=\"1\"><div style=\"text-align: left;\"></div></td><td style=\"white-space: nowrap; max-width: 500px; overflow: hidden; text-overflow: ellipsis; \" colspan=\"1\"><div style=\"text-align: left;\"></div></td><td style=\"white-space: nowrap; max-width: 500px; overflow: hidden; text-overflow: ellipsis; \" colspan=\"1\"><div style=\"text-align: left;\"></div></td><td style=\"white-space: nowrap; max-width: 500px; overflow: hidden; text-overflow: ellipsis; \" colspan=\"1\"><div style=\"text-align: left;\"></div></td><td style=\"white-space: nowrap; max-width: 500px; overflow: hidden; text-overflow: ellipsis; \" colspan=\"1\"><div style=\"text-align: left;\"></div></td><td style=\"white-space: nowrap; max-width: 500px; overflow: hidden; text-overflow: ellipsis; \" colspan=\"1\"><div style=\"text-align: left;\"></div></td><td style=\"white-space: nowrap; max-width: 500px; overflow: hidden; text-overflow: ellipsis; \" colspan=\"1\"><div style=\"text-align: left;\"></div></td><td style=\"white-space: nowrap; max-width: 500px; overflow: hidden; text-overflow: ellipsis; \" colspan=\"1\"><div style=\"text-align: left;\"></div></td><td style=\"white-space: nowrap; max-width: 500px; overflow: hidden; text-overflow: ellipsis; \" colspan=\"1\"><div style=\"text-align: left;\"></div></td><td style=\"white-space: nowrap; max-width: 500px; overflow: hidden; text-overflow: ellipsis; \" colspan=\"1\"><div style=\"text-align: left;\"></div></td><td style=\"white-space: nowrap; max-width: 500px; overflow: hidden; text-overflow: ellipsis; \" colspan=\"1\"><div style=\"text-align: left;\"></div></td><td style=\"white-space: nowrap; max-width: 500px; overflow: hidden; text-overflow: ellipsis; \" colspan=\"1\"><div style=\"text-align: left;\"></div></td></tr><tr><td style=\"white-space: nowrap; max-width: 500px; overflow: hidden; text-overflow: ellipsis; \" colspan=\"1\"><div style=\"text-align: left;border-bottom: solid 2px #000; padding-bottom: 5px\">locus</div></td><td style=\"white-space: nowrap; max-width: 500px; overflow: hidden; text-overflow: ellipsis; \" colspan=\"1\"><div style=\"text-align: left;border-bottom: solid 2px #000; padding-bottom: 5px\">alleles</div></td><td style=\"white-space: nowrap; max-width: 500px; overflow: hidden; text-overflow: ellipsis; \" colspan=\"1\"><div style=\"text-align: left;border-bottom: solid 2px #000; padding-bottom: 5px\">rsid</div></td><td style=\"white-space: nowrap; max-width: 500px; overflow: hidden; text-overflow: ellipsis; \" colspan=\"1\"><div style=\"text-align: left;border-bottom: solid 2px #000; padding-bottom: 5px\">qual</div></td><td style=\"white-space: nowrap; max-width: 500px; overflow: hidden; text-overflow: ellipsis; \" colspan=\"1\"><div style=\"text-align: left;border-bottom: solid 2px #000; padding-bottom: 5px\">filters</div></td><td style=\"white-space: nowrap; max-width: 500px; overflow: hidden; text-overflow: ellipsis; \" colspan=\"1\"><div style=\"text-align: left;border-bottom: solid 2px #000; padding-bottom: 5px\">DP</div></td><td style=\"white-space: nowrap; max-width: 500px; overflow: hidden; text-overflow: ellipsis; \" colspan=\"1\"><div style=\"text-align: left;border-bottom: solid 2px #000; padding-bottom: 5px\">the_actual_sum_total_DP</div></td><td style=\"white-space: nowrap; max-width: 500px; overflow: hidden; text-overflow: ellipsis; \" colspan=\"1\"><div style=\"text-align: left;border-bottom: solid 2px #000; padding-bottom: 5px\">Sample1.GT</div></td><td style=\"white-space: nowrap; max-width: 500px; overflow: hidden; text-overflow: ellipsis; \" colspan=\"1\"><div style=\"text-align: left;border-bottom: solid 2px #000; padding-bottom: 5px\">Sample1.DP</div></td><td style=\"white-space: nowrap; max-width: 500px; overflow: hidden; text-overflow: ellipsis; \" colspan=\"1\"><div style=\"text-align: left;border-bottom: solid 2px #000; padding-bottom: 5px\">Sample1.PL</div></td><td style=\"white-space: nowrap; max-width: 500px; overflow: hidden; text-overflow: ellipsis; \" colspan=\"1\"><div style=\"text-align: left;border-bottom: solid 2px #000; padding-bottom: 5px\">Sample1.AD</div></td><td style=\"white-space: nowrap; max-width: 500px; overflow: hidden; text-overflow: ellipsis; \" colspan=\"1\"><div style=\"text-align: left;border-bottom: solid 2px #000; padding-bottom: 5px\">Sample1.low_DP</div></td><td style=\"white-space: nowrap; max-width: 500px; overflow: hidden; text-overflow: ellipsis; \" colspan=\"1\"><div style=\"text-align: left;border-bottom: solid 2px #000; padding-bottom: 5px\">Sample2.GT</div></td><td style=\"white-space: nowrap; max-width: 500px; overflow: hidden; text-overflow: ellipsis; \" colspan=\"1\"><div style=\"text-align: left;border-bottom: solid 2px #000; padding-bottom: 5px\">Sample2.DP</div></td><td style=\"white-space: nowrap; max-width: 500px; overflow: hidden; text-overflow: ellipsis; \" colspan=\"1\"><div style=\"text-align: left;border-bottom: solid 2px #000; padding-bottom: 5px\">Sample2.PL</div></td><td style=\"white-space: nowrap; max-width: 500px; overflow: hidden; text-overflow: ellipsis; \" colspan=\"1\"><div style=\"text-align: left;border-bottom: solid 2px #000; padding-bottom: 5px\">Sample2.AD</div></td><td style=\"white-space: nowrap; max-width: 500px; overflow: hidden; text-overflow: ellipsis; \" colspan=\"1\"><div style=\"text-align: left;border-bottom: solid 2px #000; padding-bottom: 5px\">Sample2.low_DP</div></td><td style=\"white-space: nowrap; max-width: 500px; overflow: hidden; text-overflow: ellipsis; \" colspan=\"1\"><div style=\"text-align: left;border-bottom: solid 2px #000; padding-bottom: 5px\">Sample3.GT</div></td><td style=\"white-space: nowrap; max-width: 500px; overflow: hidden; text-overflow: ellipsis; \" colspan=\"1\"><div style=\"text-align: left;border-bottom: solid 2px #000; padding-bottom: 5px\">Sample3.DP</div></td><td style=\"white-space: nowrap; max-width: 500px; overflow: hidden; text-overflow: ellipsis; \" colspan=\"1\"><div style=\"text-align: left;border-bottom: solid 2px #000; padding-bottom: 5px\">Sample3.PL</div></td><td style=\"white-space: nowrap; max-width: 500px; overflow: hidden; text-overflow: ellipsis; \" colspan=\"1\"><div style=\"text-align: left;border-bottom: solid 2px #000; padding-bottom: 5px\">Sample3.AD</div></td><td style=\"white-space: nowrap; max-width: 500px; overflow: hidden; text-overflow: ellipsis; \" colspan=\"1\"><div style=\"text-align: left;border-bottom: solid 2px #000; padding-bottom: 5px\">Sample3.low_DP</div></td><td style=\"white-space: nowrap; max-width: 500px; overflow: hidden; text-overflow: ellipsis; \" colspan=\"1\"><div style=\"text-align: left;border-bottom: solid 2px #000; padding-bottom: 5px\">Sample4.GT</div></td><td style=\"white-space: nowrap; max-width: 500px; overflow: hidden; text-overflow: ellipsis; \" colspan=\"1\"><div style=\"text-align: left;border-bottom: solid 2px #000; padding-bottom: 5px\">Sample4.DP</div></td><td style=\"white-space: nowrap; max-width: 500px; overflow: hidden; text-overflow: ellipsis; \" colspan=\"1\"><div style=\"text-align: left;border-bottom: solid 2px #000; padding-bottom: 5px\">Sample4.PL</div></td><td style=\"white-space: nowrap; max-width: 500px; overflow: hidden; text-overflow: ellipsis; \" colspan=\"1\"><div style=\"text-align: left;border-bottom: solid 2px #000; padding-bottom: 5px\">Sample4.AD</div></td><td style=\"white-space: nowrap; max-width: 500px; overflow: hidden; text-overflow: ellipsis; \" colspan=\"1\"><div style=\"text-align: left;border-bottom: solid 2px #000; padding-bottom: 5px\">Sample4.low_DP</div></td><td style=\"white-space: nowrap; max-width: 500px; overflow: hidden; text-overflow: ellipsis; \" colspan=\"1\"><div style=\"text-align: left;border-bottom: solid 2px #000; padding-bottom: 5px\">Sample5.GT</div></td><td style=\"white-space: nowrap; max-width: 500px; overflow: hidden; text-overflow: ellipsis; \" colspan=\"1\"><div style=\"text-align: left;border-bottom: solid 2px #000; padding-bottom: 5px\">Sample5.DP</div></td><td style=\"white-space: nowrap; max-width: 500px; overflow: hidden; text-overflow: ellipsis; \" colspan=\"1\"><div style=\"text-align: left;border-bottom: solid 2px #000; padding-bottom: 5px\">Sample5.PL</div></td><td style=\"white-space: nowrap; max-width: 500px; overflow: hidden; text-overflow: ellipsis; \" colspan=\"1\"><div style=\"text-align: left;border-bottom: solid 2px #000; padding-bottom: 5px\">Sample5.AD</div></td><td style=\"white-space: nowrap; max-width: 500px; overflow: hidden; text-overflow: ellipsis; \" colspan=\"1\"><div style=\"text-align: left;border-bottom: solid 2px #000; padding-bottom: 5px\">Sample5.low_DP</div></td><td style=\"white-space: nowrap; max-width: 500px; overflow: hidden; text-overflow: ellipsis; \" colspan=\"1\"><div style=\"text-align: left;border-bottom: solid 2px #000; padding-bottom: 5px\">Sample6.GT</div></td><td style=\"white-space: nowrap; max-width: 500px; overflow: hidden; text-overflow: ellipsis; \" colspan=\"1\"><div style=\"text-align: left;border-bottom: solid 2px #000; padding-bottom: 5px\">Sample6.DP</div></td><td style=\"white-space: nowrap; max-width: 500px; overflow: hidden; text-overflow: ellipsis; \" colspan=\"1\"><div style=\"text-align: left;border-bottom: solid 2px #000; padding-bottom: 5px\">Sample6.PL</div></td><td style=\"white-space: nowrap; max-width: 500px; overflow: hidden; text-overflow: ellipsis; \" colspan=\"1\"><div style=\"text-align: left;border-bottom: solid 2px #000; padding-bottom: 5px\">Sample6.AD</div></td><td style=\"white-space: nowrap; max-width: 500px; overflow: hidden; text-overflow: ellipsis; \" colspan=\"1\"><div style=\"text-align: left;border-bottom: solid 2px #000; padding-bottom: 5px\">Sample6.low_DP</div></td><td style=\"white-space: nowrap; max-width: 500px; overflow: hidden; text-overflow: ellipsis; \" colspan=\"1\"><div style=\"text-align: left;border-bottom: solid 2px #000; padding-bottom: 5px\">Sample7.GT</div></td><td style=\"white-space: nowrap; max-width: 500px; overflow: hidden; text-overflow: ellipsis; \" colspan=\"1\"><div style=\"text-align: left;border-bottom: solid 2px #000; padding-bottom: 5px\">Sample7.DP</div></td><td style=\"white-space: nowrap; max-width: 500px; overflow: hidden; text-overflow: ellipsis; \" colspan=\"1\"><div style=\"text-align: left;border-bottom: solid 2px #000; padding-bottom: 5px\">Sample7.PL</div></td><td style=\"white-space: nowrap; max-width: 500px; overflow: hidden; text-overflow: ellipsis; \" colspan=\"1\"><div style=\"text-align: left;border-bottom: solid 2px #000; padding-bottom: 5px\">Sample7.AD</div></td><td style=\"white-space: nowrap; max-width: 500px; overflow: hidden; text-overflow: ellipsis; \" colspan=\"1\"><div style=\"text-align: left;border-bottom: solid 2px #000; padding-bottom: 5px\">Sample7.low_DP</div></td><td style=\"white-space: nowrap; max-width: 500px; overflow: hidden; text-overflow: ellipsis; \" colspan=\"1\"><div style=\"text-align: left;border-bottom: solid 2px #000; padding-bottom: 5px\">Sample8.GT</div></td><td style=\"white-space: nowrap; max-width: 500px; overflow: hidden; text-overflow: ellipsis; \" colspan=\"1\"><div style=\"text-align: left;border-bottom: solid 2px #000; padding-bottom: 5px\">Sample8.DP</div></td><td style=\"white-space: nowrap; max-width: 500px; overflow: hidden; text-overflow: ellipsis; \" colspan=\"1\"><div style=\"text-align: left;border-bottom: solid 2px #000; padding-bottom: 5px\">Sample8.PL</div></td><td style=\"white-space: nowrap; max-width: 500px; overflow: hidden; text-overflow: ellipsis; \" colspan=\"1\"><div style=\"text-align: left;border-bottom: solid 2px #000; padding-bottom: 5px\">Sample8.AD</div></td><td style=\"white-space: nowrap; max-width: 500px; overflow: hidden; text-overflow: ellipsis; \" colspan=\"1\"><div style=\"text-align: left;border-bottom: solid 2px #000; padding-bottom: 5px\">Sample8.low_DP</div></td><td style=\"white-space: nowrap; max-width: 500px; overflow: hidden; text-overflow: ellipsis; \" colspan=\"1\"><div style=\"text-align: left;border-bottom: solid 2px #000; padding-bottom: 5px\">Sample9.GT</div></td><td style=\"white-space: nowrap; max-width: 500px; overflow: hidden; text-overflow: ellipsis; \" colspan=\"1\"><div style=\"text-align: left;border-bottom: solid 2px #000; padding-bottom: 5px\">Sample9.DP</div></td><td style=\"white-space: nowrap; max-width: 500px; overflow: hidden; text-overflow: ellipsis; \" colspan=\"1\"><div style=\"text-align: left;border-bottom: solid 2px #000; padding-bottom: 5px\">Sample9.PL</div></td><td style=\"white-space: nowrap; max-width: 500px; overflow: hidden; text-overflow: ellipsis; \" colspan=\"1\"><div style=\"text-align: left;border-bottom: solid 2px #000; padding-bottom: 5px\">Sample9.AD</div></td><td style=\"white-space: nowrap; max-width: 500px; overflow: hidden; text-overflow: ellipsis; \" colspan=\"1\"><div style=\"text-align: left;border-bottom: solid 2px #000; padding-bottom: 5px\">Sample9.low_DP</div></td><td style=\"white-space: nowrap; max-width: 500px; overflow: hidden; text-overflow: ellipsis; \" colspan=\"1\"><div style=\"text-align: left;border-bottom: solid 2px #000; padding-bottom: 5px\">Sample10.GT</div></td><td style=\"white-space: nowrap; max-width: 500px; overflow: hidden; text-overflow: ellipsis; \" colspan=\"1\"><div style=\"text-align: left;border-bottom: solid 2px #000; padding-bottom: 5px\">Sample10.DP</div></td><td style=\"white-space: nowrap; max-width: 500px; overflow: hidden; text-overflow: ellipsis; \" colspan=\"1\"><div style=\"text-align: left;border-bottom: solid 2px #000; padding-bottom: 5px\">Sample10.PL</div></td><td style=\"white-space: nowrap; max-width: 500px; overflow: hidden; text-overflow: ellipsis; \" colspan=\"1\"><div style=\"text-align: left;border-bottom: solid 2px #000; padding-bottom: 5px\">Sample10.AD</div></td><td style=\"white-space: nowrap; max-width: 500px; overflow: hidden; text-overflow: ellipsis; \" colspan=\"1\"><div style=\"text-align: left;border-bottom: solid 2px #000; padding-bottom: 5px\">Sample10.low_DP</div></td></tr><tr><td style=\"white-space: nowrap; max-width: 500px; overflow: hidden; text-overflow: ellipsis; text-align: left;\">locus&lt;GRCh38&gt;</td><td style=\"white-space: nowrap; max-width: 500px; overflow: hidden; text-overflow: ellipsis; text-align: left;\">array&lt;str&gt;</td><td style=\"white-space: nowrap; max-width: 500px; overflow: hidden; text-overflow: ellipsis; text-align: left;\">str</td><td style=\"white-space: nowrap; max-width: 500px; overflow: hidden; text-overflow: ellipsis; text-align: left;\">float64</td><td style=\"white-space: nowrap; max-width: 500px; overflow: hidden; text-overflow: ellipsis; text-align: left;\">set&lt;str&gt;</td><td style=\"white-space: nowrap; max-width: 500px; overflow: hidden; text-overflow: ellipsis; text-align: left;\">int64</td><td style=\"white-space: nowrap; max-width: 500px; overflow: hidden; text-overflow: ellipsis; text-align: left;\">int64</td><td style=\"white-space: nowrap; max-width: 500px; overflow: hidden; text-overflow: ellipsis; text-align: left;\">call</td><td style=\"white-space: nowrap; max-width: 500px; overflow: hidden; text-overflow: ellipsis; text-align: left;\">int32</td><td style=\"white-space: nowrap; max-width: 500px; overflow: hidden; text-overflow: ellipsis; text-align: left;\">array&lt;int32&gt;</td><td style=\"white-space: nowrap; max-width: 500px; overflow: hidden; text-overflow: ellipsis; text-align: left;\">array&lt;int32&gt;</td><td style=\"white-space: nowrap; max-width: 500px; overflow: hidden; text-overflow: ellipsis; text-align: left;\">bool</td><td style=\"white-space: nowrap; max-width: 500px; overflow: hidden; text-overflow: ellipsis; text-align: left;\">call</td><td style=\"white-space: nowrap; max-width: 500px; overflow: hidden; text-overflow: ellipsis; text-align: left;\">int32</td><td style=\"white-space: nowrap; max-width: 500px; overflow: hidden; text-overflow: ellipsis; text-align: left;\">array&lt;int32&gt;</td><td style=\"white-space: nowrap; max-width: 500px; overflow: hidden; text-overflow: ellipsis; text-align: left;\">array&lt;int32&gt;</td><td style=\"white-space: nowrap; max-width: 500px; overflow: hidden; text-overflow: ellipsis; text-align: left;\">bool</td><td style=\"white-space: nowrap; max-width: 500px; overflow: hidden; text-overflow: ellipsis; text-align: left;\">call</td><td style=\"white-space: nowrap; max-width: 500px; overflow: hidden; text-overflow: ellipsis; text-align: left;\">int32</td><td style=\"white-space: nowrap; max-width: 500px; overflow: hidden; text-overflow: ellipsis; text-align: left;\">array&lt;int32&gt;</td><td style=\"white-space: nowrap; max-width: 500px; overflow: hidden; text-overflow: ellipsis; text-align: left;\">array&lt;int32&gt;</td><td style=\"white-space: nowrap; max-width: 500px; overflow: hidden; text-overflow: ellipsis; text-align: left;\">bool</td><td style=\"white-space: nowrap; max-width: 500px; overflow: hidden; text-overflow: ellipsis; text-align: left;\">call</td><td style=\"white-space: nowrap; max-width: 500px; overflow: hidden; text-overflow: ellipsis; text-align: left;\">int32</td><td style=\"white-space: nowrap; max-width: 500px; overflow: hidden; text-overflow: ellipsis; text-align: left;\">array&lt;int32&gt;</td><td style=\"white-space: nowrap; max-width: 500px; overflow: hidden; text-overflow: ellipsis; text-align: left;\">array&lt;int32&gt;</td><td style=\"white-space: nowrap; max-width: 500px; overflow: hidden; text-overflow: ellipsis; text-align: left;\">bool</td><td style=\"white-space: nowrap; max-width: 500px; overflow: hidden; text-overflow: ellipsis; text-align: left;\">call</td><td style=\"white-space: nowrap; max-width: 500px; overflow: hidden; text-overflow: ellipsis; text-align: left;\">int32</td><td style=\"white-space: nowrap; max-width: 500px; overflow: hidden; text-overflow: ellipsis; text-align: left;\">array&lt;int32&gt;</td><td style=\"white-space: nowrap; max-width: 500px; overflow: hidden; text-overflow: ellipsis; text-align: left;\">array&lt;int32&gt;</td><td style=\"white-space: nowrap; max-width: 500px; overflow: hidden; text-overflow: ellipsis; text-align: left;\">bool</td><td style=\"white-space: nowrap; max-width: 500px; overflow: hidden; text-overflow: ellipsis; text-align: left;\">call</td><td style=\"white-space: nowrap; max-width: 500px; overflow: hidden; text-overflow: ellipsis; text-align: left;\">int32</td><td style=\"white-space: nowrap; max-width: 500px; overflow: hidden; text-overflow: ellipsis; text-align: left;\">array&lt;int32&gt;</td><td style=\"white-space: nowrap; max-width: 500px; overflow: hidden; text-overflow: ellipsis; text-align: left;\">array&lt;int32&gt;</td><td style=\"white-space: nowrap; max-width: 500px; overflow: hidden; text-overflow: ellipsis; text-align: left;\">bool</td><td style=\"white-space: nowrap; max-width: 500px; overflow: hidden; text-overflow: ellipsis; text-align: left;\">call</td><td style=\"white-space: nowrap; max-width: 500px; overflow: hidden; text-overflow: ellipsis; text-align: left;\">int32</td><td style=\"white-space: nowrap; max-width: 500px; overflow: hidden; text-overflow: ellipsis; text-align: left;\">array&lt;int32&gt;</td><td style=\"white-space: nowrap; max-width: 500px; overflow: hidden; text-overflow: ellipsis; text-align: left;\">array&lt;int32&gt;</td><td style=\"white-space: nowrap; max-width: 500px; overflow: hidden; text-overflow: ellipsis; text-align: left;\">bool</td><td style=\"white-space: nowrap; max-width: 500px; overflow: hidden; text-overflow: ellipsis; text-align: left;\">call</td><td style=\"white-space: nowrap; max-width: 500px; overflow: hidden; text-overflow: ellipsis; text-align: left;\">int32</td><td style=\"white-space: nowrap; max-width: 500px; overflow: hidden; text-overflow: ellipsis; text-align: left;\">array&lt;int32&gt;</td><td style=\"white-space: nowrap; max-width: 500px; overflow: hidden; text-overflow: ellipsis; text-align: left;\">array&lt;int32&gt;</td><td style=\"white-space: nowrap; max-width: 500px; overflow: hidden; text-overflow: ellipsis; text-align: left;\">bool</td><td style=\"white-space: nowrap; max-width: 500px; overflow: hidden; text-overflow: ellipsis; text-align: left;\">call</td><td style=\"white-space: nowrap; max-width: 500px; overflow: hidden; text-overflow: ellipsis; text-align: left;\">int32</td><td style=\"white-space: nowrap; max-width: 500px; overflow: hidden; text-overflow: ellipsis; text-align: left;\">array&lt;int32&gt;</td><td style=\"white-space: nowrap; max-width: 500px; overflow: hidden; text-overflow: ellipsis; text-align: left;\">array&lt;int32&gt;</td><td style=\"white-space: nowrap; max-width: 500px; overflow: hidden; text-overflow: ellipsis; text-align: left;\">bool</td><td style=\"white-space: nowrap; max-width: 500px; overflow: hidden; text-overflow: ellipsis; text-align: left;\">call</td><td style=\"white-space: nowrap; max-width: 500px; overflow: hidden; text-overflow: ellipsis; text-align: left;\">int32</td><td style=\"white-space: nowrap; max-width: 500px; overflow: hidden; text-overflow: ellipsis; text-align: left;\">array&lt;int32&gt;</td><td style=\"white-space: nowrap; max-width: 500px; overflow: hidden; text-overflow: ellipsis; text-align: left;\">array&lt;int32&gt;</td><td style=\"white-space: nowrap; max-width: 500px; overflow: hidden; text-overflow: ellipsis; text-align: left;\">bool</td></tr>\n",
       "</thead><tbody><tr><td style=\"white-space: nowrap; max-width: 500px; overflow: hidden; text-overflow: ellipsis; \">chr1:100</td><td style=\"white-space: nowrap; max-width: 500px; overflow: hidden; text-overflow: ellipsis; \">[&quot;A&quot;,&quot;G&quot;]</td><td style=\"white-space: nowrap; max-width: 500px; overflow: hidden; text-overflow: ellipsis; \">&quot;rs1&quot;</td><td style=\"white-space: nowrap; max-width: 500px; overflow: hidden; text-overflow: ellipsis; \">5.00e+01</td><td style=\"white-space: nowrap; max-width: 500px; overflow: hidden; text-overflow: ellipsis; \">{}</td><td style=\"white-space: nowrap; max-width: 500px; overflow: hidden; text-overflow: ellipsis; \">166</td><td style=\"white-space: nowrap; max-width: 500px; overflow: hidden; text-overflow: ellipsis; \">166</td><td style=\"white-space: nowrap; max-width: 500px; overflow: hidden; text-overflow: ellipsis; \">0/1</td><td style=\"white-space: nowrap; max-width: 500px; overflow: hidden; text-overflow: ellipsis; \">15</td><td style=\"white-space: nowrap; max-width: 500px; overflow: hidden; text-overflow: ellipsis; \">[50,10,80]</td><td style=\"white-space: nowrap; max-width: 500px; overflow: hidden; text-overflow: ellipsis; \">[10,5]</td><td style=\"white-space: nowrap; max-width: 500px; overflow: hidden; text-overflow: ellipsis; \">False</td><td style=\"white-space: nowrap; max-width: 500px; overflow: hidden; text-overflow: ellipsis; \">0/1</td><td style=\"white-space: nowrap; max-width: 500px; overflow: hidden; text-overflow: ellipsis; \">17</td><td style=\"white-space: nowrap; max-width: 500px; overflow: hidden; text-overflow: ellipsis; \">[60,40,0]</td><td style=\"white-space: nowrap; max-width: 500px; overflow: hidden; text-overflow: ellipsis; \">[5,12]</td><td style=\"white-space: nowrap; max-width: 500px; overflow: hidden; text-overflow: ellipsis; \">False</td><td style=\"white-space: nowrap; max-width: 500px; overflow: hidden; text-overflow: ellipsis; \">0/0</td><td style=\"white-space: nowrap; max-width: 500px; overflow: hidden; text-overflow: ellipsis; \">12</td><td style=\"white-space: nowrap; max-width: 500px; overflow: hidden; text-overflow: ellipsis; \">[100,0,120]</td><td style=\"white-space: nowrap; max-width: 500px; overflow: hidden; text-overflow: ellipsis; \">[12,0]</td><td style=\"white-space: nowrap; max-width: 500px; overflow: hidden; text-overflow: ellipsis; \">True</td><td style=\"white-space: nowrap; max-width: 500px; overflow: hidden; text-overflow: ellipsis; \">0/1</td><td style=\"white-space: nowrap; max-width: 500px; overflow: hidden; text-overflow: ellipsis; \">14</td><td style=\"white-space: nowrap; max-width: 500px; overflow: hidden; text-overflow: ellipsis; \">[20,30,100]</td><td style=\"white-space: nowrap; max-width: 500px; overflow: hidden; text-overflow: ellipsis; \">[5,9]</td><td style=\"white-space: nowrap; max-width: 500px; overflow: hidden; text-overflow: ellipsis; \">True</td><td style=\"white-space: nowrap; max-width: 500px; overflow: hidden; text-overflow: ellipsis; \">1/1</td><td style=\"white-space: nowrap; max-width: 500px; overflow: hidden; text-overflow: ellipsis; \">20</td><td style=\"white-space: nowrap; max-width: 500px; overflow: hidden; text-overflow: ellipsis; \">[0,30,100]</td><td style=\"white-space: nowrap; max-width: 500px; overflow: hidden; text-overflow: ellipsis; \">[5,15]</td><td style=\"white-space: nowrap; max-width: 500px; overflow: hidden; text-overflow: ellipsis; \">False</td><td style=\"white-space: nowrap; max-width: 500px; overflow: hidden; text-overflow: ellipsis; \">0/0</td><td style=\"white-space: nowrap; max-width: 500px; overflow: hidden; text-overflow: ellipsis; \">16</td><td style=\"white-space: nowrap; max-width: 500px; overflow: hidden; text-overflow: ellipsis; \">[110,0,40]</td><td style=\"white-space: nowrap; max-width: 500px; overflow: hidden; text-overflow: ellipsis; \">[16,0]</td><td style=\"white-space: nowrap; max-width: 500px; overflow: hidden; text-overflow: ellipsis; \">False</td><td style=\"white-space: nowrap; max-width: 500px; overflow: hidden; text-overflow: ellipsis; \">1/1</td><td style=\"white-space: nowrap; max-width: 500px; overflow: hidden; text-overflow: ellipsis; \">19</td><td style=\"white-space: nowrap; max-width: 500px; overflow: hidden; text-overflow: ellipsis; \">[0,30,100]</td><td style=\"white-space: nowrap; max-width: 500px; overflow: hidden; text-overflow: ellipsis; \">[6,13]</td><td style=\"white-space: nowrap; max-width: 500px; overflow: hidden; text-overflow: ellipsis; \">False</td><td style=\"white-space: nowrap; max-width: 500px; overflow: hidden; text-overflow: ellipsis; \">0/1</td><td style=\"white-space: nowrap; max-width: 500px; overflow: hidden; text-overflow: ellipsis; \">18</td><td style=\"white-space: nowrap; max-width: 500px; overflow: hidden; text-overflow: ellipsis; \">[30,20,0]</td><td style=\"white-space: nowrap; max-width: 500px; overflow: hidden; text-overflow: ellipsis; \">[10,8]</td><td style=\"white-space: nowrap; max-width: 500px; overflow: hidden; text-overflow: ellipsis; \">False</td><td style=\"white-space: nowrap; max-width: 500px; overflow: hidden; text-overflow: ellipsis; \">0/0</td><td style=\"white-space: nowrap; max-width: 500px; overflow: hidden; text-overflow: ellipsis; \">14</td><td style=\"white-space: nowrap; max-width: 500px; overflow: hidden; text-overflow: ellipsis; \">[100,0,120]</td><td style=\"white-space: nowrap; max-width: 500px; overflow: hidden; text-overflow: ellipsis; \">[14,0]</td><td style=\"white-space: nowrap; max-width: 500px; overflow: hidden; text-overflow: ellipsis; \">True</td><td style=\"white-space: nowrap; max-width: 500px; overflow: hidden; text-overflow: ellipsis; \">0/1</td><td style=\"white-space: nowrap; max-width: 500px; overflow: hidden; text-overflow: ellipsis; \">21</td><td style=\"white-space: nowrap; max-width: 500px; overflow: hidden; text-overflow: ellipsis; \">[40,20,0]</td><td style=\"white-space: nowrap; max-width: 500px; overflow: hidden; text-overflow: ellipsis; \">[8,13]</td><td style=\"white-space: nowrap; max-width: 500px; overflow: hidden; text-overflow: ellipsis; \">False</td></tr>\n",
       "<tr><td style=\"white-space: nowrap; max-width: 500px; overflow: hidden; text-overflow: ellipsis; \">chr1:200</td><td style=\"white-space: nowrap; max-width: 500px; overflow: hidden; text-overflow: ellipsis; \">[&quot;C&quot;,&quot;T&quot;]</td><td style=\"white-space: nowrap; max-width: 500px; overflow: hidden; text-overflow: ellipsis; \">&quot;rs2&quot;</td><td style=\"white-space: nowrap; max-width: 500px; overflow: hidden; text-overflow: ellipsis; \">3.00e+01</td><td style=\"white-space: nowrap; max-width: 500px; overflow: hidden; text-overflow: ellipsis; \">{}</td><td style=\"white-space: nowrap; max-width: 500px; overflow: hidden; text-overflow: ellipsis; \">133</td><td style=\"white-space: nowrap; max-width: 500px; overflow: hidden; text-overflow: ellipsis; \">133</td><td style=\"white-space: nowrap; max-width: 500px; overflow: hidden; text-overflow: ellipsis; \">0/0</td><td style=\"white-space: nowrap; max-width: 500px; overflow: hidden; text-overflow: ellipsis; \">10</td><td style=\"white-space: nowrap; max-width: 500px; overflow: hidden; text-overflow: ellipsis; \">[90,0,120]</td><td style=\"white-space: nowrap; max-width: 500px; overflow: hidden; text-overflow: ellipsis; \">[10,0]</td><td style=\"white-space: nowrap; max-width: 500px; overflow: hidden; text-overflow: ellipsis; \">True</td><td style=\"white-space: nowrap; max-width: 500px; overflow: hidden; text-overflow: ellipsis; \">1/1</td><td style=\"white-space: nowrap; max-width: 500px; overflow: hidden; text-overflow: ellipsis; \">15</td><td style=\"white-space: nowrap; max-width: 500px; overflow: hidden; text-overflow: ellipsis; \">[0,30,100]</td><td style=\"white-space: nowrap; max-width: 500px; overflow: hidden; text-overflow: ellipsis; \">[5,10]</td><td style=\"white-space: nowrap; max-width: 500px; overflow: hidden; text-overflow: ellipsis; \">False</td><td style=\"white-space: nowrap; max-width: 500px; overflow: hidden; text-overflow: ellipsis; \">0/1</td><td style=\"white-space: nowrap; max-width: 500px; overflow: hidden; text-overflow: ellipsis; \">14</td><td style=\"white-space: nowrap; max-width: 500px; overflow: hidden; text-overflow: ellipsis; \">[60,30,0]</td><td style=\"white-space: nowrap; max-width: 500px; overflow: hidden; text-overflow: ellipsis; \">[10,4]</td><td style=\"white-space: nowrap; max-width: 500px; overflow: hidden; text-overflow: ellipsis; \">True</td><td style=\"white-space: nowrap; max-width: 500px; overflow: hidden; text-overflow: ellipsis; \">0/0</td><td style=\"white-space: nowrap; max-width: 500px; overflow: hidden; text-overflow: ellipsis; \">12</td><td style=\"white-space: nowrap; max-width: 500px; overflow: hidden; text-overflow: ellipsis; \">[100,0,120]</td><td style=\"white-space: nowrap; max-width: 500px; overflow: hidden; text-overflow: ellipsis; \">[12,0]</td><td style=\"white-space: nowrap; max-width: 500px; overflow: hidden; text-overflow: ellipsis; \">True</td><td style=\"white-space: nowrap; max-width: 500px; overflow: hidden; text-overflow: ellipsis; \">0/1</td><td style=\"white-space: nowrap; max-width: 500px; overflow: hidden; text-overflow: ellipsis; \">16</td><td style=\"white-space: nowrap; max-width: 500px; overflow: hidden; text-overflow: ellipsis; \">[0,30,100]</td><td style=\"white-space: nowrap; max-width: 500px; overflow: hidden; text-overflow: ellipsis; \">[5,11]</td><td style=\"white-space: nowrap; max-width: 500px; overflow: hidden; text-overflow: ellipsis; \">False</td><td style=\"white-space: nowrap; max-width: 500px; overflow: hidden; text-overflow: ellipsis; \">1/1</td><td style=\"white-space: nowrap; max-width: 500px; overflow: hidden; text-overflow: ellipsis; \">13</td><td style=\"white-space: nowrap; max-width: 500px; overflow: hidden; text-overflow: ellipsis; \">[0,30,100]</td><td style=\"white-space: nowrap; max-width: 500px; overflow: hidden; text-overflow: ellipsis; \">[4,9]</td><td style=\"white-space: nowrap; max-width: 500px; overflow: hidden; text-overflow: ellipsis; \">True</td><td style=\"white-space: nowrap; max-width: 500px; overflow: hidden; text-overflow: ellipsis; \">0/1</td><td style=\"white-space: nowrap; max-width: 500px; overflow: hidden; text-overflow: ellipsis; \">11</td><td style=\"white-space: nowrap; max-width: 500px; overflow: hidden; text-overflow: ellipsis; \">[60,30,0]</td><td style=\"white-space: nowrap; max-width: 500px; overflow: hidden; text-overflow: ellipsis; \">[5,6]</td><td style=\"white-space: nowrap; max-width: 500px; overflow: hidden; text-overflow: ellipsis; \">True</td><td style=\"white-space: nowrap; max-width: 500px; overflow: hidden; text-overflow: ellipsis; \">0/0</td><td style=\"white-space: nowrap; max-width: 500px; overflow: hidden; text-overflow: ellipsis; \">14</td><td style=\"white-space: nowrap; max-width: 500px; overflow: hidden; text-overflow: ellipsis; \">[100,0,120]</td><td style=\"white-space: nowrap; max-width: 500px; overflow: hidden; text-overflow: ellipsis; \">[14,0]</td><td style=\"white-space: nowrap; max-width: 500px; overflow: hidden; text-overflow: ellipsis; \">True</td><td style=\"white-space: nowrap; max-width: 500px; overflow: hidden; text-overflow: ellipsis; \">1/1</td><td style=\"white-space: nowrap; max-width: 500px; overflow: hidden; text-overflow: ellipsis; \">18</td><td style=\"white-space: nowrap; max-width: 500px; overflow: hidden; text-overflow: ellipsis; \">[0,30,100]</td><td style=\"white-space: nowrap; max-width: 500px; overflow: hidden; text-overflow: ellipsis; \">[5,13]</td><td style=\"white-space: nowrap; max-width: 500px; overflow: hidden; text-overflow: ellipsis; \">False</td><td style=\"white-space: nowrap; max-width: 500px; overflow: hidden; text-overflow: ellipsis; \">0/0</td><td style=\"white-space: nowrap; max-width: 500px; overflow: hidden; text-overflow: ellipsis; \">10</td><td style=\"white-space: nowrap; max-width: 500px; overflow: hidden; text-overflow: ellipsis; \">[100,0,120]</td><td style=\"white-space: nowrap; max-width: 500px; overflow: hidden; text-overflow: ellipsis; \">[10,0]</td><td style=\"white-space: nowrap; max-width: 500px; overflow: hidden; text-overflow: ellipsis; \">True</td></tr>\n",
       "<tr><td style=\"white-space: nowrap; max-width: 500px; overflow: hidden; text-overflow: ellipsis; \">chr1:300</td><td style=\"white-space: nowrap; max-width: 500px; overflow: hidden; text-overflow: ellipsis; \">[&quot;G&quot;,&quot;A&quot;]</td><td style=\"white-space: nowrap; max-width: 500px; overflow: hidden; text-overflow: ellipsis; \">&quot;rs3&quot;</td><td style=\"white-space: nowrap; max-width: 500px; overflow: hidden; text-overflow: ellipsis; \">4.00e+01</td><td style=\"white-space: nowrap; max-width: 500px; overflow: hidden; text-overflow: ellipsis; \">{}</td><td style=\"white-space: nowrap; max-width: 500px; overflow: hidden; text-overflow: ellipsis; \">210</td><td style=\"white-space: nowrap; max-width: 500px; overflow: hidden; text-overflow: ellipsis; \">210</td><td style=\"white-space: nowrap; max-width: 500px; overflow: hidden; text-overflow: ellipsis; \">0/1</td><td style=\"white-space: nowrap; max-width: 500px; overflow: hidden; text-overflow: ellipsis; \">20</td><td style=\"white-space: nowrap; max-width: 500px; overflow: hidden; text-overflow: ellipsis; \">[40,20,80]</td><td style=\"white-space: nowrap; max-width: 500px; overflow: hidden; text-overflow: ellipsis; \">[15,10]</td><td style=\"white-space: nowrap; max-width: 500px; overflow: hidden; text-overflow: ellipsis; \">False</td><td style=\"white-space: nowrap; max-width: 500px; overflow: hidden; text-overflow: ellipsis; \">0/0</td><td style=\"white-space: nowrap; max-width: 500px; overflow: hidden; text-overflow: ellipsis; \">22</td><td style=\"white-space: nowrap; max-width: 500px; overflow: hidden; text-overflow: ellipsis; \">[100,0,120]</td><td style=\"white-space: nowrap; max-width: 500px; overflow: hidden; text-overflow: ellipsis; \">[22,0]</td><td style=\"white-space: nowrap; max-width: 500px; overflow: hidden; text-overflow: ellipsis; \">False</td><td style=\"white-space: nowrap; max-width: 500px; overflow: hidden; text-overflow: ellipsis; \">0/1</td><td style=\"white-space: nowrap; max-width: 500px; overflow: hidden; text-overflow: ellipsis; \">18</td><td style=\"white-space: nowrap; max-width: 500px; overflow: hidden; text-overflow: ellipsis; \">[70,10,0]</td><td style=\"white-space: nowrap; max-width: 500px; overflow: hidden; text-overflow: ellipsis; \">[9,9]</td><td style=\"white-space: nowrap; max-width: 500px; overflow: hidden; text-overflow: ellipsis; \">False</td><td style=\"white-space: nowrap; max-width: 500px; overflow: hidden; text-overflow: ellipsis; \">0/1</td><td style=\"white-space: nowrap; max-width: 500px; overflow: hidden; text-overflow: ellipsis; \">21</td><td style=\"white-space: nowrap; max-width: 500px; overflow: hidden; text-overflow: ellipsis; \">[20,30,100]</td><td style=\"white-space: nowrap; max-width: 500px; overflow: hidden; text-overflow: ellipsis; \">[11,10]</td><td style=\"white-space: nowrap; max-width: 500px; overflow: hidden; text-overflow: ellipsis; \">False</td><td style=\"white-space: nowrap; max-width: 500px; overflow: hidden; text-overflow: ellipsis; \">0/0</td><td style=\"white-space: nowrap; max-width: 500px; overflow: hidden; text-overflow: ellipsis; \">25</td><td style=\"white-space: nowrap; max-width: 500px; overflow: hidden; text-overflow: ellipsis; \">[100,0,120]</td><td style=\"white-space: nowrap; max-width: 500px; overflow: hidden; text-overflow: ellipsis; \">[25,0]</td><td style=\"white-space: nowrap; max-width: 500px; overflow: hidden; text-overflow: ellipsis; \">False</td><td style=\"white-space: nowrap; max-width: 500px; overflow: hidden; text-overflow: ellipsis; \">1/1</td><td style=\"white-space: nowrap; max-width: 500px; overflow: hidden; text-overflow: ellipsis; \">23</td><td style=\"white-space: nowrap; max-width: 500px; overflow: hidden; text-overflow: ellipsis; \">[0,40,80]</td><td style=\"white-space: nowrap; max-width: 500px; overflow: hidden; text-overflow: ellipsis; \">[5,18]</td><td style=\"white-space: nowrap; max-width: 500px; overflow: hidden; text-overflow: ellipsis; \">False</td><td style=\"white-space: nowrap; max-width: 500px; overflow: hidden; text-overflow: ellipsis; \">0/1</td><td style=\"white-space: nowrap; max-width: 500px; overflow: hidden; text-overflow: ellipsis; \">24</td><td style=\"white-space: nowrap; max-width: 500px; overflow: hidden; text-overflow: ellipsis; \">[20,30,100]</td><td style=\"white-space: nowrap; max-width: 500px; overflow: hidden; text-overflow: ellipsis; \">[10,14]</td><td style=\"white-space: nowrap; max-width: 500px; overflow: hidden; text-overflow: ellipsis; \">False</td><td style=\"white-space: nowrap; max-width: 500px; overflow: hidden; text-overflow: ellipsis; \">0/0</td><td style=\"white-space: nowrap; max-width: 500px; overflow: hidden; text-overflow: ellipsis; \">18</td><td style=\"white-space: nowrap; max-width: 500px; overflow: hidden; text-overflow: ellipsis; \">[100,0,120]</td><td style=\"white-space: nowrap; max-width: 500px; overflow: hidden; text-overflow: ellipsis; \">[18,0]</td><td style=\"white-space: nowrap; max-width: 500px; overflow: hidden; text-overflow: ellipsis; \">False</td><td style=\"white-space: nowrap; max-width: 500px; overflow: hidden; text-overflow: ellipsis; \">0/1</td><td style=\"white-space: nowrap; max-width: 500px; overflow: hidden; text-overflow: ellipsis; \">19</td><td style=\"white-space: nowrap; max-width: 500px; overflow: hidden; text-overflow: ellipsis; \">[20,30,100]</td><td style=\"white-space: nowrap; max-width: 500px; overflow: hidden; text-overflow: ellipsis; \">[8,11]</td><td style=\"white-space: nowrap; max-width: 500px; overflow: hidden; text-overflow: ellipsis; \">False</td><td style=\"white-space: nowrap; max-width: 500px; overflow: hidden; text-overflow: ellipsis; \">1/1</td><td style=\"white-space: nowrap; max-width: 500px; overflow: hidden; text-overflow: ellipsis; \">20</td><td style=\"white-space: nowrap; max-width: 500px; overflow: hidden; text-overflow: ellipsis; \">[0,30,100]</td><td style=\"white-space: nowrap; max-width: 500px; overflow: hidden; text-overflow: ellipsis; \">[5,15]</td><td style=\"white-space: nowrap; max-width: 500px; overflow: hidden; text-overflow: ellipsis; \">False</td></tr>\n",
       "</tbody></table><p style=\"background: #fdd; padding: 0.4em;\">showing top 3 rows</p>\n"
      ],
      "text/plain": [
       "+---------------+------------+-------+----------+----------+---------+\n",
       "| locus         | alleles    | rsid  |     qual | filters  | info.DP |\n",
       "+---------------+------------+-------+----------+----------+---------+\n",
       "| locus<GRCh38> | array<str> | str   |  float64 | set<str> |   int64 |\n",
       "+---------------+------------+-------+----------+----------+---------+\n",
       "| chr1:100      | [\"A\",\"G\"]  | \"rs1\" | 5.00e+01 | {}       |     166 |\n",
       "| chr1:200      | [\"C\",\"T\"]  | \"rs2\" | 3.00e+01 | {}       |     133 |\n",
       "| chr1:300      | [\"G\",\"A\"]  | \"rs3\" | 4.00e+01 | {}       |     210 |\n",
       "+---------------+------------+-------+----------+----------+---------+\n",
       "\n",
       "+-------------------------+------------+------------+--------------+\n",
       "| the_actual_sum_total_DP | Sample1.GT | Sample1.DP | Sample1.PL   |\n",
       "+-------------------------+------------+------------+--------------+\n",
       "|                   int64 | call       |      int32 | array<int32> |\n",
       "+-------------------------+------------+------------+--------------+\n",
       "|                     166 | 0/1        |         15 | [50,10,80]   |\n",
       "|                     133 | 0/0        |         10 | [90,0,120]   |\n",
       "|                     210 | 0/1        |         20 | [40,20,80]   |\n",
       "+-------------------------+------------+------------+--------------+\n",
       "\n",
       "+--------------+----------------+------------+------------+--------------+\n",
       "| Sample1.AD   | Sample1.low_DP | Sample2.GT | Sample2.DP | Sample2.PL   |\n",
       "+--------------+----------------+------------+------------+--------------+\n",
       "| array<int32> |           bool | call       |      int32 | array<int32> |\n",
       "+--------------+----------------+------------+------------+--------------+\n",
       "| [10,5]       |          False | 0/1        |         17 | [60,40,0]    |\n",
       "| [10,0]       |           True | 1/1        |         15 | [0,30,100]   |\n",
       "| [15,10]      |          False | 0/0        |         22 | [100,0,120]  |\n",
       "+--------------+----------------+------------+------------+--------------+\n",
       "\n",
       "+--------------+----------------+------------+------------+--------------+\n",
       "| Sample2.AD   | Sample2.low_DP | Sample3.GT | Sample3.DP | Sample3.PL   |\n",
       "+--------------+----------------+------------+------------+--------------+\n",
       "| array<int32> |           bool | call       |      int32 | array<int32> |\n",
       "+--------------+----------------+------------+------------+--------------+\n",
       "| [5,12]       |          False | 0/0        |         12 | [100,0,120]  |\n",
       "| [5,10]       |          False | 0/1        |         14 | [60,30,0]    |\n",
       "| [22,0]       |          False | 0/1        |         18 | [70,10,0]    |\n",
       "+--------------+----------------+------------+------------+--------------+\n",
       "\n",
       "+--------------+----------------+------------+------------+--------------+\n",
       "| Sample3.AD   | Sample3.low_DP | Sample4.GT | Sample4.DP | Sample4.PL   |\n",
       "+--------------+----------------+------------+------------+--------------+\n",
       "| array<int32> |           bool | call       |      int32 | array<int32> |\n",
       "+--------------+----------------+------------+------------+--------------+\n",
       "| [12,0]       |           True | 0/1        |         14 | [20,30,100]  |\n",
       "| [10,4]       |           True | 0/0        |         12 | [100,0,120]  |\n",
       "| [9,9]        |          False | 0/1        |         21 | [20,30,100]  |\n",
       "+--------------+----------------+------------+------------+--------------+\n",
       "\n",
       "+--------------+----------------+------------+------------+--------------+\n",
       "| Sample4.AD   | Sample4.low_DP | Sample5.GT | Sample5.DP | Sample5.PL   |\n",
       "+--------------+----------------+------------+------------+--------------+\n",
       "| array<int32> |           bool | call       |      int32 | array<int32> |\n",
       "+--------------+----------------+------------+------------+--------------+\n",
       "| [5,9]        |           True | 1/1        |         20 | [0,30,100]   |\n",
       "| [12,0]       |           True | 0/1        |         16 | [0,30,100]   |\n",
       "| [11,10]      |          False | 0/0        |         25 | [100,0,120]  |\n",
       "+--------------+----------------+------------+------------+--------------+\n",
       "\n",
       "+--------------+----------------+------------+------------+--------------+\n",
       "| Sample5.AD   | Sample5.low_DP | Sample6.GT | Sample6.DP | Sample6.PL   |\n",
       "+--------------+----------------+------------+------------+--------------+\n",
       "| array<int32> |           bool | call       |      int32 | array<int32> |\n",
       "+--------------+----------------+------------+------------+--------------+\n",
       "| [5,15]       |          False | 0/0        |         16 | [110,0,40]   |\n",
       "| [5,11]       |          False | 1/1        |         13 | [0,30,100]   |\n",
       "| [25,0]       |          False | 1/1        |         23 | [0,40,80]    |\n",
       "+--------------+----------------+------------+------------+--------------+\n",
       "\n",
       "+--------------+----------------+------------+------------+--------------+\n",
       "| Sample6.AD   | Sample6.low_DP | Sample7.GT | Sample7.DP | Sample7.PL   |\n",
       "+--------------+----------------+------------+------------+--------------+\n",
       "| array<int32> |           bool | call       |      int32 | array<int32> |\n",
       "+--------------+----------------+------------+------------+--------------+\n",
       "| [16,0]       |          False | 1/1        |         19 | [0,30,100]   |\n",
       "| [4,9]        |           True | 0/1        |         11 | [60,30,0]    |\n",
       "| [5,18]       |          False | 0/1        |         24 | [20,30,100]  |\n",
       "+--------------+----------------+------------+------------+--------------+\n",
       "\n",
       "+--------------+----------------+------------+------------+--------------+\n",
       "| Sample7.AD   | Sample7.low_DP | Sample8.GT | Sample8.DP | Sample8.PL   |\n",
       "+--------------+----------------+------------+------------+--------------+\n",
       "| array<int32> |           bool | call       |      int32 | array<int32> |\n",
       "+--------------+----------------+------------+------------+--------------+\n",
       "| [6,13]       |          False | 0/1        |         18 | [30,20,0]    |\n",
       "| [5,6]        |           True | 0/0        |         14 | [100,0,120]  |\n",
       "| [10,14]      |          False | 0/0        |         18 | [100,0,120]  |\n",
       "+--------------+----------------+------------+------------+--------------+\n",
       "\n",
       "+--------------+----------------+------------+------------+--------------+\n",
       "| Sample8.AD   | Sample8.low_DP | Sample9.GT | Sample9.DP | Sample9.PL   |\n",
       "+--------------+----------------+------------+------------+--------------+\n",
       "| array<int32> |           bool | call       |      int32 | array<int32> |\n",
       "+--------------+----------------+------------+------------+--------------+\n",
       "| [10,8]       |          False | 0/0        |         14 | [100,0,120]  |\n",
       "| [14,0]       |           True | 1/1        |         18 | [0,30,100]   |\n",
       "| [18,0]       |          False | 0/1        |         19 | [20,30,100]  |\n",
       "+--------------+----------------+------------+------------+--------------+\n",
       "\n",
       "+--------------+----------------+-------------+-------------+--------------+\n",
       "| Sample9.AD   | Sample9.low_DP | Sample10.GT | Sample10.DP | Sample10.PL  |\n",
       "+--------------+----------------+-------------+-------------+--------------+\n",
       "| array<int32> |           bool | call        |       int32 | array<int32> |\n",
       "+--------------+----------------+-------------+-------------+--------------+\n",
       "| [14,0]       |           True | 0/1         |          21 | [40,20,0]    |\n",
       "| [5,13]       |          False | 0/0         |          10 | [100,0,120]  |\n",
       "| [8,11]       |          False | 1/1         |          20 | [0,30,100]   |\n",
       "+--------------+----------------+-------------+-------------+--------------+\n",
       "\n",
       "+--------------+-----------------+\n",
       "| Sample10.AD  | Sample10.low_DP |\n",
       "+--------------+-----------------+\n",
       "| array<int32> |            bool |\n",
       "+--------------+-----------------+\n",
       "| [8,13]       |           False |\n",
       "| [10,0]       |            True |\n",
       "| [5,15]       |           False |\n",
       "+--------------+-----------------+\n",
       "showing top 3 rows"
      ]
     },
     "metadata": {},
     "output_type": "display_data"
    }
   ],
   "source": [
    "xx = mt\n",
    "xx = xx.make_table()\n",
    "xx.show(n=3)"
   ]
  },
  {
   "cell_type": "code",
   "execution_count": 62,
   "id": "815cb40a-17ca-4e05-a2a5-3429c2a2b6dd",
   "metadata": {},
   "outputs": [
    {
     "data": {
      "text/html": [
       "<div>\n",
       "<style scoped>\n",
       "    .dataframe tbody tr th:only-of-type {\n",
       "        vertical-align: middle;\n",
       "    }\n",
       "\n",
       "    .dataframe tbody tr th {\n",
       "        vertical-align: top;\n",
       "    }\n",
       "\n",
       "    .dataframe thead th {\n",
       "        text-align: right;\n",
       "    }\n",
       "</style>\n",
       "<table border=\"1\" class=\"dataframe\">\n",
       "  <thead>\n",
       "    <tr style=\"text-align: right;\">\n",
       "      <th></th>\n",
       "      <th>locus</th>\n",
       "      <th>alleles</th>\n",
       "      <th>rsid</th>\n",
       "      <th>qual</th>\n",
       "      <th>filters</th>\n",
       "      <th>info.DP</th>\n",
       "      <th>the_actual_sum_total_DP</th>\n",
       "      <th>Sample1.GT</th>\n",
       "      <th>Sample1.DP</th>\n",
       "      <th>Sample1.PL</th>\n",
       "      <th>...</th>\n",
       "      <th>Sample9.GT</th>\n",
       "      <th>Sample9.DP</th>\n",
       "      <th>Sample9.PL</th>\n",
       "      <th>Sample9.AD</th>\n",
       "      <th>Sample9.low_DP</th>\n",
       "      <th>Sample10.GT</th>\n",
       "      <th>Sample10.DP</th>\n",
       "      <th>Sample10.PL</th>\n",
       "      <th>Sample10.AD</th>\n",
       "      <th>Sample10.low_DP</th>\n",
       "    </tr>\n",
       "  </thead>\n",
       "  <tbody>\n",
       "    <tr>\n",
       "      <th>0</th>\n",
       "      <td>chr1:100</td>\n",
       "      <td>[A, G]</td>\n",
       "      <td>rs1</td>\n",
       "      <td>50.0</td>\n",
       "      <td>{}</td>\n",
       "      <td>166</td>\n",
       "      <td>166</td>\n",
       "      <td>0/1</td>\n",
       "      <td>15</td>\n",
       "      <td>[50, 10, 80]</td>\n",
       "      <td>...</td>\n",
       "      <td>0/0</td>\n",
       "      <td>14</td>\n",
       "      <td>[100, 0, 120]</td>\n",
       "      <td>[14, 0]</td>\n",
       "      <td>True</td>\n",
       "      <td>0/1</td>\n",
       "      <td>21</td>\n",
       "      <td>[40, 20, 0]</td>\n",
       "      <td>[8, 13]</td>\n",
       "      <td>False</td>\n",
       "    </tr>\n",
       "    <tr>\n",
       "      <th>1</th>\n",
       "      <td>chr1:200</td>\n",
       "      <td>[C, T]</td>\n",
       "      <td>rs2</td>\n",
       "      <td>30.0</td>\n",
       "      <td>{}</td>\n",
       "      <td>133</td>\n",
       "      <td>133</td>\n",
       "      <td>0/0</td>\n",
       "      <td>10</td>\n",
       "      <td>[90, 0, 120]</td>\n",
       "      <td>...</td>\n",
       "      <td>1/1</td>\n",
       "      <td>18</td>\n",
       "      <td>[0, 30, 100]</td>\n",
       "      <td>[5, 13]</td>\n",
       "      <td>False</td>\n",
       "      <td>0/0</td>\n",
       "      <td>10</td>\n",
       "      <td>[100, 0, 120]</td>\n",
       "      <td>[10, 0]</td>\n",
       "      <td>True</td>\n",
       "    </tr>\n",
       "    <tr>\n",
       "      <th>2</th>\n",
       "      <td>chr1:300</td>\n",
       "      <td>[G, A]</td>\n",
       "      <td>rs3</td>\n",
       "      <td>40.0</td>\n",
       "      <td>{}</td>\n",
       "      <td>210</td>\n",
       "      <td>210</td>\n",
       "      <td>0/1</td>\n",
       "      <td>20</td>\n",
       "      <td>[40, 20, 80]</td>\n",
       "      <td>...</td>\n",
       "      <td>0/1</td>\n",
       "      <td>19</td>\n",
       "      <td>[20, 30, 100]</td>\n",
       "      <td>[8, 11]</td>\n",
       "      <td>False</td>\n",
       "      <td>1/1</td>\n",
       "      <td>20</td>\n",
       "      <td>[0, 30, 100]</td>\n",
       "      <td>[5, 15]</td>\n",
       "      <td>False</td>\n",
       "    </tr>\n",
       "    <tr>\n",
       "      <th>3</th>\n",
       "      <td>chr2:150</td>\n",
       "      <td>[T, C]</td>\n",
       "      <td>rs4</td>\n",
       "      <td>60.0</td>\n",
       "      <td>{}</td>\n",
       "      <td>168</td>\n",
       "      <td>168</td>\n",
       "      <td>1/1</td>\n",
       "      <td>14</td>\n",
       "      <td>[0, 30, 100]</td>\n",
       "      <td>...</td>\n",
       "      <td>0/1</td>\n",
       "      <td>15</td>\n",
       "      <td>[0, 30, 100]</td>\n",
       "      <td>[5, 10]</td>\n",
       "      <td>False</td>\n",
       "      <td>0/1</td>\n",
       "      <td>19</td>\n",
       "      <td>[20, 30, 100]</td>\n",
       "      <td>[9, 10]</td>\n",
       "      <td>False</td>\n",
       "    </tr>\n",
       "    <tr>\n",
       "      <th>4</th>\n",
       "      <td>chr2:250</td>\n",
       "      <td>[A, G]</td>\n",
       "      <td>rs5</td>\n",
       "      <td>55.0</td>\n",
       "      <td>{}</td>\n",
       "      <td>217</td>\n",
       "      <td>217</td>\n",
       "      <td>0/0</td>\n",
       "      <td>22</td>\n",
       "      <td>[120, 0, 60]</td>\n",
       "      <td>...</td>\n",
       "      <td>1/1</td>\n",
       "      <td>24</td>\n",
       "      <td>[0, 30, 100]</td>\n",
       "      <td>[5, 20]</td>\n",
       "      <td>False</td>\n",
       "      <td>0/0</td>\n",
       "      <td>25</td>\n",
       "      <td>[100, 0, 120]</td>\n",
       "      <td>[25, 0]</td>\n",
       "      <td>False</td>\n",
       "    </tr>\n",
       "    <tr>\n",
       "      <th>5</th>\n",
       "      <td>chr2:350</td>\n",
       "      <td>[C, T]</td>\n",
       "      <td>rs6</td>\n",
       "      <td>45.0</td>\n",
       "      <td>{}</td>\n",
       "      <td>166</td>\n",
       "      <td>166</td>\n",
       "      <td>0/1</td>\n",
       "      <td>16</td>\n",
       "      <td>[70, 10, 0]</td>\n",
       "      <td>...</td>\n",
       "      <td>0/0</td>\n",
       "      <td>17</td>\n",
       "      <td>[100, 0, 120]</td>\n",
       "      <td>[17, 0]</td>\n",
       "      <td>False</td>\n",
       "      <td>1/1</td>\n",
       "      <td>20</td>\n",
       "      <td>[0, 30, 100]</td>\n",
       "      <td>[5, 15]</td>\n",
       "      <td>False</td>\n",
       "    </tr>\n",
       "    <tr>\n",
       "      <th>6</th>\n",
       "      <td>chr3:120</td>\n",
       "      <td>[G, A]</td>\n",
       "      <td>rs7</td>\n",
       "      <td>38.0</td>\n",
       "      <td>{}</td>\n",
       "      <td>173</td>\n",
       "      <td>173</td>\n",
       "      <td>0/0</td>\n",
       "      <td>18</td>\n",
       "      <td>[110, 0, 50]</td>\n",
       "      <td>...</td>\n",
       "      <td>0/1</td>\n",
       "      <td>18</td>\n",
       "      <td>[30, 30, 0]</td>\n",
       "      <td>[10, 8]</td>\n",
       "      <td>False</td>\n",
       "      <td>1/1</td>\n",
       "      <td>15</td>\n",
       "      <td>[0, 30, 100]</td>\n",
       "      <td>[5, 10]</td>\n",
       "      <td>False</td>\n",
       "    </tr>\n",
       "    <tr>\n",
       "      <th>7</th>\n",
       "      <td>chr3:220</td>\n",
       "      <td>[T, C]</td>\n",
       "      <td>rs8</td>\n",
       "      <td>42.0</td>\n",
       "      <td>{}</td>\n",
       "      <td>196</td>\n",
       "      <td>196</td>\n",
       "      <td>1/1</td>\n",
       "      <td>19</td>\n",
       "      <td>[0, 40, 80]</td>\n",
       "      <td>...</td>\n",
       "      <td>0/1</td>\n",
       "      <td>19</td>\n",
       "      <td>[20, 30, 0]</td>\n",
       "      <td>[7, 12]</td>\n",
       "      <td>False</td>\n",
       "      <td>0/1</td>\n",
       "      <td>22</td>\n",
       "      <td>[20, 30, 100]</td>\n",
       "      <td>[11, 11]</td>\n",
       "      <td>False</td>\n",
       "    </tr>\n",
       "    <tr>\n",
       "      <th>8</th>\n",
       "      <td>chr3:320</td>\n",
       "      <td>[A, G]</td>\n",
       "      <td>rs9</td>\n",
       "      <td>48.0</td>\n",
       "      <td>{}</td>\n",
       "      <td>230</td>\n",
       "      <td>230</td>\n",
       "      <td>0/1</td>\n",
       "      <td>25</td>\n",
       "      <td>[30, 20, 0]</td>\n",
       "      <td>...</td>\n",
       "      <td>0/1</td>\n",
       "      <td>22</td>\n",
       "      <td>[20, 30, 0]</td>\n",
       "      <td>[10, 12]</td>\n",
       "      <td>False</td>\n",
       "      <td>1/1</td>\n",
       "      <td>24</td>\n",
       "      <td>[0, 30, 100]</td>\n",
       "      <td>[5, 20]</td>\n",
       "      <td>False</td>\n",
       "    </tr>\n",
       "  </tbody>\n",
       "</table>\n",
       "<p>9 rows × 57 columns</p>\n",
       "</div>"
      ],
      "text/plain": [
       "      locus alleles rsid  qual filters  info.DP  the_actual_sum_total_DP  \\\n",
       "0  chr1:100  [A, G]  rs1  50.0      {}      166                      166   \n",
       "1  chr1:200  [C, T]  rs2  30.0      {}      133                      133   \n",
       "2  chr1:300  [G, A]  rs3  40.0      {}      210                      210   \n",
       "3  chr2:150  [T, C]  rs4  60.0      {}      168                      168   \n",
       "4  chr2:250  [A, G]  rs5  55.0      {}      217                      217   \n",
       "5  chr2:350  [C, T]  rs6  45.0      {}      166                      166   \n",
       "6  chr3:120  [G, A]  rs7  38.0      {}      173                      173   \n",
       "7  chr3:220  [T, C]  rs8  42.0      {}      196                      196   \n",
       "8  chr3:320  [A, G]  rs9  48.0      {}      230                      230   \n",
       "\n",
       "  Sample1.GT  Sample1.DP    Sample1.PL  ... Sample9.GT  Sample9.DP  \\\n",
       "0        0/1          15  [50, 10, 80]  ...        0/0          14   \n",
       "1        0/0          10  [90, 0, 120]  ...        1/1          18   \n",
       "2        0/1          20  [40, 20, 80]  ...        0/1          19   \n",
       "3        1/1          14  [0, 30, 100]  ...        0/1          15   \n",
       "4        0/0          22  [120, 0, 60]  ...        1/1          24   \n",
       "5        0/1          16   [70, 10, 0]  ...        0/0          17   \n",
       "6        0/0          18  [110, 0, 50]  ...        0/1          18   \n",
       "7        1/1          19   [0, 40, 80]  ...        0/1          19   \n",
       "8        0/1          25   [30, 20, 0]  ...        0/1          22   \n",
       "\n",
       "      Sample9.PL  Sample9.AD Sample9.low_DP Sample10.GT  Sample10.DP  \\\n",
       "0  [100, 0, 120]     [14, 0]           True         0/1           21   \n",
       "1   [0, 30, 100]     [5, 13]          False         0/0           10   \n",
       "2  [20, 30, 100]     [8, 11]          False         1/1           20   \n",
       "3   [0, 30, 100]     [5, 10]          False         0/1           19   \n",
       "4   [0, 30, 100]     [5, 20]          False         0/0           25   \n",
       "5  [100, 0, 120]     [17, 0]          False         1/1           20   \n",
       "6    [30, 30, 0]     [10, 8]          False         1/1           15   \n",
       "7    [20, 30, 0]     [7, 12]          False         0/1           22   \n",
       "8    [20, 30, 0]    [10, 12]          False         1/1           24   \n",
       "\n",
       "     Sample10.PL  Sample10.AD Sample10.low_DP  \n",
       "0    [40, 20, 0]      [8, 13]           False  \n",
       "1  [100, 0, 120]      [10, 0]            True  \n",
       "2   [0, 30, 100]      [5, 15]           False  \n",
       "3  [20, 30, 100]      [9, 10]           False  \n",
       "4  [100, 0, 120]      [25, 0]           False  \n",
       "5   [0, 30, 100]      [5, 15]           False  \n",
       "6   [0, 30, 100]      [5, 10]           False  \n",
       "7  [20, 30, 100]     [11, 11]           False  \n",
       "8   [0, 30, 100]      [5, 20]           False  \n",
       "\n",
       "[9 rows x 57 columns]"
      ]
     },
     "execution_count": 62,
     "metadata": {},
     "output_type": "execute_result"
    }
   ],
   "source": [
    "xx.to_pandas()"
   ]
  },
  {
   "cell_type": "markdown",
   "id": "c6b0f365-a7af-4a83-b0b2-91cc2e5b38d8",
   "metadata": {},
   "source": [
    "[`MatrixTable.localize_entries`](https://hail.is/docs/0.2/hail.MatrixTable.html#hail.MatrixTable.localize_entries) is a confusingly named method which converts the entries into array row fields:"
   ]
  },
  {
   "cell_type": "code",
   "execution_count": 63,
   "id": "f39510b1-a439-4b0d-98e4-83a8b7aae70d",
   "metadata": {},
   "outputs": [
    {
     "data": {
      "text/html": [
       "<table><thead><tr><td style=\"white-space: nowrap; max-width: 500px; overflow: hidden; text-overflow: ellipsis; \" colspan=\"1\"><div style=\"text-align: left;\"></div></td><td style=\"white-space: nowrap; max-width: 500px; overflow: hidden; text-overflow: ellipsis; \" colspan=\"1\"><div style=\"text-align: left;\"></div></td><td style=\"white-space: nowrap; max-width: 500px; overflow: hidden; text-overflow: ellipsis; \" colspan=\"1\"><div style=\"text-align: left;\"></div></td><td style=\"white-space: nowrap; max-width: 500px; overflow: hidden; text-overflow: ellipsis; \" colspan=\"1\"><div style=\"text-align: left;\"></div></td><td style=\"white-space: nowrap; max-width: 500px; overflow: hidden; text-overflow: ellipsis; \" colspan=\"1\"><div style=\"text-align: left;\"></div></td><td style=\"white-space: nowrap; max-width: 500px; overflow: hidden; text-overflow: ellipsis; \" colspan=\"1\"><div style=\"text-align: left;\"></div></td><td style=\"white-space: nowrap; max-width: 500px; overflow: hidden; text-overflow: ellipsis; \" colspan=\"1\"><div style=\"text-align: left;\"></div></td><td style=\"white-space: nowrap; max-width: 500px; overflow: hidden; text-overflow: ellipsis; \" colspan=\"1\"><div style=\"text-align: left;\"></div></td></tr><tr><td style=\"white-space: nowrap; max-width: 500px; overflow: hidden; text-overflow: ellipsis; \" colspan=\"1\"><div style=\"text-align: left;\"></div></td><td style=\"white-space: nowrap; max-width: 500px; overflow: hidden; text-overflow: ellipsis; \" colspan=\"1\"><div style=\"text-align: left;\"></div></td><td style=\"white-space: nowrap; max-width: 500px; overflow: hidden; text-overflow: ellipsis; \" colspan=\"1\"><div style=\"text-align: left;\"></div></td><td style=\"white-space: nowrap; max-width: 500px; overflow: hidden; text-overflow: ellipsis; \" colspan=\"1\"><div style=\"text-align: left;\"></div></td><td style=\"white-space: nowrap; max-width: 500px; overflow: hidden; text-overflow: ellipsis; \" colspan=\"1\"><div style=\"text-align: left;\"></div></td><td style=\"white-space: nowrap; max-width: 500px; overflow: hidden; text-overflow: ellipsis; \" colspan=\"1\"><div style=\"text-align: left;border-bottom: solid 2px #000; padding-bottom: 5px\">info</div></td><td style=\"white-space: nowrap; max-width: 500px; overflow: hidden; text-overflow: ellipsis; \" colspan=\"1\"><div style=\"text-align: left;\"></div></td><td style=\"white-space: nowrap; max-width: 500px; overflow: hidden; text-overflow: ellipsis; \" colspan=\"1\"><div style=\"text-align: left;\"></div></td></tr><tr><td style=\"white-space: nowrap; max-width: 500px; overflow: hidden; text-overflow: ellipsis; \" colspan=\"1\"><div style=\"text-align: left;border-bottom: solid 2px #000; padding-bottom: 5px\">locus</div></td><td style=\"white-space: nowrap; max-width: 500px; overflow: hidden; text-overflow: ellipsis; \" colspan=\"1\"><div style=\"text-align: left;border-bottom: solid 2px #000; padding-bottom: 5px\">alleles</div></td><td style=\"white-space: nowrap; max-width: 500px; overflow: hidden; text-overflow: ellipsis; \" colspan=\"1\"><div style=\"text-align: left;border-bottom: solid 2px #000; padding-bottom: 5px\">rsid</div></td><td style=\"white-space: nowrap; max-width: 500px; overflow: hidden; text-overflow: ellipsis; \" colspan=\"1\"><div style=\"text-align: left;border-bottom: solid 2px #000; padding-bottom: 5px\">qual</div></td><td style=\"white-space: nowrap; max-width: 500px; overflow: hidden; text-overflow: ellipsis; \" colspan=\"1\"><div style=\"text-align: left;border-bottom: solid 2px #000; padding-bottom: 5px\">filters</div></td><td style=\"white-space: nowrap; max-width: 500px; overflow: hidden; text-overflow: ellipsis; \" colspan=\"1\"><div style=\"text-align: left;border-bottom: solid 2px #000; padding-bottom: 5px\">DP</div></td><td style=\"white-space: nowrap; max-width: 500px; overflow: hidden; text-overflow: ellipsis; \" colspan=\"1\"><div style=\"text-align: left;border-bottom: solid 2px #000; padding-bottom: 5px\">the_actual_sum_total_DP</div></td><td style=\"white-space: nowrap; max-width: 500px; overflow: hidden; text-overflow: ellipsis; \" colspan=\"1\"><div style=\"text-align: left;border-bottom: solid 2px #000; padding-bottom: 5px\">entries</div></td></tr><tr><td style=\"white-space: nowrap; max-width: 500px; overflow: hidden; text-overflow: ellipsis; text-align: left;\">locus&lt;GRCh38&gt;</td><td style=\"white-space: nowrap; max-width: 500px; overflow: hidden; text-overflow: ellipsis; text-align: left;\">array&lt;str&gt;</td><td style=\"white-space: nowrap; max-width: 500px; overflow: hidden; text-overflow: ellipsis; text-align: left;\">str</td><td style=\"white-space: nowrap; max-width: 500px; overflow: hidden; text-overflow: ellipsis; text-align: left;\">float64</td><td style=\"white-space: nowrap; max-width: 500px; overflow: hidden; text-overflow: ellipsis; text-align: left;\">set&lt;str&gt;</td><td style=\"white-space: nowrap; max-width: 500px; overflow: hidden; text-overflow: ellipsis; text-align: left;\">int64</td><td style=\"white-space: nowrap; max-width: 500px; overflow: hidden; text-overflow: ellipsis; text-align: left;\">int64</td><td style=\"white-space: nowrap; max-width: 500px; overflow: hidden; text-overflow: ellipsis; text-align: left;\">array&lt;struct{GT: call, DP: int32, PL: array&lt;int32&gt;, AD: array&lt;int32&gt;, low_DP: bool}&gt;</td></tr>\n",
       "</thead><tbody><tr><td style=\"white-space: nowrap; max-width: 500px; overflow: hidden; text-overflow: ellipsis; \">chr1:100</td><td style=\"white-space: nowrap; max-width: 500px; overflow: hidden; text-overflow: ellipsis; \">[&quot;A&quot;,&quot;G&quot;]</td><td style=\"white-space: nowrap; max-width: 500px; overflow: hidden; text-overflow: ellipsis; \">&quot;rs1&quot;</td><td style=\"white-space: nowrap; max-width: 500px; overflow: hidden; text-overflow: ellipsis; \">5.00e+01</td><td style=\"white-space: nowrap; max-width: 500px; overflow: hidden; text-overflow: ellipsis; \">{}</td><td style=\"white-space: nowrap; max-width: 500px; overflow: hidden; text-overflow: ellipsis; \">166</td><td style=\"white-space: nowrap; max-width: 500px; overflow: hidden; text-overflow: ellipsis; \">166</td><td style=\"white-space: nowrap; max-width: 500px; overflow: hidden; text-overflow: ellipsis; \">[(0/1,15,[50,10,80],[10,5],False),(0/1,17,[60,40,0],[5,12],False),(0/0,12,[100,0,120],[12,0],True),(0/1,14,[20,30,100],[5,9],True),(1/1,20,[0,30,100],[5,15],False),(0/0,16,[110,0,40],[16,0],False),(1/1,19,[0,30,100],[6,13],False),(0/1,18,[30,20,0],[10,8],False),(0/0,14,[100,0,120],[14,0],True),(0/1,21,[40,20,0],[8,13],False)]</td></tr>\n",
       "<tr><td style=\"white-space: nowrap; max-width: 500px; overflow: hidden; text-overflow: ellipsis; \">chr1:200</td><td style=\"white-space: nowrap; max-width: 500px; overflow: hidden; text-overflow: ellipsis; \">[&quot;C&quot;,&quot;T&quot;]</td><td style=\"white-space: nowrap; max-width: 500px; overflow: hidden; text-overflow: ellipsis; \">&quot;rs2&quot;</td><td style=\"white-space: nowrap; max-width: 500px; overflow: hidden; text-overflow: ellipsis; \">3.00e+01</td><td style=\"white-space: nowrap; max-width: 500px; overflow: hidden; text-overflow: ellipsis; \">{}</td><td style=\"white-space: nowrap; max-width: 500px; overflow: hidden; text-overflow: ellipsis; \">133</td><td style=\"white-space: nowrap; max-width: 500px; overflow: hidden; text-overflow: ellipsis; \">133</td><td style=\"white-space: nowrap; max-width: 500px; overflow: hidden; text-overflow: ellipsis; \">[(0/0,10,[90,0,120],[10,0],True),(1/1,15,[0,30,100],[5,10],False),(0/1,14,[60,30,0],[10,4],True),(0/0,12,[100,0,120],[12,0],True),(0/1,16,[0,30,100],[5,11],False),(1/1,13,[0,30,100],[4,9],True),(0/1,11,[60,30,0],[5,6],True),(0/0,14,[100,0,120],[14,0],True),(1/1,18,[0,30,100],[5,13],False),(0/0,10,[100,0,120],[10,0],True)]</td></tr>\n",
       "<tr><td style=\"white-space: nowrap; max-width: 500px; overflow: hidden; text-overflow: ellipsis; \">chr1:300</td><td style=\"white-space: nowrap; max-width: 500px; overflow: hidden; text-overflow: ellipsis; \">[&quot;G&quot;,&quot;A&quot;]</td><td style=\"white-space: nowrap; max-width: 500px; overflow: hidden; text-overflow: ellipsis; \">&quot;rs3&quot;</td><td style=\"white-space: nowrap; max-width: 500px; overflow: hidden; text-overflow: ellipsis; \">4.00e+01</td><td style=\"white-space: nowrap; max-width: 500px; overflow: hidden; text-overflow: ellipsis; \">{}</td><td style=\"white-space: nowrap; max-width: 500px; overflow: hidden; text-overflow: ellipsis; \">210</td><td style=\"white-space: nowrap; max-width: 500px; overflow: hidden; text-overflow: ellipsis; \">210</td><td style=\"white-space: nowrap; max-width: 500px; overflow: hidden; text-overflow: ellipsis; \">[(0/1,20,[40,20,80],[15,10],False),(0/0,22,[100,0,120],[22,0],False),(0/1,18,[70,10,0],[9,9],False),(0/1,21,[20,30,100],[11,10],False),(0/0,25,[100,0,120],[25,0],False),(1/1,23,[0,40,80],[5,18],False),(0/1,24,[20,30,100],[10,14],False),(0/0,18,[100,0,120],[18,0],False),(0/1,19,[20,30,100],[8,11],False),(1/1,20,[0,30,100],[5,15],False)]</td></tr>\n",
       "<tr><td style=\"white-space: nowrap; max-width: 500px; overflow: hidden; text-overflow: ellipsis; \">chr2:150</td><td style=\"white-space: nowrap; max-width: 500px; overflow: hidden; text-overflow: ellipsis; \">[&quot;T&quot;,&quot;C&quot;]</td><td style=\"white-space: nowrap; max-width: 500px; overflow: hidden; text-overflow: ellipsis; \">&quot;rs4&quot;</td><td style=\"white-space: nowrap; max-width: 500px; overflow: hidden; text-overflow: ellipsis; \">6.00e+01</td><td style=\"white-space: nowrap; max-width: 500px; overflow: hidden; text-overflow: ellipsis; \">{}</td><td style=\"white-space: nowrap; max-width: 500px; overflow: hidden; text-overflow: ellipsis; \">168</td><td style=\"white-space: nowrap; max-width: 500px; overflow: hidden; text-overflow: ellipsis; \">168</td><td style=\"white-space: nowrap; max-width: 500px; overflow: hidden; text-overflow: ellipsis; \">[(1/1,14,[0,30,100],[5,9],True),(0/0,15,[100,0,120],[15,0],False),(0/1,18,[40,30,0],[10,8],False),(0/0,20,[100,0,120],[20,0],False),(1/1,16,[0,30,100],[5,11],False),(0/1,17,[0,30,100],[5,12],False),(1/1,18,[0,30,100],[6,13],False),(0/0,16,[100,0,120],[16,0],False),(0/1,15,[0,30,100],[5,10],False),(0/1,19,[20,30,100],[9,10],False)]</td></tr>\n",
       "<tr><td style=\"white-space: nowrap; max-width: 500px; overflow: hidden; text-overflow: ellipsis; \">chr2:250</td><td style=\"white-space: nowrap; max-width: 500px; overflow: hidden; text-overflow: ellipsis; \">[&quot;A&quot;,&quot;G&quot;]</td><td style=\"white-space: nowrap; max-width: 500px; overflow: hidden; text-overflow: ellipsis; \">&quot;rs5&quot;</td><td style=\"white-space: nowrap; max-width: 500px; overflow: hidden; text-overflow: ellipsis; \">5.50e+01</td><td style=\"white-space: nowrap; max-width: 500px; overflow: hidden; text-overflow: ellipsis; \">{}</td><td style=\"white-space: nowrap; max-width: 500px; overflow: hidden; text-overflow: ellipsis; \">217</td><td style=\"white-space: nowrap; max-width: 500px; overflow: hidden; text-overflow: ellipsis; \">217</td><td style=\"white-space: nowrap; max-width: 500px; overflow: hidden; text-overflow: ellipsis; \">[(0/0,22,[120,0,60],[20,2],False),(0/1,21,[50,30,0],[15,6],False),(1/1,23,[0,30,100],[5,18],False),(0/0,19,[100,0,120],[19,0],False),(0/1,20,[0,30,100],[5,15],False),(1/1,22,[0,30,100],[5,17],False),(0/0,23,[100,0,120],[23,0],False),(0/1,18,[20,30,0],[8,10],False),(1/1,24,[0,30,100],[5,20],False),(0/0,25,[100,0,120],[25,0],False)]</td></tr>\n",
       "<tr><td style=\"white-space: nowrap; max-width: 500px; overflow: hidden; text-overflow: ellipsis; \">chr2:350</td><td style=\"white-space: nowrap; max-width: 500px; overflow: hidden; text-overflow: ellipsis; \">[&quot;C&quot;,&quot;T&quot;]</td><td style=\"white-space: nowrap; max-width: 500px; overflow: hidden; text-overflow: ellipsis; \">&quot;rs6&quot;</td><td style=\"white-space: nowrap; max-width: 500px; overflow: hidden; text-overflow: ellipsis; \">4.50e+01</td><td style=\"white-space: nowrap; max-width: 500px; overflow: hidden; text-overflow: ellipsis; \">{}</td><td style=\"white-space: nowrap; max-width: 500px; overflow: hidden; text-overflow: ellipsis; \">166</td><td style=\"white-space: nowrap; max-width: 500px; overflow: hidden; text-overflow: ellipsis; \">166</td><td style=\"white-space: nowrap; max-width: 500px; overflow: hidden; text-overflow: ellipsis; \">[(0/1,16,[70,10,0],[8,8],False),(0/0,15,[100,0,120],[15,0],False),(0/0,14,[100,0,120],[14,0],True),(1/1,13,[0,30,100],[4,9],True),(0/1,19,[0,30,100],[6,13],False),(1/1,18,[0,30,100],[6,12],False),(0/1,16,[20,30,0],[7,9],False),(0/0,18,[100,0,120],[18,0],False),(0/0,17,[100,0,120],[17,0],False),(1/1,20,[0,30,100],[5,15],False)]</td></tr>\n",
       "<tr><td style=\"white-space: nowrap; max-width: 500px; overflow: hidden; text-overflow: ellipsis; \">chr3:120</td><td style=\"white-space: nowrap; max-width: 500px; overflow: hidden; text-overflow: ellipsis; \">[&quot;G&quot;,&quot;A&quot;]</td><td style=\"white-space: nowrap; max-width: 500px; overflow: hidden; text-overflow: ellipsis; \">&quot;rs7&quot;</td><td style=\"white-space: nowrap; max-width: 500px; overflow: hidden; text-overflow: ellipsis; \">3.80e+01</td><td style=\"white-space: nowrap; max-width: 500px; overflow: hidden; text-overflow: ellipsis; \">{}</td><td style=\"white-space: nowrap; max-width: 500px; overflow: hidden; text-overflow: ellipsis; \">173</td><td style=\"white-space: nowrap; max-width: 500px; overflow: hidden; text-overflow: ellipsis; \">173</td><td style=\"white-space: nowrap; max-width: 500px; overflow: hidden; text-overflow: ellipsis; \">[(0/0,18,[110,0,50],[18,0],False),(1/1,16,[0,30,100],[5,11],False),(0/0,17,[100,0,120],[17,0],False),(0/1,15,[30,30,0],[5,10],False),(0/1,20,[0,30,100],[5,14],False),(0/1,19,[0,30,100],[6,13],False),(1/1,18,[0,30,100],[6,12],False),(0/0,17,[100,0,120],[17,0],False),(0/1,18,[30,30,0],[10,8],False),(1/1,15,[0,30,100],[5,10],False)]</td></tr>\n",
       "<tr><td style=\"white-space: nowrap; max-width: 500px; overflow: hidden; text-overflow: ellipsis; \">chr3:220</td><td style=\"white-space: nowrap; max-width: 500px; overflow: hidden; text-overflow: ellipsis; \">[&quot;T&quot;,&quot;C&quot;]</td><td style=\"white-space: nowrap; max-width: 500px; overflow: hidden; text-overflow: ellipsis; \">&quot;rs8&quot;</td><td style=\"white-space: nowrap; max-width: 500px; overflow: hidden; text-overflow: ellipsis; \">4.20e+01</td><td style=\"white-space: nowrap; max-width: 500px; overflow: hidden; text-overflow: ellipsis; \">{}</td><td style=\"white-space: nowrap; max-width: 500px; overflow: hidden; text-overflow: ellipsis; \">196</td><td style=\"white-space: nowrap; max-width: 500px; overflow: hidden; text-overflow: ellipsis; \">196</td><td style=\"white-space: nowrap; max-width: 500px; overflow: hidden; text-overflow: ellipsis; \">[(1/1,19,[0,40,80],[6,13],False),(0/0,18,[100,0,120],[18,0],False),(0/1,20,[60,30,0],[12,8],False),(0/0,22,[100,0,120],[22,0],False),(1/1,21,[0,30,100],[5,16],False),(0/1,20,[0,30,100],[6,14],False),(1/1,18,[0,30,100],[6,12],False),(0/0,17,[100,0,120],[17,0],False),(0/1,19,[20,30,0],[7,12],False),(0/1,22,[20,30,100],[11,11],False)]</td></tr>\n",
       "<tr><td style=\"white-space: nowrap; max-width: 500px; overflow: hidden; text-overflow: ellipsis; \">chr3:320</td><td style=\"white-space: nowrap; max-width: 500px; overflow: hidden; text-overflow: ellipsis; \">[&quot;A&quot;,&quot;G&quot;]</td><td style=\"white-space: nowrap; max-width: 500px; overflow: hidden; text-overflow: ellipsis; \">&quot;rs9&quot;</td><td style=\"white-space: nowrap; max-width: 500px; overflow: hidden; text-overflow: ellipsis; \">4.80e+01</td><td style=\"white-space: nowrap; max-width: 500px; overflow: hidden; text-overflow: ellipsis; \">{}</td><td style=\"white-space: nowrap; max-width: 500px; overflow: hidden; text-overflow: ellipsis; \">230</td><td style=\"white-space: nowrap; max-width: 500px; overflow: hidden; text-overflow: ellipsis; \">230</td><td style=\"white-space: nowrap; max-width: 500px; overflow: hidden; text-overflow: ellipsis; \">[(0/1,25,[30,20,0],[14,11],False),(0/0,23,[100,0,120],[23,0],False),(0/1,24,[40,20,0],[13,11],False),(0/1,20,[20,30,100],[11,9],False),(0/0,22,[100,0,120],[22,0],False),(1/1,23,[0,30,100],[5,18],False),(0/1,26,[20,30,100],[12,14],False),(0/0,21,[100,0,120],[21,0],False),(0/1,22,[20,30,0],[10,12],False),(1/1,24,[0,30,100],[5,20],False)]</td></tr>\n",
       "</tbody></table>"
      ],
      "text/plain": [
       "+---------------+------------+-------+----------+----------+---------+\n",
       "| locus         | alleles    | rsid  |     qual | filters  | info.DP |\n",
       "+---------------+------------+-------+----------+----------+---------+\n",
       "| locus<GRCh38> | array<str> | str   |  float64 | set<str> |   int64 |\n",
       "+---------------+------------+-------+----------+----------+---------+\n",
       "| chr1:100      | [\"A\",\"G\"]  | \"rs1\" | 5.00e+01 | {}       |     166 |\n",
       "| chr1:200      | [\"C\",\"T\"]  | \"rs2\" | 3.00e+01 | {}       |     133 |\n",
       "| chr1:300      | [\"G\",\"A\"]  | \"rs3\" | 4.00e+01 | {}       |     210 |\n",
       "| chr2:150      | [\"T\",\"C\"]  | \"rs4\" | 6.00e+01 | {}       |     168 |\n",
       "| chr2:250      | [\"A\",\"G\"]  | \"rs5\" | 5.50e+01 | {}       |     217 |\n",
       "| chr2:350      | [\"C\",\"T\"]  | \"rs6\" | 4.50e+01 | {}       |     166 |\n",
       "| chr3:120      | [\"G\",\"A\"]  | \"rs7\" | 3.80e+01 | {}       |     173 |\n",
       "| chr3:220      | [\"T\",\"C\"]  | \"rs8\" | 4.20e+01 | {}       |     196 |\n",
       "| chr3:320      | [\"A\",\"G\"]  | \"rs9\" | 4.80e+01 | {}       |     230 |\n",
       "+---------------+------------+-------+----------+----------+---------+\n",
       "\n",
       "+-------------------------+\n",
       "| the_actual_sum_total_DP |\n",
       "+-------------------------+\n",
       "|                   int64 |\n",
       "+-------------------------+\n",
       "|                     166 |\n",
       "|                     133 |\n",
       "|                     210 |\n",
       "|                     168 |\n",
       "|                     217 |\n",
       "|                     166 |\n",
       "|                     173 |\n",
       "|                     196 |\n",
       "|                     230 |\n",
       "+-------------------------+\n",
       "\n",
       "+------------------------------------------------------------------------------+\n",
       "| entries                                                                      |\n",
       "+------------------------------------------------------------------------------+\n",
       "| array<struct{GT: call, DP: int32, PL: array<int32>, AD: array<int32>, low... |\n",
       "+------------------------------------------------------------------------------+\n",
       "| [(0/1,15,[50,10,80],[10,5],False),(0/1,17,[60,40,0],[5,12],False),(0/0,12... |\n",
       "| [(0/0,10,[90,0,120],[10,0],True),(1/1,15,[0,30,100],[5,10],False),(0/1,14... |\n",
       "| [(0/1,20,[40,20,80],[15,10],False),(0/0,22,[100,0,120],[22,0],False),(0/1... |\n",
       "| [(1/1,14,[0,30,100],[5,9],True),(0/0,15,[100,0,120],[15,0],False),(0/1,18... |\n",
       "| [(0/0,22,[120,0,60],[20,2],False),(0/1,21,[50,30,0],[15,6],False),(1/1,23... |\n",
       "| [(0/1,16,[70,10,0],[8,8],False),(0/0,15,[100,0,120],[15,0],False),(0/0,14... |\n",
       "| [(0/0,18,[110,0,50],[18,0],False),(1/1,16,[0,30,100],[5,11],False),(0/0,1... |\n",
       "| [(1/1,19,[0,40,80],[6,13],False),(0/0,18,[100,0,120],[18,0],False),(0/1,2... |\n",
       "| [(0/1,25,[30,20,0],[14,11],False),(0/0,23,[100,0,120],[23,0],False),(0/1,... |\n",
       "+------------------------------------------------------------------------------+"
      ]
     },
     "metadata": {},
     "output_type": "display_data"
    }
   ],
   "source": [
    "xx = mt\n",
    "xx = xx.localize_entries('entries', 'columns')\n",
    "xx.show()"
   ]
  },
  {
   "cell_type": "code",
   "execution_count": 64,
   "id": "15fc0358-3f46-4cc2-ae98-3d47b4fcb737",
   "metadata": {
    "scrolled": true
   },
   "outputs": [
    {
     "data": {
      "text/plain": [
       "[Struct(locus=Locus(contig=chr1, position=100, reference_genome=GRCh38), alleles=['A', 'G'], rsid='rs1', qual=50.0, filters=set(), info=Struct(DP=166), the_actual_sum_total_DP=166, entries=[Struct(GT=Call(alleles=[0, 1], phased=False), DP=15, PL=[50, 10, 80], AD=[10, 5], low_DP=False), Struct(GT=Call(alleles=[0, 1], phased=False), DP=17, PL=[60, 40, 0], AD=[5, 12], low_DP=False), Struct(GT=Call(alleles=[0, 0], phased=False), DP=12, PL=[100, 0, 120], AD=[12, 0], low_DP=True), Struct(GT=Call(alleles=[0, 1], phased=False), DP=14, PL=[20, 30, 100], AD=[5, 9], low_DP=True), Struct(GT=Call(alleles=[1, 1], phased=False), DP=20, PL=[0, 30, 100], AD=[5, 15], low_DP=False), Struct(GT=Call(alleles=[0, 0], phased=False), DP=16, PL=[110, 0, 40], AD=[16, 0], low_DP=False), Struct(GT=Call(alleles=[1, 1], phased=False), DP=19, PL=[0, 30, 100], AD=[6, 13], low_DP=False), Struct(GT=Call(alleles=[0, 1], phased=False), DP=18, PL=[30, 20, 0], AD=[10, 8], low_DP=False), Struct(GT=Call(alleles=[0, 0], phased=False), DP=14, PL=[100, 0, 120], AD=[14, 0], low_DP=True), Struct(GT=Call(alleles=[0, 1], phased=False), DP=21, PL=[40, 20, 0], AD=[8, 13], low_DP=False)]),\n",
       " Struct(locus=Locus(contig=chr1, position=200, reference_genome=GRCh38), alleles=['C', 'T'], rsid='rs2', qual=30.0, filters=set(), info=Struct(DP=133), the_actual_sum_total_DP=133, entries=[Struct(GT=Call(alleles=[0, 0], phased=False), DP=10, PL=[90, 0, 120], AD=[10, 0], low_DP=True), Struct(GT=Call(alleles=[1, 1], phased=False), DP=15, PL=[0, 30, 100], AD=[5, 10], low_DP=False), Struct(GT=Call(alleles=[0, 1], phased=False), DP=14, PL=[60, 30, 0], AD=[10, 4], low_DP=True), Struct(GT=Call(alleles=[0, 0], phased=False), DP=12, PL=[100, 0, 120], AD=[12, 0], low_DP=True), Struct(GT=Call(alleles=[0, 1], phased=False), DP=16, PL=[0, 30, 100], AD=[5, 11], low_DP=False), Struct(GT=Call(alleles=[1, 1], phased=False), DP=13, PL=[0, 30, 100], AD=[4, 9], low_DP=True), Struct(GT=Call(alleles=[0, 1], phased=False), DP=11, PL=[60, 30, 0], AD=[5, 6], low_DP=True), Struct(GT=Call(alleles=[0, 0], phased=False), DP=14, PL=[100, 0, 120], AD=[14, 0], low_DP=True), Struct(GT=Call(alleles=[1, 1], phased=False), DP=18, PL=[0, 30, 100], AD=[5, 13], low_DP=False), Struct(GT=Call(alleles=[0, 0], phased=False), DP=10, PL=[100, 0, 120], AD=[10, 0], low_DP=True)]),\n",
       " Struct(locus=Locus(contig=chr1, position=300, reference_genome=GRCh38), alleles=['G', 'A'], rsid='rs3', qual=40.0, filters=set(), info=Struct(DP=210), the_actual_sum_total_DP=210, entries=[Struct(GT=Call(alleles=[0, 1], phased=False), DP=20, PL=[40, 20, 80], AD=[15, 10], low_DP=False), Struct(GT=Call(alleles=[0, 0], phased=False), DP=22, PL=[100, 0, 120], AD=[22, 0], low_DP=False), Struct(GT=Call(alleles=[0, 1], phased=False), DP=18, PL=[70, 10, 0], AD=[9, 9], low_DP=False), Struct(GT=Call(alleles=[0, 1], phased=False), DP=21, PL=[20, 30, 100], AD=[11, 10], low_DP=False), Struct(GT=Call(alleles=[0, 0], phased=False), DP=25, PL=[100, 0, 120], AD=[25, 0], low_DP=False), Struct(GT=Call(alleles=[1, 1], phased=False), DP=23, PL=[0, 40, 80], AD=[5, 18], low_DP=False), Struct(GT=Call(alleles=[0, 1], phased=False), DP=24, PL=[20, 30, 100], AD=[10, 14], low_DP=False), Struct(GT=Call(alleles=[0, 0], phased=False), DP=18, PL=[100, 0, 120], AD=[18, 0], low_DP=False), Struct(GT=Call(alleles=[0, 1], phased=False), DP=19, PL=[20, 30, 100], AD=[8, 11], low_DP=False), Struct(GT=Call(alleles=[1, 1], phased=False), DP=20, PL=[0, 30, 100], AD=[5, 15], low_DP=False)]),\n",
       " Struct(locus=Locus(contig=chr2, position=150, reference_genome=GRCh38), alleles=['T', 'C'], rsid='rs4', qual=60.0, filters=set(), info=Struct(DP=168), the_actual_sum_total_DP=168, entries=[Struct(GT=Call(alleles=[1, 1], phased=False), DP=14, PL=[0, 30, 100], AD=[5, 9], low_DP=True), Struct(GT=Call(alleles=[0, 0], phased=False), DP=15, PL=[100, 0, 120], AD=[15, 0], low_DP=False), Struct(GT=Call(alleles=[0, 1], phased=False), DP=18, PL=[40, 30, 0], AD=[10, 8], low_DP=False), Struct(GT=Call(alleles=[0, 0], phased=False), DP=20, PL=[100, 0, 120], AD=[20, 0], low_DP=False), Struct(GT=Call(alleles=[1, 1], phased=False), DP=16, PL=[0, 30, 100], AD=[5, 11], low_DP=False), Struct(GT=Call(alleles=[0, 1], phased=False), DP=17, PL=[0, 30, 100], AD=[5, 12], low_DP=False), Struct(GT=Call(alleles=[1, 1], phased=False), DP=18, PL=[0, 30, 100], AD=[6, 13], low_DP=False), Struct(GT=Call(alleles=[0, 0], phased=False), DP=16, PL=[100, 0, 120], AD=[16, 0], low_DP=False), Struct(GT=Call(alleles=[0, 1], phased=False), DP=15, PL=[0, 30, 100], AD=[5, 10], low_DP=False), Struct(GT=Call(alleles=[0, 1], phased=False), DP=19, PL=[20, 30, 100], AD=[9, 10], low_DP=False)]),\n",
       " Struct(locus=Locus(contig=chr2, position=250, reference_genome=GRCh38), alleles=['A', 'G'], rsid='rs5', qual=55.0, filters=set(), info=Struct(DP=217), the_actual_sum_total_DP=217, entries=[Struct(GT=Call(alleles=[0, 0], phased=False), DP=22, PL=[120, 0, 60], AD=[20, 2], low_DP=False), Struct(GT=Call(alleles=[0, 1], phased=False), DP=21, PL=[50, 30, 0], AD=[15, 6], low_DP=False), Struct(GT=Call(alleles=[1, 1], phased=False), DP=23, PL=[0, 30, 100], AD=[5, 18], low_DP=False), Struct(GT=Call(alleles=[0, 0], phased=False), DP=19, PL=[100, 0, 120], AD=[19, 0], low_DP=False), Struct(GT=Call(alleles=[0, 1], phased=False), DP=20, PL=[0, 30, 100], AD=[5, 15], low_DP=False), Struct(GT=Call(alleles=[1, 1], phased=False), DP=22, PL=[0, 30, 100], AD=[5, 17], low_DP=False), Struct(GT=Call(alleles=[0, 0], phased=False), DP=23, PL=[100, 0, 120], AD=[23, 0], low_DP=False), Struct(GT=Call(alleles=[0, 1], phased=False), DP=18, PL=[20, 30, 0], AD=[8, 10], low_DP=False), Struct(GT=Call(alleles=[1, 1], phased=False), DP=24, PL=[0, 30, 100], AD=[5, 20], low_DP=False), Struct(GT=Call(alleles=[0, 0], phased=False), DP=25, PL=[100, 0, 120], AD=[25, 0], low_DP=False)]),\n",
       " Struct(locus=Locus(contig=chr2, position=350, reference_genome=GRCh38), alleles=['C', 'T'], rsid='rs6', qual=45.0, filters=set(), info=Struct(DP=166), the_actual_sum_total_DP=166, entries=[Struct(GT=Call(alleles=[0, 1], phased=False), DP=16, PL=[70, 10, 0], AD=[8, 8], low_DP=False), Struct(GT=Call(alleles=[0, 0], phased=False), DP=15, PL=[100, 0, 120], AD=[15, 0], low_DP=False), Struct(GT=Call(alleles=[0, 0], phased=False), DP=14, PL=[100, 0, 120], AD=[14, 0], low_DP=True), Struct(GT=Call(alleles=[1, 1], phased=False), DP=13, PL=[0, 30, 100], AD=[4, 9], low_DP=True), Struct(GT=Call(alleles=[0, 1], phased=False), DP=19, PL=[0, 30, 100], AD=[6, 13], low_DP=False), Struct(GT=Call(alleles=[1, 1], phased=False), DP=18, PL=[0, 30, 100], AD=[6, 12], low_DP=False), Struct(GT=Call(alleles=[0, 1], phased=False), DP=16, PL=[20, 30, 0], AD=[7, 9], low_DP=False), Struct(GT=Call(alleles=[0, 0], phased=False), DP=18, PL=[100, 0, 120], AD=[18, 0], low_DP=False), Struct(GT=Call(alleles=[0, 0], phased=False), DP=17, PL=[100, 0, 120], AD=[17, 0], low_DP=False), Struct(GT=Call(alleles=[1, 1], phased=False), DP=20, PL=[0, 30, 100], AD=[5, 15], low_DP=False)]),\n",
       " Struct(locus=Locus(contig=chr3, position=120, reference_genome=GRCh38), alleles=['G', 'A'], rsid='rs7', qual=38.0, filters=set(), info=Struct(DP=173), the_actual_sum_total_DP=173, entries=[Struct(GT=Call(alleles=[0, 0], phased=False), DP=18, PL=[110, 0, 50], AD=[18, 0], low_DP=False), Struct(GT=Call(alleles=[1, 1], phased=False), DP=16, PL=[0, 30, 100], AD=[5, 11], low_DP=False), Struct(GT=Call(alleles=[0, 0], phased=False), DP=17, PL=[100, 0, 120], AD=[17, 0], low_DP=False), Struct(GT=Call(alleles=[0, 1], phased=False), DP=15, PL=[30, 30, 0], AD=[5, 10], low_DP=False), Struct(GT=Call(alleles=[0, 1], phased=False), DP=20, PL=[0, 30, 100], AD=[5, 14], low_DP=False), Struct(GT=Call(alleles=[0, 1], phased=False), DP=19, PL=[0, 30, 100], AD=[6, 13], low_DP=False), Struct(GT=Call(alleles=[1, 1], phased=False), DP=18, PL=[0, 30, 100], AD=[6, 12], low_DP=False), Struct(GT=Call(alleles=[0, 0], phased=False), DP=17, PL=[100, 0, 120], AD=[17, 0], low_DP=False), Struct(GT=Call(alleles=[0, 1], phased=False), DP=18, PL=[30, 30, 0], AD=[10, 8], low_DP=False), Struct(GT=Call(alleles=[1, 1], phased=False), DP=15, PL=[0, 30, 100], AD=[5, 10], low_DP=False)]),\n",
       " Struct(locus=Locus(contig=chr3, position=220, reference_genome=GRCh38), alleles=['T', 'C'], rsid='rs8', qual=42.0, filters=set(), info=Struct(DP=196), the_actual_sum_total_DP=196, entries=[Struct(GT=Call(alleles=[1, 1], phased=False), DP=19, PL=[0, 40, 80], AD=[6, 13], low_DP=False), Struct(GT=Call(alleles=[0, 0], phased=False), DP=18, PL=[100, 0, 120], AD=[18, 0], low_DP=False), Struct(GT=Call(alleles=[0, 1], phased=False), DP=20, PL=[60, 30, 0], AD=[12, 8], low_DP=False), Struct(GT=Call(alleles=[0, 0], phased=False), DP=22, PL=[100, 0, 120], AD=[22, 0], low_DP=False), Struct(GT=Call(alleles=[1, 1], phased=False), DP=21, PL=[0, 30, 100], AD=[5, 16], low_DP=False), Struct(GT=Call(alleles=[0, 1], phased=False), DP=20, PL=[0, 30, 100], AD=[6, 14], low_DP=False), Struct(GT=Call(alleles=[1, 1], phased=False), DP=18, PL=[0, 30, 100], AD=[6, 12], low_DP=False), Struct(GT=Call(alleles=[0, 0], phased=False), DP=17, PL=[100, 0, 120], AD=[17, 0], low_DP=False), Struct(GT=Call(alleles=[0, 1], phased=False), DP=19, PL=[20, 30, 0], AD=[7, 12], low_DP=False), Struct(GT=Call(alleles=[0, 1], phased=False), DP=22, PL=[20, 30, 100], AD=[11, 11], low_DP=False)]),\n",
       " Struct(locus=Locus(contig=chr3, position=320, reference_genome=GRCh38), alleles=['A', 'G'], rsid='rs9', qual=48.0, filters=set(), info=Struct(DP=230), the_actual_sum_total_DP=230, entries=[Struct(GT=Call(alleles=[0, 1], phased=False), DP=25, PL=[30, 20, 0], AD=[14, 11], low_DP=False), Struct(GT=Call(alleles=[0, 0], phased=False), DP=23, PL=[100, 0, 120], AD=[23, 0], low_DP=False), Struct(GT=Call(alleles=[0, 1], phased=False), DP=24, PL=[40, 20, 0], AD=[13, 11], low_DP=False), Struct(GT=Call(alleles=[0, 1], phased=False), DP=20, PL=[20, 30, 100], AD=[11, 9], low_DP=False), Struct(GT=Call(alleles=[0, 0], phased=False), DP=22, PL=[100, 0, 120], AD=[22, 0], low_DP=False), Struct(GT=Call(alleles=[1, 1], phased=False), DP=23, PL=[0, 30, 100], AD=[5, 18], low_DP=False), Struct(GT=Call(alleles=[0, 1], phased=False), DP=26, PL=[20, 30, 100], AD=[12, 14], low_DP=False), Struct(GT=Call(alleles=[0, 0], phased=False), DP=21, PL=[100, 0, 120], AD=[21, 0], low_DP=False), Struct(GT=Call(alleles=[0, 1], phased=False), DP=22, PL=[20, 30, 0], AD=[10, 12], low_DP=False), Struct(GT=Call(alleles=[1, 1], phased=False), DP=24, PL=[0, 30, 100], AD=[5, 20], low_DP=False)])]"
      ]
     },
     "execution_count": 64,
     "metadata": {},
     "output_type": "execute_result"
    }
   ],
   "source": [
    "xx.collect()"
   ]
  },
  {
   "cell_type": "markdown",
   "id": "50ffac53-637b-4923-98e0-66f28ad74510",
   "metadata": {},
   "source": [
    "Hail incorrectly converts this table into a Pandas DataFrame (notice the entries are the field names, not the field values). This is a [known bug](https://github.com/hail-is/hail/issues/13512) which will be fixed in a future version of Hail."
   ]
  },
  {
   "cell_type": "code",
   "execution_count": 65,
   "id": "ae9d772b-ad24-4abb-82d0-ce0686e134ec",
   "metadata": {},
   "outputs": [
    {
     "data": {
      "text/html": [
       "<div>\n",
       "<style scoped>\n",
       "    .dataframe tbody tr th:only-of-type {\n",
       "        vertical-align: middle;\n",
       "    }\n",
       "\n",
       "    .dataframe tbody tr th {\n",
       "        vertical-align: top;\n",
       "    }\n",
       "\n",
       "    .dataframe thead th {\n",
       "        text-align: right;\n",
       "    }\n",
       "</style>\n",
       "<table border=\"1\" class=\"dataframe\">\n",
       "  <thead>\n",
       "    <tr style=\"text-align: right;\">\n",
       "      <th></th>\n",
       "      <th>locus</th>\n",
       "      <th>alleles</th>\n",
       "      <th>rsid</th>\n",
       "      <th>qual</th>\n",
       "      <th>filters</th>\n",
       "      <th>info.DP</th>\n",
       "      <th>the_actual_sum_total_DP</th>\n",
       "      <th>entries</th>\n",
       "    </tr>\n",
       "  </thead>\n",
       "  <tbody>\n",
       "    <tr>\n",
       "      <th>0</th>\n",
       "      <td>chr1:100</td>\n",
       "      <td>[A, G]</td>\n",
       "      <td>rs1</td>\n",
       "      <td>50.0</td>\n",
       "      <td>{}</td>\n",
       "      <td>166</td>\n",
       "      <td>166</td>\n",
       "      <td>[(GT, DP, PL, AD, low_DP), (GT, DP, PL, AD, lo...</td>\n",
       "    </tr>\n",
       "    <tr>\n",
       "      <th>1</th>\n",
       "      <td>chr1:200</td>\n",
       "      <td>[C, T]</td>\n",
       "      <td>rs2</td>\n",
       "      <td>30.0</td>\n",
       "      <td>{}</td>\n",
       "      <td>133</td>\n",
       "      <td>133</td>\n",
       "      <td>[(GT, DP, PL, AD, low_DP), (GT, DP, PL, AD, lo...</td>\n",
       "    </tr>\n",
       "    <tr>\n",
       "      <th>2</th>\n",
       "      <td>chr1:300</td>\n",
       "      <td>[G, A]</td>\n",
       "      <td>rs3</td>\n",
       "      <td>40.0</td>\n",
       "      <td>{}</td>\n",
       "      <td>210</td>\n",
       "      <td>210</td>\n",
       "      <td>[(GT, DP, PL, AD, low_DP), (GT, DP, PL, AD, lo...</td>\n",
       "    </tr>\n",
       "    <tr>\n",
       "      <th>3</th>\n",
       "      <td>chr2:150</td>\n",
       "      <td>[T, C]</td>\n",
       "      <td>rs4</td>\n",
       "      <td>60.0</td>\n",
       "      <td>{}</td>\n",
       "      <td>168</td>\n",
       "      <td>168</td>\n",
       "      <td>[(GT, DP, PL, AD, low_DP), (GT, DP, PL, AD, lo...</td>\n",
       "    </tr>\n",
       "    <tr>\n",
       "      <th>4</th>\n",
       "      <td>chr2:250</td>\n",
       "      <td>[A, G]</td>\n",
       "      <td>rs5</td>\n",
       "      <td>55.0</td>\n",
       "      <td>{}</td>\n",
       "      <td>217</td>\n",
       "      <td>217</td>\n",
       "      <td>[(GT, DP, PL, AD, low_DP), (GT, DP, PL, AD, lo...</td>\n",
       "    </tr>\n",
       "    <tr>\n",
       "      <th>5</th>\n",
       "      <td>chr2:350</td>\n",
       "      <td>[C, T]</td>\n",
       "      <td>rs6</td>\n",
       "      <td>45.0</td>\n",
       "      <td>{}</td>\n",
       "      <td>166</td>\n",
       "      <td>166</td>\n",
       "      <td>[(GT, DP, PL, AD, low_DP), (GT, DP, PL, AD, lo...</td>\n",
       "    </tr>\n",
       "    <tr>\n",
       "      <th>6</th>\n",
       "      <td>chr3:120</td>\n",
       "      <td>[G, A]</td>\n",
       "      <td>rs7</td>\n",
       "      <td>38.0</td>\n",
       "      <td>{}</td>\n",
       "      <td>173</td>\n",
       "      <td>173</td>\n",
       "      <td>[(GT, DP, PL, AD, low_DP), (GT, DP, PL, AD, lo...</td>\n",
       "    </tr>\n",
       "    <tr>\n",
       "      <th>7</th>\n",
       "      <td>chr3:220</td>\n",
       "      <td>[T, C]</td>\n",
       "      <td>rs8</td>\n",
       "      <td>42.0</td>\n",
       "      <td>{}</td>\n",
       "      <td>196</td>\n",
       "      <td>196</td>\n",
       "      <td>[(GT, DP, PL, AD, low_DP), (GT, DP, PL, AD, lo...</td>\n",
       "    </tr>\n",
       "    <tr>\n",
       "      <th>8</th>\n",
       "      <td>chr3:320</td>\n",
       "      <td>[A, G]</td>\n",
       "      <td>rs9</td>\n",
       "      <td>48.0</td>\n",
       "      <td>{}</td>\n",
       "      <td>230</td>\n",
       "      <td>230</td>\n",
       "      <td>[(GT, DP, PL, AD, low_DP), (GT, DP, PL, AD, lo...</td>\n",
       "    </tr>\n",
       "  </tbody>\n",
       "</table>\n",
       "</div>"
      ],
      "text/plain": [
       "      locus alleles rsid  qual filters  info.DP  the_actual_sum_total_DP  \\\n",
       "0  chr1:100  [A, G]  rs1  50.0      {}      166                      166   \n",
       "1  chr1:200  [C, T]  rs2  30.0      {}      133                      133   \n",
       "2  chr1:300  [G, A]  rs3  40.0      {}      210                      210   \n",
       "3  chr2:150  [T, C]  rs4  60.0      {}      168                      168   \n",
       "4  chr2:250  [A, G]  rs5  55.0      {}      217                      217   \n",
       "5  chr2:350  [C, T]  rs6  45.0      {}      166                      166   \n",
       "6  chr3:120  [G, A]  rs7  38.0      {}      173                      173   \n",
       "7  chr3:220  [T, C]  rs8  42.0      {}      196                      196   \n",
       "8  chr3:320  [A, G]  rs9  48.0      {}      230                      230   \n",
       "\n",
       "                                             entries  \n",
       "0  [(GT, DP, PL, AD, low_DP), (GT, DP, PL, AD, lo...  \n",
       "1  [(GT, DP, PL, AD, low_DP), (GT, DP, PL, AD, lo...  \n",
       "2  [(GT, DP, PL, AD, low_DP), (GT, DP, PL, AD, lo...  \n",
       "3  [(GT, DP, PL, AD, low_DP), (GT, DP, PL, AD, lo...  \n",
       "4  [(GT, DP, PL, AD, low_DP), (GT, DP, PL, AD, lo...  \n",
       "5  [(GT, DP, PL, AD, low_DP), (GT, DP, PL, AD, lo...  \n",
       "6  [(GT, DP, PL, AD, low_DP), (GT, DP, PL, AD, lo...  \n",
       "7  [(GT, DP, PL, AD, low_DP), (GT, DP, PL, AD, lo...  \n",
       "8  [(GT, DP, PL, AD, low_DP), (GT, DP, PL, AD, lo...  "
      ]
     },
     "execution_count": 65,
     "metadata": {},
     "output_type": "execute_result"
    }
   ],
   "source": [
    "xx.to_pandas()"
   ]
  }
 ],
 "metadata": {
  "kernelspec": {
   "display_name": "Python 3 (ipykernel)",
   "language": "python",
   "name": "python3"
  },
  "language_info": {
   "codemirror_mode": {
    "name": "ipython",
    "version": 3
   },
   "file_extension": ".py",
   "mimetype": "text/x-python",
   "name": "python",
   "nbconvert_exporter": "python",
   "pygments_lexer": "ipython3",
   "version": "3.10.9"
  }
 },
 "nbformat": 4,
 "nbformat_minor": 5
}
