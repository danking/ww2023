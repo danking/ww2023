{
 "cells": [
  {
   "cell_type": "code",
   "execution_count": 1,
   "id": "dda3a4a9-768a-48e2-95e2-c5b5ae4b039f",
   "metadata": {},
   "outputs": [
    {
     "data": {
      "text/html": [
       "<!-- Improve the styling of the Notebook. -->\n",
       "<link href=\"https://fonts.googleapis.com/css2?family=Source+Code+Pro&family=Source+Sans+3&family=Source+Serif+4:opsz@8..60&display=swap\" rel=\"stylesheet\">\n",
       "<style>\n",
       "   div.jp-MarkdownOutput p { font-family: 'Source Serif 4', serif; width: 50em; }\n",
       "   div.jp-MarkdownOutput h1,h2,h3,h4,h5,h6 { font-family: 'Source Sans 3', sans-serif; }\n",
       "   div.cm-line { font-family: 'Source Code Pro', monospace; }\n",
       "</style>\n"
      ],
      "text/plain": [
       "<IPython.core.display.HTML object>"
      ]
     },
     "metadata": {},
     "output_type": "display_data"
    }
   ],
   "source": [
    "%%html\n",
    "<!-- Improve the styling of the Notebook. -->\n",
    "<link href=\"https://fonts.googleapis.com/css2?family=Source+Code+Pro&family=Source+Sans+3&family=Source+Serif+4:opsz@8..60&display=swap\" rel=\"stylesheet\">\n",
    "<style>\n",
    "   div.jp-MarkdownOutput p { font-family: 'Source Serif 4', serif; width: 50em; }\n",
    "   div.jp-MarkdownOutput h1,h2,h3,h4,h5,h6 { font-family: 'Source Sans 3', sans-serif; }\n",
    "   div.cm-line { font-family: 'Source Code Pro', monospace; }\n",
    "</style>"
   ]
  },
  {
   "cell_type": "code",
   "execution_count": 2,
   "id": "29032930-e51d-4c57-bd8b-a82e8ffa24d7",
   "metadata": {},
   "outputs": [
    {
     "name": "stderr",
     "output_type": "stream",
     "text": [
      "/Users/dking/miniconda3/lib/python3.10/site-packages/hailtop/aiocloud/aiogoogle/user_config.py:43: UserWarning: Reading spark-defaults.conf to determine GCS requester pays configuration. This is deprecated. Please use `hailctl config set gcs_requester_pays/project` and `hailctl config set gcs_requester_pays/buckets`.\n",
      "  warnings.warn(\n",
      "SLF4J: No SLF4J providers were found.\n",
      "SLF4J: Defaulting to no-operation (NOP) logger implementation\n",
      "SLF4J: See https://www.slf4j.org/codes.html#noProviders for further details.\n",
      "SLF4J: Class path contains SLF4J bindings targeting slf4j-api versions 1.7.x or earlier.\n",
      "SLF4J: Ignoring binding found at [jar:file:/Users/dking/miniconda3/lib/python3.10/site-packages/pyspark/jars/log4j-slf4j-impl-2.17.2.jar!/org/slf4j/impl/StaticLoggerBinder.class]\n",
      "SLF4J: See https://www.slf4j.org/codes.html#ignoredBindings for an explanation.\n",
      "Setting default log level to \"WARN\".\n",
      "To adjust logging level use sc.setLogLevel(newLevel). For SparkR, use setLogLevel(newLevel).\n",
      "Running on Apache Spark version 3.3.2\n",
      "SparkUI available at http://wm28c-761.broadinstitute.org:4040\n",
      "Welcome to\n",
      "     __  __     <>__\n",
      "    / /_/ /__  __/ /\n",
      "   / __  / _ `/ / /\n",
      "  /_/ /_/\\_,_/_/_/   version 0.2.120-f00f916faf78\n",
      "LOGGING: writing to /Users/dking/projects/ww2023/notebooks/hail-20230829-1555-0.2.120-f00f916faf78.log\n"
     ]
    }
   ],
   "source": [
    "import hail as hl\n",
    "hl.init()  # Not necessary, but sometimes you need to configure Hail by passing arguments to hl.init"
   ]
  },
  {
   "cell_type": "markdown",
   "id": "442b6fc6-76a6-4b11-a899-29b070f51557",
   "metadata": {},
   "source": [
    "# Importing a TSV File as a Hail Table"
   ]
  },
  {
   "cell_type": "markdown",
   "id": "32ca1002-277b-455c-92f0-fe9343310eca",
   "metadata": {},
   "source": [
    "[`hl.import_table`](https://hail.is/docs/0.2/methods/impex.html#hail.methods.import_table), by default, imports tab-separated files, but supports many kinds of delimiters. Hail can import many kinds of files, such as VCF, PLINK, UCSC BED, BGEN, and GEN, see the [Import section](https://hail.is/docs/0.2/methods/impex.html#import) of the docs for details."
   ]
  },
  {
   "cell_type": "code",
   "execution_count": 3,
   "id": "13e82b03-f55b-40cd-9690-9e7ca3d611fb",
   "metadata": {},
   "outputs": [
    {
     "name": "stderr",
     "output_type": "stream",
     "text": [
      "2023-08-29 15:55:53.284 Hail: INFO: Reading table to impute column types 1) / 1]\n",
      "2023-08-29 15:55:56.328 Hail: INFO: Finished type imputation\n",
      "  Loading field 'name' as type str (imputed)\n",
      "  Loading field 'age' as type int32 (imputed)\n",
      "  Loading field 'freckles' as type str (imputed)\n"
     ]
    },
    {
     "data": {
      "text/plain": [
       "<hail.table.Table at 0x28719ceb0>"
      ]
     },
     "execution_count": 3,
     "metadata": {},
     "output_type": "execute_result"
    }
   ],
   "source": [
    "ht = hl.import_table('data/sample_table.tsv', impute=True, min_partitions=2)\n",
    "ht"
   ]
  },
  {
   "cell_type": "markdown",
   "id": "fcff4664-1cdc-4637-83bf-e27c985671c9",
   "metadata": {},
   "source": [
    "The printed form of a table is the inscrutable `<hail.table.Table ...>` because Hail has not yet run anything. The table is just a recipe with one step: import a TSV. We must explicitly request that the recipe is executed with an _action_. We can use the action [`Table.show`](https://hail.is/docs/0.2/hail.Table.html#hail.Table.show) (you can click on that) to see the first few rows:"
   ]
  },
  {
   "cell_type": "code",
   "execution_count": 4,
   "id": "0fb5d7ad-1150-44bf-ad4e-69dadb0ef232",
   "metadata": {},
   "outputs": [
    {
     "data": {
      "text/html": [
       "<table><thead><tr><td style=\"white-space: nowrap; max-width: 500px; overflow: hidden; text-overflow: ellipsis; \" colspan=\"1\"><div style=\"text-align: left;\"></div></td><td style=\"white-space: nowrap; max-width: 500px; overflow: hidden; text-overflow: ellipsis; \" colspan=\"1\"><div style=\"text-align: left;\"></div></td><td style=\"white-space: nowrap; max-width: 500px; overflow: hidden; text-overflow: ellipsis; \" colspan=\"1\"><div style=\"text-align: left;\"></div></td></tr><tr><td style=\"white-space: nowrap; max-width: 500px; overflow: hidden; text-overflow: ellipsis; \" colspan=\"1\"><div style=\"text-align: left;border-bottom: solid 2px #000; padding-bottom: 5px\">name</div></td><td style=\"white-space: nowrap; max-width: 500px; overflow: hidden; text-overflow: ellipsis; \" colspan=\"1\"><div style=\"text-align: left;border-bottom: solid 2px #000; padding-bottom: 5px\">age</div></td><td style=\"white-space: nowrap; max-width: 500px; overflow: hidden; text-overflow: ellipsis; \" colspan=\"1\"><div style=\"text-align: left;border-bottom: solid 2px #000; padding-bottom: 5px\">freckles</div></td></tr><tr><td style=\"white-space: nowrap; max-width: 500px; overflow: hidden; text-overflow: ellipsis; text-align: left;\">str</td><td style=\"white-space: nowrap; max-width: 500px; overflow: hidden; text-overflow: ellipsis; text-align: left;\">int32</td><td style=\"white-space: nowrap; max-width: 500px; overflow: hidden; text-overflow: ellipsis; text-align: left;\">str</td></tr>\n",
       "</thead><tbody><tr><td style=\"white-space: nowrap; max-width: 500px; overflow: hidden; text-overflow: ellipsis; \">&quot;Alice&quot;</td><td style=\"white-space: nowrap; max-width: 500px; overflow: hidden; text-overflow: ellipsis; \">25</td><td style=\"white-space: nowrap; max-width: 500px; overflow: hidden; text-overflow: ellipsis; \">&quot;Yes&quot;</td></tr>\n",
       "<tr><td style=\"white-space: nowrap; max-width: 500px; overflow: hidden; text-overflow: ellipsis; \">&quot;Bob&quot;</td><td style=\"white-space: nowrap; max-width: 500px; overflow: hidden; text-overflow: ellipsis; \">35</td><td style=\"white-space: nowrap; max-width: 500px; overflow: hidden; text-overflow: ellipsis; \">&quot;No&quot;</td></tr>\n",
       "<tr><td style=\"white-space: nowrap; max-width: 500px; overflow: hidden; text-overflow: ellipsis; \">&quot;Charlie&quot;</td><td style=\"white-space: nowrap; max-width: 500px; overflow: hidden; text-overflow: ellipsis; \">28</td><td style=\"white-space: nowrap; max-width: 500px; overflow: hidden; text-overflow: ellipsis; \">&quot;No&quot;</td></tr>\n",
       "</tbody></table><p style=\"background: #fdd; padding: 0.4em;\">showing top 3 rows</p>\n"
      ],
      "text/plain": [
       "+-----------+-------+----------+\n",
       "| name      |   age | freckles |\n",
       "+-----------+-------+----------+\n",
       "| str       | int32 | str      |\n",
       "+-----------+-------+----------+\n",
       "| \"Alice\"   |    25 | \"Yes\"    |\n",
       "| \"Bob\"     |    35 | \"No\"     |\n",
       "| \"Charlie\" |    28 | \"No\"     |\n",
       "+-----------+-------+----------+\n",
       "showing top 3 rows"
      ]
     },
     "metadata": {},
     "output_type": "display_data"
    }
   ],
   "source": [
    "ht.show(n=3)"
   ]
  },
  {
   "cell_type": "markdown",
   "id": "399605be-bda3-4b93-b34c-6cc01042285d",
   "metadata": {},
   "source": [
    "# Describing a Table"
   ]
  },
  {
   "cell_type": "markdown",
   "id": "fdd7d8f1-498e-4f28-bb1d-59c453d3dc3b",
   "metadata": {},
   "source": [
    "We can also use [`Table.describe`](https://hail.is/docs/0.2/hail.Table.html#hail.Table.describe), which is not an action. It lists all the fields the recipe will produce without executing the recipe."
   ]
  },
  {
   "cell_type": "code",
   "execution_count": 5,
   "id": "2057b0dc-91cd-4162-997e-589699d1c36d",
   "metadata": {},
   "outputs": [
    {
     "name": "stdout",
     "output_type": "stream",
     "text": [
      "----------------------------------------\n",
      "Global fields:\n",
      "    None\n",
      "----------------------------------------\n",
      "Row fields:\n",
      "    'name': str \n",
      "    'age': int32 \n",
      "    'freckles': str \n",
      "----------------------------------------\n",
      "Key: []\n",
      "----------------------------------------\n"
     ]
    }
   ],
   "source": [
    "ht.describe()"
   ]
  },
  {
   "cell_type": "markdown",
   "id": "434dfac2-bf97-4533-b4fa-e648d63a1a4e",
   "metadata": {},
   "source": [
    "Tables can have \"keys\". If a table has a key, then Hail ensures the table is sorted by its key. Keys are important for combining two tables or combining a table and a matrix table."
   ]
  },
  {
   "cell_type": "markdown",
   "id": "a408c2c8-4d9d-430b-99b7-1e9351ba6eec",
   "metadata": {},
   "source": [
    "# Filtering to Certain Rows\n",
    "\n",
    "[`Table.filter`](https://hail.is/docs/0.2/hail.Table.html#hail.Table.filter) creates a new recipe that both imports the table _and_ keeps only certain rows:"
   ]
  },
  {
   "cell_type": "code",
   "execution_count": 6,
   "id": "a14b9755-7bc1-499d-ba89-3a455eb0654c",
   "metadata": {},
   "outputs": [
    {
     "data": {
      "text/html": [
       "<table><thead><tr><td style=\"white-space: nowrap; max-width: 500px; overflow: hidden; text-overflow: ellipsis; \" colspan=\"1\"><div style=\"text-align: left;\"></div></td><td style=\"white-space: nowrap; max-width: 500px; overflow: hidden; text-overflow: ellipsis; \" colspan=\"1\"><div style=\"text-align: left;\"></div></td><td style=\"white-space: nowrap; max-width: 500px; overflow: hidden; text-overflow: ellipsis; \" colspan=\"1\"><div style=\"text-align: left;\"></div></td></tr><tr><td style=\"white-space: nowrap; max-width: 500px; overflow: hidden; text-overflow: ellipsis; \" colspan=\"1\"><div style=\"text-align: left;border-bottom: solid 2px #000; padding-bottom: 5px\">name</div></td><td style=\"white-space: nowrap; max-width: 500px; overflow: hidden; text-overflow: ellipsis; \" colspan=\"1\"><div style=\"text-align: left;border-bottom: solid 2px #000; padding-bottom: 5px\">age</div></td><td style=\"white-space: nowrap; max-width: 500px; overflow: hidden; text-overflow: ellipsis; \" colspan=\"1\"><div style=\"text-align: left;border-bottom: solid 2px #000; padding-bottom: 5px\">freckles</div></td></tr><tr><td style=\"white-space: nowrap; max-width: 500px; overflow: hidden; text-overflow: ellipsis; text-align: left;\">str</td><td style=\"white-space: nowrap; max-width: 500px; overflow: hidden; text-overflow: ellipsis; text-align: left;\">int32</td><td style=\"white-space: nowrap; max-width: 500px; overflow: hidden; text-overflow: ellipsis; text-align: left;\">str</td></tr>\n",
       "</thead><tbody><tr><td style=\"white-space: nowrap; max-width: 500px; overflow: hidden; text-overflow: ellipsis; \">&quot;Bob&quot;</td><td style=\"white-space: nowrap; max-width: 500px; overflow: hidden; text-overflow: ellipsis; \">35</td><td style=\"white-space: nowrap; max-width: 500px; overflow: hidden; text-overflow: ellipsis; \">&quot;No&quot;</td></tr>\n",
       "<tr><td style=\"white-space: nowrap; max-width: 500px; overflow: hidden; text-overflow: ellipsis; \">&quot;David&quot;</td><td style=\"white-space: nowrap; max-width: 500px; overflow: hidden; text-overflow: ellipsis; \">40</td><td style=\"white-space: nowrap; max-width: 500px; overflow: hidden; text-overflow: ellipsis; \">&quot;No&quot;</td></tr>\n",
       "<tr><td style=\"white-space: nowrap; max-width: 500px; overflow: hidden; text-overflow: ellipsis; \">&quot;Zoe&quot;</td><td style=\"white-space: nowrap; max-width: 500px; overflow: hidden; text-overflow: ellipsis; \">31</td><td style=\"white-space: nowrap; max-width: 500px; overflow: hidden; text-overflow: ellipsis; \">&quot;Yes&quot;</td></tr>\n",
       "</tbody></table><p style=\"background: #fdd; padding: 0.4em;\">showing top 3 rows</p>\n"
      ],
      "text/plain": [
       "+---------+-------+----------+\n",
       "| name    |   age | freckles |\n",
       "+---------+-------+----------+\n",
       "| str     | int32 | str      |\n",
       "+---------+-------+----------+\n",
       "| \"Bob\"   |    35 | \"No\"     |\n",
       "| \"David\" |    40 | \"No\"     |\n",
       "| \"Zoe\"   |    31 | \"Yes\"    |\n",
       "+---------+-------+----------+\n",
       "showing top 3 rows"
      ]
     },
     "metadata": {},
     "output_type": "display_data"
    }
   ],
   "source": [
    "ht.filter(ht.age > 30).show(n=3)"
   ]
  },
  {
   "cell_type": "markdown",
   "id": "6c80adba-3003-487e-a0a3-691e6e3ca828",
   "metadata": {},
   "source": [
    "Notice that the above command did not modify `ht`. Run `ht.show()` again to verify that:"
   ]
  },
  {
   "cell_type": "code",
   "execution_count": 7,
   "id": "20670fbe-3049-43fb-9cb3-721adc8e8db2",
   "metadata": {},
   "outputs": [
    {
     "data": {
      "text/html": [
       "<table><thead><tr><td style=\"white-space: nowrap; max-width: 500px; overflow: hidden; text-overflow: ellipsis; \" colspan=\"1\"><div style=\"text-align: left;\"></div></td><td style=\"white-space: nowrap; max-width: 500px; overflow: hidden; text-overflow: ellipsis; \" colspan=\"1\"><div style=\"text-align: left;\"></div></td><td style=\"white-space: nowrap; max-width: 500px; overflow: hidden; text-overflow: ellipsis; \" colspan=\"1\"><div style=\"text-align: left;\"></div></td></tr><tr><td style=\"white-space: nowrap; max-width: 500px; overflow: hidden; text-overflow: ellipsis; \" colspan=\"1\"><div style=\"text-align: left;border-bottom: solid 2px #000; padding-bottom: 5px\">name</div></td><td style=\"white-space: nowrap; max-width: 500px; overflow: hidden; text-overflow: ellipsis; \" colspan=\"1\"><div style=\"text-align: left;border-bottom: solid 2px #000; padding-bottom: 5px\">age</div></td><td style=\"white-space: nowrap; max-width: 500px; overflow: hidden; text-overflow: ellipsis; \" colspan=\"1\"><div style=\"text-align: left;border-bottom: solid 2px #000; padding-bottom: 5px\">freckles</div></td></tr><tr><td style=\"white-space: nowrap; max-width: 500px; overflow: hidden; text-overflow: ellipsis; text-align: left;\">str</td><td style=\"white-space: nowrap; max-width: 500px; overflow: hidden; text-overflow: ellipsis; text-align: left;\">int32</td><td style=\"white-space: nowrap; max-width: 500px; overflow: hidden; text-overflow: ellipsis; text-align: left;\">str</td></tr>\n",
       "</thead><tbody><tr><td style=\"white-space: nowrap; max-width: 500px; overflow: hidden; text-overflow: ellipsis; \">&quot;Alice&quot;</td><td style=\"white-space: nowrap; max-width: 500px; overflow: hidden; text-overflow: ellipsis; \">25</td><td style=\"white-space: nowrap; max-width: 500px; overflow: hidden; text-overflow: ellipsis; \">&quot;Yes&quot;</td></tr>\n",
       "<tr><td style=\"white-space: nowrap; max-width: 500px; overflow: hidden; text-overflow: ellipsis; \">&quot;Bob&quot;</td><td style=\"white-space: nowrap; max-width: 500px; overflow: hidden; text-overflow: ellipsis; \">35</td><td style=\"white-space: nowrap; max-width: 500px; overflow: hidden; text-overflow: ellipsis; \">&quot;No&quot;</td></tr>\n",
       "<tr><td style=\"white-space: nowrap; max-width: 500px; overflow: hidden; text-overflow: ellipsis; \">&quot;Charlie&quot;</td><td style=\"white-space: nowrap; max-width: 500px; overflow: hidden; text-overflow: ellipsis; \">28</td><td style=\"white-space: nowrap; max-width: 500px; overflow: hidden; text-overflow: ellipsis; \">&quot;No&quot;</td></tr>\n",
       "</tbody></table><p style=\"background: #fdd; padding: 0.4em;\">showing top 3 rows</p>\n"
      ],
      "text/plain": [
       "+-----------+-------+----------+\n",
       "| name      |   age | freckles |\n",
       "+-----------+-------+----------+\n",
       "| str       | int32 | str      |\n",
       "+-----------+-------+----------+\n",
       "| \"Alice\"   |    25 | \"Yes\"    |\n",
       "| \"Bob\"     |    35 | \"No\"     |\n",
       "| \"Charlie\" |    28 | \"No\"     |\n",
       "+-----------+-------+----------+\n",
       "showing top 3 rows"
      ]
     },
     "metadata": {},
     "output_type": "display_data"
    }
   ],
   "source": [
    "ht.show(n=3)"
   ]
  },
  {
   "cell_type": "markdown",
   "id": "056d207d-e8da-4d69-89ae-1ac86be002b5",
   "metadata": {},
   "source": [
    "### Exercise\n",
    "\n",
    "Filter to people who have freckles"
   ]
  },
  {
   "cell_type": "code",
   "execution_count": 8,
   "id": "5d89f2c5-e940-4d53-82a6-c2cce7ed4cbf",
   "metadata": {},
   "outputs": [
    {
     "data": {
      "text/html": [
       "<table><thead><tr><td style=\"white-space: nowrap; max-width: 500px; overflow: hidden; text-overflow: ellipsis; \" colspan=\"1\"><div style=\"text-align: left;\"></div></td><td style=\"white-space: nowrap; max-width: 500px; overflow: hidden; text-overflow: ellipsis; \" colspan=\"1\"><div style=\"text-align: left;\"></div></td><td style=\"white-space: nowrap; max-width: 500px; overflow: hidden; text-overflow: ellipsis; \" colspan=\"1\"><div style=\"text-align: left;\"></div></td></tr><tr><td style=\"white-space: nowrap; max-width: 500px; overflow: hidden; text-overflow: ellipsis; \" colspan=\"1\"><div style=\"text-align: left;border-bottom: solid 2px #000; padding-bottom: 5px\">name</div></td><td style=\"white-space: nowrap; max-width: 500px; overflow: hidden; text-overflow: ellipsis; \" colspan=\"1\"><div style=\"text-align: left;border-bottom: solid 2px #000; padding-bottom: 5px\">age</div></td><td style=\"white-space: nowrap; max-width: 500px; overflow: hidden; text-overflow: ellipsis; \" colspan=\"1\"><div style=\"text-align: left;border-bottom: solid 2px #000; padding-bottom: 5px\">freckles</div></td></tr><tr><td style=\"white-space: nowrap; max-width: 500px; overflow: hidden; text-overflow: ellipsis; text-align: left;\">str</td><td style=\"white-space: nowrap; max-width: 500px; overflow: hidden; text-overflow: ellipsis; text-align: left;\">int32</td><td style=\"white-space: nowrap; max-width: 500px; overflow: hidden; text-overflow: ellipsis; text-align: left;\">str</td></tr>\n",
       "</thead><tbody><tr><td style=\"white-space: nowrap; max-width: 500px; overflow: hidden; text-overflow: ellipsis; \">&quot;Alice&quot;</td><td style=\"white-space: nowrap; max-width: 500px; overflow: hidden; text-overflow: ellipsis; \">25</td><td style=\"white-space: nowrap; max-width: 500px; overflow: hidden; text-overflow: ellipsis; \">&quot;Yes&quot;</td></tr>\n",
       "<tr><td style=\"white-space: nowrap; max-width: 500px; overflow: hidden; text-overflow: ellipsis; \">&quot;Eve&quot;</td><td style=\"white-space: nowrap; max-width: 500px; overflow: hidden; text-overflow: ellipsis; \">22</td><td style=\"white-space: nowrap; max-width: 500px; overflow: hidden; text-overflow: ellipsis; \">&quot;Yes&quot;</td></tr>\n",
       "<tr><td style=\"white-space: nowrap; max-width: 500px; overflow: hidden; text-overflow: ellipsis; \">&quot;Zoe&quot;</td><td style=\"white-space: nowrap; max-width: 500px; overflow: hidden; text-overflow: ellipsis; \">31</td><td style=\"white-space: nowrap; max-width: 500px; overflow: hidden; text-overflow: ellipsis; \">&quot;Yes&quot;</td></tr>\n",
       "<tr><td style=\"white-space: nowrap; max-width: 500px; overflow: hidden; text-overflow: ellipsis; \">&quot;Bella&quot;</td><td style=\"white-space: nowrap; max-width: 500px; overflow: hidden; text-overflow: ellipsis; \">33</td><td style=\"white-space: nowrap; max-width: 500px; overflow: hidden; text-overflow: ellipsis; \">&quot;Yes&quot;</td></tr>\n",
       "<tr><td style=\"white-space: nowrap; max-width: 500px; overflow: hidden; text-overflow: ellipsis; \">&quot;Dana&quot;</td><td style=\"white-space: nowrap; max-width: 500px; overflow: hidden; text-overflow: ellipsis; \">27</td><td style=\"white-space: nowrap; max-width: 500px; overflow: hidden; text-overflow: ellipsis; \">&quot;Yes&quot;</td></tr>\n",
       "<tr><td style=\"white-space: nowrap; max-width: 500px; overflow: hidden; text-overflow: ellipsis; \">&quot;Yara&quot;</td><td style=\"white-space: nowrap; max-width: 500px; overflow: hidden; text-overflow: ellipsis; \">23</td><td style=\"white-space: nowrap; max-width: 500px; overflow: hidden; text-overflow: ellipsis; \">&quot;Yes&quot;</td></tr>\n",
       "<tr><td style=\"white-space: nowrap; max-width: 500px; overflow: hidden; text-overflow: ellipsis; \">&quot;Brooke&quot;</td><td style=\"white-space: nowrap; max-width: 500px; overflow: hidden; text-overflow: ellipsis; \">26</td><td style=\"white-space: nowrap; max-width: 500px; overflow: hidden; text-overflow: ellipsis; \">&quot;Yes&quot;</td></tr>\n",
       "<tr><td style=\"white-space: nowrap; max-width: 500px; overflow: hidden; text-overflow: ellipsis; \">&quot;Lena&quot;</td><td style=\"white-space: nowrap; max-width: 500px; overflow: hidden; text-overflow: ellipsis; \">38</td><td style=\"white-space: nowrap; max-width: 500px; overflow: hidden; text-overflow: ellipsis; \">&quot;Yes&quot;</td></tr>\n",
       "<tr><td style=\"white-space: nowrap; max-width: 500px; overflow: hidden; text-overflow: ellipsis; \">&quot;Nina&quot;</td><td style=\"white-space: nowrap; max-width: 500px; overflow: hidden; text-overflow: ellipsis; \">29</td><td style=\"white-space: nowrap; max-width: 500px; overflow: hidden; text-overflow: ellipsis; \">&quot;Yes&quot;</td></tr>\n",
       "<tr><td style=\"white-space: nowrap; max-width: 500px; overflow: hidden; text-overflow: ellipsis; \">&quot;Paige&quot;</td><td style=\"white-space: nowrap; max-width: 500px; overflow: hidden; text-overflow: ellipsis; \">24</td><td style=\"white-space: nowrap; max-width: 500px; overflow: hidden; text-overflow: ellipsis; \">&quot;Yes&quot;</td></tr>\n",
       "</tbody></table><p style=\"background: #fdd; padding: 0.4em;\">showing top 10 rows</p>\n"
      ],
      "text/plain": [
       "+----------+-------+----------+\n",
       "| name     |   age | freckles |\n",
       "+----------+-------+----------+\n",
       "| str      | int32 | str      |\n",
       "+----------+-------+----------+\n",
       "| \"Alice\"  |    25 | \"Yes\"    |\n",
       "| \"Eve\"    |    22 | \"Yes\"    |\n",
       "| \"Zoe\"    |    31 | \"Yes\"    |\n",
       "| \"Bella\"  |    33 | \"Yes\"    |\n",
       "| \"Dana\"   |    27 | \"Yes\"    |\n",
       "| \"Yara\"   |    23 | \"Yes\"    |\n",
       "| \"Brooke\" |    26 | \"Yes\"    |\n",
       "| \"Lena\"   |    38 | \"Yes\"    |\n",
       "| \"Nina\"   |    29 | \"Yes\"    |\n",
       "| \"Paige\"  |    24 | \"Yes\"    |\n",
       "+----------+-------+----------+\n",
       "showing top 10 rows"
      ]
     },
     "metadata": {},
     "output_type": "display_data"
    }
   ],
   "source": [
    "ht.filter(ht.freckles == \"Yes\").show()"
   ]
  },
  {
   "cell_type": "markdown",
   "id": "5ba7896a-64e5-4e66-aa76-12da557fb1fe",
   "metadata": {},
   "source": [
    "### Exercise\n",
    "\n",
    "Filter to people who have freckles _and_ are older than thirty. Hint: use [`hl.all`](https://hail.is/docs/0.2/functions/collections.html#hail.expr.functions.all)"
   ]
  },
  {
   "cell_type": "code",
   "execution_count": 9,
   "id": "0e6bf4c2-d5a7-4230-843a-26c66e505423",
   "metadata": {},
   "outputs": [
    {
     "data": {
      "text/html": [
       "<table><thead><tr><td style=\"white-space: nowrap; max-width: 500px; overflow: hidden; text-overflow: ellipsis; \" colspan=\"1\"><div style=\"text-align: left;\"></div></td><td style=\"white-space: nowrap; max-width: 500px; overflow: hidden; text-overflow: ellipsis; \" colspan=\"1\"><div style=\"text-align: left;\"></div></td><td style=\"white-space: nowrap; max-width: 500px; overflow: hidden; text-overflow: ellipsis; \" colspan=\"1\"><div style=\"text-align: left;\"></div></td></tr><tr><td style=\"white-space: nowrap; max-width: 500px; overflow: hidden; text-overflow: ellipsis; \" colspan=\"1\"><div style=\"text-align: left;border-bottom: solid 2px #000; padding-bottom: 5px\">name</div></td><td style=\"white-space: nowrap; max-width: 500px; overflow: hidden; text-overflow: ellipsis; \" colspan=\"1\"><div style=\"text-align: left;border-bottom: solid 2px #000; padding-bottom: 5px\">age</div></td><td style=\"white-space: nowrap; max-width: 500px; overflow: hidden; text-overflow: ellipsis; \" colspan=\"1\"><div style=\"text-align: left;border-bottom: solid 2px #000; padding-bottom: 5px\">freckles</div></td></tr><tr><td style=\"white-space: nowrap; max-width: 500px; overflow: hidden; text-overflow: ellipsis; text-align: left;\">str</td><td style=\"white-space: nowrap; max-width: 500px; overflow: hidden; text-overflow: ellipsis; text-align: left;\">int32</td><td style=\"white-space: nowrap; max-width: 500px; overflow: hidden; text-overflow: ellipsis; text-align: left;\">str</td></tr>\n",
       "</thead><tbody><tr><td style=\"white-space: nowrap; max-width: 500px; overflow: hidden; text-overflow: ellipsis; \">&quot;Zoe&quot;</td><td style=\"white-space: nowrap; max-width: 500px; overflow: hidden; text-overflow: ellipsis; \">31</td><td style=\"white-space: nowrap; max-width: 500px; overflow: hidden; text-overflow: ellipsis; \">&quot;Yes&quot;</td></tr>\n",
       "<tr><td style=\"white-space: nowrap; max-width: 500px; overflow: hidden; text-overflow: ellipsis; \">&quot;Bella&quot;</td><td style=\"white-space: nowrap; max-width: 500px; overflow: hidden; text-overflow: ellipsis; \">33</td><td style=\"white-space: nowrap; max-width: 500px; overflow: hidden; text-overflow: ellipsis; \">&quot;Yes&quot;</td></tr>\n",
       "<tr><td style=\"white-space: nowrap; max-width: 500px; overflow: hidden; text-overflow: ellipsis; \">&quot;Lena&quot;</td><td style=\"white-space: nowrap; max-width: 500px; overflow: hidden; text-overflow: ellipsis; \">38</td><td style=\"white-space: nowrap; max-width: 500px; overflow: hidden; text-overflow: ellipsis; \">&quot;Yes&quot;</td></tr>\n",
       "<tr><td style=\"white-space: nowrap; max-width: 500px; overflow: hidden; text-overflow: ellipsis; \">&quot;Samantha&quot;</td><td style=\"white-space: nowrap; max-width: 500px; overflow: hidden; text-overflow: ellipsis; \">35</td><td style=\"white-space: nowrap; max-width: 500px; overflow: hidden; text-overflow: ellipsis; \">&quot;Yes&quot;</td></tr>\n",
       "<tr><td style=\"white-space: nowrap; max-width: 500px; overflow: hidden; text-overflow: ellipsis; \">&quot;Grace&quot;</td><td style=\"white-space: nowrap; max-width: 500px; overflow: hidden; text-overflow: ellipsis; \">31</td><td style=\"white-space: nowrap; max-width: 500px; overflow: hidden; text-overflow: ellipsis; \">&quot;Yes&quot;</td></tr>\n",
       "<tr><td style=\"white-space: nowrap; max-width: 500px; overflow: hidden; text-overflow: ellipsis; \">&quot;Mia&quot;</td><td style=\"white-space: nowrap; max-width: 500px; overflow: hidden; text-overflow: ellipsis; \">39</td><td style=\"white-space: nowrap; max-width: 500px; overflow: hidden; text-overflow: ellipsis; \">&quot;Yes&quot;</td></tr>\n",
       "<tr><td style=\"white-space: nowrap; max-width: 500px; overflow: hidden; text-overflow: ellipsis; \">&quot;Olivia&quot;</td><td style=\"white-space: nowrap; max-width: 500px; overflow: hidden; text-overflow: ellipsis; \">32</td><td style=\"white-space: nowrap; max-width: 500px; overflow: hidden; text-overflow: ellipsis; \">&quot;Yes&quot;</td></tr>\n",
       "<tr><td style=\"white-space: nowrap; max-width: 500px; overflow: hidden; text-overflow: ellipsis; \">&quot;Wendy&quot;</td><td style=\"white-space: nowrap; max-width: 500px; overflow: hidden; text-overflow: ellipsis; \">42</td><td style=\"white-space: nowrap; max-width: 500px; overflow: hidden; text-overflow: ellipsis; \">&quot;Yes&quot;</td></tr>\n",
       "<tr><td style=\"white-space: nowrap; max-width: 500px; overflow: hidden; text-overflow: ellipsis; \">&quot;Alice&quot;</td><td style=\"white-space: nowrap; max-width: 500px; overflow: hidden; text-overflow: ellipsis; \">35</td><td style=\"white-space: nowrap; max-width: 500px; overflow: hidden; text-overflow: ellipsis; \">&quot;Yes&quot;</td></tr>\n",
       "<tr><td style=\"white-space: nowrap; max-width: 500px; overflow: hidden; text-overflow: ellipsis; \">&quot;Charlotte&quot;</td><td style=\"white-space: nowrap; max-width: 500px; overflow: hidden; text-overflow: ellipsis; \">38</td><td style=\"white-space: nowrap; max-width: 500px; overflow: hidden; text-overflow: ellipsis; \">&quot;Yes&quot;</td></tr>\n",
       "</tbody></table><p style=\"background: #fdd; padding: 0.4em;\">showing top 10 rows</p>\n"
      ],
      "text/plain": [
       "+-------------+-------+----------+\n",
       "| name        |   age | freckles |\n",
       "+-------------+-------+----------+\n",
       "| str         | int32 | str      |\n",
       "+-------------+-------+----------+\n",
       "| \"Zoe\"       |    31 | \"Yes\"    |\n",
       "| \"Bella\"     |    33 | \"Yes\"    |\n",
       "| \"Lena\"      |    38 | \"Yes\"    |\n",
       "| \"Samantha\"  |    35 | \"Yes\"    |\n",
       "| \"Grace\"     |    31 | \"Yes\"    |\n",
       "| \"Mia\"       |    39 | \"Yes\"    |\n",
       "| \"Olivia\"    |    32 | \"Yes\"    |\n",
       "| \"Wendy\"     |    42 | \"Yes\"    |\n",
       "| \"Alice\"     |    35 | \"Yes\"    |\n",
       "| \"Charlotte\" |    38 | \"Yes\"    |\n",
       "+-------------+-------+----------+\n",
       "showing top 10 rows"
      ]
     },
     "metadata": {},
     "output_type": "display_data"
    }
   ],
   "source": [
    "ht.filter(\n",
    "    hl.all(\n",
    "        ht.freckles == \"Yes\",\n",
    "        ht.age > 30,\n",
    "    )\n",
    ").show()"
   ]
  },
  {
   "cell_type": "markdown",
   "id": "3c3caf0e-52f2-405f-8244-db094d57883c",
   "metadata": {},
   "source": [
    "# Head and Tail of the Dataset\n",
    "\n",
    "[`Table.head`](https://hail.is/docs/0.2/hail.Table.html#hail.Table.head) and [`Table.tail`](https://hail.is/docs/0.2/hail.Table.html#hail.Table.tail) filter the dataset to the first few or last few rows."
   ]
  },
  {
   "cell_type": "code",
   "execution_count": 10,
   "id": "ff805e8b-49f3-495e-96a2-825fe6ceb374",
   "metadata": {},
   "outputs": [
    {
     "data": {
      "text/html": [
       "<table><thead><tr><td style=\"white-space: nowrap; max-width: 500px; overflow: hidden; text-overflow: ellipsis; \" colspan=\"1\"><div style=\"text-align: left;\"></div></td><td style=\"white-space: nowrap; max-width: 500px; overflow: hidden; text-overflow: ellipsis; \" colspan=\"1\"><div style=\"text-align: left;\"></div></td><td style=\"white-space: nowrap; max-width: 500px; overflow: hidden; text-overflow: ellipsis; \" colspan=\"1\"><div style=\"text-align: left;\"></div></td></tr><tr><td style=\"white-space: nowrap; max-width: 500px; overflow: hidden; text-overflow: ellipsis; \" colspan=\"1\"><div style=\"text-align: left;border-bottom: solid 2px #000; padding-bottom: 5px\">name</div></td><td style=\"white-space: nowrap; max-width: 500px; overflow: hidden; text-overflow: ellipsis; \" colspan=\"1\"><div style=\"text-align: left;border-bottom: solid 2px #000; padding-bottom: 5px\">age</div></td><td style=\"white-space: nowrap; max-width: 500px; overflow: hidden; text-overflow: ellipsis; \" colspan=\"1\"><div style=\"text-align: left;border-bottom: solid 2px #000; padding-bottom: 5px\">freckles</div></td></tr><tr><td style=\"white-space: nowrap; max-width: 500px; overflow: hidden; text-overflow: ellipsis; text-align: left;\">str</td><td style=\"white-space: nowrap; max-width: 500px; overflow: hidden; text-overflow: ellipsis; text-align: left;\">int32</td><td style=\"white-space: nowrap; max-width: 500px; overflow: hidden; text-overflow: ellipsis; text-align: left;\">str</td></tr>\n",
       "</thead><tbody><tr><td style=\"white-space: nowrap; max-width: 500px; overflow: hidden; text-overflow: ellipsis; \">&quot;Alice&quot;</td><td style=\"white-space: nowrap; max-width: 500px; overflow: hidden; text-overflow: ellipsis; \">25</td><td style=\"white-space: nowrap; max-width: 500px; overflow: hidden; text-overflow: ellipsis; \">&quot;Yes&quot;</td></tr>\n",
       "<tr><td style=\"white-space: nowrap; max-width: 500px; overflow: hidden; text-overflow: ellipsis; \">&quot;Bob&quot;</td><td style=\"white-space: nowrap; max-width: 500px; overflow: hidden; text-overflow: ellipsis; \">35</td><td style=\"white-space: nowrap; max-width: 500px; overflow: hidden; text-overflow: ellipsis; \">&quot;No&quot;</td></tr>\n",
       "<tr><td style=\"white-space: nowrap; max-width: 500px; overflow: hidden; text-overflow: ellipsis; \">&quot;Charlie&quot;</td><td style=\"white-space: nowrap; max-width: 500px; overflow: hidden; text-overflow: ellipsis; \">28</td><td style=\"white-space: nowrap; max-width: 500px; overflow: hidden; text-overflow: ellipsis; \">&quot;No&quot;</td></tr>\n",
       "<tr><td style=\"white-space: nowrap; max-width: 500px; overflow: hidden; text-overflow: ellipsis; \">&quot;David&quot;</td><td style=\"white-space: nowrap; max-width: 500px; overflow: hidden; text-overflow: ellipsis; \">40</td><td style=\"white-space: nowrap; max-width: 500px; overflow: hidden; text-overflow: ellipsis; \">&quot;No&quot;</td></tr>\n",
       "<tr><td style=\"white-space: nowrap; max-width: 500px; overflow: hidden; text-overflow: ellipsis; \">&quot;Eve&quot;</td><td style=\"white-space: nowrap; max-width: 500px; overflow: hidden; text-overflow: ellipsis; \">22</td><td style=\"white-space: nowrap; max-width: 500px; overflow: hidden; text-overflow: ellipsis; \">&quot;Yes&quot;</td></tr>\n",
       "</tbody></table>"
      ],
      "text/plain": [
       "+-----------+-------+----------+\n",
       "| name      |   age | freckles |\n",
       "+-----------+-------+----------+\n",
       "| str       | int32 | str      |\n",
       "+-----------+-------+----------+\n",
       "| \"Alice\"   |    25 | \"Yes\"    |\n",
       "| \"Bob\"     |    35 | \"No\"     |\n",
       "| \"Charlie\" |    28 | \"No\"     |\n",
       "| \"David\"   |    40 | \"No\"     |\n",
       "| \"Eve\"     |    22 | \"Yes\"    |\n",
       "+-----------+-------+----------+"
      ]
     },
     "metadata": {},
     "output_type": "display_data"
    }
   ],
   "source": [
    "ht.head(5).show()"
   ]
  },
  {
   "cell_type": "code",
   "execution_count": 11,
   "id": "61be7209-7fa7-40da-9974-6ee51d12cf1d",
   "metadata": {},
   "outputs": [
    {
     "data": {
      "text/html": [
       "<table><thead><tr><td style=\"white-space: nowrap; max-width: 500px; overflow: hidden; text-overflow: ellipsis; \" colspan=\"1\"><div style=\"text-align: left;\"></div></td><td style=\"white-space: nowrap; max-width: 500px; overflow: hidden; text-overflow: ellipsis; \" colspan=\"1\"><div style=\"text-align: left;\"></div></td><td style=\"white-space: nowrap; max-width: 500px; overflow: hidden; text-overflow: ellipsis; \" colspan=\"1\"><div style=\"text-align: left;\"></div></td></tr><tr><td style=\"white-space: nowrap; max-width: 500px; overflow: hidden; text-overflow: ellipsis; \" colspan=\"1\"><div style=\"text-align: left;border-bottom: solid 2px #000; padding-bottom: 5px\">name</div></td><td style=\"white-space: nowrap; max-width: 500px; overflow: hidden; text-overflow: ellipsis; \" colspan=\"1\"><div style=\"text-align: left;border-bottom: solid 2px #000; padding-bottom: 5px\">age</div></td><td style=\"white-space: nowrap; max-width: 500px; overflow: hidden; text-overflow: ellipsis; \" colspan=\"1\"><div style=\"text-align: left;border-bottom: solid 2px #000; padding-bottom: 5px\">freckles</div></td></tr><tr><td style=\"white-space: nowrap; max-width: 500px; overflow: hidden; text-overflow: ellipsis; text-align: left;\">str</td><td style=\"white-space: nowrap; max-width: 500px; overflow: hidden; text-overflow: ellipsis; text-align: left;\">int32</td><td style=\"white-space: nowrap; max-width: 500px; overflow: hidden; text-overflow: ellipsis; text-align: left;\">str</td></tr>\n",
       "</thead><tbody><tr><td style=\"white-space: nowrap; max-width: 500px; overflow: hidden; text-overflow: ellipsis; \">&quot;Amina&quot;</td><td style=\"white-space: nowrap; max-width: 500px; overflow: hidden; text-overflow: ellipsis; \">40</td><td style=\"white-space: nowrap; max-width: 500px; overflow: hidden; text-overflow: ellipsis; \">&quot;No&quot;</td></tr>\n",
       "<tr><td style=\"white-space: nowrap; max-width: 500px; overflow: hidden; text-overflow: ellipsis; \">&quot;Adedeji&quot;</td><td style=\"white-space: nowrap; max-width: 500px; overflow: hidden; text-overflow: ellipsis; \">24</td><td style=\"white-space: nowrap; max-width: 500px; overflow: hidden; text-overflow: ellipsis; \">&quot;Yes&quot;</td></tr>\n",
       "<tr><td style=\"white-space: nowrap; max-width: 500px; overflow: hidden; text-overflow: ellipsis; \">&quot;Hiroko&quot;</td><td style=\"white-space: nowrap; max-width: 500px; overflow: hidden; text-overflow: ellipsis; \">21</td><td style=\"white-space: nowrap; max-width: 500px; overflow: hidden; text-overflow: ellipsis; \">&quot;No&quot;</td></tr>\n",
       "<tr><td style=\"white-space: nowrap; max-width: 500px; overflow: hidden; text-overflow: ellipsis; \">&quot;Kazi&quot;</td><td style=\"white-space: nowrap; max-width: 500px; overflow: hidden; text-overflow: ellipsis; \">25</td><td style=\"white-space: nowrap; max-width: 500px; overflow: hidden; text-overflow: ellipsis; \">&quot;Yes&quot;</td></tr>\n",
       "<tr><td style=\"white-space: nowrap; max-width: 500px; overflow: hidden; text-overflow: ellipsis; \">&quot;Ezio&quot;</td><td style=\"white-space: nowrap; max-width: 500px; overflow: hidden; text-overflow: ellipsis; \">23</td><td style=\"white-space: nowrap; max-width: 500px; overflow: hidden; text-overflow: ellipsis; \">&quot;No&quot;</td></tr>\n",
       "</tbody></table>"
      ],
      "text/plain": [
       "+-----------+-------+----------+\n",
       "| name      |   age | freckles |\n",
       "+-----------+-------+----------+\n",
       "| str       | int32 | str      |\n",
       "+-----------+-------+----------+\n",
       "| \"Amina\"   |    40 | \"No\"     |\n",
       "| \"Adedeji\" |    24 | \"Yes\"    |\n",
       "| \"Hiroko\"  |    21 | \"No\"     |\n",
       "| \"Kazi\"    |    25 | \"Yes\"    |\n",
       "| \"Ezio\"    |    23 | \"No\"     |\n",
       "+-----------+-------+----------+"
      ]
     },
     "metadata": {},
     "output_type": "display_data"
    }
   ],
   "source": [
    "ht.tail(5).show()"
   ]
  },
  {
   "cell_type": "markdown",
   "id": "7f88ffe8-71d0-43ad-acb9-5cf2badfef25",
   "metadata": {},
   "source": [
    "# Adding New Fields with Annotate\n",
    "\n",
    "Usually we build up one big recipe by repeatedly mutating the same variable. Let's do that and add a new field using [`Table.annotate`](https://hail.is/docs/0.2/hail.Table.html#hail.Table.annotate):"
   ]
  },
  {
   "cell_type": "code",
   "execution_count": 12,
   "id": "d411efa4-1671-484b-b2e9-ce81e75cf759",
   "metadata": {},
   "outputs": [],
   "source": [
    "ht = ht.annotate(is_twenty_something = hl.all(ht.age >= 20, ht.age < 30))"
   ]
  },
  {
   "cell_type": "code",
   "execution_count": 13,
   "id": "8f6d637d-99b4-4baa-9eae-d5267f6b6d16",
   "metadata": {},
   "outputs": [
    {
     "data": {
      "text/html": [
       "<table><thead><tr><td style=\"white-space: nowrap; max-width: 500px; overflow: hidden; text-overflow: ellipsis; \" colspan=\"1\"><div style=\"text-align: left;\"></div></td><td style=\"white-space: nowrap; max-width: 500px; overflow: hidden; text-overflow: ellipsis; \" colspan=\"1\"><div style=\"text-align: left;\"></div></td><td style=\"white-space: nowrap; max-width: 500px; overflow: hidden; text-overflow: ellipsis; \" colspan=\"1\"><div style=\"text-align: left;\"></div></td><td style=\"white-space: nowrap; max-width: 500px; overflow: hidden; text-overflow: ellipsis; \" colspan=\"1\"><div style=\"text-align: left;\"></div></td></tr><tr><td style=\"white-space: nowrap; max-width: 500px; overflow: hidden; text-overflow: ellipsis; \" colspan=\"1\"><div style=\"text-align: left;border-bottom: solid 2px #000; padding-bottom: 5px\">name</div></td><td style=\"white-space: nowrap; max-width: 500px; overflow: hidden; text-overflow: ellipsis; \" colspan=\"1\"><div style=\"text-align: left;border-bottom: solid 2px #000; padding-bottom: 5px\">age</div></td><td style=\"white-space: nowrap; max-width: 500px; overflow: hidden; text-overflow: ellipsis; \" colspan=\"1\"><div style=\"text-align: left;border-bottom: solid 2px #000; padding-bottom: 5px\">freckles</div></td><td style=\"white-space: nowrap; max-width: 500px; overflow: hidden; text-overflow: ellipsis; \" colspan=\"1\"><div style=\"text-align: left;border-bottom: solid 2px #000; padding-bottom: 5px\">is_twenty_something</div></td></tr><tr><td style=\"white-space: nowrap; max-width: 500px; overflow: hidden; text-overflow: ellipsis; text-align: left;\">str</td><td style=\"white-space: nowrap; max-width: 500px; overflow: hidden; text-overflow: ellipsis; text-align: left;\">int32</td><td style=\"white-space: nowrap; max-width: 500px; overflow: hidden; text-overflow: ellipsis; text-align: left;\">str</td><td style=\"white-space: nowrap; max-width: 500px; overflow: hidden; text-overflow: ellipsis; text-align: left;\">bool</td></tr>\n",
       "</thead><tbody><tr><td style=\"white-space: nowrap; max-width: 500px; overflow: hidden; text-overflow: ellipsis; \">&quot;Alice&quot;</td><td style=\"white-space: nowrap; max-width: 500px; overflow: hidden; text-overflow: ellipsis; \">25</td><td style=\"white-space: nowrap; max-width: 500px; overflow: hidden; text-overflow: ellipsis; \">&quot;Yes&quot;</td><td style=\"white-space: nowrap; max-width: 500px; overflow: hidden; text-overflow: ellipsis; \">True</td></tr>\n",
       "<tr><td style=\"white-space: nowrap; max-width: 500px; overflow: hidden; text-overflow: ellipsis; \">&quot;Bob&quot;</td><td style=\"white-space: nowrap; max-width: 500px; overflow: hidden; text-overflow: ellipsis; \">35</td><td style=\"white-space: nowrap; max-width: 500px; overflow: hidden; text-overflow: ellipsis; \">&quot;No&quot;</td><td style=\"white-space: nowrap; max-width: 500px; overflow: hidden; text-overflow: ellipsis; \">False</td></tr>\n",
       "<tr><td style=\"white-space: nowrap; max-width: 500px; overflow: hidden; text-overflow: ellipsis; \">&quot;Charlie&quot;</td><td style=\"white-space: nowrap; max-width: 500px; overflow: hidden; text-overflow: ellipsis; \">28</td><td style=\"white-space: nowrap; max-width: 500px; overflow: hidden; text-overflow: ellipsis; \">&quot;No&quot;</td><td style=\"white-space: nowrap; max-width: 500px; overflow: hidden; text-overflow: ellipsis; \">True</td></tr>\n",
       "</tbody></table><p style=\"background: #fdd; padding: 0.4em;\">showing top 3 rows</p>\n"
      ],
      "text/plain": [
       "+-----------+-------+----------+---------------------+\n",
       "| name      |   age | freckles | is_twenty_something |\n",
       "+-----------+-------+----------+---------------------+\n",
       "| str       | int32 | str      |                bool |\n",
       "+-----------+-------+----------+---------------------+\n",
       "| \"Alice\"   |    25 | \"Yes\"    |                True |\n",
       "| \"Bob\"     |    35 | \"No\"     |               False |\n",
       "| \"Charlie\" |    28 | \"No\"     |                True |\n",
       "+-----------+-------+----------+---------------------+\n",
       "showing top 3 rows"
      ]
     },
     "metadata": {},
     "output_type": "display_data"
    }
   ],
   "source": [
    "ht.show(n=3)"
   ]
  },
  {
   "cell_type": "markdown",
   "id": "477362b1-56a9-4103-9ab4-a4f8eb5d6e9b",
   "metadata": {},
   "source": [
    "We can also convert the freckles field into a Boolean field with [`hl.case`](https://hail.is/docs/0.2/functions/core.html#hail.expr.functions.case) which is one of the many [core language functions](https://hail.is/docs/0.2/functions/core.html#hail.expr.functions.case) in Hail's standard library."
   ]
  },
  {
   "cell_type": "code",
   "execution_count": 14,
   "id": "1460f8cc-d7d2-4bad-b493-18e0e233e3f3",
   "metadata": {},
   "outputs": [],
   "source": [
    "ht = ht.annotate(has_freckles = (\n",
    "    hl.case()\n",
    "    .when(ht.freckles == \"Yes\", True)\n",
    "    .when(ht.freckles == \"No\", False)\n",
    "    .or_error(hl.format(\"Expected \\\"Yes\\\" or \\\"No\\\" for the field \\\"freckles\\\" but found: %s\", ht.freckles))\n",
    "))"
   ]
  },
  {
   "cell_type": "code",
   "execution_count": 15,
   "id": "5aa7e486-349c-4ec0-8395-ef5d4270d2ea",
   "metadata": {},
   "outputs": [
    {
     "data": {
      "text/html": [
       "<table><thead><tr><td style=\"white-space: nowrap; max-width: 500px; overflow: hidden; text-overflow: ellipsis; \" colspan=\"1\"><div style=\"text-align: left;\"></div></td><td style=\"white-space: nowrap; max-width: 500px; overflow: hidden; text-overflow: ellipsis; \" colspan=\"1\"><div style=\"text-align: left;\"></div></td><td style=\"white-space: nowrap; max-width: 500px; overflow: hidden; text-overflow: ellipsis; \" colspan=\"1\"><div style=\"text-align: left;\"></div></td><td style=\"white-space: nowrap; max-width: 500px; overflow: hidden; text-overflow: ellipsis; \" colspan=\"1\"><div style=\"text-align: left;\"></div></td><td style=\"white-space: nowrap; max-width: 500px; overflow: hidden; text-overflow: ellipsis; \" colspan=\"1\"><div style=\"text-align: left;\"></div></td></tr><tr><td style=\"white-space: nowrap; max-width: 500px; overflow: hidden; text-overflow: ellipsis; \" colspan=\"1\"><div style=\"text-align: left;border-bottom: solid 2px #000; padding-bottom: 5px\">name</div></td><td style=\"white-space: nowrap; max-width: 500px; overflow: hidden; text-overflow: ellipsis; \" colspan=\"1\"><div style=\"text-align: left;border-bottom: solid 2px #000; padding-bottom: 5px\">age</div></td><td style=\"white-space: nowrap; max-width: 500px; overflow: hidden; text-overflow: ellipsis; \" colspan=\"1\"><div style=\"text-align: left;border-bottom: solid 2px #000; padding-bottom: 5px\">freckles</div></td><td style=\"white-space: nowrap; max-width: 500px; overflow: hidden; text-overflow: ellipsis; \" colspan=\"1\"><div style=\"text-align: left;border-bottom: solid 2px #000; padding-bottom: 5px\">is_twenty_something</div></td><td style=\"white-space: nowrap; max-width: 500px; overflow: hidden; text-overflow: ellipsis; \" colspan=\"1\"><div style=\"text-align: left;border-bottom: solid 2px #000; padding-bottom: 5px\">has_freckles</div></td></tr><tr><td style=\"white-space: nowrap; max-width: 500px; overflow: hidden; text-overflow: ellipsis; text-align: left;\">str</td><td style=\"white-space: nowrap; max-width: 500px; overflow: hidden; text-overflow: ellipsis; text-align: left;\">int32</td><td style=\"white-space: nowrap; max-width: 500px; overflow: hidden; text-overflow: ellipsis; text-align: left;\">str</td><td style=\"white-space: nowrap; max-width: 500px; overflow: hidden; text-overflow: ellipsis; text-align: left;\">bool</td><td style=\"white-space: nowrap; max-width: 500px; overflow: hidden; text-overflow: ellipsis; text-align: left;\">bool</td></tr>\n",
       "</thead><tbody><tr><td style=\"white-space: nowrap; max-width: 500px; overflow: hidden; text-overflow: ellipsis; \">&quot;Alice&quot;</td><td style=\"white-space: nowrap; max-width: 500px; overflow: hidden; text-overflow: ellipsis; \">25</td><td style=\"white-space: nowrap; max-width: 500px; overflow: hidden; text-overflow: ellipsis; \">&quot;Yes&quot;</td><td style=\"white-space: nowrap; max-width: 500px; overflow: hidden; text-overflow: ellipsis; \">True</td><td style=\"white-space: nowrap; max-width: 500px; overflow: hidden; text-overflow: ellipsis; \">True</td></tr>\n",
       "<tr><td style=\"white-space: nowrap; max-width: 500px; overflow: hidden; text-overflow: ellipsis; \">&quot;Bob&quot;</td><td style=\"white-space: nowrap; max-width: 500px; overflow: hidden; text-overflow: ellipsis; \">35</td><td style=\"white-space: nowrap; max-width: 500px; overflow: hidden; text-overflow: ellipsis; \">&quot;No&quot;</td><td style=\"white-space: nowrap; max-width: 500px; overflow: hidden; text-overflow: ellipsis; \">False</td><td style=\"white-space: nowrap; max-width: 500px; overflow: hidden; text-overflow: ellipsis; \">False</td></tr>\n",
       "<tr><td style=\"white-space: nowrap; max-width: 500px; overflow: hidden; text-overflow: ellipsis; \">&quot;Charlie&quot;</td><td style=\"white-space: nowrap; max-width: 500px; overflow: hidden; text-overflow: ellipsis; \">28</td><td style=\"white-space: nowrap; max-width: 500px; overflow: hidden; text-overflow: ellipsis; \">&quot;No&quot;</td><td style=\"white-space: nowrap; max-width: 500px; overflow: hidden; text-overflow: ellipsis; \">True</td><td style=\"white-space: nowrap; max-width: 500px; overflow: hidden; text-overflow: ellipsis; \">False</td></tr>\n",
       "<tr><td style=\"white-space: nowrap; max-width: 500px; overflow: hidden; text-overflow: ellipsis; \">&quot;David&quot;</td><td style=\"white-space: nowrap; max-width: 500px; overflow: hidden; text-overflow: ellipsis; \">40</td><td style=\"white-space: nowrap; max-width: 500px; overflow: hidden; text-overflow: ellipsis; \">&quot;No&quot;</td><td style=\"white-space: nowrap; max-width: 500px; overflow: hidden; text-overflow: ellipsis; \">False</td><td style=\"white-space: nowrap; max-width: 500px; overflow: hidden; text-overflow: ellipsis; \">False</td></tr>\n",
       "<tr><td style=\"white-space: nowrap; max-width: 500px; overflow: hidden; text-overflow: ellipsis; \">&quot;Eve&quot;</td><td style=\"white-space: nowrap; max-width: 500px; overflow: hidden; text-overflow: ellipsis; \">22</td><td style=\"white-space: nowrap; max-width: 500px; overflow: hidden; text-overflow: ellipsis; \">&quot;Yes&quot;</td><td style=\"white-space: nowrap; max-width: 500px; overflow: hidden; text-overflow: ellipsis; \">True</td><td style=\"white-space: nowrap; max-width: 500px; overflow: hidden; text-overflow: ellipsis; \">True</td></tr>\n",
       "<tr><td style=\"white-space: nowrap; max-width: 500px; overflow: hidden; text-overflow: ellipsis; \">&quot;Zoe&quot;</td><td style=\"white-space: nowrap; max-width: 500px; overflow: hidden; text-overflow: ellipsis; \">31</td><td style=\"white-space: nowrap; max-width: 500px; overflow: hidden; text-overflow: ellipsis; \">&quot;Yes&quot;</td><td style=\"white-space: nowrap; max-width: 500px; overflow: hidden; text-overflow: ellipsis; \">False</td><td style=\"white-space: nowrap; max-width: 500px; overflow: hidden; text-overflow: ellipsis; \">True</td></tr>\n",
       "<tr><td style=\"white-space: nowrap; max-width: 500px; overflow: hidden; text-overflow: ellipsis; \">&quot;Aaron&quot;</td><td style=\"white-space: nowrap; max-width: 500px; overflow: hidden; text-overflow: ellipsis; \">29</td><td style=\"white-space: nowrap; max-width: 500px; overflow: hidden; text-overflow: ellipsis; \">&quot;No&quot;</td><td style=\"white-space: nowrap; max-width: 500px; overflow: hidden; text-overflow: ellipsis; \">True</td><td style=\"white-space: nowrap; max-width: 500px; overflow: hidden; text-overflow: ellipsis; \">False</td></tr>\n",
       "<tr><td style=\"white-space: nowrap; max-width: 500px; overflow: hidden; text-overflow: ellipsis; \">&quot;Bella&quot;</td><td style=\"white-space: nowrap; max-width: 500px; overflow: hidden; text-overflow: ellipsis; \">33</td><td style=\"white-space: nowrap; max-width: 500px; overflow: hidden; text-overflow: ellipsis; \">&quot;Yes&quot;</td><td style=\"white-space: nowrap; max-width: 500px; overflow: hidden; text-overflow: ellipsis; \">False</td><td style=\"white-space: nowrap; max-width: 500px; overflow: hidden; text-overflow: ellipsis; \">True</td></tr>\n",
       "<tr><td style=\"white-space: nowrap; max-width: 500px; overflow: hidden; text-overflow: ellipsis; \">&quot;Chris&quot;</td><td style=\"white-space: nowrap; max-width: 500px; overflow: hidden; text-overflow: ellipsis; \">41</td><td style=\"white-space: nowrap; max-width: 500px; overflow: hidden; text-overflow: ellipsis; \">&quot;No&quot;</td><td style=\"white-space: nowrap; max-width: 500px; overflow: hidden; text-overflow: ellipsis; \">False</td><td style=\"white-space: nowrap; max-width: 500px; overflow: hidden; text-overflow: ellipsis; \">False</td></tr>\n",
       "<tr><td style=\"white-space: nowrap; max-width: 500px; overflow: hidden; text-overflow: ellipsis; \">&quot;Dana&quot;</td><td style=\"white-space: nowrap; max-width: 500px; overflow: hidden; text-overflow: ellipsis; \">27</td><td style=\"white-space: nowrap; max-width: 500px; overflow: hidden; text-overflow: ellipsis; \">&quot;Yes&quot;</td><td style=\"white-space: nowrap; max-width: 500px; overflow: hidden; text-overflow: ellipsis; \">True</td><td style=\"white-space: nowrap; max-width: 500px; overflow: hidden; text-overflow: ellipsis; \">True</td></tr>\n",
       "</tbody></table><p style=\"background: #fdd; padding: 0.4em;\">showing top 10 rows</p>\n"
      ],
      "text/plain": [
       "+-----------+-------+----------+---------------------+--------------+\n",
       "| name      |   age | freckles | is_twenty_something | has_freckles |\n",
       "+-----------+-------+----------+---------------------+--------------+\n",
       "| str       | int32 | str      |                bool |         bool |\n",
       "+-----------+-------+----------+---------------------+--------------+\n",
       "| \"Alice\"   |    25 | \"Yes\"    |                True |         True |\n",
       "| \"Bob\"     |    35 | \"No\"     |               False |        False |\n",
       "| \"Charlie\" |    28 | \"No\"     |                True |        False |\n",
       "| \"David\"   |    40 | \"No\"     |               False |        False |\n",
       "| \"Eve\"     |    22 | \"Yes\"    |                True |         True |\n",
       "| \"Zoe\"     |    31 | \"Yes\"    |               False |         True |\n",
       "| \"Aaron\"   |    29 | \"No\"     |                True |        False |\n",
       "| \"Bella\"   |    33 | \"Yes\"    |               False |         True |\n",
       "| \"Chris\"   |    41 | \"No\"     |               False |        False |\n",
       "| \"Dana\"    |    27 | \"Yes\"    |                True |         True |\n",
       "+-----------+-------+----------+---------------------+--------------+\n",
       "showing top 10 rows"
      ]
     },
     "metadata": {},
     "output_type": "display_data"
    }
   ],
   "source": [
    "ht.show()"
   ]
  },
  {
   "cell_type": "markdown",
   "id": "2c63748d-b728-4b6e-8bf9-a3d4cde2e494",
   "metadata": {},
   "source": [
    "There are two ways to remove the old `freckles` field: [`Table.select`](https://hail.is/docs/0.2/hail.Table.html#hail.Table.select) and [`Table.drop`](https://hail.is/docs/0.2/hail.Table.html#hail.Table.drop):"
   ]
  },
  {
   "cell_type": "code",
   "execution_count": 16,
   "id": "d4a1d03b-99cc-469c-9e47-2262ee133910",
   "metadata": {},
   "outputs": [
    {
     "data": {
      "text/html": [
       "<table><thead><tr><td style=\"white-space: nowrap; max-width: 500px; overflow: hidden; text-overflow: ellipsis; \" colspan=\"1\"><div style=\"text-align: left;\"></div></td><td style=\"white-space: nowrap; max-width: 500px; overflow: hidden; text-overflow: ellipsis; \" colspan=\"1\"><div style=\"text-align: left;\"></div></td><td style=\"white-space: nowrap; max-width: 500px; overflow: hidden; text-overflow: ellipsis; \" colspan=\"1\"><div style=\"text-align: left;\"></div></td><td style=\"white-space: nowrap; max-width: 500px; overflow: hidden; text-overflow: ellipsis; \" colspan=\"1\"><div style=\"text-align: left;\"></div></td></tr><tr><td style=\"white-space: nowrap; max-width: 500px; overflow: hidden; text-overflow: ellipsis; \" colspan=\"1\"><div style=\"text-align: left;border-bottom: solid 2px #000; padding-bottom: 5px\">name</div></td><td style=\"white-space: nowrap; max-width: 500px; overflow: hidden; text-overflow: ellipsis; \" colspan=\"1\"><div style=\"text-align: left;border-bottom: solid 2px #000; padding-bottom: 5px\">age</div></td><td style=\"white-space: nowrap; max-width: 500px; overflow: hidden; text-overflow: ellipsis; \" colspan=\"1\"><div style=\"text-align: left;border-bottom: solid 2px #000; padding-bottom: 5px\">is_twenty_something</div></td><td style=\"white-space: nowrap; max-width: 500px; overflow: hidden; text-overflow: ellipsis; \" colspan=\"1\"><div style=\"text-align: left;border-bottom: solid 2px #000; padding-bottom: 5px\">has_freckles</div></td></tr><tr><td style=\"white-space: nowrap; max-width: 500px; overflow: hidden; text-overflow: ellipsis; text-align: left;\">str</td><td style=\"white-space: nowrap; max-width: 500px; overflow: hidden; text-overflow: ellipsis; text-align: left;\">int32</td><td style=\"white-space: nowrap; max-width: 500px; overflow: hidden; text-overflow: ellipsis; text-align: left;\">bool</td><td style=\"white-space: nowrap; max-width: 500px; overflow: hidden; text-overflow: ellipsis; text-align: left;\">bool</td></tr>\n",
       "</thead><tbody><tr><td style=\"white-space: nowrap; max-width: 500px; overflow: hidden; text-overflow: ellipsis; \">&quot;Alice&quot;</td><td style=\"white-space: nowrap; max-width: 500px; overflow: hidden; text-overflow: ellipsis; \">25</td><td style=\"white-space: nowrap; max-width: 500px; overflow: hidden; text-overflow: ellipsis; \">True</td><td style=\"white-space: nowrap; max-width: 500px; overflow: hidden; text-overflow: ellipsis; \">True</td></tr>\n",
       "<tr><td style=\"white-space: nowrap; max-width: 500px; overflow: hidden; text-overflow: ellipsis; \">&quot;Bob&quot;</td><td style=\"white-space: nowrap; max-width: 500px; overflow: hidden; text-overflow: ellipsis; \">35</td><td style=\"white-space: nowrap; max-width: 500px; overflow: hidden; text-overflow: ellipsis; \">False</td><td style=\"white-space: nowrap; max-width: 500px; overflow: hidden; text-overflow: ellipsis; \">False</td></tr>\n",
       "<tr><td style=\"white-space: nowrap; max-width: 500px; overflow: hidden; text-overflow: ellipsis; \">&quot;Charlie&quot;</td><td style=\"white-space: nowrap; max-width: 500px; overflow: hidden; text-overflow: ellipsis; \">28</td><td style=\"white-space: nowrap; max-width: 500px; overflow: hidden; text-overflow: ellipsis; \">True</td><td style=\"white-space: nowrap; max-width: 500px; overflow: hidden; text-overflow: ellipsis; \">False</td></tr>\n",
       "</tbody></table><p style=\"background: #fdd; padding: 0.4em;\">showing top 3 rows</p>\n"
      ],
      "text/plain": [
       "+-----------+-------+---------------------+--------------+\n",
       "| name      |   age | is_twenty_something | has_freckles |\n",
       "+-----------+-------+---------------------+--------------+\n",
       "| str       | int32 |                bool |         bool |\n",
       "+-----------+-------+---------------------+--------------+\n",
       "| \"Alice\"   |    25 |                True |         True |\n",
       "| \"Bob\"     |    35 |               False |        False |\n",
       "| \"Charlie\" |    28 |                True |        False |\n",
       "+-----------+-------+---------------------+--------------+\n",
       "showing top 3 rows"
      ]
     },
     "metadata": {},
     "output_type": "display_data"
    }
   ],
   "source": [
    "ht.select('name', 'age', 'is_twenty_something', 'has_freckles').show(n=3)"
   ]
  },
  {
   "cell_type": "code",
   "execution_count": 17,
   "id": "e6bbc140-1531-45ba-94f2-523f7381a4a8",
   "metadata": {},
   "outputs": [
    {
     "data": {
      "text/html": [
       "<table><thead><tr><td style=\"white-space: nowrap; max-width: 500px; overflow: hidden; text-overflow: ellipsis; \" colspan=\"1\"><div style=\"text-align: left;\"></div></td><td style=\"white-space: nowrap; max-width: 500px; overflow: hidden; text-overflow: ellipsis; \" colspan=\"1\"><div style=\"text-align: left;\"></div></td><td style=\"white-space: nowrap; max-width: 500px; overflow: hidden; text-overflow: ellipsis; \" colspan=\"1\"><div style=\"text-align: left;\"></div></td><td style=\"white-space: nowrap; max-width: 500px; overflow: hidden; text-overflow: ellipsis; \" colspan=\"1\"><div style=\"text-align: left;\"></div></td></tr><tr><td style=\"white-space: nowrap; max-width: 500px; overflow: hidden; text-overflow: ellipsis; \" colspan=\"1\"><div style=\"text-align: left;border-bottom: solid 2px #000; padding-bottom: 5px\">name</div></td><td style=\"white-space: nowrap; max-width: 500px; overflow: hidden; text-overflow: ellipsis; \" colspan=\"1\"><div style=\"text-align: left;border-bottom: solid 2px #000; padding-bottom: 5px\">age</div></td><td style=\"white-space: nowrap; max-width: 500px; overflow: hidden; text-overflow: ellipsis; \" colspan=\"1\"><div style=\"text-align: left;border-bottom: solid 2px #000; padding-bottom: 5px\">is_twenty_something</div></td><td style=\"white-space: nowrap; max-width: 500px; overflow: hidden; text-overflow: ellipsis; \" colspan=\"1\"><div style=\"text-align: left;border-bottom: solid 2px #000; padding-bottom: 5px\">has_freckles</div></td></tr><tr><td style=\"white-space: nowrap; max-width: 500px; overflow: hidden; text-overflow: ellipsis; text-align: left;\">str</td><td style=\"white-space: nowrap; max-width: 500px; overflow: hidden; text-overflow: ellipsis; text-align: left;\">int32</td><td style=\"white-space: nowrap; max-width: 500px; overflow: hidden; text-overflow: ellipsis; text-align: left;\">bool</td><td style=\"white-space: nowrap; max-width: 500px; overflow: hidden; text-overflow: ellipsis; text-align: left;\">bool</td></tr>\n",
       "</thead><tbody><tr><td style=\"white-space: nowrap; max-width: 500px; overflow: hidden; text-overflow: ellipsis; \">&quot;Alice&quot;</td><td style=\"white-space: nowrap; max-width: 500px; overflow: hidden; text-overflow: ellipsis; \">25</td><td style=\"white-space: nowrap; max-width: 500px; overflow: hidden; text-overflow: ellipsis; \">True</td><td style=\"white-space: nowrap; max-width: 500px; overflow: hidden; text-overflow: ellipsis; \">True</td></tr>\n",
       "<tr><td style=\"white-space: nowrap; max-width: 500px; overflow: hidden; text-overflow: ellipsis; \">&quot;Bob&quot;</td><td style=\"white-space: nowrap; max-width: 500px; overflow: hidden; text-overflow: ellipsis; \">35</td><td style=\"white-space: nowrap; max-width: 500px; overflow: hidden; text-overflow: ellipsis; \">False</td><td style=\"white-space: nowrap; max-width: 500px; overflow: hidden; text-overflow: ellipsis; \">False</td></tr>\n",
       "<tr><td style=\"white-space: nowrap; max-width: 500px; overflow: hidden; text-overflow: ellipsis; \">&quot;Charlie&quot;</td><td style=\"white-space: nowrap; max-width: 500px; overflow: hidden; text-overflow: ellipsis; \">28</td><td style=\"white-space: nowrap; max-width: 500px; overflow: hidden; text-overflow: ellipsis; \">True</td><td style=\"white-space: nowrap; max-width: 500px; overflow: hidden; text-overflow: ellipsis; \">False</td></tr>\n",
       "</tbody></table><p style=\"background: #fdd; padding: 0.4em;\">showing top 3 rows</p>\n"
      ],
      "text/plain": [
       "+-----------+-------+---------------------+--------------+\n",
       "| name      |   age | is_twenty_something | has_freckles |\n",
       "+-----------+-------+---------------------+--------------+\n",
       "| str       | int32 |                bool |         bool |\n",
       "+-----------+-------+---------------------+--------------+\n",
       "| \"Alice\"   |    25 |                True |         True |\n",
       "| \"Bob\"     |    35 |               False |        False |\n",
       "| \"Charlie\" |    28 |                True |        False |\n",
       "+-----------+-------+---------------------+--------------+\n",
       "showing top 3 rows"
      ]
     },
     "metadata": {},
     "output_type": "display_data"
    }
   ],
   "source": [
    "ht.drop('freckles').show(n=3)"
   ]
  },
  {
   "cell_type": "markdown",
   "id": "d82bce66-810a-4b45-9fca-63a7dfa850ef",
   "metadata": {},
   "source": [
    "### Exercise\n",
    "\n",
    "Add a field that describes the person: \"Freckled twenty-something\", \"Freckled thirty-something\", \"Unfreckled twenty-something\", etc."
   ]
  },
  {
   "cell_type": "code",
   "execution_count": 19,
   "id": "a61ee186-c02d-4481-baa0-49d18617ccbf",
   "metadata": {},
   "outputs": [
    {
     "data": {
      "text/html": [
       "<table><thead><tr><td style=\"white-space: nowrap; max-width: 500px; overflow: hidden; text-overflow: ellipsis; \" colspan=\"1\"><div style=\"text-align: left;\"></div></td><td style=\"white-space: nowrap; max-width: 500px; overflow: hidden; text-overflow: ellipsis; \" colspan=\"1\"><div style=\"text-align: left;\"></div></td><td style=\"white-space: nowrap; max-width: 500px; overflow: hidden; text-overflow: ellipsis; \" colspan=\"1\"><div style=\"text-align: left;\"></div></td><td style=\"white-space: nowrap; max-width: 500px; overflow: hidden; text-overflow: ellipsis; \" colspan=\"1\"><div style=\"text-align: left;\"></div></td><td style=\"white-space: nowrap; max-width: 500px; overflow: hidden; text-overflow: ellipsis; \" colspan=\"1\"><div style=\"text-align: left;\"></div></td><td style=\"white-space: nowrap; max-width: 500px; overflow: hidden; text-overflow: ellipsis; \" colspan=\"1\"><div style=\"text-align: left;\"></div></td></tr><tr><td style=\"white-space: nowrap; max-width: 500px; overflow: hidden; text-overflow: ellipsis; \" colspan=\"1\"><div style=\"text-align: left;border-bottom: solid 2px #000; padding-bottom: 5px\">name</div></td><td style=\"white-space: nowrap; max-width: 500px; overflow: hidden; text-overflow: ellipsis; \" colspan=\"1\"><div style=\"text-align: left;border-bottom: solid 2px #000; padding-bottom: 5px\">age</div></td><td style=\"white-space: nowrap; max-width: 500px; overflow: hidden; text-overflow: ellipsis; \" colspan=\"1\"><div style=\"text-align: left;border-bottom: solid 2px #000; padding-bottom: 5px\">freckles</div></td><td style=\"white-space: nowrap; max-width: 500px; overflow: hidden; text-overflow: ellipsis; \" colspan=\"1\"><div style=\"text-align: left;border-bottom: solid 2px #000; padding-bottom: 5px\">is_twenty_something</div></td><td style=\"white-space: nowrap; max-width: 500px; overflow: hidden; text-overflow: ellipsis; \" colspan=\"1\"><div style=\"text-align: left;border-bottom: solid 2px #000; padding-bottom: 5px\">has_freckles</div></td><td style=\"white-space: nowrap; max-width: 500px; overflow: hidden; text-overflow: ellipsis; \" colspan=\"1\"><div style=\"text-align: left;border-bottom: solid 2px #000; padding-bottom: 5px\">description</div></td></tr><tr><td style=\"white-space: nowrap; max-width: 500px; overflow: hidden; text-overflow: ellipsis; text-align: left;\">str</td><td style=\"white-space: nowrap; max-width: 500px; overflow: hidden; text-overflow: ellipsis; text-align: left;\">int32</td><td style=\"white-space: nowrap; max-width: 500px; overflow: hidden; text-overflow: ellipsis; text-align: left;\">str</td><td style=\"white-space: nowrap; max-width: 500px; overflow: hidden; text-overflow: ellipsis; text-align: left;\">bool</td><td style=\"white-space: nowrap; max-width: 500px; overflow: hidden; text-overflow: ellipsis; text-align: left;\">bool</td><td style=\"white-space: nowrap; max-width: 500px; overflow: hidden; text-overflow: ellipsis; text-align: left;\">str</td></tr>\n",
       "</thead><tbody><tr><td style=\"white-space: nowrap; max-width: 500px; overflow: hidden; text-overflow: ellipsis; \">&quot;Alice&quot;</td><td style=\"white-space: nowrap; max-width: 500px; overflow: hidden; text-overflow: ellipsis; \">25</td><td style=\"white-space: nowrap; max-width: 500px; overflow: hidden; text-overflow: ellipsis; \">&quot;Yes&quot;</td><td style=\"white-space: nowrap; max-width: 500px; overflow: hidden; text-overflow: ellipsis; \">True</td><td style=\"white-space: nowrap; max-width: 500px; overflow: hidden; text-overflow: ellipsis; \">True</td><td style=\"white-space: nowrap; max-width: 500px; overflow: hidden; text-overflow: ellipsis; \">&quot;Freckled twenty-something.&quot;</td></tr>\n",
       "<tr><td style=\"white-space: nowrap; max-width: 500px; overflow: hidden; text-overflow: ellipsis; \">&quot;Bob&quot;</td><td style=\"white-space: nowrap; max-width: 500px; overflow: hidden; text-overflow: ellipsis; \">35</td><td style=\"white-space: nowrap; max-width: 500px; overflow: hidden; text-overflow: ellipsis; \">&quot;No&quot;</td><td style=\"white-space: nowrap; max-width: 500px; overflow: hidden; text-overflow: ellipsis; \">False</td><td style=\"white-space: nowrap; max-width: 500px; overflow: hidden; text-overflow: ellipsis; \">False</td><td style=\"white-space: nowrap; max-width: 500px; overflow: hidden; text-overflow: ellipsis; \">&quot;Unfreckled thirty-something.&quot;</td></tr>\n",
       "<tr><td style=\"white-space: nowrap; max-width: 500px; overflow: hidden; text-overflow: ellipsis; \">&quot;Charlie&quot;</td><td style=\"white-space: nowrap; max-width: 500px; overflow: hidden; text-overflow: ellipsis; \">28</td><td style=\"white-space: nowrap; max-width: 500px; overflow: hidden; text-overflow: ellipsis; \">&quot;No&quot;</td><td style=\"white-space: nowrap; max-width: 500px; overflow: hidden; text-overflow: ellipsis; \">True</td><td style=\"white-space: nowrap; max-width: 500px; overflow: hidden; text-overflow: ellipsis; \">False</td><td style=\"white-space: nowrap; max-width: 500px; overflow: hidden; text-overflow: ellipsis; \">&quot;Unfreckled twenty-something.&quot;</td></tr>\n",
       "<tr><td style=\"white-space: nowrap; max-width: 500px; overflow: hidden; text-overflow: ellipsis; \">&quot;David&quot;</td><td style=\"white-space: nowrap; max-width: 500px; overflow: hidden; text-overflow: ellipsis; \">40</td><td style=\"white-space: nowrap; max-width: 500px; overflow: hidden; text-overflow: ellipsis; \">&quot;No&quot;</td><td style=\"white-space: nowrap; max-width: 500px; overflow: hidden; text-overflow: ellipsis; \">False</td><td style=\"white-space: nowrap; max-width: 500px; overflow: hidden; text-overflow: ellipsis; \">False</td><td style=\"white-space: nowrap; max-width: 500px; overflow: hidden; text-overflow: ellipsis; \">&quot;Unfreckled fourty-something.&quot;</td></tr>\n",
       "<tr><td style=\"white-space: nowrap; max-width: 500px; overflow: hidden; text-overflow: ellipsis; \">&quot;Eve&quot;</td><td style=\"white-space: nowrap; max-width: 500px; overflow: hidden; text-overflow: ellipsis; \">22</td><td style=\"white-space: nowrap; max-width: 500px; overflow: hidden; text-overflow: ellipsis; \">&quot;Yes&quot;</td><td style=\"white-space: nowrap; max-width: 500px; overflow: hidden; text-overflow: ellipsis; \">True</td><td style=\"white-space: nowrap; max-width: 500px; overflow: hidden; text-overflow: ellipsis; \">True</td><td style=\"white-space: nowrap; max-width: 500px; overflow: hidden; text-overflow: ellipsis; \">&quot;Freckled twenty-something.&quot;</td></tr>\n",
       "<tr><td style=\"white-space: nowrap; max-width: 500px; overflow: hidden; text-overflow: ellipsis; \">&quot;Zoe&quot;</td><td style=\"white-space: nowrap; max-width: 500px; overflow: hidden; text-overflow: ellipsis; \">31</td><td style=\"white-space: nowrap; max-width: 500px; overflow: hidden; text-overflow: ellipsis; \">&quot;Yes&quot;</td><td style=\"white-space: nowrap; max-width: 500px; overflow: hidden; text-overflow: ellipsis; \">False</td><td style=\"white-space: nowrap; max-width: 500px; overflow: hidden; text-overflow: ellipsis; \">True</td><td style=\"white-space: nowrap; max-width: 500px; overflow: hidden; text-overflow: ellipsis; \">&quot;Freckled thirty-something.&quot;</td></tr>\n",
       "<tr><td style=\"white-space: nowrap; max-width: 500px; overflow: hidden; text-overflow: ellipsis; \">&quot;Aaron&quot;</td><td style=\"white-space: nowrap; max-width: 500px; overflow: hidden; text-overflow: ellipsis; \">29</td><td style=\"white-space: nowrap; max-width: 500px; overflow: hidden; text-overflow: ellipsis; \">&quot;No&quot;</td><td style=\"white-space: nowrap; max-width: 500px; overflow: hidden; text-overflow: ellipsis; \">True</td><td style=\"white-space: nowrap; max-width: 500px; overflow: hidden; text-overflow: ellipsis; \">False</td><td style=\"white-space: nowrap; max-width: 500px; overflow: hidden; text-overflow: ellipsis; \">&quot;Unfreckled twenty-something.&quot;</td></tr>\n",
       "<tr><td style=\"white-space: nowrap; max-width: 500px; overflow: hidden; text-overflow: ellipsis; \">&quot;Bella&quot;</td><td style=\"white-space: nowrap; max-width: 500px; overflow: hidden; text-overflow: ellipsis; \">33</td><td style=\"white-space: nowrap; max-width: 500px; overflow: hidden; text-overflow: ellipsis; \">&quot;Yes&quot;</td><td style=\"white-space: nowrap; max-width: 500px; overflow: hidden; text-overflow: ellipsis; \">False</td><td style=\"white-space: nowrap; max-width: 500px; overflow: hidden; text-overflow: ellipsis; \">True</td><td style=\"white-space: nowrap; max-width: 500px; overflow: hidden; text-overflow: ellipsis; \">&quot;Freckled thirty-something.&quot;</td></tr>\n",
       "<tr><td style=\"white-space: nowrap; max-width: 500px; overflow: hidden; text-overflow: ellipsis; \">&quot;Chris&quot;</td><td style=\"white-space: nowrap; max-width: 500px; overflow: hidden; text-overflow: ellipsis; \">41</td><td style=\"white-space: nowrap; max-width: 500px; overflow: hidden; text-overflow: ellipsis; \">&quot;No&quot;</td><td style=\"white-space: nowrap; max-width: 500px; overflow: hidden; text-overflow: ellipsis; \">False</td><td style=\"white-space: nowrap; max-width: 500px; overflow: hidden; text-overflow: ellipsis; \">False</td><td style=\"white-space: nowrap; max-width: 500px; overflow: hidden; text-overflow: ellipsis; \">&quot;Unfreckled fourty-something.&quot;</td></tr>\n",
       "<tr><td style=\"white-space: nowrap; max-width: 500px; overflow: hidden; text-overflow: ellipsis; \">&quot;Dana&quot;</td><td style=\"white-space: nowrap; max-width: 500px; overflow: hidden; text-overflow: ellipsis; \">27</td><td style=\"white-space: nowrap; max-width: 500px; overflow: hidden; text-overflow: ellipsis; \">&quot;Yes&quot;</td><td style=\"white-space: nowrap; max-width: 500px; overflow: hidden; text-overflow: ellipsis; \">True</td><td style=\"white-space: nowrap; max-width: 500px; overflow: hidden; text-overflow: ellipsis; \">True</td><td style=\"white-space: nowrap; max-width: 500px; overflow: hidden; text-overflow: ellipsis; \">&quot;Freckled twenty-something.&quot;</td></tr>\n",
       "</tbody></table><p style=\"background: #fdd; padding: 0.4em;\">showing top 10 rows</p>\n"
      ],
      "text/plain": [
       "+-----------+-------+----------+---------------------+--------------+\n",
       "| name      |   age | freckles | is_twenty_something | has_freckles |\n",
       "+-----------+-------+----------+---------------------+--------------+\n",
       "| str       | int32 | str      |                bool |         bool |\n",
       "+-----------+-------+----------+---------------------+--------------+\n",
       "| \"Alice\"   |    25 | \"Yes\"    |                True |         True |\n",
       "| \"Bob\"     |    35 | \"No\"     |               False |        False |\n",
       "| \"Charlie\" |    28 | \"No\"     |                True |        False |\n",
       "| \"David\"   |    40 | \"No\"     |               False |        False |\n",
       "| \"Eve\"     |    22 | \"Yes\"    |                True |         True |\n",
       "| \"Zoe\"     |    31 | \"Yes\"    |               False |         True |\n",
       "| \"Aaron\"   |    29 | \"No\"     |                True |        False |\n",
       "| \"Bella\"   |    33 | \"Yes\"    |               False |         True |\n",
       "| \"Chris\"   |    41 | \"No\"     |               False |        False |\n",
       "| \"Dana\"    |    27 | \"Yes\"    |                True |         True |\n",
       "+-----------+-------+----------+---------------------+--------------+\n",
       "\n",
       "+--------------------------------+\n",
       "| description                    |\n",
       "+--------------------------------+\n",
       "| str                            |\n",
       "+--------------------------------+\n",
       "| \"Freckled twenty-something.\"   |\n",
       "| \"Unfreckled thirty-something.\" |\n",
       "| \"Unfreckled twenty-something.\" |\n",
       "| \"Unfreckled fourty-something.\" |\n",
       "| \"Freckled twenty-something.\"   |\n",
       "| \"Freckled thirty-something.\"   |\n",
       "| \"Unfreckled twenty-something.\" |\n",
       "| \"Freckled thirty-something.\"   |\n",
       "| \"Unfreckled fourty-something.\" |\n",
       "| \"Freckled twenty-something.\"   |\n",
       "+--------------------------------+\n",
       "showing top 10 rows"
      ]
     },
     "metadata": {},
     "output_type": "display_data"
    }
   ],
   "source": [
    "freckles_description = hl.if_else(\n",
    "    ht.has_freckles,\n",
    "    \"Freckled\",\n",
    "    \"Unfreckled\"\n",
    ")\n",
    "\n",
    "age_group = (\n",
    "    hl.case()\n",
    "    .when(hl.all(ht.age >= 10, ht.age < 20), \"teenager.\")\n",
    "    .when(hl.all(ht.age >= 20, ht.age < 30), \"twenty-something.\")\n",
    "    .when(hl.all(ht.age >= 30, ht.age < 40), \"thirty-something.\")\n",
    "    .when(hl.all(ht.age >= 40, ht.age < 50), \"fourty-something.\")\n",
    "    .or_error(hl.format(\"Unknown age: %s\", ht.age))\n",
    ")\n",
    "\n",
    "ht.annotate(\n",
    "    description = freckles_description + \" \" + age_group\n",
    ").show()"
   ]
  },
  {
   "cell_type": "markdown",
   "id": "2323c62a-4b89-4634-9174-dc70d40b76e6",
   "metadata": {},
   "source": [
    "### Exercise\n",
    "\n",
    "Add a field named \"decades\" indicating how many full decades this person has been alive."
   ]
  },
  {
   "cell_type": "code",
   "execution_count": 20,
   "id": "b717bc44-3e70-4c11-b4ea-c719bc4419c6",
   "metadata": {},
   "outputs": [
    {
     "data": {
      "text/html": [
       "<table><thead><tr><td style=\"white-space: nowrap; max-width: 500px; overflow: hidden; text-overflow: ellipsis; \" colspan=\"1\"><div style=\"text-align: left;\"></div></td><td style=\"white-space: nowrap; max-width: 500px; overflow: hidden; text-overflow: ellipsis; \" colspan=\"1\"><div style=\"text-align: left;\"></div></td><td style=\"white-space: nowrap; max-width: 500px; overflow: hidden; text-overflow: ellipsis; \" colspan=\"1\"><div style=\"text-align: left;\"></div></td><td style=\"white-space: nowrap; max-width: 500px; overflow: hidden; text-overflow: ellipsis; \" colspan=\"1\"><div style=\"text-align: left;\"></div></td><td style=\"white-space: nowrap; max-width: 500px; overflow: hidden; text-overflow: ellipsis; \" colspan=\"1\"><div style=\"text-align: left;\"></div></td><td style=\"white-space: nowrap; max-width: 500px; overflow: hidden; text-overflow: ellipsis; \" colspan=\"1\"><div style=\"text-align: left;\"></div></td></tr><tr><td style=\"white-space: nowrap; max-width: 500px; overflow: hidden; text-overflow: ellipsis; \" colspan=\"1\"><div style=\"text-align: left;border-bottom: solid 2px #000; padding-bottom: 5px\">name</div></td><td style=\"white-space: nowrap; max-width: 500px; overflow: hidden; text-overflow: ellipsis; \" colspan=\"1\"><div style=\"text-align: left;border-bottom: solid 2px #000; padding-bottom: 5px\">age</div></td><td style=\"white-space: nowrap; max-width: 500px; overflow: hidden; text-overflow: ellipsis; \" colspan=\"1\"><div style=\"text-align: left;border-bottom: solid 2px #000; padding-bottom: 5px\">freckles</div></td><td style=\"white-space: nowrap; max-width: 500px; overflow: hidden; text-overflow: ellipsis; \" colspan=\"1\"><div style=\"text-align: left;border-bottom: solid 2px #000; padding-bottom: 5px\">is_twenty_something</div></td><td style=\"white-space: nowrap; max-width: 500px; overflow: hidden; text-overflow: ellipsis; \" colspan=\"1\"><div style=\"text-align: left;border-bottom: solid 2px #000; padding-bottom: 5px\">has_freckles</div></td><td style=\"white-space: nowrap; max-width: 500px; overflow: hidden; text-overflow: ellipsis; \" colspan=\"1\"><div style=\"text-align: left;border-bottom: solid 2px #000; padding-bottom: 5px\">decades</div></td></tr><tr><td style=\"white-space: nowrap; max-width: 500px; overflow: hidden; text-overflow: ellipsis; text-align: left;\">str</td><td style=\"white-space: nowrap; max-width: 500px; overflow: hidden; text-overflow: ellipsis; text-align: left;\">int32</td><td style=\"white-space: nowrap; max-width: 500px; overflow: hidden; text-overflow: ellipsis; text-align: left;\">str</td><td style=\"white-space: nowrap; max-width: 500px; overflow: hidden; text-overflow: ellipsis; text-align: left;\">bool</td><td style=\"white-space: nowrap; max-width: 500px; overflow: hidden; text-overflow: ellipsis; text-align: left;\">bool</td><td style=\"white-space: nowrap; max-width: 500px; overflow: hidden; text-overflow: ellipsis; text-align: left;\">int32</td></tr>\n",
       "</thead><tbody><tr><td style=\"white-space: nowrap; max-width: 500px; overflow: hidden; text-overflow: ellipsis; \">&quot;Alice&quot;</td><td style=\"white-space: nowrap; max-width: 500px; overflow: hidden; text-overflow: ellipsis; \">25</td><td style=\"white-space: nowrap; max-width: 500px; overflow: hidden; text-overflow: ellipsis; \">&quot;Yes&quot;</td><td style=\"white-space: nowrap; max-width: 500px; overflow: hidden; text-overflow: ellipsis; \">True</td><td style=\"white-space: nowrap; max-width: 500px; overflow: hidden; text-overflow: ellipsis; \">True</td><td style=\"white-space: nowrap; max-width: 500px; overflow: hidden; text-overflow: ellipsis; \">2</td></tr>\n",
       "<tr><td style=\"white-space: nowrap; max-width: 500px; overflow: hidden; text-overflow: ellipsis; \">&quot;Bob&quot;</td><td style=\"white-space: nowrap; max-width: 500px; overflow: hidden; text-overflow: ellipsis; \">35</td><td style=\"white-space: nowrap; max-width: 500px; overflow: hidden; text-overflow: ellipsis; \">&quot;No&quot;</td><td style=\"white-space: nowrap; max-width: 500px; overflow: hidden; text-overflow: ellipsis; \">False</td><td style=\"white-space: nowrap; max-width: 500px; overflow: hidden; text-overflow: ellipsis; \">False</td><td style=\"white-space: nowrap; max-width: 500px; overflow: hidden; text-overflow: ellipsis; \">3</td></tr>\n",
       "<tr><td style=\"white-space: nowrap; max-width: 500px; overflow: hidden; text-overflow: ellipsis; \">&quot;Charlie&quot;</td><td style=\"white-space: nowrap; max-width: 500px; overflow: hidden; text-overflow: ellipsis; \">28</td><td style=\"white-space: nowrap; max-width: 500px; overflow: hidden; text-overflow: ellipsis; \">&quot;No&quot;</td><td style=\"white-space: nowrap; max-width: 500px; overflow: hidden; text-overflow: ellipsis; \">True</td><td style=\"white-space: nowrap; max-width: 500px; overflow: hidden; text-overflow: ellipsis; \">False</td><td style=\"white-space: nowrap; max-width: 500px; overflow: hidden; text-overflow: ellipsis; \">2</td></tr>\n",
       "<tr><td style=\"white-space: nowrap; max-width: 500px; overflow: hidden; text-overflow: ellipsis; \">&quot;David&quot;</td><td style=\"white-space: nowrap; max-width: 500px; overflow: hidden; text-overflow: ellipsis; \">40</td><td style=\"white-space: nowrap; max-width: 500px; overflow: hidden; text-overflow: ellipsis; \">&quot;No&quot;</td><td style=\"white-space: nowrap; max-width: 500px; overflow: hidden; text-overflow: ellipsis; \">False</td><td style=\"white-space: nowrap; max-width: 500px; overflow: hidden; text-overflow: ellipsis; \">False</td><td style=\"white-space: nowrap; max-width: 500px; overflow: hidden; text-overflow: ellipsis; \">4</td></tr>\n",
       "<tr><td style=\"white-space: nowrap; max-width: 500px; overflow: hidden; text-overflow: ellipsis; \">&quot;Eve&quot;</td><td style=\"white-space: nowrap; max-width: 500px; overflow: hidden; text-overflow: ellipsis; \">22</td><td style=\"white-space: nowrap; max-width: 500px; overflow: hidden; text-overflow: ellipsis; \">&quot;Yes&quot;</td><td style=\"white-space: nowrap; max-width: 500px; overflow: hidden; text-overflow: ellipsis; \">True</td><td style=\"white-space: nowrap; max-width: 500px; overflow: hidden; text-overflow: ellipsis; \">True</td><td style=\"white-space: nowrap; max-width: 500px; overflow: hidden; text-overflow: ellipsis; \">2</td></tr>\n",
       "<tr><td style=\"white-space: nowrap; max-width: 500px; overflow: hidden; text-overflow: ellipsis; \">&quot;Zoe&quot;</td><td style=\"white-space: nowrap; max-width: 500px; overflow: hidden; text-overflow: ellipsis; \">31</td><td style=\"white-space: nowrap; max-width: 500px; overflow: hidden; text-overflow: ellipsis; \">&quot;Yes&quot;</td><td style=\"white-space: nowrap; max-width: 500px; overflow: hidden; text-overflow: ellipsis; \">False</td><td style=\"white-space: nowrap; max-width: 500px; overflow: hidden; text-overflow: ellipsis; \">True</td><td style=\"white-space: nowrap; max-width: 500px; overflow: hidden; text-overflow: ellipsis; \">3</td></tr>\n",
       "<tr><td style=\"white-space: nowrap; max-width: 500px; overflow: hidden; text-overflow: ellipsis; \">&quot;Aaron&quot;</td><td style=\"white-space: nowrap; max-width: 500px; overflow: hidden; text-overflow: ellipsis; \">29</td><td style=\"white-space: nowrap; max-width: 500px; overflow: hidden; text-overflow: ellipsis; \">&quot;No&quot;</td><td style=\"white-space: nowrap; max-width: 500px; overflow: hidden; text-overflow: ellipsis; \">True</td><td style=\"white-space: nowrap; max-width: 500px; overflow: hidden; text-overflow: ellipsis; \">False</td><td style=\"white-space: nowrap; max-width: 500px; overflow: hidden; text-overflow: ellipsis; \">2</td></tr>\n",
       "<tr><td style=\"white-space: nowrap; max-width: 500px; overflow: hidden; text-overflow: ellipsis; \">&quot;Bella&quot;</td><td style=\"white-space: nowrap; max-width: 500px; overflow: hidden; text-overflow: ellipsis; \">33</td><td style=\"white-space: nowrap; max-width: 500px; overflow: hidden; text-overflow: ellipsis; \">&quot;Yes&quot;</td><td style=\"white-space: nowrap; max-width: 500px; overflow: hidden; text-overflow: ellipsis; \">False</td><td style=\"white-space: nowrap; max-width: 500px; overflow: hidden; text-overflow: ellipsis; \">True</td><td style=\"white-space: nowrap; max-width: 500px; overflow: hidden; text-overflow: ellipsis; \">3</td></tr>\n",
       "<tr><td style=\"white-space: nowrap; max-width: 500px; overflow: hidden; text-overflow: ellipsis; \">&quot;Chris&quot;</td><td style=\"white-space: nowrap; max-width: 500px; overflow: hidden; text-overflow: ellipsis; \">41</td><td style=\"white-space: nowrap; max-width: 500px; overflow: hidden; text-overflow: ellipsis; \">&quot;No&quot;</td><td style=\"white-space: nowrap; max-width: 500px; overflow: hidden; text-overflow: ellipsis; \">False</td><td style=\"white-space: nowrap; max-width: 500px; overflow: hidden; text-overflow: ellipsis; \">False</td><td style=\"white-space: nowrap; max-width: 500px; overflow: hidden; text-overflow: ellipsis; \">4</td></tr>\n",
       "<tr><td style=\"white-space: nowrap; max-width: 500px; overflow: hidden; text-overflow: ellipsis; \">&quot;Dana&quot;</td><td style=\"white-space: nowrap; max-width: 500px; overflow: hidden; text-overflow: ellipsis; \">27</td><td style=\"white-space: nowrap; max-width: 500px; overflow: hidden; text-overflow: ellipsis; \">&quot;Yes&quot;</td><td style=\"white-space: nowrap; max-width: 500px; overflow: hidden; text-overflow: ellipsis; \">True</td><td style=\"white-space: nowrap; max-width: 500px; overflow: hidden; text-overflow: ellipsis; \">True</td><td style=\"white-space: nowrap; max-width: 500px; overflow: hidden; text-overflow: ellipsis; \">2</td></tr>\n",
       "</tbody></table><p style=\"background: #fdd; padding: 0.4em;\">showing top 10 rows</p>\n"
      ],
      "text/plain": [
       "+-----------+-------+----------+---------------------+--------------+---------+\n",
       "| name      |   age | freckles | is_twenty_something | has_freckles | decades |\n",
       "+-----------+-------+----------+---------------------+--------------+---------+\n",
       "| str       | int32 | str      |                bool |         bool |   int32 |\n",
       "+-----------+-------+----------+---------------------+--------------+---------+\n",
       "| \"Alice\"   |    25 | \"Yes\"    |                True |         True |       2 |\n",
       "| \"Bob\"     |    35 | \"No\"     |               False |        False |       3 |\n",
       "| \"Charlie\" |    28 | \"No\"     |                True |        False |       2 |\n",
       "| \"David\"   |    40 | \"No\"     |               False |        False |       4 |\n",
       "| \"Eve\"     |    22 | \"Yes\"    |                True |         True |       2 |\n",
       "| \"Zoe\"     |    31 | \"Yes\"    |               False |         True |       3 |\n",
       "| \"Aaron\"   |    29 | \"No\"     |                True |        False |       2 |\n",
       "| \"Bella\"   |    33 | \"Yes\"    |               False |         True |       3 |\n",
       "| \"Chris\"   |    41 | \"No\"     |               False |        False |       4 |\n",
       "| \"Dana\"    |    27 | \"Yes\"    |                True |         True |       2 |\n",
       "+-----------+-------+----------+---------------------+--------------+---------+\n",
       "showing top 10 rows"
      ]
     },
     "metadata": {},
     "output_type": "display_data"
    }
   ],
   "source": [
    "ht.annotate(\n",
    "    decades = ht.age // 10\n",
    ").show()"
   ]
  },
  {
   "cell_type": "markdown",
   "id": "4a672fe8-d8c4-47a9-9365-19c8bee62776",
   "metadata": {},
   "source": [
    "# Aggregating a Table to a Single Python Value\n",
    "\n",
    "Another \"action\" we can use to execute a Hail table's recipe is [`Table.aggregate`](https://hail.is/docs/0.2/hail.Table.html#hail.Table.aggregate). Let's use the [`hl.agg.mean`](https://hail.is/docs/0.2/aggregators.html#hail.expr.aggregators.mean) aggregator from the [`hl.agg`](https://hail.is/docs/0.2/aggregators.html) module."
   ]
  },
  {
   "cell_type": "code",
   "execution_count": 21,
   "id": "4626a641-aadf-4fe4-bd54-7311dad37fe7",
   "metadata": {},
   "outputs": [
    {
     "data": {
      "text/plain": [
       "31.140845070422536"
      ]
     },
     "execution_count": 21,
     "metadata": {},
     "output_type": "execute_result"
    }
   ],
   "source": [
    "ht.aggregate(hl.agg.mean(ht.age))"
   ]
  },
  {
   "cell_type": "markdown",
   "id": "8aff08dc-614d-4780-9f87-de03a7295ceb",
   "metadata": {},
   "source": [
    "Each time we execute an action, the entire table recipe is executed from the beginning. For example, consider how long it takes to execute four aggregations:"
   ]
  },
  {
   "cell_type": "code",
   "execution_count": 22,
   "id": "5b03fb77-269c-4050-a841-d995af9d8f38",
   "metadata": {},
   "outputs": [
    {
     "name": "stdout",
     "output_type": "stream",
     "text": [
      "CPU times: user 19.7 ms, sys: 6.02 ms, total: 25.7 ms\n",
      "Wall time: 2.37 s\n"
     ]
    },
    {
     "data": {
      "text/plain": [
       "(31.140845070422536, 6633, 43, 20)"
      ]
     },
     "execution_count": 22,
     "metadata": {},
     "output_type": "execute_result"
    }
   ],
   "source": [
    "%%time\n",
    "mean_age = ht.aggregate(hl.agg.mean(ht.age))\n",
    "sum_age = ht.aggregate(hl.agg.sum(ht.age))\n",
    "max_age = ht.aggregate(hl.agg.max(ht.age))\n",
    "min_age = ht.aggregate(hl.agg.min(ht.age))\n",
    "\n",
    "(mean_age, sum_age, max_age, min_age)"
   ]
  },
  {
   "cell_type": "markdown",
   "id": "274d1b6c-65aa-4c4f-a305-37641826f0c8",
   "metadata": {},
   "source": [
    "Instead of executing the table's recipe four times, once for each aggregator, we can execute the recipe once computing the four aggregators in parallel:"
   ]
  },
  {
   "cell_type": "code",
   "execution_count": 23,
   "id": "b21fa2c5-1482-4404-a4e8-9153c9fd0a0b",
   "metadata": {},
   "outputs": [
    {
     "name": "stdout",
     "output_type": "stream",
     "text": [
      "CPU times: user 13.1 ms, sys: 5.4 ms, total: 18.5 ms\n",
      "Wall time: 1.06 s\n"
     ]
    },
    {
     "data": {
      "text/plain": [
       "(31.140845070422536, 6633, 43, 20)"
      ]
     },
     "execution_count": 23,
     "metadata": {},
     "output_type": "execute_result"
    }
   ],
   "source": [
    "%%time\n",
    "mean_age, sum_age, max_age, min_age = ht.aggregate(\n",
    "    (\n",
    "        hl.agg.mean(ht.age),\n",
    "        hl.agg.sum(ht.age),\n",
    "        hl.agg.max(ht.age),\n",
    "        hl.agg.min(ht.age),\n",
    "    )\n",
    ")\n",
    "\n",
    "(mean_age, sum_age, max_age, min_age)"
   ]
  },
  {
   "cell_type": "markdown",
   "id": "b3c22f5c-9e12-4b62-8f42-97d5a66fbf57",
   "metadata": {},
   "source": [
    "### Exercise\n",
    "\n",
    "Count the number of people having freckles and the number of people not having freckles."
   ]
  },
  {
   "cell_type": "code",
   "execution_count": 25,
   "id": "0e63afe5-6ed4-4258-8d12-6b738078558a",
   "metadata": {},
   "outputs": [
    {
     "data": {
      "text/plain": [
       "Struct(n_having_freckles=108, n_not_having_freckles=105)"
      ]
     },
     "execution_count": 25,
     "metadata": {},
     "output_type": "execute_result"
    }
   ],
   "source": [
    "ht.aggregate(hl.struct(\n",
    "    n_having_freckles = hl.agg.filter(ht.has_freckles, hl.agg.count()),\n",
    "    n_not_having_freckles = hl.agg.filter(~ht.has_freckles, hl.agg.count()),\n",
    "))"
   ]
  },
  {
   "cell_type": "code",
   "execution_count": 26,
   "id": "b83a10a1-b1bc-446f-93b1-c037963892fb",
   "metadata": {},
   "outputs": [
    {
     "data": {
      "text/plain": [
       "{False: 105, True: 108}"
      ]
     },
     "execution_count": 26,
     "metadata": {},
     "output_type": "execute_result"
    }
   ],
   "source": [
    "ht.aggregate(\n",
    "    hl.agg.group_by(ht.has_freckles, hl.agg.count())\n",
    ")"
   ]
  },
  {
   "cell_type": "markdown",
   "id": "102bff1e-42e5-4bcb-8748-c6dfcfe97c44",
   "metadata": {},
   "source": [
    "### Exercise\n",
    "\n",
    "Count the number of people whose name start with \"A\". Hint: use ht.field[0]."
   ]
  },
  {
   "cell_type": "code",
   "execution_count": 27,
   "id": "c9adbc3e-dc59-49a5-a446-b1a3c63822e8",
   "metadata": {},
   "outputs": [
    {
     "data": {
      "text/plain": [
       "22"
      ]
     },
     "execution_count": 27,
     "metadata": {},
     "output_type": "execute_result"
    }
   ],
   "source": [
    "ht.aggregate(\n",
    "    hl.agg.count_where(ht.name[0] == \"A\")\n",
    ")"
   ]
  },
  {
   "cell_type": "code",
   "execution_count": 28,
   "id": "d6e50ba3-93ef-40f4-bf0e-be009cace437",
   "metadata": {},
   "outputs": [
    {
     "data": {
      "text/plain": [
       "22"
      ]
     },
     "execution_count": 28,
     "metadata": {},
     "output_type": "execute_result"
    }
   ],
   "source": [
    "first_letter = ht.name[0]\n",
    "ht.aggregate(\n",
    "    hl.agg.count_where(first_letter == \"A\")\n",
    ")"
   ]
  },
  {
   "cell_type": "code",
   "execution_count": 29,
   "id": "0dd64070-8a1b-42d2-931d-6c2b8245ee07",
   "metadata": {},
   "outputs": [
    {
     "data": {
      "text/plain": [
       "22"
      ]
     },
     "execution_count": 29,
     "metadata": {},
     "output_type": "execute_result"
    }
   ],
   "source": [
    "xx = ht\n",
    "xx = xx.annotate(first_letter = ht.name[0])\n",
    "xx.aggregate(\n",
    "    hl.agg.count_where(xx.first_letter == \"A\")\n",
    ")"
   ]
  },
  {
   "cell_type": "markdown",
   "id": "16e7684b-4e20-4c53-9c77-8f638811cb29",
   "metadata": {},
   "source": [
    "### Exercise\n",
    "\n",
    "Extra hard: for each letter of the alphabet, count the number of people whose names start with that letter. Hint: [`hl.agg.group_by`](https://hail.is/docs/0.2/aggregators.html#hail.expr.aggregators.group_by)."
   ]
  },
  {
   "cell_type": "code",
   "execution_count": 30,
   "id": "28b7374f-03e3-4b99-900a-cc0526052176",
   "metadata": {},
   "outputs": [
    {
     "data": {
      "text/plain": [
       "{'A': 22,\n",
       " 'B': 8,\n",
       " 'C': 12,\n",
       " 'D': 6,\n",
       " 'E': 12,\n",
       " 'F': 4,\n",
       " 'G': 5,\n",
       " 'H': 10,\n",
       " 'I': 7,\n",
       " 'J': 9,\n",
       " 'K': 5,\n",
       " 'L': 14,\n",
       " 'M': 14,\n",
       " 'N': 8,\n",
       " 'O': 7,\n",
       " 'P': 5,\n",
       " 'Q': 5,\n",
       " 'R': 11,\n",
       " 'S': 16,\n",
       " 'T': 5,\n",
       " 'U': 5,\n",
       " 'V': 3,\n",
       " 'W': 4,\n",
       " 'X': 3,\n",
       " 'Y': 5,\n",
       " 'Z': 8}"
      ]
     },
     "execution_count": 30,
     "metadata": {},
     "output_type": "execute_result"
    }
   ],
   "source": [
    "ht.aggregate(\n",
    "    hl.agg.group_by(ht.name[0], hl.agg.count())\n",
    ")"
   ]
  },
  {
   "cell_type": "markdown",
   "id": "925fcc7c-fa08-43f3-9e53-627d2c37b953",
   "metadata": {},
   "source": [
    "# Aggregating within Groups of Rows to Produce a New Table."
   ]
  },
  {
   "cell_type": "markdown",
   "id": "0f58761e-4398-4f28-a338-9b08b8e12916",
   "metadata": {},
   "source": [
    "Instead of aggregating over the entire table to produce just one value, we can combine groups of rows into new rows by aggregating over each group separately. We use [`Table.group_by`](https://hail.is/docs/0.2/hail.Table.html#hail.Table.group_by) with [`hl.agg.filter`](https://hail.is/docs/0.2/aggregators.html#hail.expr.aggregators.filter), [`hl.agg.count`](https://hail.is/docs/0.2/aggregators.html#hail.expr.aggregators.count), and [`hl.agg.count_where`](https://hail.is/docs/0.2/aggregators.html#hail.expr.aggregators.count_where)."
   ]
  },
  {
   "cell_type": "code",
   "execution_count": 31,
   "id": "181acbfd-f137-424e-ae10-5c1228999268",
   "metadata": {},
   "outputs": [
    {
     "data": {
      "text/plain": [
       "<hail.table.Table at 0x16d30c340>"
      ]
     },
     "execution_count": 31,
     "metadata": {},
     "output_type": "execute_result"
    }
   ],
   "source": [
    "ht.group_by(\n",
    "    ht.age\n",
    ").aggregate(\n",
    "    count_having_freckles = hl.agg.filter(ht.freckles == \"Yes\", hl.agg.count()),\n",
    "    count_not_having_freckles = hl.agg.filter(ht.freckles == \"No\", hl.agg.count()), \n",
    "    count_names_starting_with_A = hl.agg.count_where(ht.name[0] == \"A\"),\n",
    ")"
   ]
  },
  {
   "cell_type": "markdown",
   "id": "86d2831f-6079-4cd8-8345-2d1470180ce9",
   "metadata": {},
   "source": [
    "Oops! We forgot to use an action, like [`Table.show`](https://hail.is/docs/0.2/hail.Table.html#hail.Table.show), so nothing happened! Let's try again:"
   ]
  },
  {
   "cell_type": "code",
   "execution_count": 32,
   "id": "db6882d6-8875-4d94-bb92-c90949554cb7",
   "metadata": {},
   "outputs": [
    {
     "name": "stderr",
     "output_type": "stream",
     "text": [
      "2023-08-29 16:19:59.448 Hail: INFO: Ordering unsorted dataset with network shuffle\n"
     ]
    },
    {
     "data": {
      "text/html": [
       "<table><thead><tr><td style=\"white-space: nowrap; max-width: 500px; overflow: hidden; text-overflow: ellipsis; \" colspan=\"1\"><div style=\"text-align: left;\"></div></td><td style=\"white-space: nowrap; max-width: 500px; overflow: hidden; text-overflow: ellipsis; \" colspan=\"1\"><div style=\"text-align: left;\"></div></td><td style=\"white-space: nowrap; max-width: 500px; overflow: hidden; text-overflow: ellipsis; \" colspan=\"1\"><div style=\"text-align: left;\"></div></td><td style=\"white-space: nowrap; max-width: 500px; overflow: hidden; text-overflow: ellipsis; \" colspan=\"1\"><div style=\"text-align: left;\"></div></td></tr><tr><td style=\"white-space: nowrap; max-width: 500px; overflow: hidden; text-overflow: ellipsis; \" colspan=\"1\"><div style=\"text-align: left;border-bottom: solid 2px #000; padding-bottom: 5px\">age</div></td><td style=\"white-space: nowrap; max-width: 500px; overflow: hidden; text-overflow: ellipsis; \" colspan=\"1\"><div style=\"text-align: left;border-bottom: solid 2px #000; padding-bottom: 5px\">count_having_freckles</div></td><td style=\"white-space: nowrap; max-width: 500px; overflow: hidden; text-overflow: ellipsis; \" colspan=\"1\"><div style=\"text-align: left;border-bottom: solid 2px #000; padding-bottom: 5px\">count_not_having_freckles</div></td><td style=\"white-space: nowrap; max-width: 500px; overflow: hidden; text-overflow: ellipsis; \" colspan=\"1\"><div style=\"text-align: left;border-bottom: solid 2px #000; padding-bottom: 5px\">count_names_starting_with_A</div></td></tr><tr><td style=\"white-space: nowrap; max-width: 500px; overflow: hidden; text-overflow: ellipsis; text-align: left;\">int32</td><td style=\"white-space: nowrap; max-width: 500px; overflow: hidden; text-overflow: ellipsis; text-align: left;\">int64</td><td style=\"white-space: nowrap; max-width: 500px; overflow: hidden; text-overflow: ellipsis; text-align: left;\">int64</td><td style=\"white-space: nowrap; max-width: 500px; overflow: hidden; text-overflow: ellipsis; text-align: left;\">int64</td></tr>\n",
       "</thead><tbody><tr><td style=\"white-space: nowrap; max-width: 500px; overflow: hidden; text-overflow: ellipsis; \">20</td><td style=\"white-space: nowrap; max-width: 500px; overflow: hidden; text-overflow: ellipsis; \">0</td><td style=\"white-space: nowrap; max-width: 500px; overflow: hidden; text-overflow: ellipsis; \">3</td><td style=\"white-space: nowrap; max-width: 500px; overflow: hidden; text-overflow: ellipsis; \">1</td></tr>\n",
       "<tr><td style=\"white-space: nowrap; max-width: 500px; overflow: hidden; text-overflow: ellipsis; \">21</td><td style=\"white-space: nowrap; max-width: 500px; overflow: hidden; text-overflow: ellipsis; \">1</td><td style=\"white-space: nowrap; max-width: 500px; overflow: hidden; text-overflow: ellipsis; \">2</td><td style=\"white-space: nowrap; max-width: 500px; overflow: hidden; text-overflow: ellipsis; \">0</td></tr>\n",
       "<tr><td style=\"white-space: nowrap; max-width: 500px; overflow: hidden; text-overflow: ellipsis; \">22</td><td style=\"white-space: nowrap; max-width: 500px; overflow: hidden; text-overflow: ellipsis; \">7</td><td style=\"white-space: nowrap; max-width: 500px; overflow: hidden; text-overflow: ellipsis; \">1</td><td style=\"white-space: nowrap; max-width: 500px; overflow: hidden; text-overflow: ellipsis; \">0</td></tr>\n",
       "</tbody></table><p style=\"background: #fdd; padding: 0.4em;\">showing top 3 rows</p>\n"
      ],
      "text/plain": [
       "+-------+-----------------------+---------------------------+\n",
       "|   age | count_having_freckles | count_not_having_freckles |\n",
       "+-------+-----------------------+---------------------------+\n",
       "| int32 |                 int64 |                     int64 |\n",
       "+-------+-----------------------+---------------------------+\n",
       "|    20 |                     0 |                         3 |\n",
       "|    21 |                     1 |                         2 |\n",
       "|    22 |                     7 |                         1 |\n",
       "+-------+-----------------------+---------------------------+\n",
       "\n",
       "+-----------------------------+\n",
       "| count_names_starting_with_A |\n",
       "+-----------------------------+\n",
       "|                       int64 |\n",
       "+-----------------------------+\n",
       "|                           1 |\n",
       "|                           0 |\n",
       "|                           0 |\n",
       "+-----------------------------+\n",
       "showing top 3 rows"
      ]
     },
     "metadata": {},
     "output_type": "display_data"
    }
   ],
   "source": [
    "ht2 = ht.group_by(\n",
    "    ht.age\n",
    ").aggregate(\n",
    "    count_having_freckles = hl.agg.filter(ht.freckles == \"Yes\", hl.agg.count()),\n",
    "    count_not_having_freckles = hl.agg.filter(ht.freckles == \"No\", hl.agg.count()), \n",
    "    count_names_starting_with_A = hl.agg.count_where(ht.name[0] == \"A\"),\n",
    ")\n",
    "ht2.show(n=3)"
   ]
  },
  {
   "cell_type": "markdown",
   "id": "0575ea36-c94d-47ad-96ba-f8c94058a452",
   "metadata": {},
   "source": [
    "Notice that we used a new variable name, `ht2`, so that we can still access the old table, `ht` containing all the individual people."
   ]
  },
  {
   "cell_type": "code",
   "execution_count": 33,
   "id": "f4085a8e-0e8c-4e47-b88b-6e8f8d1addcb",
   "metadata": {},
   "outputs": [
    {
     "data": {
      "text/html": [
       "<table><thead><tr><td style=\"white-space: nowrap; max-width: 500px; overflow: hidden; text-overflow: ellipsis; \" colspan=\"1\"><div style=\"text-align: left;\"></div></td><td style=\"white-space: nowrap; max-width: 500px; overflow: hidden; text-overflow: ellipsis; \" colspan=\"1\"><div style=\"text-align: left;\"></div></td><td style=\"white-space: nowrap; max-width: 500px; overflow: hidden; text-overflow: ellipsis; \" colspan=\"1\"><div style=\"text-align: left;\"></div></td><td style=\"white-space: nowrap; max-width: 500px; overflow: hidden; text-overflow: ellipsis; \" colspan=\"1\"><div style=\"text-align: left;\"></div></td><td style=\"white-space: nowrap; max-width: 500px; overflow: hidden; text-overflow: ellipsis; \" colspan=\"1\"><div style=\"text-align: left;\"></div></td></tr><tr><td style=\"white-space: nowrap; max-width: 500px; overflow: hidden; text-overflow: ellipsis; \" colspan=\"1\"><div style=\"text-align: left;border-bottom: solid 2px #000; padding-bottom: 5px\">name</div></td><td style=\"white-space: nowrap; max-width: 500px; overflow: hidden; text-overflow: ellipsis; \" colspan=\"1\"><div style=\"text-align: left;border-bottom: solid 2px #000; padding-bottom: 5px\">age</div></td><td style=\"white-space: nowrap; max-width: 500px; overflow: hidden; text-overflow: ellipsis; \" colspan=\"1\"><div style=\"text-align: left;border-bottom: solid 2px #000; padding-bottom: 5px\">freckles</div></td><td style=\"white-space: nowrap; max-width: 500px; overflow: hidden; text-overflow: ellipsis; \" colspan=\"1\"><div style=\"text-align: left;border-bottom: solid 2px #000; padding-bottom: 5px\">is_twenty_something</div></td><td style=\"white-space: nowrap; max-width: 500px; overflow: hidden; text-overflow: ellipsis; \" colspan=\"1\"><div style=\"text-align: left;border-bottom: solid 2px #000; padding-bottom: 5px\">has_freckles</div></td></tr><tr><td style=\"white-space: nowrap; max-width: 500px; overflow: hidden; text-overflow: ellipsis; text-align: left;\">str</td><td style=\"white-space: nowrap; max-width: 500px; overflow: hidden; text-overflow: ellipsis; text-align: left;\">int32</td><td style=\"white-space: nowrap; max-width: 500px; overflow: hidden; text-overflow: ellipsis; text-align: left;\">str</td><td style=\"white-space: nowrap; max-width: 500px; overflow: hidden; text-overflow: ellipsis; text-align: left;\">bool</td><td style=\"white-space: nowrap; max-width: 500px; overflow: hidden; text-overflow: ellipsis; text-align: left;\">bool</td></tr>\n",
       "</thead><tbody><tr><td style=\"white-space: nowrap; max-width: 500px; overflow: hidden; text-overflow: ellipsis; \">&quot;Alice&quot;</td><td style=\"white-space: nowrap; max-width: 500px; overflow: hidden; text-overflow: ellipsis; \">25</td><td style=\"white-space: nowrap; max-width: 500px; overflow: hidden; text-overflow: ellipsis; \">&quot;Yes&quot;</td><td style=\"white-space: nowrap; max-width: 500px; overflow: hidden; text-overflow: ellipsis; \">True</td><td style=\"white-space: nowrap; max-width: 500px; overflow: hidden; text-overflow: ellipsis; \">True</td></tr>\n",
       "<tr><td style=\"white-space: nowrap; max-width: 500px; overflow: hidden; text-overflow: ellipsis; \">&quot;Bob&quot;</td><td style=\"white-space: nowrap; max-width: 500px; overflow: hidden; text-overflow: ellipsis; \">35</td><td style=\"white-space: nowrap; max-width: 500px; overflow: hidden; text-overflow: ellipsis; \">&quot;No&quot;</td><td style=\"white-space: nowrap; max-width: 500px; overflow: hidden; text-overflow: ellipsis; \">False</td><td style=\"white-space: nowrap; max-width: 500px; overflow: hidden; text-overflow: ellipsis; \">False</td></tr>\n",
       "<tr><td style=\"white-space: nowrap; max-width: 500px; overflow: hidden; text-overflow: ellipsis; \">&quot;Charlie&quot;</td><td style=\"white-space: nowrap; max-width: 500px; overflow: hidden; text-overflow: ellipsis; \">28</td><td style=\"white-space: nowrap; max-width: 500px; overflow: hidden; text-overflow: ellipsis; \">&quot;No&quot;</td><td style=\"white-space: nowrap; max-width: 500px; overflow: hidden; text-overflow: ellipsis; \">True</td><td style=\"white-space: nowrap; max-width: 500px; overflow: hidden; text-overflow: ellipsis; \">False</td></tr>\n",
       "</tbody></table><p style=\"background: #fdd; padding: 0.4em;\">showing top 3 rows</p>\n"
      ],
      "text/plain": [
       "+-----------+-------+----------+---------------------+--------------+\n",
       "| name      |   age | freckles | is_twenty_something | has_freckles |\n",
       "+-----------+-------+----------+---------------------+--------------+\n",
       "| str       | int32 | str      |                bool |         bool |\n",
       "+-----------+-------+----------+---------------------+--------------+\n",
       "| \"Alice\"   |    25 | \"Yes\"    |                True |         True |\n",
       "| \"Bob\"     |    35 | \"No\"     |               False |        False |\n",
       "| \"Charlie\" |    28 | \"No\"     |                True |        False |\n",
       "+-----------+-------+----------+---------------------+--------------+\n",
       "showing top 3 rows"
      ]
     },
     "metadata": {},
     "output_type": "display_data"
    }
   ],
   "source": [
    "ht.show(n=3)"
   ]
  },
  {
   "cell_type": "markdown",
   "id": "65278158-01fd-4c6e-b3db-cb1c1a0abd96",
   "metadata": {},
   "source": [
    "# Plotting Tables\n",
    "\n",
    "Hail has a new module, [`hail.ggplot`](https://hail.is/docs/0.2/ggplot/index.html#), which implements a grammar of graphics for Hail tables and matrix tables. There is also a [ggplot tutorial](https://hail.is/docs/0.2/tutorials/09-ggplot.html)."
   ]
  },
  {
   "cell_type": "code",
   "execution_count": 37,
   "id": "e69a5ecb-2151-4fd3-9a67-d56ecba4bdef",
   "metadata": {},
   "outputs": [],
   "source": [
    "from hail.ggplot import *\n",
    "\n",
    "import plotly\n",
    "import plotly.io as pio\n",
    "pio.renderers.default='iframe'"
   ]
  },
  {
   "cell_type": "code",
   "execution_count": 38,
   "id": "0308ffb7-91e5-45f9-9411-2dd1b24ac56f",
   "metadata": {},
   "outputs": [
    {
     "data": {
      "text/html": [
       "<iframe\n",
       "    scrolling=\"no\"\n",
       "    width=\"100%\"\n",
       "    height=\"545px\"\n",
       "    src=\"iframe_figures/figure_38.html\"\n",
       "    frameborder=\"0\"\n",
       "    allowfullscreen\n",
       "></iframe>\n"
      ],
      "text/plain": [
       "<hail.ggplot.ggplot.GGPlot at 0x16e25c280>"
      ]
     },
     "execution_count": 38,
     "metadata": {},
     "output_type": "execute_result"
    }
   ],
   "source": [
    "ggplot(ht) + geom_bar(aes(x=ht.age))"
   ]
  },
  {
   "cell_type": "code",
   "execution_count": 43,
   "id": "953a15ca-053f-49d2-9128-de90808f0280",
   "metadata": {},
   "outputs": [
    {
     "data": {
      "text/html": [
       "<iframe\n",
       "    scrolling=\"no\"\n",
       "    width=\"100%\"\n",
       "    height=\"545px\"\n",
       "    src=\"iframe_figures/figure_43.html\"\n",
       "    frameborder=\"0\"\n",
       "    allowfullscreen\n",
       "></iframe>\n"
      ],
      "text/plain": [
       "<hail.ggplot.ggplot.GGPlot at 0x16e7f70d0>"
      ]
     },
     "execution_count": 43,
     "metadata": {},
     "output_type": "execute_result"
    }
   ],
   "source": [
    "ggplot(ht) + geom_bar(aes(x=ht.age, fill=hl.str(hl.if_else(ht.has_freckles, \"has freckles\", \"doesn't\"))))"
   ]
  },
  {
   "cell_type": "markdown",
   "id": "f04e9435-1d96-463f-bcc3-9f3503870743",
   "metadata": {},
   "source": [
    "# Writing and Reading Tables in Hail Native Format\n",
    "\n",
    "Hail has a partitioned, indexed, binary file format for quickly reading and writing datasets. [`Table.write`](https://hail.is/docs/0.2/hail.Table.html#hail.Table.write) is the action which writes a table in Hail native format. We use the \".ht\" file extension by convention."
   ]
  },
  {
   "cell_type": "code",
   "execution_count": 46,
   "id": "38d92bf6-a7d4-4bac-a46b-9bef73d236cc",
   "metadata": {},
   "outputs": [
    {
     "name": "stderr",
     "output_type": "stream",
     "text": [
      "2023-08-29 16:25:50.099 Hail: INFO: wrote table with 213 rows in 2 partitions to output/sample_table.ht\n"
     ]
    }
   ],
   "source": [
    "ht.write('output/sample_table.ht')"
   ]
  },
  {
   "cell_type": "markdown",
   "id": "9d8aceec-6a0e-4d51-b0f7-328131f4a31a",
   "metadata": {},
   "source": [
    "Writing a Hail table executes the recipe once and saves the results in a file for future use. We recommend writing after importing or after executing computationally intensive pipelines. [`hl.read_table`](https://hail.is/docs/0.2/methods/impex.html#hail.methods.read_table) reads a table in Hail native format. Most operations are faster when starting from a Hail native format table."
   ]
  },
  {
   "cell_type": "code",
   "execution_count": 47,
   "id": "840e0ac6-ca0c-47b0-a67c-edcba879b5d4",
   "metadata": {},
   "outputs": [],
   "source": [
    "ht = hl.read_table('output/sample_table.ht')"
   ]
  },
  {
   "cell_type": "markdown",
   "id": "d2d16c71-f078-4b2b-941f-a411b47a3947",
   "metadata": {},
   "source": [
    "# Exporting a Table to a File\n",
    "\n",
    "Hail tables support export to many file formats including TSV and CSV."
   ]
  },
  {
   "cell_type": "code",
   "execution_count": 48,
   "id": "3a651c5e-b1fb-4edd-82f8-ca9f6e1adb6b",
   "metadata": {},
   "outputs": [
    {
     "name": "stderr",
     "output_type": "stream",
     "text": [
      "2023-08-29 16:25:58.548 Hail: INFO: merging 3 files totalling 5.0K...\n",
      "2023-08-29 16:25:58.595 Hail: INFO: while writing:\n",
      "    output/sample_table.tsv\n",
      "  merge time: 42.894ms\n",
      "2023-08-29 16:25:59.116 Hail: INFO: merging 3 files totalling 5.0K...\n",
      "2023-08-29 16:25:59.140 Hail: INFO: while writing:\n",
      "    output/sample_table.csv\n",
      "  merge time: 22.614ms\n",
      "2023-08-29 16:25:59.421 Hail: INFO: merging 3 files totalling 5.0K...\n",
      "2023-08-29 16:25:59.447 Hail: INFO: while writing:\n",
      "    output/sample_table.@sv\n",
      "  merge time: 25.775ms\n"
     ]
    }
   ],
   "source": [
    "ht.export('output/sample_table.tsv')\n",
    "ht.export('output/sample_table.csv', delimiter=',')\n",
    "ht.export('output/sample_table.@sv', delimiter='@')"
   ]
  },
  {
   "cell_type": "code",
   "execution_count": 49,
   "id": "a7f7e9a9-dfdd-4156-8ea6-9599ae42287a",
   "metadata": {},
   "outputs": [
    {
     "name": "stdout",
     "output_type": "stream",
     "text": [
      "name\tage\tfreckles\tis_twenty_something\thas_freckles\n",
      "Alice\t25\tYes\ttrue\ttrue\n",
      "Bob\t35\tNo\tfalse\tfalse\n",
      "Charlie\t28\tNo\ttrue\tfalse\n",
      "David\t40\tNo\tfalse\tfalse\n",
      "Eve\t22\tYes\ttrue\ttrue\n",
      "Zoe\t31\tYes\tfalse\ttrue\n",
      "Aaron\t29\tNo\ttrue\tfalse\n",
      "Bella\t33\tYes\tfalse\ttrue\n",
      "Chris\t41\tNo\tfalse\tfalse\n"
     ]
    }
   ],
   "source": [
    "!head output/sample_table.tsv"
   ]
  },
  {
   "cell_type": "code",
   "execution_count": 50,
   "id": "794f6ba3-af3d-4e16-b3be-f1d12b53b17d",
   "metadata": {},
   "outputs": [
    {
     "name": "stdout",
     "output_type": "stream",
     "text": [
      "name,age,freckles,is_twenty_something,has_freckles\n",
      "Alice,25,Yes,true,true\n",
      "Bob,35,No,false,false\n",
      "Charlie,28,No,true,false\n",
      "David,40,No,false,false\n",
      "Eve,22,Yes,true,true\n",
      "Zoe,31,Yes,false,true\n",
      "Aaron,29,No,true,false\n",
      "Bella,33,Yes,false,true\n",
      "Chris,41,No,false,false\n"
     ]
    }
   ],
   "source": [
    "!head output/sample_table.csv"
   ]
  },
  {
   "cell_type": "code",
   "execution_count": 51,
   "id": "866f58fc-957d-4c22-89e7-ae7df92e16aa",
   "metadata": {},
   "outputs": [
    {
     "name": "stdout",
     "output_type": "stream",
     "text": [
      "name@age@freckles@is_twenty_something@has_freckles\n",
      "Alice@25@Yes@true@true\n",
      "Bob@35@No@false@false\n",
      "Charlie@28@No@true@false\n",
      "David@40@No@false@false\n",
      "Eve@22@Yes@true@true\n",
      "Zoe@31@Yes@false@true\n",
      "Aaron@29@No@true@false\n",
      "Bella@33@Yes@false@true\n",
      "Chris@41@No@false@false\n"
     ]
    }
   ],
   "source": [
    "!head output/sample_table.@sv"
   ]
  },
  {
   "cell_type": "markdown",
   "id": "6ed480fc-a94f-4d5b-9b02-4c6af46a2e2a",
   "metadata": {},
   "source": [
    "We did not compress the outputs for ease of viewing. Exporting large tables uncompressed is almost always a mistake. Hail detects the \".bgz\" extension and compresses the output using block GZIP. This is almost always faster than exporting an uncompressed text file."
   ]
  },
  {
   "cell_type": "code",
   "execution_count": 52,
   "id": "b6e76183-8a21-4e61-9f15-e0bc33ad29a6",
   "metadata": {},
   "outputs": [
    {
     "name": "stderr",
     "output_type": "stream",
     "text": [
      "2023-08-29 16:26:18.066 Hail: INFO: merging 3 files totalling 1.5K...\n",
      "2023-08-29 16:26:18.093 Hail: INFO: while writing:\n",
      "    output/sample_table.tsv.bgz\n",
      "  merge time: 26.254ms\n"
     ]
    }
   ],
   "source": [
    "ht.export('output/sample_table.tsv.bgz')"
   ]
  },
  {
   "cell_type": "markdown",
   "id": "b5015e7d-3896-4c73-b968-afb16ebe84e1",
   "metadata": {},
   "source": [
    "The `INFO` output mentions a \"merge time\". This is a slow, serial operation in which Hail concatenates the partitioned dataset into a single file. Whenever possible, you should use partitioned text files. [`Table.export`](https://hail.is/docs/0.2/hail.Table.html#hail.Table.export) exports a folder of partitions when `parallel` is set to `header_per_shard` or `separate_header`."
   ]
  },
  {
   "cell_type": "code",
   "execution_count": 53,
   "id": "19d29a57-526b-44dd-8cec-8bd9b8ae2b0c",
   "metadata": {},
   "outputs": [],
   "source": [
    "ht.export('output/sample_table_partitions_header_per_shard.tsv/', parallel='header_per_shard')"
   ]
  },
  {
   "cell_type": "code",
   "execution_count": 54,
   "id": "1503cf0e-95ca-46f8-aa27-504ed904a121",
   "metadata": {},
   "outputs": [
    {
     "name": "stdout",
     "output_type": "stream",
     "text": [
      "==> output/sample_table_partitions_header_per_shard.tsv/_SUCCESS <==\n",
      "\n",
      "==> output/sample_table_partitions_header_per_shard.tsv/part-0-d4f7a5e1-0fa6-40d4-8050-cb070468aed1 <==\n",
      "name\tage\tfreckles\tis_twenty_something\thas_freckles\n",
      "Alice\t25\tYes\ttrue\ttrue\n",
      "Bob\t35\tNo\tfalse\tfalse\n",
      "Charlie\t28\tNo\ttrue\tfalse\n",
      "David\t40\tNo\tfalse\tfalse\n",
      "Eve\t22\tYes\ttrue\ttrue\n",
      "Zoe\t31\tYes\tfalse\ttrue\n",
      "Aaron\t29\tNo\ttrue\tfalse\n",
      "Bella\t33\tYes\tfalse\ttrue\n",
      "Chris\t41\tNo\tfalse\tfalse\n",
      "\n",
      "==> output/sample_table_partitions_header_per_shard.tsv/part-1-930da4f1-e9d6-4f07-911c-5b98fb72ce52 <==\n",
      "name\tage\tfreckles\tis_twenty_something\thas_freckles\n",
      "Katherine\t26\tYes\ttrue\ttrue\n",
      "Liam\t38\tNo\tfalse\tfalse\n",
      "Mia\t37\tNo\tfalse\tfalse\n",
      "Noah\t34\tYes\tfalse\ttrue\n",
      "Olivia\t26\tYes\ttrue\ttrue\n",
      "Peter\t22\tNo\ttrue\tfalse\n",
      "Quinn\t40\tYes\tfalse\ttrue\n",
      "Ryan\t24\tNo\ttrue\tfalse\n",
      "Sophia\t21\tYes\ttrue\ttrue\n",
      "\n",
      "==> output/sample_table_partitions_header_per_shard.tsv/shard-manifest.txt <==\n",
      "part-0-d4f7a5e1-0fa6-40d4-8050-cb070468aed1\n",
      "part-1-930da4f1-e9d6-4f07-911c-5b98fb72ce52\n"
     ]
    }
   ],
   "source": [
    "!head output/sample_table_partitions_header_per_shard.tsv/*"
   ]
  },
  {
   "cell_type": "code",
   "execution_count": 55,
   "id": "d079b89c-e41c-43ce-b70c-e091e66fdc71",
   "metadata": {},
   "outputs": [],
   "source": [
    "ht.export('output/sample_table_partitions_separate_header.tsv/', parallel='separate_header')"
   ]
  },
  {
   "cell_type": "code",
   "execution_count": 56,
   "id": "b5b73b69-20a9-4ad9-8576-bfdd04ec7647",
   "metadata": {},
   "outputs": [
    {
     "name": "stdout",
     "output_type": "stream",
     "text": [
      "==> output/sample_table_partitions_separate_header.tsv/_SUCCESS <==\n",
      "\n",
      "==> output/sample_table_partitions_separate_header.tsv/header <==\n",
      "name\tage\tfreckles\tis_twenty_something\thas_freckles\n",
      "\n",
      "==> output/sample_table_partitions_separate_header.tsv/part-0-c8dad996-20a8-434c-a3b4-4f248fd797e5 <==\n",
      "Alice\t25\tYes\ttrue\ttrue\n",
      "Bob\t35\tNo\tfalse\tfalse\n",
      "Charlie\t28\tNo\ttrue\tfalse\n",
      "David\t40\tNo\tfalse\tfalse\n",
      "Eve\t22\tYes\ttrue\ttrue\n",
      "Zoe\t31\tYes\tfalse\ttrue\n",
      "Aaron\t29\tNo\ttrue\tfalse\n",
      "Bella\t33\tYes\tfalse\ttrue\n",
      "Chris\t41\tNo\tfalse\tfalse\n",
      "Dana\t27\tYes\ttrue\ttrue\n",
      "\n",
      "==> output/sample_table_partitions_separate_header.tsv/part-1-574cb0ef-d8a1-49d9-a895-d7147561fecd <==\n",
      "Katherine\t26\tYes\ttrue\ttrue\n",
      "Liam\t38\tNo\tfalse\tfalse\n",
      "Mia\t37\tNo\tfalse\tfalse\n",
      "Noah\t34\tYes\tfalse\ttrue\n",
      "Olivia\t26\tYes\ttrue\ttrue\n",
      "Peter\t22\tNo\ttrue\tfalse\n",
      "Quinn\t40\tYes\tfalse\ttrue\n",
      "Ryan\t24\tNo\ttrue\tfalse\n",
      "Sophia\t21\tYes\ttrue\ttrue\n",
      "Tom\t25\tNo\ttrue\tfalse\n",
      "\n",
      "==> output/sample_table_partitions_separate_header.tsv/shard-manifest.txt <==\n",
      "header\n",
      "part-0-c8dad996-20a8-434c-a3b4-4f248fd797e5\n",
      "part-1-574cb0ef-d8a1-49d9-a895-d7147561fecd\n"
     ]
    }
   ],
   "source": [
    "!head output/sample_table_partitions_separate_header.tsv/*"
   ]
  },
  {
   "cell_type": "markdown",
   "id": "16808653-9df6-4287-b686-f1c75d4b5ac0",
   "metadata": {},
   "source": [
    "# Collecting a Table to a List or Pandas DataFrame\n",
    "\n",
    "[`Table.collect`](https://hail.is/docs/0.2/hail.Table.html#hail.Table.collect) collects the distributed & partitioned values of a table into a Python list. This will, obviously, run out of memory if the table is large."
   ]
  },
  {
   "cell_type": "code",
   "execution_count": 57,
   "id": "cc8849a7-317a-4ebc-9370-0553b9df6bf4",
   "metadata": {
    "scrolled": true
   },
   "outputs": [
    {
     "data": {
      "text/plain": [
       "[Struct(name='Alice', age=25, freckles='Yes', is_twenty_something=True, has_freckles=True),\n",
       " Struct(name='Bob', age=35, freckles='No', is_twenty_something=False, has_freckles=False),\n",
       " Struct(name='Charlie', age=28, freckles='No', is_twenty_something=True, has_freckles=False),\n",
       " Struct(name='David', age=40, freckles='No', is_twenty_something=False, has_freckles=False),\n",
       " Struct(name='Eve', age=22, freckles='Yes', is_twenty_something=True, has_freckles=True),\n",
       " Struct(name='Zoe', age=31, freckles='Yes', is_twenty_something=False, has_freckles=True),\n",
       " Struct(name='Aaron', age=29, freckles='No', is_twenty_something=True, has_freckles=False),\n",
       " Struct(name='Bella', age=33, freckles='Yes', is_twenty_something=False, has_freckles=True),\n",
       " Struct(name='Chris', age=41, freckles='No', is_twenty_something=False, has_freckles=False),\n",
       " Struct(name='Dana', age=27, freckles='Yes', is_twenty_something=True, has_freckles=True),\n",
       " Struct(name='Yara', age=23, freckles='Yes', is_twenty_something=True, has_freckles=True),\n",
       " Struct(name='Zach', age=36, freckles='No', is_twenty_something=False, has_freckles=False),\n",
       " Struct(name='Alex', age=30, freckles='No', is_twenty_something=False, has_freckles=False),\n",
       " Struct(name='Brooke', age=26, freckles='Yes', is_twenty_something=True, has_freckles=True),\n",
       " Struct(name='Carlos', age=34, freckles='No', is_twenty_something=False, has_freckles=False),\n",
       " Struct(name='Lena', age=38, freckles='Yes', is_twenty_something=False, has_freckles=True),\n",
       " Struct(name='Mason', age=32, freckles='No', is_twenty_something=False, has_freckles=False),\n",
       " Struct(name='Nina', age=29, freckles='Yes', is_twenty_something=True, has_freckles=True),\n",
       " Struct(name='Oscar', age=39, freckles='No', is_twenty_something=False, has_freckles=False),\n",
       " Struct(name='Paige', age=24, freckles='Yes', is_twenty_something=True, has_freckles=True),\n",
       " Struct(name='Quinn', age=28, freckles='Yes', is_twenty_something=True, has_freckles=True),\n",
       " Struct(name='Ryan', age=31, freckles='No', is_twenty_something=False, has_freckles=False),\n",
       " Struct(name='Samantha', age=35, freckles='Yes', is_twenty_something=False, has_freckles=True),\n",
       " Struct(name='Thomas', age=40, freckles='No', is_twenty_something=False, has_freckles=False),\n",
       " Struct(name='Uma', age=29, freckles='Yes', is_twenty_something=True, has_freckles=True),\n",
       " Struct(name='Vincent', age=33, freckles='No', is_twenty_something=False, has_freckles=False),\n",
       " Struct(name='Wendy', age=27, freckles='Yes', is_twenty_something=True, has_freckles=True),\n",
       " Struct(name='Xander', age=36, freckles='No', is_twenty_something=False, has_freckles=False),\n",
       " Struct(name='Yvonne', age=30, freckles='Yes', is_twenty_something=False, has_freckles=True),\n",
       " Struct(name='Zane', age=32, freckles='No', is_twenty_something=False, has_freckles=False),\n",
       " Struct(name='Frank', age=29, freckles='No', is_twenty_something=True, has_freckles=False),\n",
       " Struct(name='Grace', age=31, freckles='Yes', is_twenty_something=False, has_freckles=True),\n",
       " Struct(name='Henry', age=37, freckles='No', is_twenty_something=False, has_freckles=False),\n",
       " Struct(name='Ivy', age=26, freckles='Yes', is_twenty_something=True, has_freckles=True),\n",
       " Struct(name='Jack', age=33, freckles='No', is_twenty_something=False, has_freckles=False),\n",
       " Struct(name='Kate', age=28, freckles='Yes', is_twenty_something=True, has_freckles=True),\n",
       " Struct(name='Liam', age=24, freckles='No', is_twenty_something=True, has_freckles=False),\n",
       " Struct(name='Mia', age=39, freckles='Yes', is_twenty_something=False, has_freckles=True),\n",
       " Struct(name='Noah', age=30, freckles='No', is_twenty_something=False, has_freckles=False),\n",
       " Struct(name='Olivia', age=32, freckles='Yes', is_twenty_something=False, has_freckles=True),\n",
       " Struct(name='Peter', age=36, freckles='No', is_twenty_something=False, has_freckles=False),\n",
       " Struct(name='Quinn', age=27, freckles='Yes', is_twenty_something=True, has_freckles=True),\n",
       " Struct(name='Ryan', age=38, freckles='No', is_twenty_something=False, has_freckles=False),\n",
       " Struct(name='Sophia', age=29, freckles='Yes', is_twenty_something=True, has_freckles=True),\n",
       " Struct(name='Tom', age=34, freckles='No', is_twenty_something=False, has_freckles=False),\n",
       " Struct(name='Uma', age=23, freckles='Yes', is_twenty_something=True, has_freckles=True),\n",
       " Struct(name='Victor', age=41, freckles='No', is_twenty_something=False, has_freckles=False),\n",
       " Struct(name='Wendy', age=42, freckles='Yes', is_twenty_something=False, has_freckles=True),\n",
       " Struct(name='Xander', age=31, freckles='No', is_twenty_something=False, has_freckles=False),\n",
       " Struct(name='Yara', age=27, freckles='Yes', is_twenty_something=True, has_freckles=True),\n",
       " Struct(name='Zane', age=29, freckles='No', is_twenty_something=True, has_freckles=False),\n",
       " Struct(name='Alice', age=35, freckles='Yes', is_twenty_something=False, has_freckles=True),\n",
       " Struct(name='Benjamin', age=26, freckles='No', is_twenty_something=True, has_freckles=False),\n",
       " Struct(name='Charlotte', age=38, freckles='Yes', is_twenty_something=False, has_freckles=True),\n",
       " Struct(name='Daniel', age=24, freckles='No', is_twenty_something=True, has_freckles=False),\n",
       " Struct(name='Emily', age=28, freckles='Yes', is_twenty_something=True, has_freckles=True),\n",
       " Struct(name='Frank', age=33, freckles='No', is_twenty_something=False, has_freckles=False),\n",
       " Struct(name='Grace', age=40, freckles='Yes', is_twenty_something=False, has_freckles=True),\n",
       " Struct(name='Henry', age=30, freckles='No', is_twenty_something=False, has_freckles=False),\n",
       " Struct(name='Isabella', age=29, freckles='Yes', is_twenty_something=True, has_freckles=True),\n",
       " Struct(name='James', age=37, freckles='No', is_twenty_something=False, has_freckles=False),\n",
       " Struct(name='Katherine', age=25, freckles='Yes', is_twenty_something=True, has_freckles=True),\n",
       " Struct(name='Liam', age=31, freckles='No', is_twenty_something=False, has_freckles=False),\n",
       " Struct(name='Mia', age=36, freckles='Yes', is_twenty_something=False, has_freckles=True),\n",
       " Struct(name='Noah', age=27, freckles='No', is_twenty_something=True, has_freckles=False),\n",
       " Struct(name='Olivia', age=29, freckles='Yes', is_twenty_something=True, has_freckles=True),\n",
       " Struct(name='Peter', age=34, freckles='No', is_twenty_something=False, has_freckles=False),\n",
       " Struct(name='Quinn', age=22, freckles='Yes', is_twenty_something=True, has_freckles=True),\n",
       " Struct(name='Ryan', age=39, freckles='No', is_twenty_something=False, has_freckles=False),\n",
       " Struct(name='Sophia', age=32, freckles='Yes', is_twenty_something=False, has_freckles=True),\n",
       " Struct(name='Tom', age=28, freckles='No', is_twenty_something=True, has_freckles=False),\n",
       " Struct(name='Uma', age=25, freckles='Yes', is_twenty_something=True, has_freckles=True),\n",
       " Struct(name='Alice', age=29, freckles='Yes', is_twenty_something=True, has_freckles=True),\n",
       " Struct(name='Bob', age=34, freckles='No', is_twenty_something=False, has_freckles=False),\n",
       " Struct(name='Charlie', age=23, freckles='Yes', is_twenty_something=True, has_freckles=True),\n",
       " Struct(name='David', age=40, freckles='No', is_twenty_something=False, has_freckles=False),\n",
       " Struct(name='Eve', age=26, freckles='Yes', is_twenty_something=True, has_freckles=True),\n",
       " Struct(name='Frank', age=32, freckles='No', is_twenty_something=False, has_freckles=False),\n",
       " Struct(name='Grace', age=37, freckles='No', is_twenty_something=False, has_freckles=False),\n",
       " Struct(name='Henry', age=30, freckles='Yes', is_twenty_something=False, has_freckles=True),\n",
       " Struct(name='Ivy', age=25, freckles='Yes', is_twenty_something=True, has_freckles=True),\n",
       " Struct(name='Jack', age=28, freckles='No', is_twenty_something=True, has_freckles=False),\n",
       " Struct(name='Kate', age=41, freckles='Yes', is_twenty_something=False, has_freckles=True),\n",
       " Struct(name='Liam', age=36, freckles='No', is_twenty_something=False, has_freckles=False),\n",
       " Struct(name='Mia', age=31, freckles='No', is_twenty_something=False, has_freckles=False),\n",
       " Struct(name='Noah', age=33, freckles='Yes', is_twenty_something=False, has_freckles=True),\n",
       " Struct(name='Olivia', age=29, freckles='Yes', is_twenty_something=True, has_freckles=True),\n",
       " Struct(name='Peter', age=27, freckles='No', is_twenty_something=True, has_freckles=False),\n",
       " Struct(name='Quinn', age=35, freckles='Yes', is_twenty_something=False, has_freckles=True),\n",
       " Struct(name='Ryan', age=38, freckles='No', is_twenty_something=False, has_freckles=False),\n",
       " Struct(name='Sophia', age=22, freckles='Yes', is_twenty_something=True, has_freckles=True),\n",
       " Struct(name='Tom', age=39, freckles='No', is_twenty_something=False, has_freckles=False),\n",
       " Struct(name='Uma', age=24, freckles='Yes', is_twenty_something=True, has_freckles=True),\n",
       " Struct(name='Victor', age=43, freckles='No', is_twenty_something=False, has_freckles=False),\n",
       " Struct(name='Wendy', age=42, freckles='Yes', is_twenty_something=False, has_freckles=True),\n",
       " Struct(name='Xander', age=20, freckles='No', is_twenty_something=True, has_freckles=False),\n",
       " Struct(name='Yara', age=36, freckles='Yes', is_twenty_something=False, has_freckles=True),\n",
       " Struct(name='Zane', age=28, freckles='No', is_twenty_something=True, has_freckles=False),\n",
       " Struct(name='Alice', age=30, freckles='Yes', is_twenty_something=False, has_freckles=True),\n",
       " Struct(name='Benjamin', age=27, freckles='No', is_twenty_something=True, has_freckles=False),\n",
       " Struct(name='Charlotte', age=29, freckles='Yes', is_twenty_something=True, has_freckles=True),\n",
       " Struct(name='Daniel', age=32, freckles='No', is_twenty_something=False, has_freckles=False),\n",
       " Struct(name='Emily', age=31, freckles='Yes', is_twenty_something=False, has_freckles=True),\n",
       " Struct(name='Frank', age=39, freckles='No', is_twenty_something=False, has_freckles=False),\n",
       " Struct(name='Grace', age=33, freckles='No', is_twenty_something=False, has_freckles=False),\n",
       " Struct(name='Henry', age=35, freckles='Yes', is_twenty_something=False, has_freckles=True),\n",
       " Struct(name='Isabella', age=28, freckles='Yes', is_twenty_something=True, has_freckles=True),\n",
       " Struct(name='James', age=30, freckles='No', is_twenty_something=False, has_freckles=False),\n",
       " Struct(name='Katherine', age=26, freckles='Yes', is_twenty_something=True, has_freckles=True),\n",
       " Struct(name='Liam', age=38, freckles='No', is_twenty_something=False, has_freckles=False),\n",
       " Struct(name='Mia', age=37, freckles='No', is_twenty_something=False, has_freckles=False),\n",
       " Struct(name='Noah', age=34, freckles='Yes', is_twenty_something=False, has_freckles=True),\n",
       " Struct(name='Olivia', age=26, freckles='Yes', is_twenty_something=True, has_freckles=True),\n",
       " Struct(name='Peter', age=22, freckles='No', is_twenty_something=True, has_freckles=False),\n",
       " Struct(name='Quinn', age=40, freckles='Yes', is_twenty_something=False, has_freckles=True),\n",
       " Struct(name='Ryan', age=24, freckles='No', is_twenty_something=True, has_freckles=False),\n",
       " Struct(name='Sophia', age=21, freckles='Yes', is_twenty_something=True, has_freckles=True),\n",
       " Struct(name='Tom', age=25, freckles='No', is_twenty_something=True, has_freckles=False),\n",
       " Struct(name='Uma', age=23, freckles='Yes', is_twenty_something=True, has_freckles=True),\n",
       " Struct(name='Aria', age=29, freckles='Yes', is_twenty_something=True, has_freckles=True),\n",
       " Struct(name='Caleb', age=34, freckles='No', is_twenty_something=False, has_freckles=False),\n",
       " Struct(name='Luna', age=23, freckles='Yes', is_twenty_something=True, has_freckles=True),\n",
       " Struct(name='Elijah', age=40, freckles='No', is_twenty_something=False, has_freckles=False),\n",
       " Struct(name='Scarlett', age=26, freckles='Yes', is_twenty_something=True, has_freckles=True),\n",
       " Struct(name='Lucas', age=32, freckles='No', is_twenty_something=False, has_freckles=False),\n",
       " Struct(name='Mila', age=37, freckles='No', is_twenty_something=False, has_freckles=False),\n",
       " Struct(name='Ethan', age=30, freckles='Yes', is_twenty_something=False, has_freckles=True),\n",
       " Struct(name='Stella', age=25, freckles='Yes', is_twenty_something=True, has_freckles=True),\n",
       " Struct(name='Logan', age=28, freckles='No', is_twenty_something=True, has_freckles=False),\n",
       " Struct(name='Aurora', age=41, freckles='Yes', is_twenty_something=False, has_freckles=True),\n",
       " Struct(name='Jackson', age=36, freckles='No', is_twenty_something=False, has_freckles=False),\n",
       " Struct(name='Hazel', age=31, freckles='No', is_twenty_something=False, has_freckles=False),\n",
       " Struct(name='Oliver', age=33, freckles='Yes', is_twenty_something=False, has_freckles=True),\n",
       " Struct(name='Amelia', age=29, freckles='Yes', is_twenty_something=True, has_freckles=True),\n",
       " Struct(name='Liam', age=27, freckles='No', is_twenty_something=True, has_freckles=False),\n",
       " Struct(name='Emma', age=35, freckles='Yes', is_twenty_something=False, has_freckles=True),\n",
       " Struct(name='Henry', age=38, freckles='No', is_twenty_something=False, has_freckles=False),\n",
       " Struct(name='Sophia', age=22, freckles='Yes', is_twenty_something=True, has_freckles=True),\n",
       " Struct(name='Sebastian', age=39, freckles='No', is_twenty_something=False, has_freckles=False),\n",
       " Struct(name='Isabella', age=24, freckles='Yes', is_twenty_something=True, has_freckles=True),\n",
       " Struct(name='William', age=43, freckles='No', is_twenty_something=False, has_freckles=False),\n",
       " Struct(name='Avery', age=42, freckles='Yes', is_twenty_something=False, has_freckles=True),\n",
       " Struct(name='Benjamin', age=20, freckles='No', is_twenty_something=True, has_freckles=False),\n",
       " Struct(name='Evelyn', age=36, freckles='Yes', is_twenty_something=False, has_freckles=True),\n",
       " Struct(name='Alexander', age=28, freckles='No', is_twenty_something=True, has_freckles=False),\n",
       " Struct(name='Grace', age=30, freckles='Yes', is_twenty_something=False, has_freckles=True),\n",
       " Struct(name='Zoe', age=27, freckles='No', is_twenty_something=True, has_freckles=False),\n",
       " Struct(name='Mateo', age=32, freckles='Yes', is_twenty_something=False, has_freckles=True),\n",
       " Struct(name='Lily', age=31, freckles='Yes', is_twenty_something=False, has_freckles=True),\n",
       " Struct(name='Owen', age=30, freckles='No', is_twenty_something=False, has_freckles=False),\n",
       " Struct(name='Mia', age=39, freckles='No', is_twenty_something=False, has_freckles=False),\n",
       " Struct(name='Levi', age=33, freckles='Yes', is_twenty_something=False, has_freckles=True),\n",
       " Struct(name='Harper', age=35, freckles='Yes', is_twenty_something=False, has_freckles=True),\n",
       " Struct(name='Noah', age=28, freckles='No', is_twenty_something=True, has_freckles=False),\n",
       " Struct(name='Ariana', age=26, freckles='Yes', is_twenty_something=True, has_freckles=True),\n",
       " Struct(name='James', age=30, freckles='No', is_twenty_something=False, has_freckles=False),\n",
       " Struct(name='Aria', age=38, freckles='No', is_twenty_something=False, has_freckles=False),\n",
       " Struct(name='Ella', age=37, freckles='Yes', is_twenty_something=False, has_freckles=True),\n",
       " Struct(name='Ethan', age=34, freckles='Yes', is_twenty_something=False, has_freckles=True),\n",
       " Struct(name='Sofia', age=26, freckles='No', is_twenty_something=True, has_freckles=False),\n",
       " Struct(name='Jackson', age=22, freckles='Yes', is_twenty_something=True, has_freckles=True),\n",
       " Struct(name='Avery', age=40, freckles='No', is_twenty_something=False, has_freckles=False),\n",
       " Struct(name='Camila', age=24, freckles='Yes', is_twenty_something=True, has_freckles=True),\n",
       " Struct(name='Benjamin', age=21, freckles='No', is_twenty_something=True, has_freckles=False),\n",
       " Struct(name='Scarlett', age=25, freckles='Yes', is_twenty_something=True, has_freckles=True),\n",
       " Struct(name='Logan', age=23, freckles='No', is_twenty_something=True, has_freckles=False),\n",
       " Struct(name='Mateo', age=29, freckles='Yes', is_twenty_something=True, has_freckles=True),\n",
       " Struct(name='Aisha', age=34, freckles='No', is_twenty_something=False, has_freckles=False),\n",
       " Struct(name='Sofia', age=23, freckles='Yes', is_twenty_something=True, has_freckles=True),\n",
       " Struct(name='Musa', age=40, freckles='No', is_twenty_something=False, has_freckles=False),\n",
       " Struct(name='Isabella', age=26, freckles='Yes', is_twenty_something=True, has_freckles=True),\n",
       " Struct(name='Javier', age=32, freckles='No', is_twenty_something=False, has_freckles=False),\n",
       " Struct(name='Amina', age=37, freckles='No', is_twenty_something=False, has_freckles=False),\n",
       " Struct(name='Rahul', age=30, freckles='Yes', is_twenty_something=False, has_freckles=True),\n",
       " Struct(name='Anaya', age=25, freckles='Yes', is_twenty_something=True, has_freckles=True),\n",
       " Struct(name='Liam', age=28, freckles='No', is_twenty_something=True, has_freckles=False),\n",
       " Struct(name='Diego', age=41, freckles='Yes', is_twenty_something=False, has_freckles=True),\n",
       " Struct(name='Nakato', age=36, freckles='No', is_twenty_something=False, has_freckles=False),\n",
       " Struct(name='Inara', age=31, freckles='No', is_twenty_something=False, has_freckles=False),\n",
       " Struct(name='Hiroshi', age=33, freckles='Yes', is_twenty_something=False, has_freckles=True),\n",
       " Struct(name='Leila', age=29, freckles='Yes', is_twenty_something=True, has_freckles=True),\n",
       " Struct(name='Ravi', age=27, freckles='No', is_twenty_something=True, has_freckles=False),\n",
       " Struct(name='Sakura', age=35, freckles='Yes', is_twenty_something=False, has_freckles=True),\n",
       " Struct(name='Zara', age=38, freckles='No', is_twenty_something=False, has_freckles=False),\n",
       " Struct(name='Yusuf', age=22, freckles='Yes', is_twenty_something=True, has_freckles=True),\n",
       " Struct(name='Chinedu', age=39, freckles='No', is_twenty_something=False, has_freckles=False),\n",
       " Struct(name='Eunbi', age=24, freckles='Yes', is_twenty_something=True, has_freckles=True),\n",
       " Struct(name='Minato', age=43, freckles='No', is_twenty_something=False, has_freckles=False),\n",
       " Struct(name='Catalina', age=42, freckles='Yes', is_twenty_something=False, has_freckles=True),\n",
       " Struct(name='Aditya', age=20, freckles='No', is_twenty_something=True, has_freckles=False),\n",
       " Struct(name='Amina', age=36, freckles='Yes', is_twenty_something=False, has_freckles=True),\n",
       " Struct(name='Haruki', age=28, freckles='No', is_twenty_something=True, has_freckles=False),\n",
       " Struct(name='Manuela', age=30, freckles='Yes', is_twenty_something=False, has_freckles=True),\n",
       " Struct(name='Rajan', age=27, freckles='No', is_twenty_something=True, has_freckles=False),\n",
       " Struct(name='Jin', age=32, freckles='Yes', is_twenty_something=False, has_freckles=True),\n",
       " Struct(name='Chidinma', age=31, freckles='Yes', is_twenty_something=False, has_freckles=True),\n",
       " Struct(name='Rakesh', age=30, freckles='No', is_twenty_something=False, has_freckles=False),\n",
       " Struct(name='Nabila', age=39, freckles='No', is_twenty_something=False, has_freckles=False),\n",
       " Struct(name='Makoto', age=33, freckles='Yes', is_twenty_something=False, has_freckles=True),\n",
       " Struct(name='Zara', age=35, freckles='Yes', is_twenty_something=False, has_freckles=True),\n",
       " Struct(name='Rohan', age=28, freckles='No', is_twenty_something=True, has_freckles=False),\n",
       " Struct(name='Maya', age=26, freckles='Yes', is_twenty_something=True, has_freckles=True),\n",
       " Struct(name='Shaan', age=30, freckles='No', is_twenty_something=False, has_freckles=False),\n",
       " Struct(name='Catalina', age=38, freckles='No', is_twenty_something=False, has_freckles=False),\n",
       " Struct(name='Rohan', age=37, freckles='Yes', is_twenty_something=False, has_freckles=True),\n",
       " Struct(name='Aarav', age=34, freckles='Yes', is_twenty_something=False, has_freckles=True),\n",
       " Struct(name='Sita', age=26, freckles='No', is_twenty_something=True, has_freckles=False),\n",
       " Struct(name='Sohail', age=22, freckles='Yes', is_twenty_something=True, has_freckles=True),\n",
       " Struct(name='Amina', age=40, freckles='No', is_twenty_something=False, has_freckles=False),\n",
       " Struct(name='Adedeji', age=24, freckles='Yes', is_twenty_something=True, has_freckles=True),\n",
       " Struct(name='Hiroko', age=21, freckles='No', is_twenty_something=True, has_freckles=False),\n",
       " Struct(name='Kazi', age=25, freckles='Yes', is_twenty_something=True, has_freckles=True),\n",
       " Struct(name='Ezio', age=23, freckles='No', is_twenty_something=True, has_freckles=False)]"
      ]
     },
     "execution_count": 57,
     "metadata": {},
     "output_type": "execute_result"
    }
   ],
   "source": [
    "ht.collect()"
   ]
  },
  {
   "cell_type": "markdown",
   "id": "7869132f-8300-4ba1-976a-00e8e2e925e9",
   "metadata": {},
   "source": [
    "[`Table.to_pandas`](https://hail.is/docs/0.2/hail.Table.html#hail.Table.to_pandas) collects the values into a Pandas DataFrame. As above, large tables will exceed the memory available on your laptop."
   ]
  },
  {
   "cell_type": "code",
   "execution_count": 58,
   "id": "ee70cbc0-0433-4781-8996-d7cd7b5ba006",
   "metadata": {},
   "outputs": [
    {
     "data": {
      "text/html": [
       "<div>\n",
       "<style scoped>\n",
       "    .dataframe tbody tr th:only-of-type {\n",
       "        vertical-align: middle;\n",
       "    }\n",
       "\n",
       "    .dataframe tbody tr th {\n",
       "        vertical-align: top;\n",
       "    }\n",
       "\n",
       "    .dataframe thead th {\n",
       "        text-align: right;\n",
       "    }\n",
       "</style>\n",
       "<table border=\"1\" class=\"dataframe\">\n",
       "  <thead>\n",
       "    <tr style=\"text-align: right;\">\n",
       "      <th></th>\n",
       "      <th>name</th>\n",
       "      <th>age</th>\n",
       "      <th>freckles</th>\n",
       "      <th>is_twenty_something</th>\n",
       "      <th>has_freckles</th>\n",
       "    </tr>\n",
       "  </thead>\n",
       "  <tbody>\n",
       "    <tr>\n",
       "      <th>0</th>\n",
       "      <td>Alice</td>\n",
       "      <td>25</td>\n",
       "      <td>Yes</td>\n",
       "      <td>True</td>\n",
       "      <td>True</td>\n",
       "    </tr>\n",
       "    <tr>\n",
       "      <th>1</th>\n",
       "      <td>Bob</td>\n",
       "      <td>35</td>\n",
       "      <td>No</td>\n",
       "      <td>False</td>\n",
       "      <td>False</td>\n",
       "    </tr>\n",
       "    <tr>\n",
       "      <th>2</th>\n",
       "      <td>Charlie</td>\n",
       "      <td>28</td>\n",
       "      <td>No</td>\n",
       "      <td>True</td>\n",
       "      <td>False</td>\n",
       "    </tr>\n",
       "    <tr>\n",
       "      <th>3</th>\n",
       "      <td>David</td>\n",
       "      <td>40</td>\n",
       "      <td>No</td>\n",
       "      <td>False</td>\n",
       "      <td>False</td>\n",
       "    </tr>\n",
       "    <tr>\n",
       "      <th>4</th>\n",
       "      <td>Eve</td>\n",
       "      <td>22</td>\n",
       "      <td>Yes</td>\n",
       "      <td>True</td>\n",
       "      <td>True</td>\n",
       "    </tr>\n",
       "    <tr>\n",
       "      <th>...</th>\n",
       "      <td>...</td>\n",
       "      <td>...</td>\n",
       "      <td>...</td>\n",
       "      <td>...</td>\n",
       "      <td>...</td>\n",
       "    </tr>\n",
       "    <tr>\n",
       "      <th>208</th>\n",
       "      <td>Amina</td>\n",
       "      <td>40</td>\n",
       "      <td>No</td>\n",
       "      <td>False</td>\n",
       "      <td>False</td>\n",
       "    </tr>\n",
       "    <tr>\n",
       "      <th>209</th>\n",
       "      <td>Adedeji</td>\n",
       "      <td>24</td>\n",
       "      <td>Yes</td>\n",
       "      <td>True</td>\n",
       "      <td>True</td>\n",
       "    </tr>\n",
       "    <tr>\n",
       "      <th>210</th>\n",
       "      <td>Hiroko</td>\n",
       "      <td>21</td>\n",
       "      <td>No</td>\n",
       "      <td>True</td>\n",
       "      <td>False</td>\n",
       "    </tr>\n",
       "    <tr>\n",
       "      <th>211</th>\n",
       "      <td>Kazi</td>\n",
       "      <td>25</td>\n",
       "      <td>Yes</td>\n",
       "      <td>True</td>\n",
       "      <td>True</td>\n",
       "    </tr>\n",
       "    <tr>\n",
       "      <th>212</th>\n",
       "      <td>Ezio</td>\n",
       "      <td>23</td>\n",
       "      <td>No</td>\n",
       "      <td>True</td>\n",
       "      <td>False</td>\n",
       "    </tr>\n",
       "  </tbody>\n",
       "</table>\n",
       "<p>213 rows × 5 columns</p>\n",
       "</div>"
      ],
      "text/plain": [
       "        name  age freckles  is_twenty_something  has_freckles\n",
       "0      Alice   25      Yes                 True          True\n",
       "1        Bob   35       No                False         False\n",
       "2    Charlie   28       No                 True         False\n",
       "3      David   40       No                False         False\n",
       "4        Eve   22      Yes                 True          True\n",
       "..       ...  ...      ...                  ...           ...\n",
       "208    Amina   40       No                False         False\n",
       "209  Adedeji   24      Yes                 True          True\n",
       "210   Hiroko   21       No                 True         False\n",
       "211     Kazi   25      Yes                 True          True\n",
       "212     Ezio   23       No                 True         False\n",
       "\n",
       "[213 rows x 5 columns]"
      ]
     },
     "execution_count": 58,
     "metadata": {},
     "output_type": "execute_result"
    }
   ],
   "source": [
    "ht.to_pandas()"
   ]
  }
 ],
 "metadata": {
  "kernelspec": {
   "display_name": "Python 3 (ipykernel)",
   "language": "python",
   "name": "python3"
  },
  "language_info": {
   "codemirror_mode": {
    "name": "ipython",
    "version": 3
   },
   "file_extension": ".py",
   "mimetype": "text/x-python",
   "name": "python",
   "nbconvert_exporter": "python",
   "pygments_lexer": "ipython3",
   "version": "3.10.9"
  }
 },
 "nbformat": 4,
 "nbformat_minor": 5
}
